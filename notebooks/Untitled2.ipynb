{
 "cells": [
  {
   "cell_type": "code",
   "execution_count": 1,
<<<<<<< HEAD
<<<<<<< HEAD
   "id": "26f7deaf",
   "metadata": {},
   "outputs": [],
   "source": [
    "import pandas as pd "
=======
   "id": "39bde716",
=======
   "id": "334bea1c",
>>>>>>> e7e4abab19bae76d6e829280f968bfb13b804c9a
   "metadata": {},
   "outputs": [],
   "source": [
    "BUCKET_NAME = 'quotes_for_posts_783'"
>>>>>>> 6f20da922727fd820ab38122d2e9c75d5fe61ad3
   ]
  },
  {
   "cell_type": "code",
<<<<<<< HEAD
   "execution_count": 3,
<<<<<<< HEAD
   "id": "8704e9f4",
=======
   "id": "ad44d052",
=======
   "execution_count": 11,
   "id": "ed52f5c5",
>>>>>>> e7e4abab19bae76d6e829280f968bfb13b804c9a
   "metadata": {},
   "outputs": [],
   "source": [
    "BUCKET_TRAIN_DATA_PATH_1= 'raw_data/image_dataset/df_images_0.csv'"
   ]
  },
  {
   "cell_type": "code",
<<<<<<< HEAD
   "execution_count": 5,
   "id": "8eee9563",
>>>>>>> 6f20da922727fd820ab38122d2e9c75d5fe61ad3
=======
   "execution_count": 12,
   "id": "82204a11",
>>>>>>> e7e4abab19bae76d6e829280f968bfb13b804c9a
   "metadata": {},
   "outputs": [
    {
     "data": {
      "text/html": [
       "<div>\n",
       "<style scoped>\n",
       "    .dataframe tbody tr th:only-of-type {\n",
       "        vertical-align: middle;\n",
       "    }\n",
       "\n",
       "    .dataframe tbody tr th {\n",
       "        vertical-align: top;\n",
       "    }\n",
       "\n",
       "    .dataframe thead th {\n",
       "        text-align: right;\n",
       "    }\n",
       "</style>\n",
       "<table border=\"1\" class=\"dataframe\">\n",
       "  <thead>\n",
       "    <tr style=\"text-align: right;\">\n",
       "      <th></th>\n",
       "      <th>image_name</th>\n",
<<<<<<< HEAD
<<<<<<< HEAD
       "      <th>comment</th>\n",
=======
       "      <th>longest_comment</th>\n",
       "      <th>comments_5</th>\n",
>>>>>>> 6f20da922727fd820ab38122d2e9c75d5fe61ad3
=======
       "      <th>comments</th>\n",
>>>>>>> e7e4abab19bae76d6e829280f968bfb13b804c9a
       "    </tr>\n",
       "  </thead>\n",
       "  <tbody>\n",
       "    <tr>\n",
<<<<<<< HEAD
<<<<<<< HEAD
       "      <th>0</th>\n",
       "      <td>1000092795</td>\n",
       "      <td>Two young guys with shaggy hair look at their...</td>\n",
       "    </tr>\n",
       "    <tr>\n",
       "      <th>1</th>\n",
       "      <td>1000092795</td>\n",
       "      <td>Two young , White males are outside near many...</td>\n",
       "    </tr>\n",
       "    <tr>\n",
       "      <th>2</th>\n",
       "      <td>1000092795</td>\n",
       "      <td>Two men in green shirts are standing in a yard .</td>\n",
       "    </tr>\n",
       "    <tr>\n",
       "      <th>3</th>\n",
       "      <td>1000092795</td>\n",
       "      <td>A man in a blue shirt standing in a garden .</td>\n",
       "    </tr>\n",
       "    <tr>\n",
       "      <th>4</th>\n",
       "      <td>1000092795</td>\n",
       "      <td>Two friends enjoy time spent together .</td>\n",
       "    </tr>\n",
       "  </tbody>\n",
       "</table>\n",
       "</div>"
      ],
      "text/plain": [
       "   image_name                                            comment\n",
       "0  1000092795   Two young guys with shaggy hair look at their...\n",
       "1  1000092795   Two young , White males are outside near many...\n",
       "2  1000092795   Two men in green shirts are standing in a yard .\n",
       "3  1000092795       A man in a blue shirt standing in a garden .\n",
       "4  1000092795            Two friends enjoy time spent together ."
      ]
     },
     "execution_count": 3,
     "metadata": {},
     "output_type": "execute_result"
    }
   ],
   "source": [
    "df = pd.read_csv(\"../raw_data/images_comments.csv\")\n",
    "df.head()"
   ]
  },
  {
   "cell_type": "code",
   "execution_count": 7,
   "id": "386d48cd",
   "metadata": {},
   "outputs": [],
   "source": [
    "df['comment'] = df['comment'].apply(lambda x: x.replace(',',\"\"))"
   ]
  },
  {
   "cell_type": "code",
   "execution_count": 8,
   "id": "0ca7a98e",
   "metadata": {},
   "outputs": [
    {
     "data": {
      "text/html": [
       "<div>\n",
       "<style scoped>\n",
       "    .dataframe tbody tr th:only-of-type {\n",
       "        vertical-align: middle;\n",
       "    }\n",
       "\n",
       "    .dataframe tbody tr th {\n",
       "        vertical-align: top;\n",
       "    }\n",
       "\n",
       "    .dataframe thead th {\n",
       "        text-align: right;\n",
       "    }\n",
       "</style>\n",
       "<table border=\"1\" class=\"dataframe\">\n",
       "  <thead>\n",
       "    <tr style=\"text-align: right;\">\n",
       "      <th></th>\n",
       "      <th>image_name</th>\n",
       "      <th>comment</th>\n",
       "    </tr>\n",
       "  </thead>\n",
       "  <tbody>\n",
       "    <tr>\n",
       "      <th>0</th>\n",
       "      <td>1000092795</td>\n",
       "      <td>Two young guys with shaggy hair look at their...</td>\n",
       "    </tr>\n",
       "    <tr>\n",
       "      <th>1</th>\n",
       "      <td>1000092795</td>\n",
       "      <td>Two young  White males are outside near many ...</td>\n",
       "    </tr>\n",
       "    <tr>\n",
       "      <th>2</th>\n",
       "      <td>1000092795</td>\n",
       "      <td>Two men in green shirts are standing in a yard .</td>\n",
       "    </tr>\n",
       "    <tr>\n",
       "      <th>3</th>\n",
       "      <td>1000092795</td>\n",
       "      <td>A man in a blue shirt standing in a garden .</td>\n",
       "    </tr>\n",
       "    <tr>\n",
       "      <th>4</th>\n",
       "      <td>1000092795</td>\n",
       "      <td>Two friends enjoy time spent together .</td>\n",
=======
       "      <th>32525</th>\n",
       "      <td>9950913</td>\n",
       "      <td>embers of a strike at Yale University .</td>\n",
       "      <td>158869    embers of a strike at Yale Universit...</td>\n",
=======
       "      <th>0</th>\n",
       "      <td>3876652419</td>\n",
       "      <td>A guy in a black shirt is looking to catch a ...</td>\n",
>>>>>>> e7e4abab19bae76d6e829280f968bfb13b804c9a
       "    </tr>\n",
       "    <tr>\n",
       "      <th>1</th>\n",
       "      <td>3876652419</td>\n",
       "      <td>Young man in blue shirt throwing a watermelon...</td>\n",
       "    </tr>\n",
       "    <tr>\n",
       "      <th>2</th>\n",
       "      <td>3876652419</td>\n",
       "      <td>Three young boys are engaged in a game of do ...</td>\n",
       "    </tr>\n",
       "    <tr>\n",
       "      <th>3</th>\n",
       "      <td>3876652419</td>\n",
       "      <td>Three teenagers unloading a truck with waterm...</td>\n",
       "    </tr>\n",
       "    <tr>\n",
<<<<<<< HEAD
       "      <th>32529</th>\n",
       "      <td>996962407</td>\n",
       "      <td>a man with a wheelbarrow is standing outside ...</td>\n",
       "      <td>158885     a man with a wheelbarrow is standin...</td>\n",
       "    </tr>\n",
       "    <tr>\n",
       "      <th>32530</th>\n",
       "      <td>997338199</td>\n",
       "      <td>Woman writing on a pad in room with gold , de...</td>\n",
       "      <td>158890     Woman writing on a pad in room with...</td>\n",
       "    </tr>\n",
       "    <tr>\n",
       "      <th>32531</th>\n",
       "      <td>997722733</td>\n",
       "      <td>A person in a red shirt climbing up a rock fa...</td>\n",
       "      <td>158895     A person in a red shirt climbing up...</td>\n",
       "    </tr>\n",
       "    <tr>\n",
       "      <th>32532</th>\n",
       "      <td>997876722</td>\n",
       "      <td>Two male construction workers are working on ...</td>\n",
       "      <td>158900     Two male construction workers are w...</td>\n",
       "    </tr>\n",
       "    <tr>\n",
       "      <th>32533</th>\n",
       "      <td>99804383</td>\n",
       "      <td>An older busker in glasses plays an Eastern st...</td>\n",
       "      <td>158905    An older busker in glasses plays an ...</td>\n",
       "    </tr>\n",
       "    <tr>\n",
       "      <th>32534</th>\n",
       "      <td>998845445</td>\n",
       "      <td>A man in shorts and a Hawaiian shirt leans ov...</td>\n",
       "      <td>158910     A man in shorts and a Hawaiian shir...</td>\n",
>>>>>>> 6f20da922727fd820ab38122d2e9c75d5fe61ad3
=======
       "      <th>4</th>\n",
       "      <td>3876652419</td>\n",
       "      <td>Three young boys tossing a watermelon .</td>\n",
>>>>>>> e7e4abab19bae76d6e829280f968bfb13b804c9a
       "    </tr>\n",
       "  </tbody>\n",
       "</table>\n",
       "</div>"
      ],
      "text/plain": [
<<<<<<< HEAD
<<<<<<< HEAD
       "   image_name                                            comment\n",
       "0  1000092795   Two young guys with shaggy hair look at their...\n",
       "1  1000092795   Two young  White males are outside near many ...\n",
       "2  1000092795   Two men in green shirts are standing in a yard .\n",
       "3  1000092795       A man in a blue shirt standing in a garden .\n",
       "4  1000092795            Two friends enjoy time spent together ."
      ]
     },
     "execution_count": 8,
=======
       "       image_name                                    longest_comment  \\\n",
       "32525     9950913            embers of a strike at Yale University .   \n",
       "32526   996089206   A older man with a white shirt , golf cap and...   \n",
       "32527   996712323   A man laying on the floor as he works on an u...   \n",
       "32528    99679241  A gray bird stands majestically on a beach whi...   \n",
       "32529   996962407   a man with a wheelbarrow is standing outside ...   \n",
       "32530   997338199   Woman writing on a pad in room with gold , de...   \n",
       "32531   997722733   A person in a red shirt climbing up a rock fa...   \n",
       "32532   997876722   Two male construction workers are working on ...   \n",
       "32533    99804383  An older busker in glasses plays an Eastern st...   \n",
       "32534   998845445   A man in shorts and a Hawaiian shirt leans ov...   \n",
       "\n",
       "                                              comments_5  \n",
       "32525  158869    embers of a strike at Yale Universit...  \n",
       "32526  158870     A older man with a white shirt , go...  \n",
       "32527  158875     A man laying on the floor as he wor...  \n",
       "32528  158880    A gray bird stands majestically on a...  \n",
       "32529  158885     a man with a wheelbarrow is standin...  \n",
       "32530  158890     Woman writing on a pad in room with...  \n",
       "32531  158895     A person in a red shirt climbing up...  \n",
       "32532  158900     Two male construction workers are w...  \n",
       "32533  158905    An older busker in glasses plays an ...  \n",
       "32534  158910     A man in shorts and a Hawaiian shir...  "
      ]
     },
     "execution_count": 5,
>>>>>>> 6f20da922727fd820ab38122d2e9c75d5fe61ad3
=======
       "   image_name                                           comments\n",
       "0  3876652419   A guy in a black shirt is looking to catch a ...\n",
       "1  3876652419   Young man in blue shirt throwing a watermelon...\n",
       "2  3876652419   Three young boys are engaged in a game of do ...\n",
       "3  3876652419   Three teenagers unloading a truck with waterm...\n",
       "4  3876652419            Three young boys tossing a watermelon ."
      ]
     },
     "execution_count": 12,
>>>>>>> e7e4abab19bae76d6e829280f968bfb13b804c9a
     "metadata": {},
     "output_type": "execute_result"
    }
   ],
   "source": [
<<<<<<< HEAD
    "df.head()"
=======
    "import pandas as pd\n",
    "df = pd.read_csv(f'gs://{BUCKET_NAME}/{BUCKET_TRAIN_DATA_PATH_1}')\n",
<<<<<<< HEAD
    "df.tail(10)"
>>>>>>> 6f20da922727fd820ab38122d2e9c75d5fe61ad3
=======
    "df.head(5)"
   ]
  },
  {
   "cell_type": "code",
   "execution_count": 17,
   "id": "50b4c571",
   "metadata": {},
   "outputs": [
    {
     "data": {
      "text/plain": [
       "['roup of friends playing cards and trying to bluff each other into making a terrible mistake .',\n",
       " 'roup of college students gathers to play texas hold em poker .',\n",
       " 'eral men play cards while around a green table .',\n",
       " 'roup of several men playing poker .',\n",
       " ' white males playing poker .',\n",
       " 'roup of friends playing cards and trying to bluff each other into making a terrible mistake .',\n",
       " 'roup of college students gathers to play texas hold em poker .',\n",
       " 'eral men play cards while around a green table .',\n",
       " 'roup of several men playing poker .',\n",
       " ' white males playing poker .',\n",
       " 'roup of friends playing cards and trying to bluff each other into making a terrible mistake .',\n",
       " 'roup of college students gathers to play texas hold em poker .',\n",
       " 'eral men play cards while around a green table .',\n",
       " 'roup of several men playing poker .',\n",
       " ' white males playing poker .',\n",
       " 'roup of friends playing cards and trying to bluff each other into making a terrible mistake .',\n",
       " 'roup of college students gathers to play texas hold em poker .',\n",
       " 'eral men play cards while around a green table .',\n",
       " 'roup of several men playing poker .',\n",
       " ' white males playing poker .',\n",
       " 'roup of friends playing cards and trying to bluff each other into making a terrible mistake .',\n",
       " 'roup of college students gathers to play texas hold em poker .',\n",
       " 'eral men play cards while around a green table .',\n",
       " 'roup of several men playing poker .',\n",
       " ' white males playing poker .']"
      ]
     },
     "execution_count": 17,
     "metadata": {},
     "output_type": "execute_result"
    }
   ],
   "source": [
    "descriptions = df.groupby('image_name')['comments'].apply(list).to_dict()\n",
    "descriptions[36979]"
   ]
  },
  {
   "cell_type": "code",
   "execution_count": 18,
   "id": "78bc4c54",
   "metadata": {},
   "outputs": [],
   "source": [
    "import string\n",
    "table = str.maketrans('', '', string.punctuation)\n",
    "for key, desc_list in descriptions.items():\n",
    "    for i in range(len(desc_list)):\n",
    "        desc = desc_list[i]\n",
    "        desc = desc.split()\n",
    "        desc = [word.lower() for word in desc]\n",
    "        desc = [w.translate(table) for w in desc]\n",
    "        desc_list[i] =  ' '.join(desc)"
   ]
  },
  {
   "cell_type": "code",
   "execution_count": 19,
   "id": "9bffe9f0",
   "metadata": {},
   "outputs": [
    {
     "name": "stdout",
     "output_type": "stream",
     "text": [
      "Original Vocabulary Size: 12653\n"
     ]
    }
   ],
   "source": [
    "vocabulary = set()\n",
    "for key in descriptions.keys():\n",
    "        [vocabulary.update(d.split()) for d in descriptions[key]]\n",
    "print('Original Vocabulary Size: %d' % len(vocabulary))"
   ]
  },
  {
   "cell_type": "code",
   "execution_count": 23,
   "id": "95f4426e",
   "metadata": {},
   "outputs": [
    {
     "name": "stdout",
     "output_type": "stream",
     "text": [
      "/home/mohanakrishnan/code/LAnnamaria/quotes_for_posts_783/raw_data\n"
     ]
    }
   ],
   "source": [
    "cd ../raw_data/"
   ]
  },
  {
   "cell_type": "code",
   "execution_count": 26,
   "id": "4c96fd0d",
   "metadata": {},
   "outputs": [],
   "source": [
    "token_path = 'image_dataset/df_images_0.txt'"
   ]
  },
  {
   "cell_type": "code",
   "execution_count": 27,
   "id": "962cb0dc",
   "metadata": {},
   "outputs": [
    {
     "name": "stdout",
     "output_type": "stream",
     "text": [
      "image_namecomments\n",
      "             A guy in a black\n",
      "           shirt is looking to\n",
      "           catch a water-\n",
      "           melon with two\n",
      "           other boys present\n",
      " 3876652419.\n",
      "             Young man in blue\n",
      "           shirt throwing a\n",
      "           watermelon to\n",
      "           another young\n",
      "           man in a black shirt\n",
      " 3876652419.\n",
      "             Three young boys\n",
      "           are engaged in a\n",
      "           game of do n\n"
     ]
    }
   ],
   "source": [
    "doc = open(token_path,'r').read()\n",
    "print(doc[:410])"
   ]
  },
  {
   "cell_type": "code",
   "execution_count": 28,
   "id": "35ed16f8",
   "metadata": {},
   "outputs": [],
   "source": [
    "table = str.maketrans('', '', string.punctuation)\n",
    "for key, desc_list in descriptions.items():\n",
    "    for i in range(len(desc_list)):\n",
    "        desc = desc_list[i]\n",
    "        desc = desc.split()\n",
    "        desc = [word.lower() for word in desc]\n",
    "        desc = [w.translate(table) for w in desc]\n",
    "        desc_list[i] =  ' '.join(desc)"
   ]
  },
  {
   "cell_type": "code",
   "execution_count": 29,
   "id": "f983a5d5",
   "metadata": {},
   "outputs": [
    {
     "name": "stdout",
     "output_type": "stream",
     "text": [
      "Original Vocabulary Size: 12653\n"
     ]
    }
   ],
   "source": [
    "vocabulary = set()\n",
    "for key in descriptions.keys():\n",
    "        [vocabulary.update(d.split()) for d in descriptions[key]]\n",
    "print('Original Vocabulary Size: %d' % len(vocabulary))"
   ]
  },
  {
   "cell_type": "code",
   "execution_count": null,
   "id": "977e7289",
   "metadata": {},
   "outputs": [],
   "source": [
    "BUCKET_TRAIN_DATA_PATH = 'raw_data/image_dataset'\n",
    "BUCKET_TRAIN_DATA_PATH_2 ='raw_data/image_dataset/df_images_1.csv'\n",
    "BUCKET_TRAIN_DATA_PATH_3 ='raw_data/image_dataset/df_images_2.csv'\n",
    "BUCKET_TRAIN_DATA_PATH_4 ='raw_data/image_dataset/df_images_3.csv'\n",
    "BUCKET_TRAIN_DATA_PATH_5 ='raw_data/image_dataset/df_images_4.csv'"
   ]
  },
  {
   "cell_type": "code",
   "execution_count": null,
   "id": "665f3a81",
   "metadata": {},
   "outputs": [],
   "source": [
    "\n",
    "    df_im_1 = pd.read_csv(f'gs://{BUCKET_NAME}/{BUCKET_TRAIN_DATA_PATH_2}')\n",
    "\n",
    "    df_im_2 = pd.read_csv(f'gs://{BUCKET_NAME}/{BUCKET_TRAIN_DATA_PATH_1}')\n",
    "\n",
    "    df_im_3 = pd.read_csv(f'gs://{BUCKET_NAME}/{BUCKET_TRAIN_DATA_PATH_2}')\n",
    "\n",
    "    df_im_4 = pd.read_csv(f'gs://{BUCKET_NAME}/{BUCKET_TRAIN_DATA_PATH_1}')"
   ]
  },
  {
   "cell_type": "code",
   "execution_count": null,
   "id": "8cdc43ee",
   "metadata": {},
   "outputs": [],
   "source": [
    "STORAGE_LOCATION_2 = 'quotes_for_posts_783/images_caption_model_2.joblib'\n",
    "STORAGE_LOCATION_3 = 'quotes_for_posts_783/images_caption_model_3.joblib'\n",
    "STORAGE_LOCATION_4 = 'quotes_for_posts_783/images_caption_model_4.joblib'\n",
    "STORAGE_LOCATION_5 = 'quotes_for_posts_783/images_caption_model_5.joblib'\n"
   ]
  },
  {
   "cell_type": "code",
   "execution_count": null,
   "id": "f582d7b4",
   "metadata": {},
   "outputs": [],
   "source": [
    "def upload_model_to_gcp_2():\n",
    "    client = storage.Client()\n",
    "    bucket = client.bucket(BUCKET_NAME)\n",
    "    blob = bucket.blob(STORAGE_LOCATION_2)\n",
    "    blob.upload_from_filename('images_caption_model_2.joblib')\n",
    "def upload_model_to_gcp_3():\n",
    "    client = storage.Client()\n",
    "    bucket = client.bucket(BUCKET_NAME)\n",
    "    blob = bucket.blob(STORAGE_LOCATION_3)\n",
    "    blob.upload_from_filename('images_caption_model_3.joblib')\n",
    "def upload_model_to_gcp_4():\n",
    "    client = storage.Client()\n",
    "    bucket = client.bucket(BUCKET_NAME)\n",
    "    blob = bucket.blob(STORAGE_LOCATION_4)\n",
    "    blob.upload_from_filename('images_caption_model_4.joblib')\n",
    "def upload_model_to_gcp_5():\n",
    "    client = storage.Client()\n",
    "    bucket = client.bucket(BUCKET_NAME)\n",
    "    blob = bucket.blob(STORAGE_LOCATION_5)\n",
    "    blob.upload_from_filename('images_caption_model_5.joblib')"
   ]
  },
  {
   "cell_type": "code",
   "execution_count": 33,
   "id": "ab0c523c",
   "metadata": {},
   "outputs": [
    {
     "name": "stdout",
     "output_type": "stream",
     "text": [
      "\u001b[0m\u001b[01;34mimage_dataset\u001b[0m/  \u001b[01;34mquotes\u001b[0m/  \u001b[01;34mtemp\u001b[0m/\r\n"
     ]
    }
   ],
   "source": [
    "ls"
   ]
  },
  {
   "cell_type": "code",
   "execution_count": 34,
   "id": "4dbb7cb8",
   "metadata": {},
   "outputs": [
    {
     "name": "stdout",
     "output_type": "stream",
     "text": [
      "2513260012_03d33305cf.jpg\n",
      "2903617548_d3e38d7f88.jpg\n",
      "3338291921_fe7ae0c8f8.jpg\n",
      "488416045_1c6d903fe0.jpg\n",
      "2644326817_8f45080b87.jpg\n",
      "218342358_1755a9cce1.jpg\n",
      "2501968935_02f2cd8079.jpg\n",
      "2699342860_5288e203ea.jpg\n",
      "2638369467_8fc251595b.jpg\n",
      "2926786902_815a99a154.jpg\n",
      "2851304910_b5721199bc.jpg\n",
      "3423802527_94bd2b23b0.jpg\n",
      "3356369156_074750c6cc.jpg\n",
      "2294598473_40637b5c04.jpg\n",
      "1191338263_a4fa073154.jpg\n",
      "2380765956_6313d8cae3.\n"
     ]
    }
   ],
   "source": [
    "train_images_path = 'image_dataset/Flickr8k_text/Flickr_8k.trainImages.txt'\n",
    "doc = open(train_images_path,'r').read()\n",
    "print(doc[:410])"
>>>>>>> e7e4abab19bae76d6e829280f968bfb13b804c9a
   ]
  },
  {
   "cell_type": "code",
<<<<<<< HEAD
   "execution_count": 9,
   "id": "1205bccc",
   "metadata": {},
   "outputs": [],
   "source": [
    "df.to_csv('../raw_data/images_comments.csv')"
   ]
=======
   "execution_count": null,
   "id": "81746728",
   "metadata": {},
   "outputs": [],
   "source": []
>>>>>>> 6f20da922727fd820ab38122d2e9c75d5fe61ad3
  }
 ],
 "metadata": {
  "kernelspec": {
   "display_name": "Python 3 (ipykernel)",
   "language": "python",
   "name": "python3"
  },
  "language_info": {
   "codemirror_mode": {
    "name": "ipython",
    "version": 3
   },
   "file_extension": ".py",
   "mimetype": "text/x-python",
   "name": "python",
   "nbconvert_exporter": "python",
   "pygments_lexer": "ipython3",
   "version": "3.8.12"
  },
  "toc": {
   "base_numbering": 1,
   "nav_menu": {},
   "number_sections": true,
   "sideBar": true,
   "skip_h1_title": false,
   "title_cell": "Table of Contents",
   "title_sidebar": "Contents",
   "toc_cell": false,
   "toc_position": {},
   "toc_section_display": true,
   "toc_window_display": false
  }
 },
 "nbformat": 4,
 "nbformat_minor": 5
}
