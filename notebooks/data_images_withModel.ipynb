{
  "cells": [
    {
      "cell_type": "code",
      "source": [
        "from google.colab import files\n",
        " \n",
        " \n",
        "uploaded = files.upload()"
      ],
      "metadata": {
        "colab": {
          "resources": {
            "http://localhost:8080/nbextensions/google.colab/files.js": {
              "data": "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",
              "ok": true,
              "headers": [
                [
                  "content-type",
                  "application/javascript"
                ]
              ],
              "status": 200,
              "status_text": ""
            }
          },
          "base_uri": "https://localhost:8080/",
          "height": 74
        },
        "id": "VT77kn8wFXOe",
        "outputId": "0f213440-e439-45c7-858c-85625b64be76"
      },
      "id": "VT77kn8wFXOe",
      "execution_count": 1,
      "outputs": [
        {
          "output_type": "display_data",
          "data": {
            "text/html": [
              "\n",
              "     <input type=\"file\" id=\"files-719b3689-9404-48a1-87dc-710a782d07c3\" name=\"files[]\" multiple disabled\n",
              "        style=\"border:none\" />\n",
              "     <output id=\"result-719b3689-9404-48a1-87dc-710a782d07c3\">\n",
              "      Upload widget is only available when the cell has been executed in the\n",
              "      current browser session. Please rerun this cell to enable.\n",
              "      </output>\n",
              "      <script src=\"/nbextensions/google.colab/files.js\"></script> "
            ],
            "text/plain": [
              "<IPython.core.display.HTML object>"
            ]
          },
          "metadata": {}
        },
        {
          "output_type": "stream",
          "name": "stdout",
          "text": [
            "Saving quotes - reduced.csv to quotes - reduced (3).csv\n"
          ]
        }
      ]
    },
    {
      "cell_type": "code",
      "source": [
        "import io\n",
        "import pandas as pd\n",
        "quotes = pd.read_csv(io.BytesIO(uploaded['quotes - reduced.csv']), decimal=\",\")"
      ],
      "metadata": {
        "id": "GLJ9wvXbFtHg"
      },
      "id": "GLJ9wvXbFtHg",
      "execution_count": 2,
      "outputs": []
    },
    {
      "cell_type": "code",
      "execution_count": 3,
      "id": "f645751a",
      "metadata": {
        "id": "f645751a",
        "colab": {
          "base_uri": "https://localhost:8080/",
          "height": 1000
        },
        "outputId": "998dd20a-8021-4842-d398-88b801b68f8d"
      },
      "outputs": [
        {
          "output_type": "stream",
          "name": "stdout",
          "text": [
            "Requirement already satisfied: tensorflow in /usr/local/lib/python3.7/dist-packages (2.8.0)\n",
            "Requirement already satisfied: google-pasta>=0.1.1 in /usr/local/lib/python3.7/dist-packages (from tensorflow) (0.2.0)\n",
            "Requirement already satisfied: tf-estimator-nightly==2.8.0.dev2021122109 in /usr/local/lib/python3.7/dist-packages (from tensorflow) (2.8.0.dev2021122109)\n",
            "Requirement already satisfied: keras-preprocessing>=1.1.1 in /usr/local/lib/python3.7/dist-packages (from tensorflow) (1.1.2)\n",
            "Requirement already satisfied: numpy>=1.20 in /usr/local/lib/python3.7/dist-packages (from tensorflow) (1.21.5)\n",
            "Requirement already satisfied: astunparse>=1.6.0 in /usr/local/lib/python3.7/dist-packages (from tensorflow) (1.6.3)\n",
            "Requirement already satisfied: grpcio<2.0,>=1.24.3 in /usr/local/lib/python3.7/dist-packages (from tensorflow) (1.44.0)\n",
            "Requirement already satisfied: libclang>=9.0.1 in /usr/local/lib/python3.7/dist-packages (from tensorflow) (13.0.0)\n",
            "Requirement already satisfied: h5py>=2.9.0 in /usr/local/lib/python3.7/dist-packages (from tensorflow) (3.1.0)\n",
            "Requirement already satisfied: setuptools in /usr/local/lib/python3.7/dist-packages (from tensorflow) (57.4.0)\n",
            "Requirement already satisfied: protobuf>=3.9.2 in /usr/local/lib/python3.7/dist-packages (from tensorflow) (3.17.3)\n",
            "Requirement already satisfied: tensorboard<2.9,>=2.8 in /usr/local/lib/python3.7/dist-packages (from tensorflow) (2.8.0)\n",
            "Requirement already satisfied: wrapt>=1.11.0 in /usr/local/lib/python3.7/dist-packages (from tensorflow) (1.13.3)\n",
            "Requirement already satisfied: tensorflow-io-gcs-filesystem>=0.23.1 in /usr/local/lib/python3.7/dist-packages (from tensorflow) (0.24.0)\n",
            "Requirement already satisfied: termcolor>=1.1.0 in /usr/local/lib/python3.7/dist-packages (from tensorflow) (1.1.0)\n",
            "Requirement already satisfied: gast>=0.2.1 in /usr/local/lib/python3.7/dist-packages (from tensorflow) (0.5.3)\n",
            "Requirement already satisfied: opt-einsum>=2.3.2 in /usr/local/lib/python3.7/dist-packages (from tensorflow) (3.3.0)\n",
            "Requirement already satisfied: six>=1.12.0 in /usr/local/lib/python3.7/dist-packages (from tensorflow) (1.15.0)\n",
            "Requirement already satisfied: typing-extensions>=3.6.6 in /usr/local/lib/python3.7/dist-packages (from tensorflow) (3.10.0.2)\n",
            "Requirement already satisfied: flatbuffers>=1.12 in /usr/local/lib/python3.7/dist-packages (from tensorflow) (2.0)\n",
            "Requirement already satisfied: keras<2.9,>=2.8.0rc0 in /usr/local/lib/python3.7/dist-packages (from tensorflow) (2.8.0)\n",
            "Requirement already satisfied: absl-py>=0.4.0 in /usr/local/lib/python3.7/dist-packages (from tensorflow) (1.0.0)\n",
            "Requirement already satisfied: wheel<1.0,>=0.23.0 in /usr/local/lib/python3.7/dist-packages (from astunparse>=1.6.0->tensorflow) (0.37.1)\n",
            "Requirement already satisfied: cached-property in /usr/local/lib/python3.7/dist-packages (from h5py>=2.9.0->tensorflow) (1.5.2)\n",
            "Requirement already satisfied: google-auth-oauthlib<0.5,>=0.4.1 in /usr/local/lib/python3.7/dist-packages (from tensorboard<2.9,>=2.8->tensorflow) (0.4.6)\n",
            "Requirement already satisfied: requests<3,>=2.21.0 in /usr/local/lib/python3.7/dist-packages (from tensorboard<2.9,>=2.8->tensorflow) (2.23.0)\n",
            "Requirement already satisfied: markdown>=2.6.8 in /usr/local/lib/python3.7/dist-packages (from tensorboard<2.9,>=2.8->tensorflow) (3.3.6)\n",
            "Requirement already satisfied: google-auth<3,>=1.6.3 in /usr/local/lib/python3.7/dist-packages (from tensorboard<2.9,>=2.8->tensorflow) (1.35.0)\n",
            "Requirement already satisfied: tensorboard-data-server<0.7.0,>=0.6.0 in /usr/local/lib/python3.7/dist-packages (from tensorboard<2.9,>=2.8->tensorflow) (0.6.1)\n",
            "Requirement already satisfied: werkzeug>=0.11.15 in /usr/local/lib/python3.7/dist-packages (from tensorboard<2.9,>=2.8->tensorflow) (1.0.1)\n",
            "Requirement already satisfied: tensorboard-plugin-wit>=1.6.0 in /usr/local/lib/python3.7/dist-packages (from tensorboard<2.9,>=2.8->tensorflow) (1.8.1)\n",
            "Requirement already satisfied: cachetools<5.0,>=2.0.0 in /usr/local/lib/python3.7/dist-packages (from google-auth<3,>=1.6.3->tensorboard<2.9,>=2.8->tensorflow) (4.2.4)\n",
            "Requirement already satisfied: rsa<5,>=3.1.4 in /usr/local/lib/python3.7/dist-packages (from google-auth<3,>=1.6.3->tensorboard<2.9,>=2.8->tensorflow) (4.8)\n",
            "Requirement already satisfied: pyasn1-modules>=0.2.1 in /usr/local/lib/python3.7/dist-packages (from google-auth<3,>=1.6.3->tensorboard<2.9,>=2.8->tensorflow) (0.2.8)\n",
            "Requirement already satisfied: requests-oauthlib>=0.7.0 in /usr/local/lib/python3.7/dist-packages (from google-auth-oauthlib<0.5,>=0.4.1->tensorboard<2.9,>=2.8->tensorflow) (1.3.1)\n",
            "Requirement already satisfied: importlib-metadata>=4.4 in /usr/local/lib/python3.7/dist-packages (from markdown>=2.6.8->tensorboard<2.9,>=2.8->tensorflow) (4.11.1)\n",
            "Requirement already satisfied: zipp>=0.5 in /usr/local/lib/python3.7/dist-packages (from importlib-metadata>=4.4->markdown>=2.6.8->tensorboard<2.9,>=2.8->tensorflow) (3.7.0)\n",
            "Requirement already satisfied: pyasn1<0.5.0,>=0.4.6 in /usr/local/lib/python3.7/dist-packages (from pyasn1-modules>=0.2.1->google-auth<3,>=1.6.3->tensorboard<2.9,>=2.8->tensorflow) (0.4.8)\n",
            "Requirement already satisfied: chardet<4,>=3.0.2 in /usr/local/lib/python3.7/dist-packages (from requests<3,>=2.21.0->tensorboard<2.9,>=2.8->tensorflow) (3.0.4)\n",
            "Requirement already satisfied: idna<3,>=2.5 in /usr/local/lib/python3.7/dist-packages (from requests<3,>=2.21.0->tensorboard<2.9,>=2.8->tensorflow) (2.10)\n",
            "Requirement already satisfied: certifi>=2017.4.17 in /usr/local/lib/python3.7/dist-packages (from requests<3,>=2.21.0->tensorboard<2.9,>=2.8->tensorflow) (2021.10.8)\n",
            "Requirement already satisfied: urllib3!=1.25.0,!=1.25.1,<1.26,>=1.21.1 in /usr/local/lib/python3.7/dist-packages (from requests<3,>=2.21.0->tensorboard<2.9,>=2.8->tensorflow) (1.24.3)\n",
            "Requirement already satisfied: oauthlib>=3.0.0 in /usr/local/lib/python3.7/dist-packages (from requests-oauthlib>=0.7.0->google-auth-oauthlib<0.5,>=0.4.1->tensorboard<2.9,>=2.8->tensorflow) (3.2.0)\n",
            "Reading package lists... Done\n",
            "Building dependency tree       \n",
            "Reading state information... Done\n",
            "tesseract-ocr is already the newest version (4.00~git2288-10f4998a-2).\n",
            "The following package was automatically installed and is no longer required:\n",
            "  libnvidia-common-470\n",
            "Use 'sudo apt autoremove' to remove it.\n",
            "0 upgraded, 0 newly installed, 0 to remove and 39 not upgraded.\n",
            "Requirement already satisfied: pytesseract in /usr/local/lib/python3.7/dist-packages (0.3.9)\n",
            "Collecting Pillow>=8.0.0\n",
            "  Using cached Pillow-9.0.1-cp37-cp37m-manylinux_2_17_x86_64.manylinux2014_x86_64.whl (4.3 MB)\n",
            "Requirement already satisfied: packaging>=21.3 in /usr/local/lib/python3.7/dist-packages (from pytesseract) (21.3)\n",
            "Requirement already satisfied: pyparsing!=3.0.5,>=2.0.2 in /usr/local/lib/python3.7/dist-packages (from packaging>=21.3->pytesseract) (3.0.7)\n",
            "Installing collected packages: Pillow\n",
            "  Attempting uninstall: Pillow\n",
            "    Found existing installation: Pillow 4.1.1\n",
            "    Uninstalling Pillow-4.1.1:\n",
            "      Successfully uninstalled Pillow-4.1.1\n",
            "\u001b[31mERROR: pip's dependency resolver does not currently take into account all the packages that are installed. This behaviour is the source of the following dependency conflicts.\n",
            "albumentations 0.1.12 requires imgaug<0.2.7,>=0.2.5, but you have imgaug 0.2.9 which is incompatible.\u001b[0m\n",
            "Successfully installed Pillow-9.0.1\n"
          ]
        },
        {
          "output_type": "display_data",
          "data": {
            "application/vnd.colab-display-data+json": {
              "pip_warning": {
                "packages": [
                  "PIL"
                ]
              }
            }
          },
          "metadata": {}
        },
        {
          "output_type": "stream",
          "name": "stdout",
          "text": [
            "Collecting pillow==4.1.1\n",
            "  Using cached Pillow-4.1.1-cp37-cp37m-linux_x86_64.whl\n",
            "Requirement already satisfied: olefile in /usr/local/lib/python3.7/dist-packages (from pillow==4.1.1) (0.46)\n",
            "Installing collected packages: pillow\n",
            "  Attempting uninstall: pillow\n",
            "    Found existing installation: Pillow 9.0.1\n",
            "    Uninstalling Pillow-9.0.1:\n",
            "      Successfully uninstalled Pillow-9.0.1\n",
            "\u001b[31mERROR: pip's dependency resolver does not currently take into account all the packages that are installed. This behaviour is the source of the following dependency conflicts.\n",
            "torchvision 0.11.1+cu111 requires pillow!=8.3.0,>=5.3.0, but you have pillow 4.1.1 which is incompatible.\n",
            "scikit-image 0.18.3 requires pillow!=7.1.0,!=7.1.1,>=4.3.0, but you have pillow 4.1.1 which is incompatible.\n",
            "pytesseract 0.3.9 requires Pillow>=8.0.0, but you have pillow 4.1.1 which is incompatible.\n",
            "bokeh 2.3.3 requires pillow>=7.1.0, but you have pillow 4.1.1 which is incompatible.\n",
            "albumentations 0.1.12 requires imgaug<0.2.7,>=0.2.5, but you have imgaug 0.2.9 which is incompatible.\u001b[0m\n",
            "Successfully installed pillow-4.1.1\n"
          ]
        },
        {
          "output_type": "display_data",
          "data": {
            "application/vnd.colab-display-data+json": {
              "pip_warning": {
                "packages": [
                  "PIL"
                ]
              }
            }
          },
          "metadata": {}
        }
      ],
      "source": [
        "!pip install tensorflow\n",
        "!sudo apt install tesseract-ocr\n",
        "!pip install pytesseract\n",
        "!pip install pillow==4.1.1"
      ]
    },
    {
      "cell_type": "markdown",
      "source": [
        ""
      ],
      "metadata": {
        "id": "JHKHXK0cmaik"
      },
      "id": "JHKHXK0cmaik"
    },
    {
      "cell_type": "code",
      "execution_count": 4,
      "id": "e72f9667",
      "metadata": {
        "id": "e72f9667"
      },
      "outputs": [],
      "source": [
        "import numpy as np\n",
        "import matplotlib.pyplot as plt\n",
        "import matplotlib.image as mpimg\n",
        "import pytesseract\n",
        "import cv2\n",
        "import seaborn as sb\n",
        "import tensorflow as tf\n",
        "conf = r'-- oem 2'"
      ]
    },
    {
      "cell_type": "code",
      "source": [
        "#uncomment for colab ''' NOTE: Please copy the datas to folder shotcut with path /content/gdrive/MyDrive/ML_project_data/pictures/image_dataset/ '''\n",
        "from google.colab import drive\n",
        "drive.mount(\"/content/gdrive\", force_remount=True)"
      ],
      "metadata": {
        "id": "h4AV1V70kacl",
        "colab": {
          "base_uri": "https://localhost:8080/"
        },
        "outputId": "60bcc515-3ed3-4d45-8d4a-8be6e84eb7fd"
      },
      "id": "h4AV1V70kacl",
      "execution_count": 5,
      "outputs": [
        {
          "output_type": "stream",
          "name": "stdout",
          "text": [
            "Mounted at /content/gdrive\n"
          ]
        }
      ]
    },
    {
      "cell_type": "code",
      "source": [
        "cd gdrive/MyDrive/ML_project_data/pictures/"
      ],
      "metadata": {
        "id": "BlDoPT3znKlU",
        "colab": {
          "base_uri": "https://localhost:8080/"
        },
        "outputId": "96891c21-981d-4f5f-d434-a7d7b243cd4f"
      },
      "id": "BlDoPT3znKlU",
      "execution_count": 6,
      "outputs": [
        {
          "output_type": "stream",
          "name": "stdout",
          "text": [
            "/content/gdrive/.shortcut-targets-by-id/1Pq6YAd5542Bw36m_pWOnZiNxfcJ5vdDS/ML_project_data/pictures\n"
          ]
        }
      ]
    },
    {
      "cell_type": "markdown",
      "source": [
        "The below code is only for colab.... ! If you use jupyter notebook the do not run the below cell"
      ],
      "metadata": {
        "id": "6bSubBG_iE9X"
      },
      "id": "6bSubBG_iE9X"
    },
    {
      "cell_type": "code",
      "source": [
        "from google.colab import auth\n",
        "auth.authenticate_user()\n",
        "import gspread\n",
        "from google.auth import default\n",
        "creds, _ = default()\n",
        "\n",
        "gc = gspread.authorize(creds)\n",
        "worksheet = gc.open('images_name.csv').sheet1\n",
        "rows = worksheet.get_all_values()\n",
        "print(rows)"
      ],
      "metadata": {
        "id": "f-O0RHKreqV5",
        "colab": {
          "base_uri": "https://localhost:8080/"
        },
        "outputId": "eee634cf-b6f6-4842-b02c-d5b369ba11fa"
      },
      "id": "f-O0RHKreqV5",
      "execution_count": 7,
      "outputs": [
        {
          "output_type": "stream",
          "name": "stderr",
          "text": [
            "IOPub data rate exceeded.\n",
            "The notebook server will temporarily stop sending output\n",
            "to the client in order to avoid crashing it.\n",
            "To change this limit, set the config variable\n",
            "`--NotebookApp.iopub_data_rate_limit`.\n",
            "\n",
            "Current values:\n",
            "NotebookApp.iopub_data_rate_limit=1000000.0 (bytes/sec)\n",
            "NotebookApp.rate_limit_window=3.0 (secs)\n",
            "\n"
          ]
        }
      ]
    },
    {
      "cell_type": "code",
      "execution_count": 8,
      "id": "b3e6b093",
      "metadata": {
        "id": "b3e6b093"
      },
      "outputs": [],
      "source": [
        "#uncomment for jupyter notebook\n",
        "#df = pd.read_csv('../raw_data/images_name.csv')\n",
        "#data = pd.read_csv('../raw_data/quotes.csv')\n",
        "\n",
        "\n",
        "#uncomment for colab next line\n",
        "df = pd.DataFrame.from_records(rows) \n",
        "\n",
        "df_im = df.head(2000)\n"
      ]
    },
    {
      "cell_type": "code",
      "execution_count": 9,
      "id": "a100ef15",
      "metadata": {
        "id": "a100ef15",
        "colab": {
          "base_uri": "https://localhost:8080/",
          "height": 423
        },
        "outputId": "fad132ac-5e5a-4b24-b4dd-ef179a20d691"
      },
      "outputs": [
        {
          "output_type": "execute_result",
          "data": {
            "text/html": [
              "\n",
              "  <div id=\"df-1f2f62a6-aeff-48eb-889f-913792309a97\">\n",
              "    <div class=\"colab-df-container\">\n",
              "      <div>\n",
              "<style scoped>\n",
              "    .dataframe tbody tr th:only-of-type {\n",
              "        vertical-align: middle;\n",
              "    }\n",
              "\n",
              "    .dataframe tbody tr th {\n",
              "        vertical-align: top;\n",
              "    }\n",
              "\n",
              "    .dataframe thead th {\n",
              "        text-align: right;\n",
              "    }\n",
              "</style>\n",
              "<table border=\"1\" class=\"dataframe\">\n",
              "  <thead>\n",
              "    <tr style=\"text-align: right;\">\n",
              "      <th></th>\n",
              "      <th>0</th>\n",
              "      <th>1</th>\n",
              "      <th>2</th>\n",
              "    </tr>\n",
              "  </thead>\n",
              "  <tbody>\n",
              "    <tr>\n",
              "      <th>0</th>\n",
              "      <td>image_name</td>\n",
              "      <td>longest_comment</td>\n",
              "      <td>comments_5</td>\n",
              "    </tr>\n",
              "    <tr>\n",
              "      <th>1</th>\n",
              "      <td>1000092795</td>\n",
              "      <td>Two young guys with shaggy hair look at their ...</td>\n",
              "      <td>0    | Two young guys with shaggy hair look at...</td>\n",
              "    </tr>\n",
              "    <tr>\n",
              "      <th>2</th>\n",
              "      <td>10002456</td>\n",
              "      <td>Several men in hard hats are operating a giant...</td>\n",
              "      <td>5    Several men in hard hats are operating a ...</td>\n",
              "    </tr>\n",
              "    <tr>\n",
              "      <th>3</th>\n",
              "      <td>1000268201</td>\n",
              "      <td>A child in a pink dress is climbing up a set o...</td>\n",
              "      <td>10    | A child in a pink dress is climbing up...</td>\n",
              "    </tr>\n",
              "    <tr>\n",
              "      <th>4</th>\n",
              "      <td>1000344755</td>\n",
              "      <td>Someone in a blue shirt and hat is standing on...</td>\n",
              "      <td>15    | Someone in a blue shirt and hat is sta...</td>\n",
              "    </tr>\n",
              "    <tr>\n",
              "      <th>...</th>\n",
              "      <td>...</td>\n",
              "      <td>...</td>\n",
              "      <td>...</td>\n",
              "    </tr>\n",
              "    <tr>\n",
              "      <th>1995</th>\n",
              "      <td>1558848564</td>\n",
              "      <td>An intricate gold design is the backdrop to a...</td>\n",
              "      <td>9810    | An intricate gold design is the back...</td>\n",
              "    </tr>\n",
              "    <tr>\n",
              "      <th>1996</th>\n",
              "      <td>1558872760</td>\n",
              "      <td>A man in a pullover sweater is smiling as he h...</td>\n",
              "      <td>9815    | A man in a pullover sweater is smili...</td>\n",
              "    </tr>\n",
              "    <tr>\n",
              "      <th>1997</th>\n",
              "      <td>1559295897</td>\n",
              "      <td>A man is standing on mossy ground next to a c...</td>\n",
              "      <td>9820    | A man is standing on mossy ground ne...</td>\n",
              "    </tr>\n",
              "    <tr>\n",
              "      <th>1998</th>\n",
              "      <td>1559709077</td>\n",
              "      <td>A man attempts to fix a bike wheel on the side...</td>\n",
              "      <td>9825    | A man attempts to fix a bike wheel o...</td>\n",
              "    </tr>\n",
              "    <tr>\n",
              "      <th>1999</th>\n",
              "      <td>1559931223</td>\n",
              "      <td>A large crowd is assembled on an outdoor stre...</td>\n",
              "      <td>9830    | A large crowd is assembled on an out...</td>\n",
              "    </tr>\n",
              "  </tbody>\n",
              "</table>\n",
              "<p>2000 rows × 3 columns</p>\n",
              "</div>\n",
              "      <button class=\"colab-df-convert\" onclick=\"convertToInteractive('df-1f2f62a6-aeff-48eb-889f-913792309a97')\"\n",
              "              title=\"Convert this dataframe to an interactive table.\"\n",
              "              style=\"display:none;\">\n",
              "        \n",
              "  <svg xmlns=\"http://www.w3.org/2000/svg\" height=\"24px\"viewBox=\"0 0 24 24\"\n",
              "       width=\"24px\">\n",
              "    <path d=\"M0 0h24v24H0V0z\" fill=\"none\"/>\n",
              "    <path d=\"M18.56 5.44l.94 2.06.94-2.06 2.06-.94-2.06-.94-.94-2.06-.94 2.06-2.06.94zm-11 1L8.5 8.5l.94-2.06 2.06-.94-2.06-.94L8.5 2.5l-.94 2.06-2.06.94zm10 10l.94 2.06.94-2.06 2.06-.94-2.06-.94-.94-2.06-.94 2.06-2.06.94z\"/><path d=\"M17.41 7.96l-1.37-1.37c-.4-.4-.92-.59-1.43-.59-.52 0-1.04.2-1.43.59L10.3 9.45l-7.72 7.72c-.78.78-.78 2.05 0 2.83L4 21.41c.39.39.9.59 1.41.59.51 0 1.02-.2 1.41-.59l7.78-7.78 2.81-2.81c.8-.78.8-2.07 0-2.86zM5.41 20L4 18.59l7.72-7.72 1.47 1.35L5.41 20z\"/>\n",
              "  </svg>\n",
              "      </button>\n",
              "      \n",
              "  <style>\n",
              "    .colab-df-container {\n",
              "      display:flex;\n",
              "      flex-wrap:wrap;\n",
              "      gap: 12px;\n",
              "    }\n",
              "\n",
              "    .colab-df-convert {\n",
              "      background-color: #E8F0FE;\n",
              "      border: none;\n",
              "      border-radius: 50%;\n",
              "      cursor: pointer;\n",
              "      display: none;\n",
              "      fill: #1967D2;\n",
              "      height: 32px;\n",
              "      padding: 0 0 0 0;\n",
              "      width: 32px;\n",
              "    }\n",
              "\n",
              "    .colab-df-convert:hover {\n",
              "      background-color: #E2EBFA;\n",
              "      box-shadow: 0px 1px 2px rgba(60, 64, 67, 0.3), 0px 1px 3px 1px rgba(60, 64, 67, 0.15);\n",
              "      fill: #174EA6;\n",
              "    }\n",
              "\n",
              "    [theme=dark] .colab-df-convert {\n",
              "      background-color: #3B4455;\n",
              "      fill: #D2E3FC;\n",
              "    }\n",
              "\n",
              "    [theme=dark] .colab-df-convert:hover {\n",
              "      background-color: #434B5C;\n",
              "      box-shadow: 0px 1px 3px 1px rgba(0, 0, 0, 0.15);\n",
              "      filter: drop-shadow(0px 1px 2px rgba(0, 0, 0, 0.3));\n",
              "      fill: #FFFFFF;\n",
              "    }\n",
              "  </style>\n",
              "\n",
              "      <script>\n",
              "        const buttonEl =\n",
              "          document.querySelector('#df-1f2f62a6-aeff-48eb-889f-913792309a97 button.colab-df-convert');\n",
              "        buttonEl.style.display =\n",
              "          google.colab.kernel.accessAllowed ? 'block' : 'none';\n",
              "\n",
              "        async function convertToInteractive(key) {\n",
              "          const element = document.querySelector('#df-1f2f62a6-aeff-48eb-889f-913792309a97');\n",
              "          const dataTable =\n",
              "            await google.colab.kernel.invokeFunction('convertToInteractive',\n",
              "                                                     [key], {});\n",
              "          if (!dataTable) return;\n",
              "\n",
              "          const docLinkHtml = 'Like what you see? Visit the ' +\n",
              "            '<a target=\"_blank\" href=https://colab.research.google.com/notebooks/data_table.ipynb>data table notebook</a>'\n",
              "            + ' to learn more about interactive tables.';\n",
              "          element.innerHTML = '';\n",
              "          dataTable['output_type'] = 'display_data';\n",
              "          await google.colab.output.renderOutput(dataTable, element);\n",
              "          const docLink = document.createElement('div');\n",
              "          docLink.innerHTML = docLinkHtml;\n",
              "          element.appendChild(docLink);\n",
              "        }\n",
              "      </script>\n",
              "    </div>\n",
              "  </div>\n",
              "  "
            ],
            "text/plain": [
              "               0  ...                                                  2\n",
              "0     image_name  ...                                         comments_5\n",
              "1     1000092795  ...  0    | Two young guys with shaggy hair look at...\n",
              "2       10002456  ...  5    Several men in hard hats are operating a ...\n",
              "3     1000268201  ...  10    | A child in a pink dress is climbing up...\n",
              "4     1000344755  ...  15    | Someone in a blue shirt and hat is sta...\n",
              "...          ...  ...                                                ...\n",
              "1995  1558848564  ...  9810    | An intricate gold design is the back...\n",
              "1996  1558872760  ...  9815    | A man in a pullover sweater is smili...\n",
              "1997  1559295897  ...  9820    | A man is standing on mossy ground ne...\n",
              "1998  1559709077  ...  9825    | A man attempts to fix a bike wheel o...\n",
              "1999  1559931223  ...  9830    | A large crowd is assembled on an out...\n",
              "\n",
              "[2000 rows x 3 columns]"
            ]
          },
          "metadata": {},
          "execution_count": 9
        }
      ],
      "source": [
        "df_im"
      ]
    },
    {
      "cell_type": "code",
      "execution_count": 10,
      "id": "7e7798e5",
      "metadata": {
        "id": "7e7798e5"
      },
      "outputs": [],
      "source": [
        "#uncomment for notebook\n",
        "#images = df_im['image_name']\n",
        "#titles = df_im['longest_comment']\n",
        "\n",
        "#uncomment for colab\n",
        "images = df_im[0][1:]"
      ]
    },
    {
      "cell_type": "code",
      "execution_count": 11,
      "id": "0488f68b",
      "metadata": {
        "id": "0488f68b"
      },
      "outputs": [],
      "source": [
        "images = list(images)"
      ]
    },
    {
      "cell_type": "code",
      "source": [
        "images[0]"
      ],
      "metadata": {
        "id": "MrSKUDSuAEVq",
        "colab": {
          "base_uri": "https://localhost:8080/",
          "height": 35
        },
        "outputId": "e9122830-e428-4268-a735-4e9143bf458f"
      },
      "id": "MrSKUDSuAEVq",
      "execution_count": 12,
      "outputs": [
        {
          "output_type": "execute_result",
          "data": {
            "application/vnd.google.colaboratory.intrinsic+json": {
              "type": "string"
            },
            "text/plain": [
              "'1000092795'"
            ]
          },
          "metadata": {},
          "execution_count": 12
        }
      ]
    },
    {
      "cell_type": "code",
      "source": [
        "!pip install pillow==4.1.1"
      ],
      "metadata": {
        "colab": {
          "base_uri": "https://localhost:8080/"
        },
        "id": "j-0piJ6sQVfz",
        "outputId": "001d2667-e710-480c-e8aa-cf304ea2fd07"
      },
      "id": "j-0piJ6sQVfz",
      "execution_count": 13,
      "outputs": [
        {
          "output_type": "stream",
          "name": "stdout",
          "text": [
            "Requirement already satisfied: pillow==4.1.1 in /usr/local/lib/python3.7/dist-packages (4.1.1)\n",
            "Requirement already satisfied: olefile in /usr/local/lib/python3.7/dist-packages (from pillow==4.1.1) (0.46)\n"
          ]
        }
      ]
    },
    {
      "cell_type": "code",
      "execution_count": 14,
      "id": "f5376b0d",
      "metadata": {
        "id": "f5376b0d"
      },
      "outputs": [],
      "source": [
        "data = {\n",
        "    'flattenPhoto' : []\n",
        "    }"
      ]
    },
    {
      "cell_type": "code",
      "execution_count": 15,
      "id": "22391f30",
      "metadata": {
        "collapsed": true,
        "id": "22391f30"
      },
      "outputs": [],
      "source": [
        "MyModel = tf.keras.models.Sequential()\n",
        "MyModel.add(tf.keras.applications.ResNet50(\n",
        "    include_top = True, weights=None,pooling=None,classes = 5, classifier_activation = 'softmax'\n",
        "))\n",
        "MyModel.layers[0].trainable = False"
      ]
    },
    {
      "cell_type": "code",
      "execution_count": 16,
      "id": "b8d4619c",
      "metadata": {
        "id": "b8d4619c"
      },
      "outputs": [],
      "source": [
        "def LoadDataAndDoEssentials(path, h, w):\n",
        "    img = mpimg.imread(path)\n",
        "   # data['text'].append(pytesseract.image_to_string(img, config = conf))\n",
        "    img = cv2.resize(img, (h, w))\n",
        "    ## Expanding image dims so this represents 1 sample\n",
        "    img = np.expand_dims(img, 0)\n",
        "    img = tf.keras.applications.resnet50.preprocess_input(img)\n",
        "    extractedFeatures = MyModel.predict(img)\n",
        "    extractedFeatures = np.array(extractedFeatures)\n",
        "    data['flattenPhoto'].append(extractedFeatures.flatten())"
      ]
    },
    {
      "cell_type": "code",
      "execution_count": 17,
      "id": "88c0fec1",
      "metadata": {
        "id": "88c0fec1"
      },
      "outputs": [],
      "source": [
        "def ReadAndStoreMyImages(path):\n",
        "    for i in images:\n",
        "        imagePath = f\"{path}/{i}.jpg\"\n",
        "        LoadDataAndDoEssentials(imagePath, 224, 224)"
      ]
    },
    {
      "cell_type": "code",
      "execution_count": 18,
      "id": "8ae94bd6",
      "metadata": {
        "scrolled": true,
        "id": "8ae94bd6"
      },
      "outputs": [],
      "source": [
        "ReadAndStoreMyImages('image_dataset')"
      ]
    },
    {
      "cell_type": "code",
      "execution_count": 19,
      "id": "3ea6011a",
      "metadata": {
        "id": "3ea6011a",
        "colab": {
          "base_uri": "https://localhost:8080/"
        },
        "outputId": "81b6471d-77ab-47e3-a150-d9341928714b"
      },
      "outputs": [
        {
          "output_type": "execute_result",
          "data": {
            "text/plain": [
              "AgglomerativeClustering(n_clusters=5)"
            ]
          },
          "metadata": {},
          "execution_count": 19
        }
      ],
      "source": [
        "Training_Feature_vector = np.array(data['flattenPhoto'], dtype = 'float64')\n",
        "from sklearn.cluster import AgglomerativeClustering\n",
        "kmeans = AgglomerativeClustering(n_clusters = 5)\n",
        "kmeans.fit(Training_Feature_vector)"
      ]
    },
    {
      "cell_type": "code",
      "source": [
        "import itertools\n",
        "import re\n",
        "from sklearn.decomposition import LatentDirichletAllocation\n",
        "from sklearn.feature_extraction.text import CountVectorizer,TfidfVectorizer\n",
        "import string\n",
        "from sklearn.neighbors import NearestNeighbors"
      ],
      "metadata": {
        "id": "-43szXelGpZe"
      },
      "id": "-43szXelGpZe",
      "execution_count": 20,
      "outputs": []
    },
    {
      "cell_type": "code",
      "source": [
        "tags_list = quotes.category.to_list()\n",
        "number_of_tags = []\n",
        "for i in tags_list:\n",
        "    number_of_tags.append(len(str(i).split(',')))"
      ],
      "metadata": {
        "id": "B5sAzK99GFwB"
      },
      "id": "B5sAzK99GFwB",
      "execution_count": 21,
      "outputs": []
    },
    {
      "cell_type": "code",
      "source": [
        "quotes['quotes_length'] = quotes['quote'].copy()\n",
        "for index, row in quotes.iterrows():\n",
        "    quotes.loc[index, \"quotes_length\"] = len(str(row['quotes_length']).split(' '))"
      ],
      "metadata": {
        "id": "VYz2rEMrGKoQ"
      },
      "id": "VYz2rEMrGKoQ",
      "execution_count": 22,
      "outputs": []
    },
    {
      "cell_type": "code",
      "source": [
        "for index, row in quotes.iterrows():\n",
        "    quotes.loc[index, \"category\"] = str(row['category']).lower().replace('-',', ')"
      ],
      "metadata": {
        "id": "0bAFMXsMGOJl"
      },
      "id": "0bAFMXsMGOJl",
      "execution_count": 23,
      "outputs": []
    },
    {
      "cell_type": "code",
      "source": [
        "quotes['list_tags'] = quotes['category'].copy()\n",
        "for index,row in quotes.iterrows():\n",
        "    quotes.loc[index, 'count_tags'] = len(str(row['list_tags']).split(','))\n",
        "quotes.count_tags.describe()"
      ],
      "metadata": {
        "id": "fLGtO7mnGRdZ",
        "colab": {
          "base_uri": "https://localhost:8080/"
        },
        "outputId": "1e0bf128-3f4d-499c-9aa6-a11ceb9dc1d9"
      },
      "id": "fLGtO7mnGRdZ",
      "execution_count": 24,
      "outputs": [
        {
          "output_type": "execute_result",
          "data": {
            "text/plain": [
              "count    156656.000000\n",
              "mean          9.747638\n",
              "std          15.356019\n",
              "min           1.000000\n",
              "25%           3.000000\n",
              "50%           5.000000\n",
              "75%          11.000000\n",
              "max         568.000000\n",
              "Name: count_tags, dtype: float64"
            ]
          },
          "metadata": {},
          "execution_count": 24
        }
      ]
    },
    {
      "cell_type": "code",
      "source": [
        "for index,row in quotes.iterrows():\n",
        "    quotes.at[index, 'list_tags'] = str(row['list_tags']).split(',')"
      ],
      "metadata": {
        "id": "5BeChbcdGWov"
      },
      "id": "5BeChbcdGWov",
      "execution_count": 25,
      "outputs": []
    },
    {
      "cell_type": "code",
      "source": [
        "for index,row in quotes.iterrows():\n",
        "    quotes.at[index, 'list_tags'] = str(set(row['list_tags']))"
      ],
      "metadata": {
        "id": "Ts1F2ocMGcjU"
      },
      "id": "Ts1F2ocMGcjU",
      "execution_count": 26,
      "outputs": []
    },
    {
      "cell_type": "code",
      "source": [
        "def remove_punctuations(text):\n",
        "    for punctuation in string.punctuation:\n",
        "        text = text.replace(punctuation, '')\n",
        "    return text\n",
        "quotes['list_tags'] = quotes['list_tags'].apply(remove_punctuations)"
      ],
      "metadata": {
        "id": "9vSu-WccGgON"
      },
      "id": "9vSu-WccGgON",
      "execution_count": 27,
      "outputs": []
    },
    {
      "cell_type": "code",
      "source": [
        "vectorizer = TfidfVectorizer()\n",
        "tags_vectorized = vectorizer.fit_transform(quotes['list_tags'])\n",
        "dummy_tags = LatentDirichletAllocation(n_components=5)\n",
        "lda_vectors = dummy_tags.fit_transform(tags_vectorized)"
      ],
      "metadata": {
        "id": "LppoqEn0Gwk1"
      },
      "id": "LppoqEn0Gwk1",
      "execution_count": 28,
      "outputs": []
    },
    {
      "cell_type": "code",
      "source": [
        "def print_topics(model, vectorizer):\n",
        "    for idx, topic in enumerate(model.components_):\n",
        "        print(\"Topic %d:\" % (idx))\n",
        "        print([(vectorizer.get_feature_names()[i], topic[i])\n",
        "                        for i in topic.argsort()[:-10 - 1:-1]])\n",
        "        \n",
        "\n",
        "print_topics(dummy_tags, vectorizer.fit(quotes['list_tags']))"
      ],
      "metadata": {
        "id": "mJ2csfr1Gz9u",
        "colab": {
          "base_uri": "https://localhost:8080/"
        },
        "outputId": "c25b2be4-c715-4192-e2c1-38980711c557"
      },
      "id": "mJ2csfr1Gz9u",
      "execution_count": 29,
      "outputs": [
        {
          "output_type": "stream",
          "name": "stdout",
          "text": [
            "Topic 0:\n",
            "[('writing', 2110.118945066754), ('books', 1739.6072374808246), ('reading', 1380.5275545811069), ('art', 1282.710763623983), ('fiction', 1194.2272990114252), ('fantasy', 1062.4589465068652), ('reality', 847.6464149532063), ('time', 724.9720627800127), ('life', 622.5119109918444), ('purpose', 527.8086459018217)]\n",
            "Topic 1:\n"
          ]
        },
        {
          "output_type": "stream",
          "name": "stderr",
          "text": [
            "/usr/local/lib/python3.7/dist-packages/sklearn/utils/deprecation.py:87: FutureWarning: Function get_feature_names is deprecated; get_feature_names is deprecated in 1.0 and will be removed in 1.2. Please use get_feature_names_out instead.\n",
            "  warnings.warn(msg, category=FutureWarning)\n"
          ]
        },
        {
          "output_type": "stream",
          "name": "stdout",
          "text": [
            "[('love', 3060.338668681086), ('inspirational', 3004.625088341231), ('life', 2394.5640862390956), ('quotes', 2094.438263662221), ('poetry', 1959.7887611292906), ('wisdom', 1891.2384935177704), ('death', 1705.900570018319), ('truth', 1662.0226207694263), ('happiness', 1561.136097072007), ('philosophy', 1524.6511157460623)]\n",
            "Topic 2:\n",
            "[('humor', 2062.4646626282934), ('religion', 1597.915948192159), ('humour', 1214.6977839972133), ('feminism', 1208.0002185386652), ('politics', 1199.9976265102855), ('marriage', 1143.5940707188379), ('christianity', 1078.5755532389778), ('science', 1060.4424082150624), ('god', 1056.4945906099629), ('friendship', 991.8847383103218)]\n",
            "Topic 3:\n",
            "[('romance', 1427.0193553554193), ('sex', 1071.8149655445593), ('love', 817.3544213955707), ('women', 643.6739017428573), ('beauty', 639.429166849138), ('inspiration', 635.9055981839595), ('dreams', 559.0523255303863), ('humor', 446.20961572474664), ('motivation', 303.12095870630696), ('funny', 295.4766321112513)]\n",
            "Topic 4:\n",
            "[('life', 2451.4600011528105), ('inspirational', 2338.291640095098), ('quotes', 2078.573456607346), ('self', 1638.555331567795), ('motivational', 1620.4377266706333), ('debasish', 1314.5493152889119), ('success', 1185.3325210844796), ('lessons', 1156.8804746963385), ('of', 1134.5325822552004), ('philosophy', 1083.187083804916)]\n"
          ]
        }
      ]
    },
    {
      "cell_type": "code",
      "source": [
        "df_im = df_im.rename(\n",
        "    columns={0:\"image_name\",\n",
        "                1:\"longest_comment\",\n",
        "                2:\"comments_5\"}\n",
        ")\n"
      ],
      "metadata": {
        "id": "Kuts4rvIZNMI"
      },
      "id": "Kuts4rvIZNMI",
      "execution_count": 30,
      "outputs": []
    },
    {
      "cell_type": "code",
      "source": [
        "title = df_im['longest_comment'][1:]"
      ],
      "metadata": {
        "id": "G5_S-WN6d5O5"
      },
      "id": "G5_S-WN6d5O5",
      "execution_count": 31,
      "outputs": []
    },
    {
      "cell_type": "code",
      "source": [
        "title[1999]"
      ],
      "metadata": {
        "colab": {
          "base_uri": "https://localhost:8080/",
          "height": 35
        },
        "id": "WOxrZbrdkf4B",
        "outputId": "765ef343-4ec3-4868-f30f-1fb15c036f6e"
      },
      "id": "WOxrZbrdkf4B",
      "execution_count": 32,
      "outputs": [
        {
          "output_type": "execute_result",
          "data": {
            "application/vnd.google.colaboratory.intrinsic+json": {
              "type": "string"
            },
            "text/plain": [
              "' A large crowd is assembled on an outdoor street scene , with toy balloons visible and a woman walking a pink bicyc'"
            ]
          },
          "metadata": {},
          "execution_count": 32
        }
      ]
    },
    {
      "cell_type": "code",
      "source": [
        "titles = []\n",
        "for i in range(1,2000):\n",
        "  titles.append(title[i])"
      ],
      "metadata": {
        "id": "-_3KQSd6j-d_"
      },
      "id": "-_3KQSd6j-d_",
      "execution_count": 33,
      "outputs": []
    },
    {
      "cell_type": "code",
      "source": [
        "titles[195]"
      ],
      "metadata": {
        "colab": {
          "base_uri": "https://localhost:8080/",
          "height": 35
        },
        "id": "g_qSn3c0k1l6",
        "outputId": "e08eef44-8644-4eff-d359-7cb8dc66cdee"
      },
      "id": "g_qSn3c0k1l6",
      "execution_count": 34,
      "outputs": [
        {
          "output_type": "execute_result",
          "data": {
            "application/vnd.google.colaboratory.intrinsic+json": {
              "type": "string"
            },
            "text/plain": [
              "'A boy in a pink T-shirt is riding a bike over a sand pile while two others are riding in the street .'"
            ]
          },
          "metadata": {},
          "execution_count": 34
        }
      ]
    },
    {
      "cell_type": "code",
      "source": [
        "Class_of_image = []\n",
        "for topic in titles:\n",
        "  test_vectorized = vectorizer.transform([topic])\n",
        "  lda_vectors_test = dummy_tags.transform(test_vectorized)\n",
        "  Class_of_image.append(np.where(lda_vectors_test[0] == max(lda_vectors_test[0]))[0][0])"
      ],
      "metadata": {
        "id": "CfOXnmJOlv9k"
      },
      "id": "CfOXnmJOlv9k",
      "execution_count": 35,
      "outputs": []
    },
    {
      "cell_type": "code",
      "source": [
        "Class_of_image"
      ],
      "metadata": {
        "id": "VCC6ETcyrf4r"
      },
      "id": "VCC6ETcyrf4r",
      "execution_count": null,
      "outputs": []
    },
    {
      "cell_type": "code",
      "source": [
        "'''test_sad = [\"I am so sad and I want to cry.\"]\n",
        "test_sad_vectorized = vectorizer.transform(test_sad)\n",
        "\n",
        "lda_vectors_sad = dummy_tags.transform(test_sad_vectorized)\n",
        "\n",
        "print(\"topic 0 :\", lda_vectors_sad[0][0])\n",
        "print(\"topic 1 :\", lda_vectors_sad[0][1])\n",
        "print(\"topic 2 :\", lda_vectors_sad[0][2])\n",
        "print(\"topic 3 :\", lda_vectors_sad[0][3])\n",
        "print(\"topic 4 :\", lda_vectors_sad[0][4])\n",
        "print('Best topic:', np.where(lda_vectors_sad[0] == max(lda_vectors_sad[0]))[0])'''\n"
      ],
      "metadata": {
        "colab": {
          "base_uri": "https://localhost:8080/",
          "height": 70
        },
        "id": "xn4-ZgU0l8KY",
        "outputId": "9a00fd75-65de-45d3-8243-a9b474d04dab"
      },
      "id": "xn4-ZgU0l8KY",
      "execution_count": 37,
      "outputs": [
        {
          "output_type": "execute_result",
          "data": {
            "application/vnd.google.colaboratory.intrinsic+json": {
              "type": "string"
            },
            "text/plain": [
              "'test_sad = [\"I am so sad and I want to cry.\"]\\ntest_sad_vectorized = vectorizer.transform(test_sad)\\n\\nlda_vectors_sad = dummy_tags.transform(test_sad_vectorized)\\n\\nprint(\"topic 0 :\", lda_vectors_sad[0][0])\\nprint(\"topic 1 :\", lda_vectors_sad[0][1])\\nprint(\"topic 2 :\", lda_vectors_sad[0][2])\\nprint(\"topic 3 :\", lda_vectors_sad[0][3])\\nprint(\"topic 4 :\", lda_vectors_sad[0][4])\\nprint(\\'Best topic:\\', np.where(lda_vectors_sad[0] == max(lda_vectors_sad[0]))[0])'"
            ]
          },
          "metadata": {},
          "execution_count": 37
        }
      ]
    },
    {
      "cell_type": "code",
      "source": [
        "df_im = df_im.iloc[1: , :]"
      ],
      "metadata": {
        "id": "W42Xx0fJHIfR"
      },
      "id": "W42Xx0fJHIfR",
      "execution_count": 38,
      "outputs": []
    },
    {
      "cell_type": "code",
      "source": [
        "df_im['Class_of_image'] = np.array(Class_of_image)"
      ],
      "metadata": {
        "colab": {
          "base_uri": "https://localhost:8080/"
        },
        "id": "uJYz3UsuumF2",
        "outputId": "bfb97a21-8ab4-4f1f-fc22-dd3db73c4342"
      },
      "id": "uJYz3UsuumF2",
      "execution_count": 39,
      "outputs": [
        {
          "output_type": "stream",
          "name": "stderr",
          "text": [
            "/usr/local/lib/python3.7/dist-packages/ipykernel_launcher.py:1: SettingWithCopyWarning: \n",
            "A value is trying to be set on a copy of a slice from a DataFrame.\n",
            "Try using .loc[row_indexer,col_indexer] = value instead\n",
            "\n",
            "See the caveats in the documentation: https://pandas.pydata.org/pandas-docs/stable/user_guide/indexing.html#returning-a-view-versus-a-copy\n",
            "  \"\"\"Entry point for launching an IPython kernel.\n"
          ]
        }
      ]
    },
    {
      "cell_type": "code",
      "source": [
        "df_im['Class_of_image'].nunique()"
      ],
      "metadata": {
        "colab": {
          "base_uri": "https://localhost:8080/"
        },
        "id": "M4gY7cfAvTHl",
        "outputId": "4b0bec63-1f42-4d9d-f4da-9cacebf9089e"
      },
      "id": "M4gY7cfAvTHl",
      "execution_count": 40,
      "outputs": [
        {
          "output_type": "execute_result",
          "data": {
            "text/plain": [
              "5"
            ]
          },
          "metadata": {},
          "execution_count": 40
        }
      ]
    },
    {
      "cell_type": "code",
      "source": [
        "df_im['Class_of_image'] = df_im['Class_of_image'].replace([0,1,2,3,4],['topic_0','topic_1','topic_2','topic_3','topic_4'])"
      ],
      "metadata": {
        "colab": {
          "base_uri": "https://localhost:8080/"
        },
        "id": "Kbszd0KeuySm",
        "outputId": "c6309f47-8ada-408a-f42e-29956dbee068"
      },
      "id": "Kbszd0KeuySm",
      "execution_count": 41,
      "outputs": [
        {
          "output_type": "stream",
          "name": "stderr",
          "text": [
            "/usr/local/lib/python3.7/dist-packages/ipykernel_launcher.py:1: SettingWithCopyWarning: \n",
            "A value is trying to be set on a copy of a slice from a DataFrame.\n",
            "Try using .loc[row_indexer,col_indexer] = value instead\n",
            "\n",
            "See the caveats in the documentation: https://pandas.pydata.org/pandas-docs/stable/user_guide/indexing.html#returning-a-view-versus-a-copy\n",
            "  \"\"\"Entry point for launching an IPython kernel.\n"
          ]
        }
      ]
    },
    {
      "cell_type": "code",
      "source": [
        "df_im['cat'] = df_im['Class_of_image'].replace(['topic_0','topic_1','topic_2','topic_3','topic_4'],[0,1,2,3,4])"
      ],
      "metadata": {
        "colab": {
          "base_uri": "https://localhost:8080/"
        },
        "id": "3eUch8T54NnD",
        "outputId": "661d057d-ac80-44af-c9c5-67ac05d9ca21"
      },
      "id": "3eUch8T54NnD",
      "execution_count": 42,
      "outputs": [
        {
          "output_type": "stream",
          "name": "stderr",
          "text": [
            "/usr/local/lib/python3.7/dist-packages/ipykernel_launcher.py:1: SettingWithCopyWarning: \n",
            "A value is trying to be set on a copy of a slice from a DataFrame.\n",
            "Try using .loc[row_indexer,col_indexer] = value instead\n",
            "\n",
            "See the caveats in the documentation: https://pandas.pydata.org/pandas-docs/stable/user_guide/indexing.html#returning-a-view-versus-a-copy\n",
            "  \"\"\"Entry point for launching an IPython kernel.\n"
          ]
        }
      ]
    },
    {
      "cell_type": "code",
      "source": [
        "df_im"
      ],
      "metadata": {
        "colab": {
          "base_uri": "https://localhost:8080/",
          "height": 423
        },
        "id": "bB5zVZzyvs23",
        "outputId": "ea66f193-9eba-4083-ae1b-bd0d1c102fd9"
      },
      "id": "bB5zVZzyvs23",
      "execution_count": 43,
      "outputs": [
        {
          "output_type": "execute_result",
          "data": {
            "text/html": [
              "\n",
              "  <div id=\"df-ae48c633-9d61-475f-96ab-f0b1950237bf\">\n",
              "    <div class=\"colab-df-container\">\n",
              "      <div>\n",
              "<style scoped>\n",
              "    .dataframe tbody tr th:only-of-type {\n",
              "        vertical-align: middle;\n",
              "    }\n",
              "\n",
              "    .dataframe tbody tr th {\n",
              "        vertical-align: top;\n",
              "    }\n",
              "\n",
              "    .dataframe thead th {\n",
              "        text-align: right;\n",
              "    }\n",
              "</style>\n",
              "<table border=\"1\" class=\"dataframe\">\n",
              "  <thead>\n",
              "    <tr style=\"text-align: right;\">\n",
              "      <th></th>\n",
              "      <th>image_name</th>\n",
              "      <th>longest_comment</th>\n",
              "      <th>comments_5</th>\n",
              "      <th>Class_of_image</th>\n",
              "      <th>cat</th>\n",
              "    </tr>\n",
              "  </thead>\n",
              "  <tbody>\n",
              "    <tr>\n",
              "      <th>1</th>\n",
              "      <td>1000092795</td>\n",
              "      <td>Two young guys with shaggy hair look at their ...</td>\n",
              "      <td>0    | Two young guys with shaggy hair look at...</td>\n",
              "      <td>topic_3</td>\n",
              "      <td>3</td>\n",
              "    </tr>\n",
              "    <tr>\n",
              "      <th>2</th>\n",
              "      <td>10002456</td>\n",
              "      <td>Several men in hard hats are operating a giant...</td>\n",
              "      <td>5    Several men in hard hats are operating a ...</td>\n",
              "      <td>topic_4</td>\n",
              "      <td>4</td>\n",
              "    </tr>\n",
              "    <tr>\n",
              "      <th>3</th>\n",
              "      <td>1000268201</td>\n",
              "      <td>A child in a pink dress is climbing up a set o...</td>\n",
              "      <td>10    | A child in a pink dress is climbing up...</td>\n",
              "      <td>topic_4</td>\n",
              "      <td>4</td>\n",
              "    </tr>\n",
              "    <tr>\n",
              "      <th>4</th>\n",
              "      <td>1000344755</td>\n",
              "      <td>Someone in a blue shirt and hat is standing on...</td>\n",
              "      <td>15    | Someone in a blue shirt and hat is sta...</td>\n",
              "      <td>topic_2</td>\n",
              "      <td>2</td>\n",
              "    </tr>\n",
              "    <tr>\n",
              "      <th>5</th>\n",
              "      <td>1000366164</td>\n",
              "      <td>Two men , one in a gray shirt , one in a blac...</td>\n",
              "      <td>20    | Two men , one in a gray shirt , one in...</td>\n",
              "      <td>topic_3</td>\n",
              "      <td>3</td>\n",
              "    </tr>\n",
              "    <tr>\n",
              "      <th>...</th>\n",
              "      <td>...</td>\n",
              "      <td>...</td>\n",
              "      <td>...</td>\n",
              "      <td>...</td>\n",
              "      <td>...</td>\n",
              "    </tr>\n",
              "    <tr>\n",
              "      <th>1995</th>\n",
              "      <td>1558848564</td>\n",
              "      <td>An intricate gold design is the backdrop to a...</td>\n",
              "      <td>9810    | An intricate gold design is the back...</td>\n",
              "      <td>topic_0</td>\n",
              "      <td>0</td>\n",
              "    </tr>\n",
              "    <tr>\n",
              "      <th>1996</th>\n",
              "      <td>1558872760</td>\n",
              "      <td>A man in a pullover sweater is smiling as he h...</td>\n",
              "      <td>9815    | A man in a pullover sweater is smili...</td>\n",
              "      <td>topic_3</td>\n",
              "      <td>3</td>\n",
              "    </tr>\n",
              "    <tr>\n",
              "      <th>1997</th>\n",
              "      <td>1559295897</td>\n",
              "      <td>A man is standing on mossy ground next to a c...</td>\n",
              "      <td>9820    | A man is standing on mossy ground ne...</td>\n",
              "      <td>topic_4</td>\n",
              "      <td>4</td>\n",
              "    </tr>\n",
              "    <tr>\n",
              "      <th>1998</th>\n",
              "      <td>1559709077</td>\n",
              "      <td>A man attempts to fix a bike wheel on the side...</td>\n",
              "      <td>9825    | A man attempts to fix a bike wheel o...</td>\n",
              "      <td>topic_4</td>\n",
              "      <td>4</td>\n",
              "    </tr>\n",
              "    <tr>\n",
              "      <th>1999</th>\n",
              "      <td>1559931223</td>\n",
              "      <td>A large crowd is assembled on an outdoor stre...</td>\n",
              "      <td>9830    | A large crowd is assembled on an out...</td>\n",
              "      <td>topic_4</td>\n",
              "      <td>4</td>\n",
              "    </tr>\n",
              "  </tbody>\n",
              "</table>\n",
              "<p>1999 rows × 5 columns</p>\n",
              "</div>\n",
              "      <button class=\"colab-df-convert\" onclick=\"convertToInteractive('df-ae48c633-9d61-475f-96ab-f0b1950237bf')\"\n",
              "              title=\"Convert this dataframe to an interactive table.\"\n",
              "              style=\"display:none;\">\n",
              "        \n",
              "  <svg xmlns=\"http://www.w3.org/2000/svg\" height=\"24px\"viewBox=\"0 0 24 24\"\n",
              "       width=\"24px\">\n",
              "    <path d=\"M0 0h24v24H0V0z\" fill=\"none\"/>\n",
              "    <path d=\"M18.56 5.44l.94 2.06.94-2.06 2.06-.94-2.06-.94-.94-2.06-.94 2.06-2.06.94zm-11 1L8.5 8.5l.94-2.06 2.06-.94-2.06-.94L8.5 2.5l-.94 2.06-2.06.94zm10 10l.94 2.06.94-2.06 2.06-.94-2.06-.94-.94-2.06-.94 2.06-2.06.94z\"/><path d=\"M17.41 7.96l-1.37-1.37c-.4-.4-.92-.59-1.43-.59-.52 0-1.04.2-1.43.59L10.3 9.45l-7.72 7.72c-.78.78-.78 2.05 0 2.83L4 21.41c.39.39.9.59 1.41.59.51 0 1.02-.2 1.41-.59l7.78-7.78 2.81-2.81c.8-.78.8-2.07 0-2.86zM5.41 20L4 18.59l7.72-7.72 1.47 1.35L5.41 20z\"/>\n",
              "  </svg>\n",
              "      </button>\n",
              "      \n",
              "  <style>\n",
              "    .colab-df-container {\n",
              "      display:flex;\n",
              "      flex-wrap:wrap;\n",
              "      gap: 12px;\n",
              "    }\n",
              "\n",
              "    .colab-df-convert {\n",
              "      background-color: #E8F0FE;\n",
              "      border: none;\n",
              "      border-radius: 50%;\n",
              "      cursor: pointer;\n",
              "      display: none;\n",
              "      fill: #1967D2;\n",
              "      height: 32px;\n",
              "      padding: 0 0 0 0;\n",
              "      width: 32px;\n",
              "    }\n",
              "\n",
              "    .colab-df-convert:hover {\n",
              "      background-color: #E2EBFA;\n",
              "      box-shadow: 0px 1px 2px rgba(60, 64, 67, 0.3), 0px 1px 3px 1px rgba(60, 64, 67, 0.15);\n",
              "      fill: #174EA6;\n",
              "    }\n",
              "\n",
              "    [theme=dark] .colab-df-convert {\n",
              "      background-color: #3B4455;\n",
              "      fill: #D2E3FC;\n",
              "    }\n",
              "\n",
              "    [theme=dark] .colab-df-convert:hover {\n",
              "      background-color: #434B5C;\n",
              "      box-shadow: 0px 1px 3px 1px rgba(0, 0, 0, 0.15);\n",
              "      filter: drop-shadow(0px 1px 2px rgba(0, 0, 0, 0.3));\n",
              "      fill: #FFFFFF;\n",
              "    }\n",
              "  </style>\n",
              "\n",
              "      <script>\n",
              "        const buttonEl =\n",
              "          document.querySelector('#df-ae48c633-9d61-475f-96ab-f0b1950237bf button.colab-df-convert');\n",
              "        buttonEl.style.display =\n",
              "          google.colab.kernel.accessAllowed ? 'block' : 'none';\n",
              "\n",
              "        async function convertToInteractive(key) {\n",
              "          const element = document.querySelector('#df-ae48c633-9d61-475f-96ab-f0b1950237bf');\n",
              "          const dataTable =\n",
              "            await google.colab.kernel.invokeFunction('convertToInteractive',\n",
              "                                                     [key], {});\n",
              "          if (!dataTable) return;\n",
              "\n",
              "          const docLinkHtml = 'Like what you see? Visit the ' +\n",
              "            '<a target=\"_blank\" href=https://colab.research.google.com/notebooks/data_table.ipynb>data table notebook</a>'\n",
              "            + ' to learn more about interactive tables.';\n",
              "          element.innerHTML = '';\n",
              "          dataTable['output_type'] = 'display_data';\n",
              "          await google.colab.output.renderOutput(dataTable, element);\n",
              "          const docLink = document.createElement('div');\n",
              "          docLink.innerHTML = docLinkHtml;\n",
              "          element.appendChild(docLink);\n",
              "        }\n",
              "      </script>\n",
              "    </div>\n",
              "  </div>\n",
              "  "
            ],
            "text/plain": [
              "      image_name  ... cat\n",
              "1     1000092795  ...   3\n",
              "2       10002456  ...   4\n",
              "3     1000268201  ...   4\n",
              "4     1000344755  ...   2\n",
              "5     1000366164  ...   3\n",
              "...          ...  ...  ..\n",
              "1995  1558848564  ...   0\n",
              "1996  1558872760  ...   3\n",
              "1997  1559295897  ...   4\n",
              "1998  1559709077  ...   4\n",
              "1999  1559931223  ...   4\n",
              "\n",
              "[1999 rows x 5 columns]"
            ]
          },
          "metadata": {},
          "execution_count": 43
        }
      ]
    },
    {
      "cell_type": "code",
      "execution_count": 44,
      "id": "680f9fab",
      "metadata": {
        "id": "680f9fab",
        "colab": {
          "base_uri": "https://localhost:8080/",
          "height": 334
        },
        "outputId": "ba065903-988e-48ca-c86d-9cc1529a1641"
      },
      "outputs": [
        {
          "output_type": "display_data",
          "data": {
            "image/png": "[encoded data removed]",
            "text/plain": [
              "<Figure size 720x360 with 1 Axes>"
            ]
          },
          "metadata": {
            "needs_background": "light"
          }
        }
      ],
      "source": [
        "dimReducedDataFrame = pd.DataFrame(Training_Feature_vector)\n",
        "dimReducedDataFrame = dimReducedDataFrame.rename(columns = { 0: 'V1', 1 : 'V2', 2 :'V3', 3 : 'V4',4: 'V5'})\n",
        "dimReducedDataFrame['Category'] = list (df_im['Class_of_image'])\n",
        "plt.figure(figsize = (10, 5))\n",
        "sb.scatterplot(data = dimReducedDataFrame, x = 'V1', y = 'V2',hue = 'Category')\n",
        "plt.grid(True)\n",
        "plt.show()"
      ]
    },
    {
      "cell_type": "code",
      "execution_count": 45,
      "id": "f060ec1c",
      "metadata": {
        "id": "f060ec1c",
        "colab": {
          "base_uri": "https://localhost:8080/"
        },
        "outputId": "a5600c82-4951-4afe-ce15-95e380bb35dc"
      },
      "outputs": [
        {
          "output_type": "execute_result",
          "data": {
            "text/plain": [
              "1999"
            ]
          },
          "metadata": {},
          "execution_count": 45
        }
      ],
      "source": [
        "len(data['flattenPhoto'])"
      ]
    },
    {
      "cell_type": "code",
      "execution_count": 46,
      "id": "3a9e34f5",
      "metadata": {
        "id": "3a9e34f5",
        "colab": {
          "base_uri": "https://localhost:8080/",
          "height": 423
        },
        "outputId": "432398c1-1870-4e56-c53c-f6d3a4d1c271"
      },
      "outputs": [
        {
          "output_type": "execute_result",
          "data": {
            "text/html": [
              "\n",
              "  <div id=\"df-40859b35-f5d8-4aab-8a71-c58e02439d1a\">\n",
              "    <div class=\"colab-df-container\">\n",
              "      <div>\n",
              "<style scoped>\n",
              "    .dataframe tbody tr th:only-of-type {\n",
              "        vertical-align: middle;\n",
              "    }\n",
              "\n",
              "    .dataframe tbody tr th {\n",
              "        vertical-align: top;\n",
              "    }\n",
              "\n",
              "    .dataframe thead th {\n",
              "        text-align: right;\n",
              "    }\n",
              "</style>\n",
              "<table border=\"1\" class=\"dataframe\">\n",
              "  <thead>\n",
              "    <tr style=\"text-align: right;\">\n",
              "      <th></th>\n",
              "      <th>V1</th>\n",
              "      <th>V2</th>\n",
              "      <th>V3</th>\n",
              "      <th>V4</th>\n",
              "      <th>V5</th>\n",
              "      <th>Category</th>\n",
              "    </tr>\n",
              "  </thead>\n",
              "  <tbody>\n",
              "    <tr>\n",
              "      <th>0</th>\n",
              "      <td>0.001542</td>\n",
              "      <td>0.002031</td>\n",
              "      <td>0.994001</td>\n",
              "      <td>0.002377</td>\n",
              "      <td>0.000049</td>\n",
              "      <td>topic_3</td>\n",
              "    </tr>\n",
              "    <tr>\n",
              "      <th>1</th>\n",
              "      <td>0.004653</td>\n",
              "      <td>0.001308</td>\n",
              "      <td>0.988234</td>\n",
              "      <td>0.005715</td>\n",
              "      <td>0.000089</td>\n",
              "      <td>topic_4</td>\n",
              "    </tr>\n",
              "    <tr>\n",
              "      <th>2</th>\n",
              "      <td>0.006600</td>\n",
              "      <td>0.009822</td>\n",
              "      <td>0.974112</td>\n",
              "      <td>0.008991</td>\n",
              "      <td>0.000475</td>\n",
              "      <td>topic_4</td>\n",
              "    </tr>\n",
              "    <tr>\n",
              "      <th>3</th>\n",
              "      <td>0.002347</td>\n",
              "      <td>0.001114</td>\n",
              "      <td>0.992131</td>\n",
              "      <td>0.004287</td>\n",
              "      <td>0.000121</td>\n",
              "      <td>topic_2</td>\n",
              "    </tr>\n",
              "    <tr>\n",
              "      <th>4</th>\n",
              "      <td>0.025046</td>\n",
              "      <td>0.008724</td>\n",
              "      <td>0.944598</td>\n",
              "      <td>0.020218</td>\n",
              "      <td>0.001415</td>\n",
              "      <td>topic_3</td>\n",
              "    </tr>\n",
              "    <tr>\n",
              "      <th>...</th>\n",
              "      <td>...</td>\n",
              "      <td>...</td>\n",
              "      <td>...</td>\n",
              "      <td>...</td>\n",
              "      <td>...</td>\n",
              "      <td>...</td>\n",
              "    </tr>\n",
              "    <tr>\n",
              "      <th>1994</th>\n",
              "      <td>0.002242</td>\n",
              "      <td>0.002146</td>\n",
              "      <td>0.992971</td>\n",
              "      <td>0.002520</td>\n",
              "      <td>0.000122</td>\n",
              "      <td>topic_0</td>\n",
              "    </tr>\n",
              "    <tr>\n",
              "      <th>1995</th>\n",
              "      <td>0.023886</td>\n",
              "      <td>0.014298</td>\n",
              "      <td>0.934003</td>\n",
              "      <td>0.024716</td>\n",
              "      <td>0.003097</td>\n",
              "      <td>topic_3</td>\n",
              "    </tr>\n",
              "    <tr>\n",
              "      <th>1996</th>\n",
              "      <td>0.004166</td>\n",
              "      <td>0.000510</td>\n",
              "      <td>0.991138</td>\n",
              "      <td>0.004094</td>\n",
              "      <td>0.000093</td>\n",
              "      <td>topic_4</td>\n",
              "    </tr>\n",
              "    <tr>\n",
              "      <th>1997</th>\n",
              "      <td>0.010285</td>\n",
              "      <td>0.005486</td>\n",
              "      <td>0.973632</td>\n",
              "      <td>0.009976</td>\n",
              "      <td>0.000621</td>\n",
              "      <td>topic_4</td>\n",
              "    </tr>\n",
              "    <tr>\n",
              "      <th>1998</th>\n",
              "      <td>0.002701</td>\n",
              "      <td>0.001147</td>\n",
              "      <td>0.993597</td>\n",
              "      <td>0.002506</td>\n",
              "      <td>0.000050</td>\n",
              "      <td>topic_4</td>\n",
              "    </tr>\n",
              "  </tbody>\n",
              "</table>\n",
              "<p>1999 rows × 6 columns</p>\n",
              "</div>\n",
              "      <button class=\"colab-df-convert\" onclick=\"convertToInteractive('df-40859b35-f5d8-4aab-8a71-c58e02439d1a')\"\n",
              "              title=\"Convert this dataframe to an interactive table.\"\n",
              "              style=\"display:none;\">\n",
              "        \n",
              "  <svg xmlns=\"http://www.w3.org/2000/svg\" height=\"24px\"viewBox=\"0 0 24 24\"\n",
              "       width=\"24px\">\n",
              "    <path d=\"M0 0h24v24H0V0z\" fill=\"none\"/>\n",
              "    <path d=\"M18.56 5.44l.94 2.06.94-2.06 2.06-.94-2.06-.94-.94-2.06-.94 2.06-2.06.94zm-11 1L8.5 8.5l.94-2.06 2.06-.94-2.06-.94L8.5 2.5l-.94 2.06-2.06.94zm10 10l.94 2.06.94-2.06 2.06-.94-2.06-.94-.94-2.06-.94 2.06-2.06.94z\"/><path d=\"M17.41 7.96l-1.37-1.37c-.4-.4-.92-.59-1.43-.59-.52 0-1.04.2-1.43.59L10.3 9.45l-7.72 7.72c-.78.78-.78 2.05 0 2.83L4 21.41c.39.39.9.59 1.41.59.51 0 1.02-.2 1.41-.59l7.78-7.78 2.81-2.81c.8-.78.8-2.07 0-2.86zM5.41 20L4 18.59l7.72-7.72 1.47 1.35L5.41 20z\"/>\n",
              "  </svg>\n",
              "      </button>\n",
              "      \n",
              "  <style>\n",
              "    .colab-df-container {\n",
              "      display:flex;\n",
              "      flex-wrap:wrap;\n",
              "      gap: 12px;\n",
              "    }\n",
              "\n",
              "    .colab-df-convert {\n",
              "      background-color: #E8F0FE;\n",
              "      border: none;\n",
              "      border-radius: 50%;\n",
              "      cursor: pointer;\n",
              "      display: none;\n",
              "      fill: #1967D2;\n",
              "      height: 32px;\n",
              "      padding: 0 0 0 0;\n",
              "      width: 32px;\n",
              "    }\n",
              "\n",
              "    .colab-df-convert:hover {\n",
              "      background-color: #E2EBFA;\n",
              "      box-shadow: 0px 1px 2px rgba(60, 64, 67, 0.3), 0px 1px 3px 1px rgba(60, 64, 67, 0.15);\n",
              "      fill: #174EA6;\n",
              "    }\n",
              "\n",
              "    [theme=dark] .colab-df-convert {\n",
              "      background-color: #3B4455;\n",
              "      fill: #D2E3FC;\n",
              "    }\n",
              "\n",
              "    [theme=dark] .colab-df-convert:hover {\n",
              "      background-color: #434B5C;\n",
              "      box-shadow: 0px 1px 3px 1px rgba(0, 0, 0, 0.15);\n",
              "      filter: drop-shadow(0px 1px 2px rgba(0, 0, 0, 0.3));\n",
              "      fill: #FFFFFF;\n",
              "    }\n",
              "  </style>\n",
              "\n",
              "      <script>\n",
              "        const buttonEl =\n",
              "          document.querySelector('#df-40859b35-f5d8-4aab-8a71-c58e02439d1a button.colab-df-convert');\n",
              "        buttonEl.style.display =\n",
              "          google.colab.kernel.accessAllowed ? 'block' : 'none';\n",
              "\n",
              "        async function convertToInteractive(key) {\n",
              "          const element = document.querySelector('#df-40859b35-f5d8-4aab-8a71-c58e02439d1a');\n",
              "          const dataTable =\n",
              "            await google.colab.kernel.invokeFunction('convertToInteractive',\n",
              "                                                     [key], {});\n",
              "          if (!dataTable) return;\n",
              "\n",
              "          const docLinkHtml = 'Like what you see? Visit the ' +\n",
              "            '<a target=\"_blank\" href=https://colab.research.google.com/notebooks/data_table.ipynb>data table notebook</a>'\n",
              "            + ' to learn more about interactive tables.';\n",
              "          element.innerHTML = '';\n",
              "          dataTable['output_type'] = 'display_data';\n",
              "          await google.colab.output.renderOutput(dataTable, element);\n",
              "          const docLink = document.createElement('div');\n",
              "          docLink.innerHTML = docLinkHtml;\n",
              "          element.appendChild(docLink);\n",
              "        }\n",
              "      </script>\n",
              "    </div>\n",
              "  </div>\n",
              "  "
            ],
            "text/plain": [
              "            V1        V2        V3        V4        V5 Category\n",
              "0     0.001542  0.002031  0.994001  0.002377  0.000049  topic_3\n",
              "1     0.004653  0.001308  0.988234  0.005715  0.000089  topic_4\n",
              "2     0.006600  0.009822  0.974112  0.008991  0.000475  topic_4\n",
              "3     0.002347  0.001114  0.992131  0.004287  0.000121  topic_2\n",
              "4     0.025046  0.008724  0.944598  0.020218  0.001415  topic_3\n",
              "...        ...       ...       ...       ...       ...      ...\n",
              "1994  0.002242  0.002146  0.992971  0.002520  0.000122  topic_0\n",
              "1995  0.023886  0.014298  0.934003  0.024716  0.003097  topic_3\n",
              "1996  0.004166  0.000510  0.991138  0.004094  0.000093  topic_4\n",
              "1997  0.010285  0.005486  0.973632  0.009976  0.000621  topic_4\n",
              "1998  0.002701  0.001147  0.993597  0.002506  0.000050  topic_4\n",
              "\n",
              "[1999 rows x 6 columns]"
            ]
          },
          "metadata": {},
          "execution_count": 46
        }
      ],
      "source": [
        "dimReducedDataFrame"
      ]
    },
    {
      "cell_type": "code",
      "source": [
        "from tensorflow.keras import Sequential, layers\n",
        "from tensorflow.keras.layers import Conv2D, MaxPooling2D, Flatten, Dropout, Dense\n",
        "\n",
        "def initialize_model():\n",
        "    \n",
        "    model = Sequential()\n",
        "    model.add(Conv2D(16, (3, 3), activation='relu', padding='same', input_shape=(244, 244,3)))\n",
        "    model.add(MaxPooling2D((2, 2)))\n",
        "    model.add(Dropout(0.2))\n",
        "    model.add(Conv2D(32, (3, 3), activation='relu', padding='same'))\n",
        "    model.add(MaxPooling2D((2, 2)))\n",
        "    model.add(Dropout(0.2))\n",
        "    model.add(Conv2D(64, (2, 2), activation='relu', padding='same'))\n",
        "    model.add(Dropout(0.3))\n",
        "    model.add(MaxPooling2D((2, 2)))\n",
        "    \n",
        "    model.add(Flatten())\n",
        "    model.add(Dense(100, activation='relu'))\n",
        "    model.add(Dropout(0.4))\n",
        "    model.add(Dense(5, activation='softmax'))\n",
        "    \n",
        "    return model"
      ],
      "metadata": {
        "id": "rhg-qisf1qPb"
      },
      "id": "rhg-qisf1qPb",
      "execution_count": 47,
      "outputs": []
    },
    {
      "cell_type": "code",
      "source": [
        "from tensorflow.keras import optimizers\n",
        "\n",
        "def compile_model(model):\n",
        "    model.compile(loss='categorical_crossentropy',\n",
        "                  optimizer='adam',\n",
        "                  metrics=['accuracy'])\n",
        "    return model"
      ],
      "metadata": {
        "id": "siOUobNg13Oo"
      },
      "id": "siOUobNg13Oo",
      "execution_count": 48,
      "outputs": []
    },
    {
      "cell_type": "code",
      "source": [
        "from tensorflow.keras.callbacks import EarlyStopping"
      ],
      "metadata": {
        "id": "5d313AXu2aEu"
      },
      "id": "5d313AXu2aEu",
      "execution_count": 49,
      "outputs": []
    },
    {
      "cell_type": "code",
      "source": [
        "from tensorflow.keras.utils import to_categorical\n",
        "labels_train = np.expand_dims(df_im['cat'],1)\n",
        "y_train = to_categorical(labels_train, 5)"
      ],
      "metadata": {
        "id": "h9bvBsVX250k"
      },
      "id": "h9bvBsVX250k",
      "execution_count": 65,
      "outputs": []
    },
    {
      "cell_type": "code",
      "source": [
        "def LoadData(path, h, w):\n",
        "    X = []\n",
        "    for i in images:\n",
        "        imagePath = f\"{path}/{i}.jpg\"\n",
        "        img = mpimg.imread(imagePath)\n",
        "        img = cv2.resize(img, (h, w))\n",
        "        img = tf.keras.applications.resnet50.preprocess_input(img)\n",
        "        X.append(img)\n",
        "    return np.array(X)"
      ],
      "metadata": {
        "id": "DKxTdtjoIdXU"
      },
      "id": "DKxTdtjoIdXU",
      "execution_count": 51,
      "outputs": []
    },
    {
      "cell_type": "code",
      "source": [
        "X_train = LoadData('image_dataset', 244, 244)"
      ],
      "metadata": {
        "id": "rX6myw4v1XHY"
      },
      "id": "rX6myw4v1XHY",
      "execution_count": 52,
      "outputs": []
    },
    {
      "cell_type": "code",
      "source": [
        "X_train.shape , y_train.shape"
      ],
      "metadata": {
        "colab": {
          "base_uri": "https://localhost:8080/"
        },
        "id": "lRDwasfaDpaT",
        "outputId": "e7845835-ac90-4afb-c18c-0d193a0667ae"
      },
      "id": "lRDwasfaDpaT",
      "execution_count": 66,
      "outputs": [
        {
          "output_type": "execute_result",
          "data": {
            "text/plain": [
              "((1999, 244, 244, 3), (1999, 5))"
            ]
          },
          "metadata": {},
          "execution_count": 66
        }
      ]
    },
    {
      "cell_type": "code",
      "source": [
        "model = initialize_model()\n",
        "model = compile_model(model)\n",
        "\n",
        "es = EarlyStopping(patience=5, verbose=2)\n",
        "\n",
        "history = model.fit(X_train, y_train, \n",
        "                        validation_split=0.3,\n",
        "                        callbacks=[es], \n",
        "                        epochs=100, \n",
        "                        batch_size=64)"
      ],
      "metadata": {
        "colab": {
          "base_uri": "https://localhost:8080/"
        },
        "id": "LpUBVqHa44Ir",
        "outputId": "3f3405fe-ead6-4580-e974-ba4906aebb00"
      },
      "id": "LpUBVqHa44Ir",
      "execution_count": 67,
      "outputs": [
        {
          "output_type": "stream",
          "name": "stdout",
          "text": [
            "Epoch 1/100\n",
            "22/22 [==============================] - 6s 156ms/step - loss: 264.1377 - accuracy: 0.4332 - val_loss: 1.7082 - val_accuracy: 0.2983\n",
            "Epoch 2/100\n",
            "22/22 [==============================] - 2s 102ms/step - loss: 1.6354 - accuracy: 0.5361 - val_loss: 1.5869 - val_accuracy: 0.3183\n",
            "Epoch 3/100\n",
            "22/22 [==============================] - 2s 102ms/step - loss: 1.5799 - accuracy: 0.5640 - val_loss: 1.4896 - val_accuracy: 0.5533\n",
            "Epoch 4/100\n",
            "22/22 [==============================] - 2s 104ms/step - loss: 1.5697 - accuracy: 0.5654 - val_loss: 1.5656 - val_accuracy: 0.5367\n",
            "Epoch 5/100\n",
            "22/22 [==============================] - 2s 102ms/step - loss: 1.5383 - accuracy: 0.5654 - val_loss: 1.5398 - val_accuracy: 0.5467\n",
            "Epoch 6/100\n",
            "22/22 [==============================] - 2s 101ms/step - loss: 1.5182 - accuracy: 0.5654 - val_loss: 1.5211 - val_accuracy: 0.5533\n",
            "Epoch 7/100\n",
            "22/22 [==============================] - 2s 102ms/step - loss: 1.4997 - accuracy: 0.5661 - val_loss: 1.5032 - val_accuracy: 0.5583\n",
            "Epoch 8/100\n",
            "22/22 [==============================] - 2s 103ms/step - loss: 1.4812 - accuracy: 0.5654 - val_loss: 1.4863 - val_accuracy: 0.5633\n",
            "Epoch 9/100\n",
            "22/22 [==============================] - 2s 102ms/step - loss: 1.4637 - accuracy: 0.5654 - val_loss: 1.4697 - val_accuracy: 0.5667\n",
            "Epoch 10/100\n",
            "22/22 [==============================] - 2s 102ms/step - loss: 1.4472 - accuracy: 0.5654 - val_loss: 1.4542 - val_accuracy: 0.5667\n",
            "Epoch 11/100\n",
            "22/22 [==============================] - 2s 103ms/step - loss: 1.4305 - accuracy: 0.5661 - val_loss: 1.4391 - val_accuracy: 0.5700\n",
            "Epoch 12/100\n",
            "22/22 [==============================] - 2s 105ms/step - loss: 1.4152 - accuracy: 0.5661 - val_loss: 1.4238 - val_accuracy: 0.5700\n",
            "Epoch 13/100\n",
            "22/22 [==============================] - 2s 104ms/step - loss: 1.3999 - accuracy: 0.5661 - val_loss: 1.4081 - val_accuracy: 0.5700\n",
            "Epoch 14/100\n",
            "22/22 [==============================] - 2s 103ms/step - loss: 1.3851 - accuracy: 0.5661 - val_loss: 1.3903 - val_accuracy: 0.5667\n",
            "Epoch 15/100\n",
            "22/22 [==============================] - 2s 103ms/step - loss: 1.3717 - accuracy: 0.5647 - val_loss: 1.3749 - val_accuracy: 0.5683\n",
            "Epoch 16/100\n",
            "22/22 [==============================] - 2s 103ms/step - loss: 1.3577 - accuracy: 0.5647 - val_loss: 1.3610 - val_accuracy: 0.5650\n",
            "Epoch 17/100\n",
            "22/22 [==============================] - 2s 103ms/step - loss: 1.3447 - accuracy: 0.5654 - val_loss: 1.3478 - val_accuracy: 0.5667\n",
            "Epoch 18/100\n",
            "22/22 [==============================] - 3s 116ms/step - loss: 1.3318 - accuracy: 0.5661 - val_loss: 1.3341 - val_accuracy: 0.5683\n",
            "Epoch 19/100\n",
            "22/22 [==============================] - 2s 103ms/step - loss: 1.3197 - accuracy: 0.5668 - val_loss: 1.3210 - val_accuracy: 0.5667\n",
            "Epoch 20/100\n",
            "22/22 [==============================] - 2s 104ms/step - loss: 1.3082 - accuracy: 0.5675 - val_loss: 1.3107 - val_accuracy: 0.5683\n",
            "Epoch 21/100\n",
            "22/22 [==============================] - 2s 103ms/step - loss: 1.2975 - accuracy: 0.5640 - val_loss: 1.2987 - val_accuracy: 0.5700\n",
            "Epoch 22/100\n",
            "22/22 [==============================] - 2s 102ms/step - loss: 1.2874 - accuracy: 0.5640 - val_loss: 1.2873 - val_accuracy: 0.5700\n",
            "Epoch 23/100\n",
            "22/22 [==============================] - 2s 104ms/step - loss: 1.2753 - accuracy: 0.5654 - val_loss: 1.2753 - val_accuracy: 0.5683\n",
            "Epoch 24/100\n",
            "22/22 [==============================] - 3s 115ms/step - loss: 1.2657 - accuracy: 0.5654 - val_loss: 1.2639 - val_accuracy: 0.5683\n",
            "Epoch 25/100\n",
            "22/22 [==============================] - 2s 103ms/step - loss: 1.2546 - accuracy: 0.5640 - val_loss: 1.2546 - val_accuracy: 0.5700\n",
            "Epoch 26/100\n",
            "22/22 [==============================] - 2s 103ms/step - loss: 1.2424 - accuracy: 0.5661 - val_loss: 1.2463 - val_accuracy: 0.5700\n",
            "Epoch 27/100\n",
            "22/22 [==============================] - 2s 103ms/step - loss: 1.2210 - accuracy: 0.5475 - val_loss: 1.2373 - val_accuracy: 0.5667\n",
            "Epoch 28/100\n",
            "22/22 [==============================] - 2s 103ms/step - loss: 1.1813 - accuracy: 0.5147 - val_loss: 1.2285 - val_accuracy: 0.5683\n",
            "Epoch 29/100\n",
            "22/22 [==============================] - 2s 103ms/step - loss: 1.1488 - accuracy: 0.5032 - val_loss: 1.2268 - val_accuracy: 0.5700\n",
            "Epoch 30/100\n",
            "22/22 [==============================] - 2s 103ms/step - loss: 1.1135 - accuracy: 0.5182 - val_loss: 1.2225 - val_accuracy: 0.5700\n",
            "Epoch 31/100\n",
            "22/22 [==============================] - 2s 103ms/step - loss: 1.1234 - accuracy: 0.5261 - val_loss: 1.2160 - val_accuracy: 0.5700\n",
            "Epoch 32/100\n",
            "22/22 [==============================] - 2s 103ms/step - loss: 1.1235 - accuracy: 0.5111 - val_loss: 1.2161 - val_accuracy: 0.5683\n",
            "Epoch 33/100\n",
            "22/22 [==============================] - 2s 104ms/step - loss: 1.0866 - accuracy: 0.5382 - val_loss: 1.2077 - val_accuracy: 0.5683\n",
            "Epoch 34/100\n",
            "22/22 [==============================] - 2s 104ms/step - loss: 1.0687 - accuracy: 0.5361 - val_loss: 1.2075 - val_accuracy: 0.5683\n",
            "Epoch 35/100\n",
            "22/22 [==============================] - 2s 104ms/step - loss: 1.0591 - accuracy: 0.5690 - val_loss: 1.2040 - val_accuracy: 0.5683\n",
            "Epoch 36/100\n",
            "22/22 [==============================] - 2s 103ms/step - loss: 1.0576 - accuracy: 0.5618 - val_loss: 1.1920 - val_accuracy: 0.5700\n",
            "Epoch 37/100\n",
            "22/22 [==============================] - 2s 103ms/step - loss: 1.0522 - accuracy: 0.5490 - val_loss: 1.1887 - val_accuracy: 0.5633\n",
            "Epoch 38/100\n",
            "22/22 [==============================] - 2s 103ms/step - loss: 1.0416 - accuracy: 0.5554 - val_loss: 1.1795 - val_accuracy: 0.5700\n",
            "Epoch 39/100\n",
            "22/22 [==============================] - 2s 103ms/step - loss: 1.0484 - accuracy: 0.5418 - val_loss: 1.1790 - val_accuracy: 0.5667\n",
            "Epoch 40/100\n",
            "22/22 [==============================] - 2s 113ms/step - loss: 1.0054 - accuracy: 0.5726 - val_loss: 1.1719 - val_accuracy: 0.5683\n",
            "Epoch 41/100\n",
            "22/22 [==============================] - 2s 103ms/step - loss: 0.9951 - accuracy: 0.5583 - val_loss: 1.1636 - val_accuracy: 0.5700\n",
            "Epoch 42/100\n",
            "22/22 [==============================] - 2s 104ms/step - loss: 1.0016 - accuracy: 0.5618 - val_loss: 1.1634 - val_accuracy: 0.5683\n",
            "Epoch 43/100\n",
            "22/22 [==============================] - 2s 105ms/step - loss: 0.9822 - accuracy: 0.5861 - val_loss: 1.1618 - val_accuracy: 0.5717\n",
            "Epoch 44/100\n",
            "22/22 [==============================] - 2s 105ms/step - loss: 0.9753 - accuracy: 0.5726 - val_loss: 1.1558 - val_accuracy: 0.5717\n",
            "Epoch 45/100\n",
            "22/22 [==============================] - 2s 103ms/step - loss: 0.9570 - accuracy: 0.5847 - val_loss: 1.1574 - val_accuracy: 0.5717\n",
            "Epoch 46/100\n",
            "22/22 [==============================] - 2s 104ms/step - loss: 0.9289 - accuracy: 0.5840 - val_loss: 1.1514 - val_accuracy: 0.5700\n",
            "Epoch 47/100\n",
            "22/22 [==============================] - 2s 105ms/step - loss: 0.9315 - accuracy: 0.6090 - val_loss: 1.1520 - val_accuracy: 0.5550\n",
            "Epoch 48/100\n",
            "22/22 [==============================] - 3s 116ms/step - loss: 0.9144 - accuracy: 0.6204 - val_loss: 1.1539 - val_accuracy: 0.5650\n",
            "Epoch 49/100\n",
            "22/22 [==============================] - 2s 103ms/step - loss: 0.9015 - accuracy: 0.5940 - val_loss: 1.1554 - val_accuracy: 0.5617\n",
            "Epoch 50/100\n",
            "22/22 [==============================] - 2s 105ms/step - loss: 0.8862 - accuracy: 0.6190 - val_loss: 1.1630 - val_accuracy: 0.5567\n",
            "Epoch 51/100\n",
            "22/22 [==============================] - 2s 104ms/step - loss: 0.8552 - accuracy: 0.6390 - val_loss: 1.1596 - val_accuracy: 0.5500\n",
            "Epoch 51: early stopping\n"
          ]
        }
      ]
    },
    {
      "cell_type": "code",
      "source": [
        "def plot_history(history, title='', axs=None, exp_name=\"\"):\n",
        "    if axs is not None:\n",
        "        ax1, ax2 = axs\n",
        "    else:\n",
        "        f, (ax1, ax2) = plt.subplots(1, 2, figsize=(12, 4))\n",
        "    \n",
        "    if len(exp_name) > 0 and exp_name[0] != '_':\n",
        "        exp_name = '_' + exp_name\n",
        "    ax1.plot(history.history['loss'], label='train' + exp_name)\n",
        "    ax1.plot(history.history['val_loss'], label='val' + exp_name)\n",
        "    ax1.set_ylim(0., 2.2)\n",
        "    ax1.set_title('loss')\n",
        "    ax1.legend()\n",
        "\n",
        "    ax2.plot(history.history['accuracy'], label='train accuracy'  + exp_name)\n",
        "    ax2.plot(history.history['val_accuracy'], label='val accuracy'  + exp_name)\n",
        "    ax2.set_ylim(0.25, 1.)\n",
        "    ax2.set_title('Accuracy')\n",
        "    ax2.legend()\n",
        "    return (ax1, ax2)"
      ],
      "metadata": {
        "id": "Taf9KwRc2qGh"
      },
      "id": "Taf9KwRc2qGh",
      "execution_count": 68,
      "outputs": []
    },
    {
      "cell_type": "code",
      "source": [
        "plot_history(history)\n",
        "plt.show()"
      ],
      "metadata": {
        "colab": {
          "base_uri": "https://localhost:8080/",
          "height": 281
        },
        "id": "br_IQdjS2q26",
        "outputId": "85bbd3d5-ea95-4c9a-bb8b-ba98683ef663"
      },
      "id": "br_IQdjS2q26",
      "execution_count": 69,
      "outputs": [
        {
          "output_type": "display_data",
          "data": {
            "image/png": "[encoded data removed]",
            "text/plain": [
              "<Figure size 864x288 with 2 Axes>"
            ]
          },
          "metadata": {
            "needs_background": "light"
          }
        }
      ]
    }
  ],
  "metadata": {
    "kernelspec": {
      "display_name": "Python 3 (ipykernel)",
      "language": "python",
      "name": "python3"
    },
    "language_info": {
      "codemirror_mode": {
        "name": "ipython",
        "version": 3
      },
      "file_extension": ".py",
      "mimetype": "text/x-python",
      "name": "python",
      "nbconvert_exporter": "python",
      "pygments_lexer": "ipython3",
      "version": "3.8.12"
    },
    "toc": {
      "base_numbering": 1,
      "nav_menu": {},
      "number_sections": true,
      "sideBar": true,
      "skip_h1_title": false,
      "title_cell": "Table of Contents",
      "title_sidebar": "Contents",
      "toc_cell": false,
      "toc_position": {},
      "toc_section_display": true,
      "toc_window_display": false
    },
    "colab": {
      "name": "data_images_withModel.ipynb",
      "provenance": []
    },
    "accelerator": "GPU"
  },
  "nbformat": 4,
  "nbformat_minor": 5
}