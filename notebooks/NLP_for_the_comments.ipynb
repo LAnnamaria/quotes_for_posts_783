{
 "cells": [
  {
   "cell_type": "code",
   "execution_count": 1,
   "metadata": {
    "colab": {
     "base_uri": "https://localhost:8080/"
    },
    "executionInfo": {
     "elapsed": 14462,
     "status": "ok",
     "timestamp": 1646203189741,
     "user": {
      "displayName": "mohana krishnan",
      "photoUrl": "https://lh3.googleusercontent.com/a-/AOh14Gj8I1tOdNFP9BJ5L2x58TUs5aEDjo86EulqIUUXEw=s64",
      "userId": "11999148476557913750"
     },
     "user_tz": -60
    },
    "id": "zchhhoovBRT6",
    "outputId": "336c0861-eebd-41cf-8842-78de4bd64dc5"
   },
   "outputs": [
    {
     "name": "stdout",
     "output_type": "stream",
     "text": [
      "Collecting rake-nltk\n",
      "  Downloading rake_nltk-1.0.6-py3-none-any.whl (9.1 kB)\n",
      "Collecting nltk<4.0.0,>=3.6.2\n",
      "  Downloading nltk-3.7-py3-none-any.whl (1.5 MB)\n",
      "\u001b[K     |████████████████████████████████| 1.5 MB 5.3 MB/s \n",
      "\u001b[?25hCollecting regex>=2021.8.3\n",
      "  Downloading regex-2022.3.2-cp37-cp37m-manylinux_2_17_x86_64.manylinux2014_x86_64.whl (749 kB)\n",
      "\u001b[K     |████████████████████████████████| 749 kB 22.8 MB/s \n",
      "\u001b[?25hRequirement already satisfied: joblib in /usr/local/lib/python3.7/dist-packages (from nltk<4.0.0,>=3.6.2->rake-nltk) (1.1.0)\n",
      "Requirement already satisfied: click in /usr/local/lib/python3.7/dist-packages (from nltk<4.0.0,>=3.6.2->rake-nltk) (7.1.2)\n",
      "Requirement already satisfied: tqdm in /usr/local/lib/python3.7/dist-packages (from nltk<4.0.0,>=3.6.2->rake-nltk) (4.62.3)\n",
      "Installing collected packages: regex, nltk, rake-nltk\n",
      "  Attempting uninstall: regex\n",
      "    Found existing installation: regex 2019.12.20\n",
      "    Uninstalling regex-2019.12.20:\n",
      "      Successfully uninstalled regex-2019.12.20\n",
      "  Attempting uninstall: nltk\n",
      "    Found existing installation: nltk 3.2.5\n",
      "    Uninstalling nltk-3.2.5:\n",
      "      Successfully uninstalled nltk-3.2.5\n",
      "Successfully installed nltk-3.7 rake-nltk-1.0.6 regex-2022.3.2\n"
     ]
    }
   ],
   "source": [
    "pip install rake-nltk"
   ]
  },
  {
   "cell_type": "code",
   "execution_count": 2,
   "metadata": {
    "executionInfo": {
     "elapsed": 1349,
     "status": "ok",
     "timestamp": 1646203194017,
     "user": {
      "displayName": "mohana krishnan",
      "photoUrl": "https://lh3.googleusercontent.com/a-/AOh14Gj8I1tOdNFP9BJ5L2x58TUs5aEDjo86EulqIUUXEw=s64",
      "userId": "11999148476557913750"
     },
     "user_tz": -60
    },
    "id": "-G0USkjQAwYa"
   },
   "outputs": [],
   "source": [
    "from rake_nltk import Rake"
   ]
  },
  {
   "cell_type": "code",
   "execution_count": 5,
   "metadata": {
    "colab": {
     "base_uri": "https://localhost:8080/"
    },
    "executionInfo": {
     "elapsed": 3190,
     "status": "ok",
     "timestamp": 1646203319559,
     "user": {
      "displayName": "mohana krishnan",
      "photoUrl": "https://lh3.googleusercontent.com/a-/AOh14Gj8I1tOdNFP9BJ5L2x58TUs5aEDjo86EulqIUUXEw=s64",
      "userId": "11999148476557913750"
     },
     "user_tz": -60
    },
    "id": "WDdVwCDABDVV",
    "outputId": "54ef2cb4-2b5d-4abb-d433-d32aef77446f"
   },
   "outputs": [
    {
     "name": "stderr",
     "output_type": "stream",
     "text": [
      "IOPub data rate exceeded.\n",
      "The notebook server will temporarily stop sending output\n",
      "to the client in order to avoid crashing it.\n",
      "To change this limit, set the config variable\n",
      "`--NotebookApp.iopub_data_rate_limit`.\n",
      "\n",
      "Current values:\n",
      "NotebookApp.iopub_data_rate_limit=1000000.0 (bytes/sec)\n",
      "NotebookApp.rate_limit_window=3.0 (secs)\n",
      "\n"
     ]
    }
   ],
   "source": [
    "from google.colab import auth\n",
    "auth.authenticate_user()\n",
    "import pandas as pd\n",
    "import gspread\n",
    "from google.auth import default\n",
    "creds, _ = default()\n",
    "\n",
    "gc = gspread.authorize(creds)\n",
    "worksheet = gc.open('images_name.csv').sheet1\n",
    "rows = worksheet.get_all_values()\n",
    "print(rows)"
   ]
  },
  {
   "cell_type": "code",
   "execution_count": 6,
   "metadata": {
    "colab": {
     "base_uri": "https://localhost:8080/",
     "height": 363
    },
    "executionInfo": {
     "elapsed": 247,
     "status": "ok",
     "timestamp": 1646203324222,
     "user": {
      "displayName": "mohana krishnan",
      "photoUrl": "https://lh3.googleusercontent.com/a-/AOh14Gj8I1tOdNFP9BJ5L2x58TUs5aEDjo86EulqIUUXEw=s64",
      "userId": "11999148476557913750"
     },
     "user_tz": -60
    },
    "id": "edQxcw9BDJ0C",
    "outputId": "de393ba4-c56e-4698-9570-bb6dbe715785"
   },
   "outputs": [
    {
     "data": {
      "text/html": [
       "\n",
       "  <div id=\"df-bcfe8516-c31c-4989-9c47-28c1981add47\">\n",
       "    <div class=\"colab-df-container\">\n",
       "      <div>\n",
       "<style scoped>\n",
       "    .dataframe tbody tr th:only-of-type {\n",
       "        vertical-align: middle;\n",
       "    }\n",
       "\n",
       "    .dataframe tbody tr th {\n",
       "        vertical-align: top;\n",
       "    }\n",
       "\n",
       "    .dataframe thead th {\n",
       "        text-align: right;\n",
       "    }\n",
       "</style>\n",
       "<table border=\"1\" class=\"dataframe\">\n",
       "  <thead>\n",
       "    <tr style=\"text-align: right;\">\n",
       "      <th></th>\n",
       "      <th>0</th>\n",
       "      <th>1</th>\n",
       "      <th>2</th>\n",
       "    </tr>\n",
       "  </thead>\n",
       "  <tbody>\n",
       "    <tr>\n",
       "      <th>0</th>\n",
       "      <td>image_name</td>\n",
       "      <td>longest_comment</td>\n",
       "      <td>comments_5</td>\n",
       "    </tr>\n",
       "    <tr>\n",
       "      <th>1</th>\n",
       "      <td>1000092795</td>\n",
       "      <td>Two young guys with shaggy hair look at their ...</td>\n",
       "      <td>0    | Two young guys with shaggy hair look at...</td>\n",
       "    </tr>\n",
       "    <tr>\n",
       "      <th>2</th>\n",
       "      <td>10002456</td>\n",
       "      <td>Several men in hard hats are operating a giant...</td>\n",
       "      <td>5    Several men in hard hats are operating a ...</td>\n",
       "    </tr>\n",
       "    <tr>\n",
       "      <th>3</th>\n",
       "      <td>1000268201</td>\n",
       "      <td>A child in a pink dress is climbing up a set o...</td>\n",
       "      <td>10    | A child in a pink dress is climbing up...</td>\n",
       "    </tr>\n",
       "    <tr>\n",
       "      <th>4</th>\n",
       "      <td>1000344755</td>\n",
       "      <td>Someone in a blue shirt and hat is standing on...</td>\n",
       "      <td>15    | Someone in a blue shirt and hat is sta...</td>\n",
       "    </tr>\n",
       "    <tr>\n",
       "      <th>5</th>\n",
       "      <td>1000366164</td>\n",
       "      <td>Two men , one in a gray shirt , one in a blac...</td>\n",
       "      <td>20    | Two men , one in a gray shirt , one in...</td>\n",
       "    </tr>\n",
       "    <tr>\n",
       "      <th>6</th>\n",
       "      <td>1000523639</td>\n",
       "      <td>Two people in the photo are playing the guitar...</td>\n",
       "      <td>25    | Two people in the photo are playing th...</td>\n",
       "    </tr>\n",
       "    <tr>\n",
       "      <th>7</th>\n",
       "      <td>1000919630</td>\n",
       "      <td>A man sits in a chair while holding a large st...</td>\n",
       "      <td>30    | A man sits in a chair while holding a ...</td>\n",
       "    </tr>\n",
       "    <tr>\n",
       "      <th>8</th>\n",
       "      <td>10010052</td>\n",
       "      <td>A girl is on rollerskates talking on her cellp...</td>\n",
       "      <td>35    A girl is on rollerskates talking on her...</td>\n",
       "    </tr>\n",
       "    <tr>\n",
       "      <th>9</th>\n",
       "      <td>1001465944</td>\n",
       "      <td>An asian man wearing a black suit stands near ...</td>\n",
       "      <td>40    | An asian man wearing a black suit stan...</td>\n",
       "    </tr>\n",
       "  </tbody>\n",
       "</table>\n",
       "</div>\n",
       "      <button class=\"colab-df-convert\" onclick=\"convertToInteractive('df-bcfe8516-c31c-4989-9c47-28c1981add47')\"\n",
       "              title=\"Convert this dataframe to an interactive table.\"\n",
       "              style=\"display:none;\">\n",
       "        \n",
       "  <svg xmlns=\"http://www.w3.org/2000/svg\" height=\"24px\"viewBox=\"0 0 24 24\"\n",
       "       width=\"24px\">\n",
       "    <path d=\"M0 0h24v24H0V0z\" fill=\"none\"/>\n",
       "    <path d=\"M18.56 5.44l.94 2.06.94-2.06 2.06-.94-2.06-.94-.94-2.06-.94 2.06-2.06.94zm-11 1L8.5 8.5l.94-2.06 2.06-.94-2.06-.94L8.5 2.5l-.94 2.06-2.06.94zm10 10l.94 2.06.94-2.06 2.06-.94-2.06-.94-.94-2.06-.94 2.06-2.06.94z\"/><path d=\"M17.41 7.96l-1.37-1.37c-.4-.4-.92-.59-1.43-.59-.52 0-1.04.2-1.43.59L10.3 9.45l-7.72 7.72c-.78.78-.78 2.05 0 2.83L4 21.41c.39.39.9.59 1.41.59.51 0 1.02-.2 1.41-.59l7.78-7.78 2.81-2.81c.8-.78.8-2.07 0-2.86zM5.41 20L4 18.59l7.72-7.72 1.47 1.35L5.41 20z\"/>\n",
       "  </svg>\n",
       "      </button>\n",
       "      \n",
       "  <style>\n",
       "    .colab-df-container {\n",
       "      display:flex;\n",
       "      flex-wrap:wrap;\n",
       "      gap: 12px;\n",
       "    }\n",
       "\n",
       "    .colab-df-convert {\n",
       "      background-color: #E8F0FE;\n",
       "      border: none;\n",
       "      border-radius: 50%;\n",
       "      cursor: pointer;\n",
       "      display: none;\n",
       "      fill: #1967D2;\n",
       "      height: 32px;\n",
       "      padding: 0 0 0 0;\n",
       "      width: 32px;\n",
       "    }\n",
       "\n",
       "    .colab-df-convert:hover {\n",
       "      background-color: #E2EBFA;\n",
       "      box-shadow: 0px 1px 2px rgba(60, 64, 67, 0.3), 0px 1px 3px 1px rgba(60, 64, 67, 0.15);\n",
       "      fill: #174EA6;\n",
       "    }\n",
       "\n",
       "    [theme=dark] .colab-df-convert {\n",
       "      background-color: #3B4455;\n",
       "      fill: #D2E3FC;\n",
       "    }\n",
       "\n",
       "    [theme=dark] .colab-df-convert:hover {\n",
       "      background-color: #434B5C;\n",
       "      box-shadow: 0px 1px 3px 1px rgba(0, 0, 0, 0.15);\n",
       "      filter: drop-shadow(0px 1px 2px rgba(0, 0, 0, 0.3));\n",
       "      fill: #FFFFFF;\n",
       "    }\n",
       "  </style>\n",
       "\n",
       "      <script>\n",
       "        const buttonEl =\n",
       "          document.querySelector('#df-bcfe8516-c31c-4989-9c47-28c1981add47 button.colab-df-convert');\n",
       "        buttonEl.style.display =\n",
       "          google.colab.kernel.accessAllowed ? 'block' : 'none';\n",
       "\n",
       "        async function convertToInteractive(key) {\n",
       "          const element = document.querySelector('#df-bcfe8516-c31c-4989-9c47-28c1981add47');\n",
       "          const dataTable =\n",
       "            await google.colab.kernel.invokeFunction('convertToInteractive',\n",
       "                                                     [key], {});\n",
       "          if (!dataTable) return;\n",
       "\n",
       "          const docLinkHtml = 'Like what you see? Visit the ' +\n",
       "            '<a target=\"_blank\" href=https://colab.research.google.com/notebooks/data_table.ipynb>data table notebook</a>'\n",
       "            + ' to learn more about interactive tables.';\n",
       "          element.innerHTML = '';\n",
       "          dataTable['output_type'] = 'display_data';\n",
       "          await google.colab.output.renderOutput(dataTable, element);\n",
       "          const docLink = document.createElement('div');\n",
       "          docLink.innerHTML = docLinkHtml;\n",
       "          element.appendChild(docLink);\n",
       "        }\n",
       "      </script>\n",
       "    </div>\n",
       "  </div>\n",
       "  "
      ],
      "text/plain": [
       "            0  ...                                                  2\n",
       "0  image_name  ...                                         comments_5\n",
       "1  1000092795  ...  0    | Two young guys with shaggy hair look at...\n",
       "2    10002456  ...  5    Several men in hard hats are operating a ...\n",
       "3  1000268201  ...  10    | A child in a pink dress is climbing up...\n",
       "4  1000344755  ...  15    | Someone in a blue shirt and hat is sta...\n",
       "5  1000366164  ...  20    | Two men , one in a gray shirt , one in...\n",
       "6  1000523639  ...  25    | Two people in the photo are playing th...\n",
       "7  1000919630  ...  30    | A man sits in a chair while holding a ...\n",
       "8    10010052  ...  35    A girl is on rollerskates talking on her...\n",
       "9  1001465944  ...  40    | An asian man wearing a black suit stan...\n",
       "\n",
       "[10 rows x 3 columns]"
      ]
     },
     "execution_count": 6,
     "metadata": {},
     "output_type": "execute_result"
    }
   ],
   "source": [
    "df = pd.DataFrame.from_records(rows)\n",
    "df.head(10)"
   ]
  },
  {
   "cell_type": "code",
   "execution_count": 9,
   "metadata": {
    "colab": {
     "base_uri": "https://localhost:8080/"
    },
    "executionInfo": {
     "elapsed": 248,
     "status": "ok",
     "timestamp": 1646203468952,
     "user": {
      "displayName": "mohana krishnan",
      "photoUrl": "https://lh3.googleusercontent.com/a-/AOh14Gj8I1tOdNFP9BJ5L2x58TUs5aEDjo86EulqIUUXEw=s64",
      "userId": "11999148476557913750"
     },
     "user_tz": -60
    },
    "id": "gMAxEE-dXwPr",
    "outputId": "b73e2917-bc15-481a-f9bd-49544ff671d2"
   },
   "outputs": [
    {
     "data": {
      "text/plain": [
       "0                                               comments_5\n",
       "1        0    | Two young guys with shaggy hair look at...\n",
       "2        5    Several men in hard hats are operating a ...\n",
       "3        10    | A child in a pink dress is climbing up...\n",
       "4        15    | Someone in a blue shirt and hat is sta...\n",
       "                               ...                        \n",
       "32531    158890     Woman writing on a pad in room with...\n",
       "32532    158895     A person in a red shirt climbing up...\n",
       "32533    158900     Two male construction workers are w...\n",
       "32534    158905    An older busker in glasses plays an ...\n",
       "32535    158910     A man in shorts and a Hawaiian shir...\n",
       "Name: 2, Length: 32536, dtype: object"
      ]
     },
     "execution_count": 9,
     "metadata": {},
     "output_type": "execute_result"
    }
   ],
   "source": [
    "comments_5 = df[2]\n",
    "comments_5"
   ]
  },
  {
   "cell_type": "code",
   "execution_count": 7,
   "metadata": {
    "colab": {
     "base_uri": "https://localhost:8080/"
    },
    "executionInfo": {
     "elapsed": 766,
     "status": "ok",
     "timestamp": 1646203334905,
     "user": {
      "displayName": "mohana krishnan",
      "photoUrl": "https://lh3.googleusercontent.com/a-/AOh14Gj8I1tOdNFP9BJ5L2x58TUs5aEDjo86EulqIUUXEw=s64",
      "userId": "11999148476557913750"
     },
     "user_tz": -60
    },
    "id": "31TDdBYaJ6qp",
    "outputId": "fb7dfd30-bd1e-4b10-8fac-e68050285f6e"
   },
   "outputs": [
    {
     "name": "stderr",
     "output_type": "stream",
     "text": [
      "[nltk_data] Downloading package stopwords to /root/nltk_data...\n",
      "[nltk_data]   Unzipping corpora/stopwords.zip.\n",
      "[nltk_data] Downloading package punkt to /root/nltk_data...\n",
      "[nltk_data]   Unzipping tokenizers/punkt.zip.\n"
     ]
    },
    {
     "data": {
      "text/plain": [
       "True"
      ]
     },
     "execution_count": 7,
     "metadata": {},
     "output_type": "execute_result"
    }
   ],
   "source": [
    "import nltk\n",
    "nltk.download('stopwords')\n",
    "nltk.download('punkt')"
   ]
  },
  {
   "cell_type": "code",
   "execution_count": 11,
   "metadata": {
    "colab": {
     "base_uri": "https://localhost:8080/"
    },
    "executionInfo": {
     "elapsed": 12983,
     "status": "ok",
     "timestamp": 1646203511505,
     "user": {
      "displayName": "mohana krishnan",
      "photoUrl": "https://lh3.googleusercontent.com/a-/AOh14Gj8I1tOdNFP9BJ5L2x58TUs5aEDjo86EulqIUUXEw=s64",
      "userId": "11999148476557913750"
     },
     "user_tz": -60
    },
    "id": "aNT7cpDvDc6B",
    "outputId": "3f23a94d-da51-4ddb-fba8-4e69d3359ef7"
   },
   "outputs": [
    {
     "name": "stderr",
     "output_type": "stream",
     "text": [
      "IOPub data rate exceeded.\n",
      "The notebook server will temporarily stop sending output\n",
      "to the client in order to avoid crashing it.\n",
      "To change this limit, set the config variable\n",
      "`--NotebookApp.iopub_data_rate_limit`.\n",
      "\n",
      "Current values:\n",
      "NotebookApp.iopub_data_rate_limit=1000000.0 (bytes/sec)\n",
      "NotebookApp.rate_limit_window=3.0 (secs)\n",
      "\n"
     ]
    }
   ],
   "source": [
    "rake_nltk_var = Rake()\n",
    "keywords = []\n",
    "\n",
    "for text in comments_5:\n",
    "  rake_nltk_var.extract_keywords_from_text(text)\n",
    "  keyword_extracted = rake_nltk_var.get_ranked_phrases()\n",
    "  keywords.append(keyword_extracted)\n",
    "\n",
    "print(keywords)"
   ]
  },
  {
   "cell_type": "code",
   "execution_count": 15,
   "metadata": {
    "executionInfo": {
     "elapsed": 243,
     "status": "ok",
     "timestamp": 1646203651547,
     "user": {
      "displayName": "mohana krishnan",
      "photoUrl": "https://lh3.googleusercontent.com/a-/AOh14Gj8I1tOdNFP9BJ5L2x58TUs5aEDjo86EulqIUUXEw=s64",
      "userId": "11999148476557913750"
     },
     "user_tz": -60
    },
    "id": "MGB0c00tFvnk"
   },
   "outputs": [],
   "source": [
    "df['keywords'] = keywords"
   ]
  },
  {
   "cell_type": "code",
   "execution_count": 16,
   "metadata": {
    "colab": {
     "base_uri": "https://localhost:8080/",
     "height": 424
    },
    "executionInfo": {
     "elapsed": 243,
     "status": "ok",
     "timestamp": 1646203656633,
     "user": {
      "displayName": "mohana krishnan",
      "photoUrl": "https://lh3.googleusercontent.com/a-/AOh14Gj8I1tOdNFP9BJ5L2x58TUs5aEDjo86EulqIUUXEw=s64",
      "userId": "11999148476557913750"
     },
     "user_tz": -60
    },
    "id": "jUsGAF_tLtoh",
    "outputId": "76660495-2959-4dfb-80f0-243a445cd1c2"
   },
   "outputs": [
    {
     "data": {
      "text/html": [
       "\n",
       "  <div id=\"df-2c4a664e-3f24-4efc-9dd3-973170f50b18\">\n",
       "    <div class=\"colab-df-container\">\n",
       "      <div>\n",
       "<style scoped>\n",
       "    .dataframe tbody tr th:only-of-type {\n",
       "        vertical-align: middle;\n",
       "    }\n",
       "\n",
       "    .dataframe tbody tr th {\n",
       "        vertical-align: top;\n",
       "    }\n",
       "\n",
       "    .dataframe thead th {\n",
       "        text-align: right;\n",
       "    }\n",
       "</style>\n",
       "<table border=\"1\" class=\"dataframe\">\n",
       "  <thead>\n",
       "    <tr style=\"text-align: right;\">\n",
       "      <th></th>\n",
       "      <th>0</th>\n",
       "      <th>1</th>\n",
       "      <th>2</th>\n",
       "      <th>keywords</th>\n",
       "    </tr>\n",
       "  </thead>\n",
       "  <tbody>\n",
       "    <tr>\n",
       "      <th>0</th>\n",
       "      <td>image_name</td>\n",
       "      <td>longest_comment</td>\n",
       "      <td>comments_5</td>\n",
       "      <td>[comments_5]</td>\n",
       "    </tr>\n",
       "    <tr>\n",
       "      <th>1</th>\n",
       "      <td>1000092795</td>\n",
       "      <td>Two young guys with shaggy hair look at their ...</td>\n",
       "      <td>0    | Two young guys with shaggy hair look at...</td>\n",
       "      <td>[two friends enjoy time spent together, outsid...</td>\n",
       "    </tr>\n",
       "    <tr>\n",
       "      <th>2</th>\n",
       "      <td>10002456</td>\n",
       "      <td>Several men in hard hats are operating a giant...</td>\n",
       "      <td>5    Several men in hard hats are operating a ...</td>\n",
       "      <td>[giant ... 6 workers look, ... 7 two men worki...</td>\n",
       "    </tr>\n",
       "    <tr>\n",
       "      <th>3</th>\n",
       "      <td>1000268201</td>\n",
       "      <td>A child in a pink dress is climbing up a set o...</td>\n",
       "      <td>10    | A child in a pink dress is climbing up...</td>\n",
       "      <td>[w ... 12, set ... 11, pla ... 13, wooden play...</td>\n",
       "    </tr>\n",
       "    <tr>\n",
       "      <th>4</th>\n",
       "      <td>1000344755</td>\n",
       "      <td>Someone in a blue shirt and hat is standing on...</td>\n",
       "      <td>15    | Someone in a blue shirt and hat is sta...</td>\n",
       "      <td>[ladder cleani ... 19, tal ... 18, ladde ... 1...</td>\n",
       "    </tr>\n",
       "    <tr>\n",
       "      <th>...</th>\n",
       "      <td>...</td>\n",
       "      <td>...</td>\n",
       "      <td>...</td>\n",
       "      <td>...</td>\n",
       "    </tr>\n",
       "    <tr>\n",
       "      <th>32531</th>\n",
       "      <td>997338199</td>\n",
       "      <td>Woman writing on a pad in room with gold , de...</td>\n",
       "      <td>158890     Woman writing on a pad in room with...</td>\n",
       "      <td>[person stands near golden walls, woman standi...</td>\n",
       "    </tr>\n",
       "    <tr>\n",
       "      <th>32532</th>\n",
       "      <td>997722733</td>\n",
       "      <td>A person in a red shirt climbing up a rock fac...</td>\n",
       "      <td>158895     A person in a red shirt climbing up...</td>\n",
       "      <td>[rock climbing w ... 158897, rock fa ... 15889...</td>\n",
       "    </tr>\n",
       "    <tr>\n",
       "      <th>32533</th>\n",
       "      <td>997876722</td>\n",
       "      <td>Two male construction workers are working on a...</td>\n",
       "      <td>158900     Two male construction workers are w...</td>\n",
       "      <td>[158900 two male construction workers, mixing ...</td>\n",
       "    </tr>\n",
       "    <tr>\n",
       "      <th>32534</th>\n",
       "      <td>99804383</td>\n",
       "      <td>An older busker in glasses plays an Eastern st...</td>\n",
       "      <td>158905    An older busker in glasses plays an ...</td>\n",
       "      <td>[store performing w ... 158907, storefront acc...</td>\n",
       "    </tr>\n",
       "    <tr>\n",
       "      <th>32535</th>\n",
       "      <td>998845445</td>\n",
       "      <td>A man in shorts and a Hawaiian shirt leans ov...</td>\n",
       "      <td>158910     A man in shorts and a Hawaiian shir...</td>\n",
       "      <td>[hawaiian shirt leans ov ... 158911, hi ... na...</td>\n",
       "    </tr>\n",
       "  </tbody>\n",
       "</table>\n",
       "<p>32536 rows × 4 columns</p>\n",
       "</div>\n",
       "      <button class=\"colab-df-convert\" onclick=\"convertToInteractive('df-2c4a664e-3f24-4efc-9dd3-973170f50b18')\"\n",
       "              title=\"Convert this dataframe to an interactive table.\"\n",
       "              style=\"display:none;\">\n",
       "        \n",
       "  <svg xmlns=\"http://www.w3.org/2000/svg\" height=\"24px\"viewBox=\"0 0 24 24\"\n",
       "       width=\"24px\">\n",
       "    <path d=\"M0 0h24v24H0V0z\" fill=\"none\"/>\n",
       "    <path d=\"M18.56 5.44l.94 2.06.94-2.06 2.06-.94-2.06-.94-.94-2.06-.94 2.06-2.06.94zm-11 1L8.5 8.5l.94-2.06 2.06-.94-2.06-.94L8.5 2.5l-.94 2.06-2.06.94zm10 10l.94 2.06.94-2.06 2.06-.94-2.06-.94-.94-2.06-.94 2.06-2.06.94z\"/><path d=\"M17.41 7.96l-1.37-1.37c-.4-.4-.92-.59-1.43-.59-.52 0-1.04.2-1.43.59L10.3 9.45l-7.72 7.72c-.78.78-.78 2.05 0 2.83L4 21.41c.39.39.9.59 1.41.59.51 0 1.02-.2 1.41-.59l7.78-7.78 2.81-2.81c.8-.78.8-2.07 0-2.86zM5.41 20L4 18.59l7.72-7.72 1.47 1.35L5.41 20z\"/>\n",
       "  </svg>\n",
       "      </button>\n",
       "      \n",
       "  <style>\n",
       "    .colab-df-container {\n",
       "      display:flex;\n",
       "      flex-wrap:wrap;\n",
       "      gap: 12px;\n",
       "    }\n",
       "\n",
       "    .colab-df-convert {\n",
       "      background-color: #E8F0FE;\n",
       "      border: none;\n",
       "      border-radius: 50%;\n",
       "      cursor: pointer;\n",
       "      display: none;\n",
       "      fill: #1967D2;\n",
       "      height: 32px;\n",
       "      padding: 0 0 0 0;\n",
       "      width: 32px;\n",
       "    }\n",
       "\n",
       "    .colab-df-convert:hover {\n",
       "      background-color: #E2EBFA;\n",
       "      box-shadow: 0px 1px 2px rgba(60, 64, 67, 0.3), 0px 1px 3px 1px rgba(60, 64, 67, 0.15);\n",
       "      fill: #174EA6;\n",
       "    }\n",
       "\n",
       "    [theme=dark] .colab-df-convert {\n",
       "      background-color: #3B4455;\n",
       "      fill: #D2E3FC;\n",
       "    }\n",
       "\n",
       "    [theme=dark] .colab-df-convert:hover {\n",
       "      background-color: #434B5C;\n",
       "      box-shadow: 0px 1px 3px 1px rgba(0, 0, 0, 0.15);\n",
       "      filter: drop-shadow(0px 1px 2px rgba(0, 0, 0, 0.3));\n",
       "      fill: #FFFFFF;\n",
       "    }\n",
       "  </style>\n",
       "\n",
       "      <script>\n",
       "        const buttonEl =\n",
       "          document.querySelector('#df-2c4a664e-3f24-4efc-9dd3-973170f50b18 button.colab-df-convert');\n",
       "        buttonEl.style.display =\n",
       "          google.colab.kernel.accessAllowed ? 'block' : 'none';\n",
       "\n",
       "        async function convertToInteractive(key) {\n",
       "          const element = document.querySelector('#df-2c4a664e-3f24-4efc-9dd3-973170f50b18');\n",
       "          const dataTable =\n",
       "            await google.colab.kernel.invokeFunction('convertToInteractive',\n",
       "                                                     [key], {});\n",
       "          if (!dataTable) return;\n",
       "\n",
       "          const docLinkHtml = 'Like what you see? Visit the ' +\n",
       "            '<a target=\"_blank\" href=https://colab.research.google.com/notebooks/data_table.ipynb>data table notebook</a>'\n",
       "            + ' to learn more about interactive tables.';\n",
       "          element.innerHTML = '';\n",
       "          dataTable['output_type'] = 'display_data';\n",
       "          await google.colab.output.renderOutput(dataTable, element);\n",
       "          const docLink = document.createElement('div');\n",
       "          docLink.innerHTML = docLinkHtml;\n",
       "          element.appendChild(docLink);\n",
       "        }\n",
       "      </script>\n",
       "    </div>\n",
       "  </div>\n",
       "  "
      ],
      "text/plain": [
       "                0  ...                                           keywords\n",
       "0      image_name  ...                                       [comments_5]\n",
       "1      1000092795  ...  [two friends enjoy time spent together, outsid...\n",
       "2        10002456  ...  [giant ... 6 workers look, ... 7 two men worki...\n",
       "3      1000268201  ...  [w ... 12, set ... 11, pla ... 13, wooden play...\n",
       "4      1000344755  ...  [ladder cleani ... 19, tal ... 18, ladde ... 1...\n",
       "...           ...  ...                                                ...\n",
       "32531   997338199  ...  [person stands near golden walls, woman standi...\n",
       "32532   997722733  ...  [rock climbing w ... 158897, rock fa ... 15889...\n",
       "32533   997876722  ...  [158900 two male construction workers, mixing ...\n",
       "32534    99804383  ...  [store performing w ... 158907, storefront acc...\n",
       "32535   998845445  ...  [hawaiian shirt leans ov ... 158911, hi ... na...\n",
       "\n",
       "[32536 rows x 4 columns]"
      ]
     },
     "execution_count": 16,
     "metadata": {},
     "output_type": "execute_result"
    }
   ],
   "source": [
    "df"
   ]
  },
  {
   "cell_type": "code",
   "execution_count": null,
   "metadata": {
    "id": "A5VN935xYlVV"
   },
   "outputs": [],
   "source": []
  }
 ],
 "metadata": {
  "colab": {
   "authorship_tag": "ABX9TyN93oWKrcGlYcODSxArVzw6",
   "collapsed_sections": [],
   "name": "NLP_for_the_comments.ipynb",
   "provenance": []
  },
  "kernelspec": {
   "display_name": "Python 3 (ipykernel)",
   "language": "python",
   "name": "python3"
  },
  "language_info": {
   "codemirror_mode": {
    "name": "ipython",
    "version": 3
   },
   "file_extension": ".py",
   "mimetype": "text/x-python",
   "name": "python",
   "nbconvert_exporter": "python",
   "pygments_lexer": "ipython3",
   "version": "3.8.12"
  },
  "toc": {
   "base_numbering": 1,
   "nav_menu": {},
   "number_sections": true,
   "sideBar": true,
   "skip_h1_title": false,
   "title_cell": "Table of Contents",
   "title_sidebar": "Contents",
   "toc_cell": false,
   "toc_position": {},
   "toc_section_display": true,
   "toc_window_display": false
  }
 },
 "nbformat": 4,
 "nbformat_minor": 1
}
