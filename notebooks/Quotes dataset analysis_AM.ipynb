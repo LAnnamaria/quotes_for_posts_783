{
 "cells": [
  {
   "cell_type": "markdown",
   "id": "4a3add63",
   "metadata": {},
   "source": [
    "## Quotes dataset analysis"
   ]
  },
  {
   "cell_type": "code",
   "execution_count": 44,
   "id": "27ca73eb",
   "metadata": {},
   "outputs": [],
   "source": [
    "import pandas as pd\n",
    "import itertools\n",
    "import re\n",
    "from sklearn.decomposition import LatentDirichletAllocation\n",
    "from sklearn.feature_extraction.text import CountVectorizer,TfidfVectorizer\n",
    "import string\n",
    "import nltk\n",
    "from sklearn.neighbors import NearestNeighbors\n",
    "import numpy as np"
   ]
  },
  {
   "cell_type": "code",
   "execution_count": 2,
   "id": "9bab9bc3",
   "metadata": {},
   "outputs": [
    {
     "data": {
      "text/html": [
       "<div>\n",
       "<style scoped>\n",
       "    .dataframe tbody tr th:only-of-type {\n",
       "        vertical-align: middle;\n",
       "    }\n",
       "\n",
       "    .dataframe tbody tr th {\n",
       "        vertical-align: top;\n",
       "    }\n",
       "\n",
       "    .dataframe thead th {\n",
       "        text-align: right;\n",
       "    }\n",
       "</style>\n",
       "<table border=\"1\" class=\"dataframe\">\n",
       "  <thead>\n",
       "    <tr style=\"text-align: right;\">\n",
       "      <th></th>\n",
       "      <th>quote</th>\n",
       "      <th>author</th>\n",
       "      <th>category</th>\n",
       "    </tr>\n",
       "  </thead>\n",
       "  <tbody>\n",
       "    <tr>\n",
       "      <th>0</th>\n",
       "      <td>I'm selfish, impatient and a little insecure. ...</td>\n",
       "      <td>Marilyn Monroe</td>\n",
       "      <td>attributed-no-source, best, life, love, mistak...</td>\n",
       "    </tr>\n",
       "    <tr>\n",
       "      <th>1</th>\n",
       "      <td>You've gotta dance like there's nobody watchin...</td>\n",
       "      <td>William W. Purkey</td>\n",
       "      <td>dance, heaven, hurt, inspirational, life, love...</td>\n",
       "    </tr>\n",
       "    <tr>\n",
       "      <th>2</th>\n",
       "      <td>You know you're in love when you can't fall as...</td>\n",
       "      <td>Dr. Seuss</td>\n",
       "      <td>attributed-no-source, dreams, love, reality, s...</td>\n",
       "    </tr>\n",
       "  </tbody>\n",
       "</table>\n",
       "</div>"
      ],
      "text/plain": [
       "                                               quote             author  \\\n",
       "0  I'm selfish, impatient and a little insecure. ...     Marilyn Monroe   \n",
       "1  You've gotta dance like there's nobody watchin...  William W. Purkey   \n",
       "2  You know you're in love when you can't fall as...          Dr. Seuss   \n",
       "\n",
       "                                            category  \n",
       "0  attributed-no-source, best, life, love, mistak...  \n",
       "1  dance, heaven, hurt, inspirational, life, love...  \n",
       "2  attributed-no-source, dreams, love, reality, s...  "
      ]
     },
     "execution_count": 2,
     "metadata": {},
     "output_type": "execute_result"
    }
   ],
   "source": [
    "file = \"../raw_data/quotes.csv\"\n",
    "quotes = pd.read_csv(file, decimal=\",\")\n",
    "quotes.head(3)"
   ]
  },
  {
   "cell_type": "code",
   "execution_count": 3,
   "id": "3be023ae",
   "metadata": {},
   "outputs": [
    {
     "data": {
      "text/plain": [
       "(499709, 3)"
      ]
     },
     "execution_count": 3,
     "metadata": {},
     "output_type": "execute_result"
    }
   ],
   "source": [
    "quotes.shape"
   ]
  },
  {
   "cell_type": "code",
   "execution_count": 4,
   "id": "ad99fca6",
   "metadata": {},
   "outputs": [
    {
     "name": "stdout",
     "output_type": "stream",
     "text": [
      "<class 'pandas.core.frame.DataFrame'>\n",
      "RangeIndex: 499709 entries, 0 to 499708\n",
      "Data columns (total 3 columns):\n",
      " #   Column    Non-Null Count   Dtype \n",
      "---  ------    --------------   ----- \n",
      " 0   quote     499708 non-null  object\n",
      " 1   author    497956 non-null  object\n",
      " 2   category  499646 non-null  object\n",
      "dtypes: object(3)\n",
      "memory usage: 11.4+ MB\n"
     ]
    }
   ],
   "source": [
    "quotes.info()"
   ]
  },
  {
   "cell_type": "code",
   "execution_count": 5,
   "id": "34deaa79",
   "metadata": {},
   "outputs": [
    {
     "data": {
      "text/plain": [
       "117296"
      ]
     },
     "execution_count": 5,
     "metadata": {},
     "output_type": "execute_result"
    }
   ],
   "source": [
    "count_per_author = quotes.groupby(quotes['author']).count()\n",
    "len(count_per_author)"
   ]
  },
  {
   "cell_type": "code",
   "execution_count": 6,
   "id": "aaedf6d5",
   "metadata": {},
   "outputs": [],
   "source": [
    "tags_list = quotes.category.to_list()\n",
    "number_of_tags = []\n",
    "for i in tags_list:\n",
    "    number_of_tags.append(len(str(i).split(',')))"
   ]
  },
  {
   "cell_type": "code",
   "execution_count": 7,
   "id": "6871124b",
   "metadata": {},
   "outputs": [],
   "source": [
    "tags_vocab = []\n",
    "tags_vocab1 = []\n",
    "for i in quotes.category:\n",
    "    tags_vocab.append(i)\n",
    "for i in tags_vocab:\n",
    "    tags_vocab1.append(str(i).split(','))\n",
    "\n",
    "vocab_list = set(list(itertools.chain(*tags_vocab1)))"
   ]
  },
  {
   "cell_type": "code",
   "execution_count": 8,
   "id": "ec53cc12",
   "metadata": {},
   "outputs": [
    {
     "name": "stdout",
     "output_type": "stream",
     "text": [
      "Unique tags used altogether: 175998\n"
     ]
    }
   ],
   "source": [
    "print(f\"Unique tags used altogether: {len(vocab_list)}\")"
   ]
  },
  {
   "cell_type": "code",
   "execution_count": 9,
   "id": "ed7c68d8",
   "metadata": {},
   "outputs": [],
   "source": [
    "quotes['quotes_length'] = quotes['quote'].copy()\n",
    "for index, row in quotes.iterrows():\n",
    "    quotes.loc[index, \"quotes_length\"] = len(str(row['quotes_length']).split(' '))"
   ]
  },
  {
   "cell_type": "code",
   "execution_count": 10,
   "id": "81303ec0",
   "metadata": {},
   "outputs": [
    {
     "data": {
      "text/html": [
       "<div>\n",
       "<style scoped>\n",
       "    .dataframe tbody tr th:only-of-type {\n",
       "        vertical-align: middle;\n",
       "    }\n",
       "\n",
       "    .dataframe tbody tr th {\n",
       "        vertical-align: top;\n",
       "    }\n",
       "\n",
       "    .dataframe thead th {\n",
       "        text-align: right;\n",
       "    }\n",
       "</style>\n",
       "<table border=\"1\" class=\"dataframe\">\n",
       "  <thead>\n",
       "    <tr style=\"text-align: right;\">\n",
       "      <th></th>\n",
       "      <th>quote</th>\n",
       "      <th>author</th>\n",
       "      <th>category</th>\n",
       "      <th>quotes_length</th>\n",
       "    </tr>\n",
       "  </thead>\n",
       "  <tbody>\n",
       "    <tr>\n",
       "      <th>0</th>\n",
       "      <td>I'm selfish, impatient and a little insecure. ...</td>\n",
       "      <td>Marilyn Monroe</td>\n",
       "      <td>attributed-no-source, best, life, love, mistak...</td>\n",
       "      <td>41</td>\n",
       "    </tr>\n",
       "    <tr>\n",
       "      <th>1</th>\n",
       "      <td>You've gotta dance like there's nobody watchin...</td>\n",
       "      <td>William W. Purkey</td>\n",
       "      <td>dance, heaven, hurt, inspirational, life, love...</td>\n",
       "      <td>22</td>\n",
       "    </tr>\n",
       "    <tr>\n",
       "      <th>2</th>\n",
       "      <td>You know you're in love when you can't fall as...</td>\n",
       "      <td>Dr. Seuss</td>\n",
       "      <td>attributed-no-source, dreams, love, reality, s...</td>\n",
       "      <td>18</td>\n",
       "    </tr>\n",
       "    <tr>\n",
       "      <th>3</th>\n",
       "      <td>A friend is someone who knows all about you an...</td>\n",
       "      <td>Elbert Hubbard</td>\n",
       "      <td>friend, friendship, knowledge, love</td>\n",
       "      <td>13</td>\n",
       "    </tr>\n",
       "    <tr>\n",
       "      <th>4</th>\n",
       "      <td>Darkness cannot drive out darkness: only light...</td>\n",
       "      <td>Martin Luther King Jr., A Testament of Hope: T...</td>\n",
       "      <td>darkness, drive-out, hate, inspirational, ligh...</td>\n",
       "      <td>20</td>\n",
       "    </tr>\n",
       "  </tbody>\n",
       "</table>\n",
       "</div>"
      ],
      "text/plain": [
       "                                               quote  \\\n",
       "0  I'm selfish, impatient and a little insecure. ...   \n",
       "1  You've gotta dance like there's nobody watchin...   \n",
       "2  You know you're in love when you can't fall as...   \n",
       "3  A friend is someone who knows all about you an...   \n",
       "4  Darkness cannot drive out darkness: only light...   \n",
       "\n",
       "                                              author  \\\n",
       "0                                     Marilyn Monroe   \n",
       "1                                  William W. Purkey   \n",
       "2                                          Dr. Seuss   \n",
       "3                                     Elbert Hubbard   \n",
       "4  Martin Luther King Jr., A Testament of Hope: T...   \n",
       "\n",
       "                                            category quotes_length  \n",
       "0  attributed-no-source, best, life, love, mistak...            41  \n",
       "1  dance, heaven, hurt, inspirational, life, love...            22  \n",
       "2  attributed-no-source, dreams, love, reality, s...            18  \n",
       "3                friend, friendship, knowledge, love            13  \n",
       "4  darkness, drive-out, hate, inspirational, ligh...            20  "
      ]
     },
     "execution_count": 10,
     "metadata": {},
     "output_type": "execute_result"
    }
   ],
   "source": [
    "quotes.head()"
   ]
  },
  {
   "cell_type": "code",
   "execution_count": 11,
   "id": "2e3981da",
   "metadata": {},
   "outputs": [
    {
     "data": {
      "text/plain": [
       "'A friend is someone who knows all about you and still loves you.'"
      ]
     },
     "execution_count": 11,
     "metadata": {},
     "output_type": "execute_result"
    }
   ],
   "source": [
    "quotes.quote[3]"
   ]
  },
  {
   "cell_type": "markdown",
   "id": "01de01d7",
   "metadata": {},
   "source": [
    "__Cleaning data: tags are all lowercase, '-' were replaced with ',', duplicates were removed__"
   ]
  },
  {
   "cell_type": "code",
   "execution_count": 12,
   "id": "e8b8f4f9",
   "metadata": {},
   "outputs": [],
   "source": [
    "for index, row in quotes.iterrows():\n",
    "    quotes.loc[index, \"category\"] = str(row['category']).lower().replace('-',', ')"
   ]
  },
  {
   "cell_type": "code",
   "execution_count": 13,
   "id": "0ca9c0f2",
   "metadata": {},
   "outputs": [],
   "source": [
    "quotes['list_tags'] = quotes['category'].copy()\n",
    "quotes['count_tags'] = number_of_tags"
   ]
  },
  {
   "cell_type": "code",
   "execution_count": 14,
   "id": "05270657",
   "metadata": {},
   "outputs": [
    {
     "data": {
      "text/html": [
       "<div>\n",
       "<style scoped>\n",
       "    .dataframe tbody tr th:only-of-type {\n",
       "        vertical-align: middle;\n",
       "    }\n",
       "\n",
       "    .dataframe tbody tr th {\n",
       "        vertical-align: top;\n",
       "    }\n",
       "\n",
       "    .dataframe thead th {\n",
       "        text-align: right;\n",
       "    }\n",
       "</style>\n",
       "<table border=\"1\" class=\"dataframe\">\n",
       "  <thead>\n",
       "    <tr style=\"text-align: right;\">\n",
       "      <th></th>\n",
       "      <th>quote</th>\n",
       "      <th>author</th>\n",
       "      <th>category</th>\n",
       "      <th>quotes_length</th>\n",
       "      <th>list_tags</th>\n",
       "      <th>count_tags</th>\n",
       "    </tr>\n",
       "  </thead>\n",
       "  <tbody>\n",
       "    <tr>\n",
       "      <th>0</th>\n",
       "      <td>I'm selfish, impatient and a little insecure. ...</td>\n",
       "      <td>Marilyn Monroe</td>\n",
       "      <td>attributed, no, source, best, life, love, mist...</td>\n",
       "      <td>41</td>\n",
       "      <td>[attributed,  no,  source,  best,  life,  love...</td>\n",
       "      <td>8</td>\n",
       "    </tr>\n",
       "    <tr>\n",
       "      <th>1</th>\n",
       "      <td>You've gotta dance like there's nobody watchin...</td>\n",
       "      <td>William W. Purkey</td>\n",
       "      <td>dance, heaven, hurt, inspirational, life, love...</td>\n",
       "      <td>22</td>\n",
       "      <td>[dance,  heaven,  hurt,  inspirational,  life,...</td>\n",
       "      <td>7</td>\n",
       "    </tr>\n",
       "    <tr>\n",
       "      <th>2</th>\n",
       "      <td>You know you're in love when you can't fall as...</td>\n",
       "      <td>Dr. Seuss</td>\n",
       "      <td>attributed, no, source, dreams, love, reality,...</td>\n",
       "      <td>18</td>\n",
       "      <td>[attributed,  no,  source,  dreams,  love,  re...</td>\n",
       "      <td>5</td>\n",
       "    </tr>\n",
       "    <tr>\n",
       "      <th>3</th>\n",
       "      <td>A friend is someone who knows all about you an...</td>\n",
       "      <td>Elbert Hubbard</td>\n",
       "      <td>friend, friendship, knowledge, love</td>\n",
       "      <td>13</td>\n",
       "      <td>[friend,  friendship,  knowledge,  love]</td>\n",
       "      <td>4</td>\n",
       "    </tr>\n",
       "    <tr>\n",
       "      <th>4</th>\n",
       "      <td>Darkness cannot drive out darkness: only light...</td>\n",
       "      <td>Martin Luther King Jr., A Testament of Hope: T...</td>\n",
       "      <td>darkness, drive, out, hate, inspirational, lig...</td>\n",
       "      <td>20</td>\n",
       "      <td>[darkness,  drive,  out,  hate,  inspirational...</td>\n",
       "      <td>7</td>\n",
       "    </tr>\n",
       "  </tbody>\n",
       "</table>\n",
       "</div>"
      ],
      "text/plain": [
       "                                               quote  \\\n",
       "0  I'm selfish, impatient and a little insecure. ...   \n",
       "1  You've gotta dance like there's nobody watchin...   \n",
       "2  You know you're in love when you can't fall as...   \n",
       "3  A friend is someone who knows all about you an...   \n",
       "4  Darkness cannot drive out darkness: only light...   \n",
       "\n",
       "                                              author  \\\n",
       "0                                     Marilyn Monroe   \n",
       "1                                  William W. Purkey   \n",
       "2                                          Dr. Seuss   \n",
       "3                                     Elbert Hubbard   \n",
       "4  Martin Luther King Jr., A Testament of Hope: T...   \n",
       "\n",
       "                                            category quotes_length  \\\n",
       "0  attributed, no, source, best, life, love, mist...            41   \n",
       "1  dance, heaven, hurt, inspirational, life, love...            22   \n",
       "2  attributed, no, source, dreams, love, reality,...            18   \n",
       "3                friend, friendship, knowledge, love            13   \n",
       "4  darkness, drive, out, hate, inspirational, lig...            20   \n",
       "\n",
       "                                           list_tags  count_tags  \n",
       "0  [attributed,  no,  source,  best,  life,  love...           8  \n",
       "1  [dance,  heaven,  hurt,  inspirational,  life,...           7  \n",
       "2  [attributed,  no,  source,  dreams,  love,  re...           5  \n",
       "3           [friend,  friendship,  knowledge,  love]           4  \n",
       "4  [darkness,  drive,  out,  hate,  inspirational...           7  "
      ]
     },
     "execution_count": 14,
     "metadata": {},
     "output_type": "execute_result"
    }
   ],
   "source": [
    "for index,row in quotes.iterrows():\n",
    "    quotes.at[index, 'list_tags'] = str(row['list_tags']).split(',')\n",
    "quotes.head()"
   ]
  },
  {
   "cell_type": "code",
   "execution_count": 15,
   "id": "7d47b0b0",
   "metadata": {},
   "outputs": [
    {
     "data": {
      "image/png": "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\n",
      "text/plain": [
       "<Figure size 432x288 with 1 Axes>"
      ]
     },
     "metadata": {
      "needs_background": "light"
     },
     "output_type": "display_data"
    }
   ],
   "source": [
    "import matplotlib.pyplot as plt\n",
    "# matplotlib histogram\n",
    "plt.hist(quotes.count_tags, bins=100)\n",
    "plt.xlim(xmin=0,xmax=50)\n",
    "plt.show()"
   ]
  },
  {
   "cell_type": "code",
   "execution_count": 16,
   "id": "acdee6e6",
   "metadata": {},
   "outputs": [
    {
     "data": {
      "text/plain": [
       "Text(0, 0.5, 'Number of tags')"
      ]
     },
     "execution_count": 16,
     "metadata": {},
     "output_type": "execute_result"
    },
    {
     "data": {
      "image/png": "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\n",
      "text/plain": [
       "<Figure size 432x288 with 1 Axes>"
      ]
     },
     "metadata": {
      "needs_background": "light"
     },
     "output_type": "display_data"
    }
   ],
   "source": [
    "plt.scatter(quotes.quotes_length,quotes.count_tags)\n",
    "plt.xlabel('Length of quotes')\n",
    "plt.ylabel('Number of tags')"
   ]
  },
  {
   "cell_type": "code",
   "execution_count": 17,
   "id": "cd5b2363",
   "metadata": {},
   "outputs": [
    {
     "data": {
      "text/plain": [
       "count    499709.000000\n",
       "mean          4.916834\n",
       "std           6.274429\n",
       "min           1.000000\n",
       "25%           2.000000\n",
       "50%           3.000000\n",
       "75%           5.000000\n",
       "max         303.000000\n",
       "Name: count_tags, dtype: float64"
      ]
     },
     "execution_count": 17,
     "metadata": {},
     "output_type": "execute_result"
    }
   ],
   "source": [
<<<<<<< HEAD
    "print(f\"Unique tags used altogether: {len(vocab_list)}\")"
   ]
  },
  {
   "cell_type": "code",
   "execution_count": 12,
   "id": "ed7c68d8",
   "metadata": {
    "collapsed": true
   },
   "outputs": [
    {
     "ename": "KeyboardInterrupt",
     "evalue": "",
     "output_type": "error",
     "traceback": [
      "\u001b[0;31m---------------------------------------------------------------------------\u001b[0m",
      "\u001b[0;31mKeyboardInterrupt\u001b[0m                         Traceback (most recent call last)",
      "\u001b[0;32m/tmp/ipykernel_8695/586247501.py\u001b[0m in \u001b[0;36m<module>\u001b[0;34m\u001b[0m\n\u001b[1;32m      1\u001b[0m \u001b[0mquotes\u001b[0m\u001b[0;34m[\u001b[0m\u001b[0;34m'quotes_length'\u001b[0m\u001b[0;34m]\u001b[0m \u001b[0;34m=\u001b[0m \u001b[0mquotes\u001b[0m\u001b[0;34m[\u001b[0m\u001b[0;34m'quote'\u001b[0m\u001b[0;34m]\u001b[0m\u001b[0;34m.\u001b[0m\u001b[0mcopy\u001b[0m\u001b[0;34m(\u001b[0m\u001b[0;34m)\u001b[0m\u001b[0;34m\u001b[0m\u001b[0;34m\u001b[0m\u001b[0m\n\u001b[1;32m      2\u001b[0m \u001b[0;32mfor\u001b[0m \u001b[0mindex\u001b[0m\u001b[0;34m,\u001b[0m \u001b[0mrow\u001b[0m \u001b[0;32min\u001b[0m \u001b[0mquotes\u001b[0m\u001b[0;34m.\u001b[0m\u001b[0miterrows\u001b[0m\u001b[0;34m(\u001b[0m\u001b[0;34m)\u001b[0m\u001b[0;34m:\u001b[0m\u001b[0;34m\u001b[0m\u001b[0;34m\u001b[0m\u001b[0m\n\u001b[0;32m----> 3\u001b[0;31m     \u001b[0mquotes\u001b[0m\u001b[0;34m.\u001b[0m\u001b[0mloc\u001b[0m\u001b[0;34m[\u001b[0m\u001b[0mindex\u001b[0m\u001b[0;34m,\u001b[0m \u001b[0;34m\"quotes_length\"\u001b[0m\u001b[0;34m]\u001b[0m \u001b[0;34m=\u001b[0m \u001b[0mlen\u001b[0m\u001b[0;34m(\u001b[0m\u001b[0mstr\u001b[0m\u001b[0;34m(\u001b[0m\u001b[0mrow\u001b[0m\u001b[0;34m[\u001b[0m\u001b[0;34m'quotes_length'\u001b[0m\u001b[0;34m]\u001b[0m\u001b[0;34m)\u001b[0m\u001b[0;34m.\u001b[0m\u001b[0msplit\u001b[0m\u001b[0;34m(\u001b[0m\u001b[0;34m' '\u001b[0m\u001b[0;34m)\u001b[0m\u001b[0;34m)\u001b[0m\u001b[0;34m\u001b[0m\u001b[0;34m\u001b[0m\u001b[0m\n\u001b[0m\u001b[1;32m      4\u001b[0m \u001b[0;34m\u001b[0m\u001b[0m\n",
      "\u001b[0;32m~/.pyenv/versions/3.8.12/envs/lewagon/lib/python3.8/site-packages/pandas/core/indexing.py\u001b[0m in \u001b[0;36m__setitem__\u001b[0;34m(self, key, value)\u001b[0m\n\u001b[1;32m    721\u001b[0m \u001b[0;34m\u001b[0m\u001b[0m\n\u001b[1;32m    722\u001b[0m         \u001b[0miloc\u001b[0m \u001b[0;34m=\u001b[0m \u001b[0mself\u001b[0m \u001b[0;32mif\u001b[0m \u001b[0mself\u001b[0m\u001b[0;34m.\u001b[0m\u001b[0mname\u001b[0m \u001b[0;34m==\u001b[0m \u001b[0;34m\"iloc\"\u001b[0m \u001b[0;32melse\u001b[0m \u001b[0mself\u001b[0m\u001b[0;34m.\u001b[0m\u001b[0mobj\u001b[0m\u001b[0;34m.\u001b[0m\u001b[0miloc\u001b[0m\u001b[0;34m\u001b[0m\u001b[0;34m\u001b[0m\u001b[0m\n\u001b[0;32m--> 723\u001b[0;31m         \u001b[0miloc\u001b[0m\u001b[0;34m.\u001b[0m\u001b[0m_setitem_with_indexer\u001b[0m\u001b[0;34m(\u001b[0m\u001b[0mindexer\u001b[0m\u001b[0;34m,\u001b[0m \u001b[0mvalue\u001b[0m\u001b[0;34m,\u001b[0m \u001b[0mself\u001b[0m\u001b[0;34m.\u001b[0m\u001b[0mname\u001b[0m\u001b[0;34m)\u001b[0m\u001b[0;34m\u001b[0m\u001b[0;34m\u001b[0m\u001b[0m\n\u001b[0m\u001b[1;32m    724\u001b[0m \u001b[0;34m\u001b[0m\u001b[0m\n\u001b[1;32m    725\u001b[0m     \u001b[0;32mdef\u001b[0m \u001b[0m_validate_key\u001b[0m\u001b[0;34m(\u001b[0m\u001b[0mself\u001b[0m\u001b[0;34m,\u001b[0m \u001b[0mkey\u001b[0m\u001b[0;34m,\u001b[0m \u001b[0maxis\u001b[0m\u001b[0;34m:\u001b[0m \u001b[0mint\u001b[0m\u001b[0;34m)\u001b[0m\u001b[0;34m:\u001b[0m\u001b[0;34m\u001b[0m\u001b[0;34m\u001b[0m\u001b[0m\n",
      "\u001b[0;32m~/.pyenv/versions/3.8.12/envs/lewagon/lib/python3.8/site-packages/pandas/core/indexing.py\u001b[0m in \u001b[0;36m_setitem_with_indexer\u001b[0;34m(self, indexer, value, name)\u001b[0m\n\u001b[1;32m   1728\u001b[0m         \u001b[0;32mif\u001b[0m \u001b[0mtake_split_path\u001b[0m\u001b[0;34m:\u001b[0m\u001b[0;34m\u001b[0m\u001b[0;34m\u001b[0m\u001b[0m\n\u001b[1;32m   1729\u001b[0m             \u001b[0;31m# We have to operate column-wise\u001b[0m\u001b[0;34m\u001b[0m\u001b[0;34m\u001b[0m\u001b[0;34m\u001b[0m\u001b[0m\n\u001b[0;32m-> 1730\u001b[0;31m             \u001b[0mself\u001b[0m\u001b[0;34m.\u001b[0m\u001b[0m_setitem_with_indexer_split_path\u001b[0m\u001b[0;34m(\u001b[0m\u001b[0mindexer\u001b[0m\u001b[0;34m,\u001b[0m \u001b[0mvalue\u001b[0m\u001b[0;34m,\u001b[0m \u001b[0mname\u001b[0m\u001b[0;34m)\u001b[0m\u001b[0;34m\u001b[0m\u001b[0;34m\u001b[0m\u001b[0m\n\u001b[0m\u001b[1;32m   1731\u001b[0m         \u001b[0;32melse\u001b[0m\u001b[0;34m:\u001b[0m\u001b[0;34m\u001b[0m\u001b[0;34m\u001b[0m\u001b[0m\n\u001b[1;32m   1732\u001b[0m             \u001b[0mself\u001b[0m\u001b[0;34m.\u001b[0m\u001b[0m_setitem_single_block\u001b[0m\u001b[0;34m(\u001b[0m\u001b[0mindexer\u001b[0m\u001b[0;34m,\u001b[0m \u001b[0mvalue\u001b[0m\u001b[0;34m,\u001b[0m \u001b[0mname\u001b[0m\u001b[0;34m)\u001b[0m\u001b[0;34m\u001b[0m\u001b[0;34m\u001b[0m\u001b[0m\n",
      "\u001b[0;32m~/.pyenv/versions/3.8.12/envs/lewagon/lib/python3.8/site-packages/pandas/core/indexing.py\u001b[0m in \u001b[0;36m_setitem_with_indexer_split_path\u001b[0;34m(self, indexer, value, name)\u001b[0m\n\u001b[1;32m   1815\u001b[0m             \u001b[0;31m# scalar value\u001b[0m\u001b[0;34m\u001b[0m\u001b[0;34m\u001b[0m\u001b[0;34m\u001b[0m\u001b[0m\n\u001b[1;32m   1816\u001b[0m             \u001b[0;32mfor\u001b[0m \u001b[0mloc\u001b[0m \u001b[0;32min\u001b[0m \u001b[0milocs\u001b[0m\u001b[0;34m:\u001b[0m\u001b[0;34m\u001b[0m\u001b[0;34m\u001b[0m\u001b[0m\n\u001b[0;32m-> 1817\u001b[0;31m                 \u001b[0mself\u001b[0m\u001b[0;34m.\u001b[0m\u001b[0m_setitem_single_column\u001b[0m\u001b[0;34m(\u001b[0m\u001b[0mloc\u001b[0m\u001b[0;34m,\u001b[0m \u001b[0mvalue\u001b[0m\u001b[0;34m,\u001b[0m \u001b[0mpi\u001b[0m\u001b[0;34m)\u001b[0m\u001b[0;34m\u001b[0m\u001b[0;34m\u001b[0m\u001b[0m\n\u001b[0m\u001b[1;32m   1818\u001b[0m \u001b[0;34m\u001b[0m\u001b[0m\n\u001b[1;32m   1819\u001b[0m     \u001b[0;32mdef\u001b[0m \u001b[0m_setitem_with_indexer_2d_value\u001b[0m\u001b[0;34m(\u001b[0m\u001b[0mself\u001b[0m\u001b[0;34m,\u001b[0m \u001b[0mindexer\u001b[0m\u001b[0;34m,\u001b[0m \u001b[0mvalue\u001b[0m\u001b[0;34m)\u001b[0m\u001b[0;34m:\u001b[0m\u001b[0;34m\u001b[0m\u001b[0;34m\u001b[0m\u001b[0m\n",
      "\u001b[0;32m~/.pyenv/versions/3.8.12/envs/lewagon/lib/python3.8/site-packages/pandas/core/indexing.py\u001b[0m in \u001b[0;36m_setitem_single_column\u001b[0;34m(self, loc, value, plane_indexer)\u001b[0m\n\u001b[1;32m   1922\u001b[0m \u001b[0;34m\u001b[0m\u001b[0m\n\u001b[1;32m   1923\u001b[0m         \u001b[0;31m# reset the sliced object if unique\u001b[0m\u001b[0;34m\u001b[0m\u001b[0;34m\u001b[0m\u001b[0;34m\u001b[0m\u001b[0m\n\u001b[0;32m-> 1924\u001b[0;31m         \u001b[0mself\u001b[0m\u001b[0;34m.\u001b[0m\u001b[0mobj\u001b[0m\u001b[0;34m.\u001b[0m\u001b[0m_iset_item\u001b[0m\u001b[0;34m(\u001b[0m\u001b[0mloc\u001b[0m\u001b[0;34m,\u001b[0m \u001b[0mser\u001b[0m\u001b[0;34m)\u001b[0m\u001b[0;34m\u001b[0m\u001b[0;34m\u001b[0m\u001b[0m\n\u001b[0m\u001b[1;32m   1925\u001b[0m \u001b[0;34m\u001b[0m\u001b[0m\n\u001b[1;32m   1926\u001b[0m     \u001b[0;32mdef\u001b[0m \u001b[0m_setitem_single_block\u001b[0m\u001b[0;34m(\u001b[0m\u001b[0mself\u001b[0m\u001b[0;34m,\u001b[0m \u001b[0mindexer\u001b[0m\u001b[0;34m,\u001b[0m \u001b[0mvalue\u001b[0m\u001b[0;34m,\u001b[0m \u001b[0mname\u001b[0m\u001b[0;34m:\u001b[0m \u001b[0mstr\u001b[0m\u001b[0;34m)\u001b[0m\u001b[0;34m:\u001b[0m\u001b[0;34m\u001b[0m\u001b[0;34m\u001b[0m\u001b[0m\n",
      "\u001b[0;32m~/.pyenv/versions/3.8.12/envs/lewagon/lib/python3.8/site-packages/pandas/core/frame.py\u001b[0m in \u001b[0;36m_iset_item\u001b[0;34m(self, loc, value)\u001b[0m\n\u001b[1;32m   3763\u001b[0m \u001b[0;34m\u001b[0m\u001b[0m\n\u001b[1;32m   3764\u001b[0m     \u001b[0;32mdef\u001b[0m \u001b[0m_iset_item\u001b[0m\u001b[0;34m(\u001b[0m\u001b[0mself\u001b[0m\u001b[0;34m,\u001b[0m \u001b[0mloc\u001b[0m\u001b[0;34m:\u001b[0m \u001b[0mint\u001b[0m\u001b[0;34m,\u001b[0m \u001b[0mvalue\u001b[0m\u001b[0;34m)\u001b[0m \u001b[0;34m->\u001b[0m \u001b[0;32mNone\u001b[0m\u001b[0;34m:\u001b[0m\u001b[0;34m\u001b[0m\u001b[0;34m\u001b[0m\u001b[0m\n\u001b[0;32m-> 3765\u001b[0;31m         \u001b[0marraylike\u001b[0m \u001b[0;34m=\u001b[0m \u001b[0mself\u001b[0m\u001b[0;34m.\u001b[0m\u001b[0m_sanitize_column\u001b[0m\u001b[0;34m(\u001b[0m\u001b[0mvalue\u001b[0m\u001b[0;34m)\u001b[0m\u001b[0;34m\u001b[0m\u001b[0;34m\u001b[0m\u001b[0m\n\u001b[0m\u001b[1;32m   3766\u001b[0m         \u001b[0mself\u001b[0m\u001b[0;34m.\u001b[0m\u001b[0m_iset_item_mgr\u001b[0m\u001b[0;34m(\u001b[0m\u001b[0mloc\u001b[0m\u001b[0;34m,\u001b[0m \u001b[0marraylike\u001b[0m\u001b[0;34m)\u001b[0m\u001b[0;34m\u001b[0m\u001b[0;34m\u001b[0m\u001b[0m\n\u001b[1;32m   3767\u001b[0m \u001b[0;34m\u001b[0m\u001b[0m\n",
      "\u001b[0;32m~/.pyenv/versions/3.8.12/envs/lewagon/lib/python3.8/site-packages/pandas/core/frame.py\u001b[0m in \u001b[0;36m_sanitize_column\u001b[0;34m(self, value)\u001b[0m\n\u001b[1;32m   4504\u001b[0m         \u001b[0;31m# We should never get here with DataFrame value\u001b[0m\u001b[0;34m\u001b[0m\u001b[0;34m\u001b[0m\u001b[0;34m\u001b[0m\u001b[0m\n\u001b[1;32m   4505\u001b[0m         \u001b[0;32mif\u001b[0m \u001b[0misinstance\u001b[0m\u001b[0;34m(\u001b[0m\u001b[0mvalue\u001b[0m\u001b[0;34m,\u001b[0m \u001b[0mSeries\u001b[0m\u001b[0;34m)\u001b[0m\u001b[0;34m:\u001b[0m\u001b[0;34m\u001b[0m\u001b[0;34m\u001b[0m\u001b[0m\n\u001b[0;32m-> 4506\u001b[0;31m             \u001b[0;32mreturn\u001b[0m \u001b[0m_reindex_for_setitem\u001b[0m\u001b[0;34m(\u001b[0m\u001b[0mvalue\u001b[0m\u001b[0;34m,\u001b[0m \u001b[0mself\u001b[0m\u001b[0;34m.\u001b[0m\u001b[0mindex\u001b[0m\u001b[0;34m)\u001b[0m\u001b[0;34m\u001b[0m\u001b[0;34m\u001b[0m\u001b[0m\n\u001b[0m\u001b[1;32m   4507\u001b[0m \u001b[0;34m\u001b[0m\u001b[0m\n\u001b[1;32m   4508\u001b[0m         \u001b[0;32mif\u001b[0m \u001b[0mis_list_like\u001b[0m\u001b[0;34m(\u001b[0m\u001b[0mvalue\u001b[0m\u001b[0;34m)\u001b[0m\u001b[0;34m:\u001b[0m\u001b[0;34m\u001b[0m\u001b[0;34m\u001b[0m\u001b[0m\n",
      "\u001b[0;32m~/.pyenv/versions/3.8.12/envs/lewagon/lib/python3.8/site-packages/pandas/core/frame.py\u001b[0m in \u001b[0;36m_reindex_for_setitem\u001b[0;34m(value, index)\u001b[0m\n\u001b[1;32m  10769\u001b[0m \u001b[0;34m\u001b[0m\u001b[0m\n\u001b[1;32m  10770\u001b[0m     \u001b[0;32mif\u001b[0m \u001b[0mvalue\u001b[0m\u001b[0;34m.\u001b[0m\u001b[0mindex\u001b[0m\u001b[0;34m.\u001b[0m\u001b[0mequals\u001b[0m\u001b[0;34m(\u001b[0m\u001b[0mindex\u001b[0m\u001b[0;34m)\u001b[0m \u001b[0;32mor\u001b[0m \u001b[0;32mnot\u001b[0m \u001b[0mlen\u001b[0m\u001b[0;34m(\u001b[0m\u001b[0mindex\u001b[0m\u001b[0;34m)\u001b[0m\u001b[0;34m:\u001b[0m\u001b[0;34m\u001b[0m\u001b[0;34m\u001b[0m\u001b[0m\n\u001b[0;32m> 10771\u001b[0;31m         \u001b[0;32mreturn\u001b[0m \u001b[0mvalue\u001b[0m\u001b[0;34m.\u001b[0m\u001b[0m_values\u001b[0m\u001b[0;34m.\u001b[0m\u001b[0mcopy\u001b[0m\u001b[0;34m(\u001b[0m\u001b[0;34m)\u001b[0m\u001b[0;34m\u001b[0m\u001b[0;34m\u001b[0m\u001b[0m\n\u001b[0m\u001b[1;32m  10772\u001b[0m \u001b[0;34m\u001b[0m\u001b[0m\n\u001b[1;32m  10773\u001b[0m     \u001b[0;31m# GH#4107\u001b[0m\u001b[0;34m\u001b[0m\u001b[0;34m\u001b[0m\u001b[0;34m\u001b[0m\u001b[0m\n",
      "\u001b[0;31mKeyboardInterrupt\u001b[0m: "
     ]
    }
   ],
   "source": [
    "quotes['quotes_length'] = quotes['quote'].copy()\n",
    "for index, row in quotes.iterrows():\n",
    "    quotes.loc[index, \"quotes_length\"] = len(str(row['quotes_length']).split(' '))\n",
    "    \n"
=======
    "quotes.count_tags.describe()"
>>>>>>> 69665e65a7c9baf063812b22af8a253a46f0fc26
   ]
  },
  {
   "cell_type": "code",
<<<<<<< HEAD
   "execution_count": null,
   "id": "81303ec0",
   "metadata": {},
   "outputs": [],
=======
   "execution_count": 18,
   "id": "39e27e22",
   "metadata": {},
   "outputs": [
    {
     "data": {
      "text/html": [
       "<div>\n",
       "<style scoped>\n",
       "    .dataframe tbody tr th:only-of-type {\n",
       "        vertical-align: middle;\n",
       "    }\n",
       "\n",
       "    .dataframe tbody tr th {\n",
       "        vertical-align: top;\n",
       "    }\n",
       "\n",
       "    .dataframe thead th {\n",
       "        text-align: right;\n",
       "    }\n",
       "</style>\n",
       "<table border=\"1\" class=\"dataframe\">\n",
       "  <thead>\n",
       "    <tr style=\"text-align: right;\">\n",
       "      <th></th>\n",
       "      <th>quote</th>\n",
       "      <th>category</th>\n",
       "    </tr>\n",
       "  </thead>\n",
       "  <tbody>\n",
       "    <tr>\n",
       "      <th>20209</th>\n",
       "      <td>Belief is a wonderful way to pass the time unt...</td>\n",
       "      <td>aetheism, agnostic, agnostic, atheism, agnosti...</td>\n",
       "    </tr>\n",
       "    <tr>\n",
       "      <th>50602</th>\n",
       "      <td>If the surprise outcome of the recent UK refer...</td>\n",
       "      <td>antagonism, antagonistic, austerity, better, i...</td>\n",
       "    </tr>\n",
       "  </tbody>\n",
       "</table>\n",
       "</div>"
      ],
      "text/plain": [
       "                                                   quote  \\\n",
       "20209  Belief is a wonderful way to pass the time unt...   \n",
       "50602  If the surprise outcome of the recent UK refer...   \n",
       "\n",
       "                                                category  \n",
       "20209  aetheism, agnostic, agnostic, atheism, agnosti...  \n",
       "50602  antagonism, antagonistic, austerity, better, i...  "
      ]
     },
     "execution_count": 18,
     "metadata": {},
     "output_type": "execute_result"
    }
   ],
>>>>>>> 69665e65a7c9baf063812b22af8a253a46f0fc26
   "source": [
    "quotes.loc[quotes['count_tags'] > 300, ['quote','category']]"
   ]
  },
  {
   "cell_type": "code",
<<<<<<< HEAD
   "execution_count": null,
   "id": "2e3981da",
   "metadata": {},
   "outputs": [],
=======
   "execution_count": 19,
   "id": "1dd73000",
   "metadata": {},
   "outputs": [
    {
     "data": {
      "text/plain": [
       "count    499709.000000\n",
       "mean          6.684064\n",
       "std          10.532606\n",
       "min           1.000000\n",
       "25%           2.000000\n",
       "50%           3.000000\n",
       "75%           7.000000\n",
       "max         568.000000\n",
       "Name: count_tags, dtype: float64"
      ]
     },
     "execution_count": 19,
     "metadata": {},
     "output_type": "execute_result"
    }
   ],
>>>>>>> 69665e65a7c9baf063812b22af8a253a46f0fc26
   "source": [
    "for index,row in quotes.iterrows():\n",
    "    quotes.at[index, 'count_tags'] = len(row['list_tags'])\n",
    "quotes.count_tags.describe()"
   ]
  },
  {
   "cell_type": "code",
<<<<<<< HEAD
   "execution_count": null,
   "id": "9b6099f6",
   "metadata": {},
   "outputs": [],
=======
   "execution_count": 20,
   "id": "7cbcf7ba",
   "metadata": {},
   "outputs": [],
   "source": [
    "for index,row in quotes.iterrows():\n",
    "    quotes.at[index, 'list_tags'] = str(set(row['list_tags']))\n"
   ]
  },
  {
   "cell_type": "code",
   "execution_count": 21,
   "id": "aaa200ba",
   "metadata": {},
   "outputs": [],
   "source": [
    "def remove_punctuations(text):\n",
    "    for punctuation in string.punctuation:\n",
    "        text = text.replace(punctuation, '')\n",
    "    return text\n",
    "quotes['list_tags'] = quotes['list_tags'].apply(remove_punctuations)"
   ]
  },
  {
   "cell_type": "code",
   "execution_count": 22,
   "id": "84a24252",
   "metadata": {},
   "outputs": [
    {
     "data": {
      "text/plain": [
       "' friendship  love  knowledge friend'"
      ]
     },
     "execution_count": 22,
     "metadata": {},
     "output_type": "execute_result"
    }
   ],
   "source": [
    "quotes.list_tags[3]"
   ]
  },
  {
   "cell_type": "code",
   "execution_count": 23,
   "id": "9d99e074",
   "metadata": {},
   "outputs": [],
   "source": [
    "vectorizer = CountVectorizer()\n",
    "\n",
    "tags_vectorized = vectorizer.fit_transform(quotes['list_tags'])\n",
    "\n",
    "dummy_tags = LatentDirichletAllocation(n_components=5)\n",
    "\n",
    "lda_vectors = dummy_tags.fit_transform(tags_vectorized)"
   ]
  },
  {
   "cell_type": "code",
   "execution_count": 24,
   "id": "47c00750",
   "metadata": {},
   "outputs": [
    {
     "name": "stdout",
     "output_type": "stream",
     "text": [
      "Topic 0:\n",
      "[('you', 8630.31965073447), ('fiction', 7630.078767389062), ('debasish', 7236.19700118258), ('the', 6873.809601061063), ('love', 6609.230180944871), ('me', 5699.174449082494), ('of', 5158.244596344876), ('mridha', 5038.196938441045), ('philosophy', 4510.167181751582), ('science', 4299.944985027555)]\n",
      "Topic 1:\n",
      "[('humor', 14834.017945952088), ('romance', 13755.009892770813), ('funny', 6140.9612663160515), ('women', 5117.279880715138), ('politics', 4830.901022894082), ('freedom', 4038.7997204343224), ('humour', 4018.120882717259), ('war', 4012.9932341493877), ('paranormal', 3722.439883064935), ('fantasy', 3658.719266147448)]\n",
      "Topic 2:\n",
      "[('life', 30046.099144619966), ('inspirational', 25994.737952749256), ('quotes', 24083.480787279506), ('self', 18899.86276189159), ('of', 11968.911237967499), ('success', 11344.468949047941), ('motivational', 9896.934504864374), ('living', 8577.332387467912), ('and', 8342.186113806853), ('motivation', 7405.411800002169)]\n",
      "Topic 3:\n",
      "[('life', 16496.62672635914), ('love', 14853.188764598794), ('truth', 13620.512530982873), ('philosophy', 12224.255763554653), ('god', 10726.73048298262), ('inspirational', 10604.987060082261), ('death', 10320.084297581241), ('wisdom', 9672.302893814469), ('religion', 7989.161773007826), ('knowledge', 7373.2901745565305)]\n",
      "Topic 4:\n",
      "[('love', 25428.9325750461), ('life', 21337.43314753935), ('people', 12036.486378728792), ('time', 11751.962402809258), ('writing', 11101.666177139257), ('quotes', 9880.3337381902), ('work', 8075.41966234936), ('poetry', 7550.949286780223), ('books', 6705.639883371065), ('relationships', 5976.07522697941)]\n"
     ]
    }
   ],
   "source": [
    "def print_topics(model, vectorizer):\n",
    "    for idx, topic in enumerate(model.components_):\n",
    "        print(\"Topic %d:\" % (idx))\n",
    "        print([(vectorizer.get_feature_names_out()[i], topic[i])\n",
    "                        for i in topic.argsort()[:-10 - 1:-1]])\n",
    "        \n",
    "\n",
    "print_topics(dummy_tags, vectorizer.fit(quotes['list_tags']))"
   ]
  },
  {
   "cell_type": "code",
   "execution_count": 25,
   "id": "61b7b034",
   "metadata": {},
   "outputs": [],
   "source": [
    "quotes40 = quotes.loc[quotes['count_tags'] < 40]"
   ]
  },
  {
   "cell_type": "code",
   "execution_count": 26,
   "id": "e4ca833f",
   "metadata": {},
   "outputs": [
    {
     "data": {
      "text/plain": [
       "count    491117.000000\n",
       "mean          5.682434\n",
       "std           5.996127\n",
       "min           1.000000\n",
       "25%           2.000000\n",
       "50%           3.000000\n",
       "75%           7.000000\n",
       "max          39.000000\n",
       "Name: count_tags, dtype: float64"
      ]
     },
     "execution_count": 26,
     "metadata": {},
     "output_type": "execute_result"
    }
   ],
   "source": [
    "quotes40.count_tags.describe()"
   ]
  },
  {
   "cell_type": "code",
   "execution_count": 27,
   "id": "452a69ab",
   "metadata": {},
   "outputs": [
    {
     "name": "stdout",
     "output_type": "stream",
     "text": [
      "Topic 0:\n",
      "[('writing', 10437.615388474936), ('philosophy', 9116.36397379849), ('debasish', 7230.198119431722), ('books', 6175.400421245512), ('inspirational', 5696.409170824202), ('quotes', 5263.361218424286), ('mridha', 5032.197974582692), ('change', 4501.670841962593), ('reading', 4326.19756371078), ('thought', 4292.585616450961)]\n",
      "Topic 1:\n",
      "[('romance', 15577.197365830718), ('humor', 14429.533522468173), ('love', 8580.748421179836), ('fiction', 7764.745233600828), ('funny', 5701.605859084161), ('fantasy', 5364.197912852352), ('science', 4897.230284254895), ('women', 4540.577522296902), ('men', 3902.417367780928), ('paranormal', 3849.1993990515743)]\n",
      "Topic 2:\n",
      "[('god', 11160.497435551224), ('you', 8605.14903846974), ('people', 7770.350732563857), ('religion', 6764.461550157589), ('good', 6467.249075950859), ('faith', 6272.325684748144), ('me', 5484.789965818862), ('world', 5043.804674627134), ('children', 4733.086770843012), ('war', 4605.794139001048)]\n",
      "Topic 3:\n",
      "[('life', 45232.456111486536), ('love', 41474.68172953795), ('inspirational', 25516.658559559648), ('quotes', 23534.777575015378), ('wisdom', 12670.239045147286), ('truth', 11794.90521461879), ('happiness', 10294.018120535477), ('of', 9588.242059688082), ('philosophy', 9006.36486998901), ('hope', 8893.794553303562)]\n",
      "Topic 4:\n",
      "[('life', 10528.507194655976), ('quotes', 9930.079155370115), ('success', 8668.331196289362), ('self', 8492.270175370502), ('inspirational', 6519.198200331787), ('work', 6356.400973811195), ('art', 5277.958155732973), ('freedom', 5047.901578267418), ('of', 4887.18105183634), ('motivational', 4776.501880640575)]\n"
     ]
    }
   ],
   "source": [
    "tags40_vectorized = vectorizer.fit_transform(quotes40['list_tags'])\n",
    "lda_vectors_40 = dummy_tags.fit_transform(tags40_vectorized)\n",
    "print_topics(dummy_tags, vectorizer.fit(quotes40['list_tags']))"
   ]
  },
  {
   "cell_type": "code",
   "execution_count": 28,
   "id": "50bbda58",
   "metadata": {},
   "outputs": [
    {
     "name": "stdout",
     "output_type": "stream",
     "text": [
      "topic 0 : 0.2541674902622221\n",
      "topic 1 : 0.025179509037378374\n",
      "topic 2 : 0.36679375440875894\n",
      "topic 3 : 0.32870362857329744\n",
      "topic 4 : 0.025155617718343175\n"
     ]
    }
   ],
   "source": [
    "test_sad = [\"I am so sad and I want to cry.\"]\n",
    "test_sad_vectorized = vectorizer.transform(test_sad)\n",
    "\n",
    "lda_vectors_sad = dummy_tags.transform(test_sad_vectorized)\n",
    "\n",
    "print(\"topic 0 :\", lda_vectors_sad[0][0])\n",
    "print(\"topic 1 :\", lda_vectors_sad[0][1])\n",
    "print(\"topic 2 :\", lda_vectors_sad[0][2])\n",
    "print(\"topic 3 :\", lda_vectors_sad[0][3])\n",
    "print(\"topic 4 :\", lda_vectors_sad[0][4])"
   ]
  },
  {
   "cell_type": "code",
   "execution_count": 29,
   "id": "655ce579",
   "metadata": {},
   "outputs": [
    {
     "name": "stdout",
     "output_type": "stream",
     "text": [
      "topic 0 : 0.2833913501827798\n",
      "topic 1 : 0.02011417307400236\n",
      "topic 2 : 0.36579617913744544\n",
      "topic 3 : 0.3105533990186777\n",
      "topic 4 : 0.0201448985870949\n"
     ]
    }
   ],
   "source": [
    "test_happy = ['I am so happy, I just want to dance and sing.']\n",
    "test_happy_vectorized = vectorizer.transform(test_happy)\n",
    "\n",
    "lda_vectors_happy = dummy_tags.transform(test_happy_vectorized)\n",
    "\n",
    "print(\"topic 0 :\", lda_vectors_happy[0][0])\n",
    "print(\"topic 1 :\", lda_vectors_happy[0][1])\n",
    "print(\"topic 2 :\", lda_vectors_happy[0][2])\n",
    "print(\"topic 3 :\", lda_vectors_happy[0][3])\n",
    "print(\"topic 4 :\", lda_vectors_happy[0][4])"
   ]
  },
  {
   "cell_type": "code",
   "execution_count": 30,
   "id": "c11a6479",
   "metadata": {},
   "outputs": [
    {
     "name": "stdout",
     "output_type": "stream",
     "text": [
      "topic 0 : 0.01558453507899848\n",
      "topic 1 : 0.11936264378837322\n",
      "topic 2 : 0.8338638942132419\n",
      "topic 3 : 0.01566346121176683\n",
      "topic 4 : 0.015525465707619474\n"
     ]
    }
   ],
   "source": [
    "test_architecture = ['Here you can see my house next to the Brandenburg Gate in Berlin.']\n",
    "test_architecture_vectorized = vectorizer.transform(test_architecture)\n",
    "lda_vectors_arch = dummy_tags.transform(test_architecture_vectorized)\n",
    "\n",
    "print(\"topic 0 :\", lda_vectors_arch[0][0])\n",
    "print(\"topic 1 :\", lda_vectors_arch[0][1])\n",
    "print(\"topic 2 :\", lda_vectors_arch[0][2])\n",
    "print(\"topic 3 :\", lda_vectors_arch[0][3])\n",
    "print(\"topic 4 :\", lda_vectors_arch[0][4])"
   ]
  },
  {
   "cell_type": "code",
   "execution_count": 31,
   "id": "57f64738",
   "metadata": {},
   "outputs": [
    {
     "name": "stdout",
     "output_type": "stream",
     "text": [
      "topic 0 : 0.025307766994765543\n",
      "topic 1 : 0.36474271515315154\n",
      "topic 2 : 0.5595562519525935\n",
      "topic 3 : 0.025363961611113754\n",
      "topic 4 : 0.025029304288375638\n"
     ]
    }
   ],
   "source": [
    "test_fashion = ['She is wearing a blue dress with a yellow scarf.']\n",
    "test_fashion_vectorized = vectorizer.transform(test_fashion)\n",
    "lda_vectors_fashion = dummy_tags.transform(test_fashion_vectorized)\n",
    "\n",
    "print(\"topic 0 :\", lda_vectors_fashion[0][0])\n",
    "print(\"topic 1 :\", lda_vectors_fashion[0][1])\n",
    "print(\"topic 2 :\", lda_vectors_fashion[0][2])\n",
    "print(\"topic 3 :\", lda_vectors_fashion[0][3])\n",
    "print(\"topic 4 :\", lda_vectors_fashion[0][4])"
   ]
  },
  {
   "cell_type": "code",
   "execution_count": 32,
   "id": "bb7393cb",
   "metadata": {},
   "outputs": [
    {
     "name": "stdout",
     "output_type": "stream",
     "text": [
      "topic 0 : 0.49622269073184727\n",
      "topic 1 : 0.0231523037229061\n",
      "topic 2 : 0.2883053182161821\n",
      "topic 3 : 0.16996724053992396\n",
      "topic 4 : 0.0223524467891404\n"
     ]
    }
   ],
   "source": [
    "test_inspo = ['Believe in yourself, never give, up, blue sky.']\n",
    "test_in_vectorized = vectorizer.transform(test_inspo)\n",
    "lda_vectors_in = dummy_tags.transform(test_in_vectorized)\n",
    "\n",
    "print(\"topic 0 :\", lda_vectors_in[0][0])\n",
    "print(\"topic 1 :\", lda_vectors_in[0][1])\n",
    "print(\"topic 2 :\", lda_vectors_in[0][2])\n",
    "print(\"topic 3 :\", lda_vectors_in[0][3])\n",
    "print(\"topic 4 :\", lda_vectors_in[0][4])"
   ]
  },
  {
   "cell_type": "code",
   "execution_count": 33,
   "id": "86001ea8",
   "metadata": {},
   "outputs": [
    {
     "name": "stdout",
     "output_type": "stream",
     "text": [
      "topic 0 : 0.026186709019166674\n",
      "topic 1 : 0.1541858421592998\n",
      "topic 2 : 0.5978170978658788\n",
      "topic 3 : 0.19592156938193123\n",
      "topic 4 : 0.02588878157372358\n"
     ]
    }
   ],
   "source": [
    "test_baby = ['I am pregnant, dad is hoping for a boy.']\n",
    "test_b_vectorized = vectorizer.transform(test_baby)\n",
    "lda_vectors_b = dummy_tags.transform(test_b_vectorized)\n",
    "\n",
    "print(\"topic 0 :\", lda_vectors_b[0][0])\n",
    "print(\"topic 1 :\", lda_vectors_b[0][1])\n",
    "print(\"topic 2 :\", lda_vectors_b[0][2])\n",
    "print(\"topic 3 :\", lda_vectors_b[0][3])\n",
    "print(\"topic 4 :\", lda_vectors_b[0][4])"
   ]
  },
  {
   "cell_type": "code",
   "execution_count": null,
   "id": "a79053bc",
   "metadata": {},
   "outputs": [],
   "source": [
    "test_selfie = ['This is me, I have taken a selfie in Paris.']\n",
    "test_self_vectorized = vectorizer.transform(test_selfie)\n",
    "lda_vectors_self = dummy_tags.transform(test_self_vectorized)\n",
    "for index,row in quotes40.iterrows():\n",
    "    quotes40['topic'] = quotes40.quote.copy()\n",
    "    quotes40.at[index, 'topic'] = np.where(lda_vectors_self[0] == max(lda_vectors_self[0]))[0]\n",
    "\n",
    "print(\"topic 0 :\", lda_vectors_self[0][0])\n",
    "print(\"topic 1 :\", lda_vectors_self[0][1])\n",
    "print(\"topic 2 :\", lda_vectors_self[0][2])\n",
    "print(\"topic 3 :\", lda_vectors_self[0][3])\n",
    "print(\"topic 4 :\", lda_vectors_self[0][4])\n",
    "print('Best topic:', np.where(lda_vectors_self[0] == max(lda_vectors_self[0]))[0])"
   ]
  },
  {
   "cell_type": "code",
   "execution_count": null,
   "id": "f5c8fe2b",
   "metadata": {},
   "outputs": [],
   "source": [
    "quotes40.head()"
   ]
  },
  {
   "cell_type": "code",
   "execution_count": 35,
   "id": "3db7ce56",
   "metadata": {
    "scrolled": true
   },
   "outputs": [
    {
     "name": "stderr",
     "output_type": "stream",
     "text": [
      "/tmp/ipykernel_609/2858139770.py:1: SettingWithCopyWarning: \n",
      "A value is trying to be set on a copy of a slice from a DataFrame.\n",
      "Try using .loc[row_indexer,col_indexer] = value instead\n",
      "\n",
      "See the caveats in the documentation: https://pandas.pydata.org/pandas-docs/stable/user_guide/indexing.html#returning-a-view-versus-a-copy\n",
      "  quotes40.iloc[-1] = ['This is me, I have taken a selfie in Paris.','image','image','10','image','1']\n"
     ]
    }
   ],
   "source": [
    "quotes40.iloc[-1] = ['This is me, I have taken a selfie in Paris.','image','image','10','image','1']"
   ]
  },
  {
   "cell_type": "code",
   "execution_count": 36,
   "id": "4f5d9d48",
   "metadata": {
    "scrolled": true
   },
   "outputs": [
    {
     "data": {
      "text/html": [
       "<div>\n",
       "<style scoped>\n",
       "    .dataframe tbody tr th:only-of-type {\n",
       "        vertical-align: middle;\n",
       "    }\n",
       "\n",
       "    .dataframe tbody tr th {\n",
       "        vertical-align: top;\n",
       "    }\n",
       "\n",
       "    .dataframe thead th {\n",
       "        text-align: right;\n",
       "    }\n",
       "</style>\n",
       "<table border=\"1\" class=\"dataframe\">\n",
       "  <thead>\n",
       "    <tr style=\"text-align: right;\">\n",
       "      <th></th>\n",
       "      <th>quote</th>\n",
       "      <th>author</th>\n",
       "      <th>category</th>\n",
       "      <th>quotes_length</th>\n",
       "      <th>list_tags</th>\n",
       "      <th>count_tags</th>\n",
       "    </tr>\n",
       "  </thead>\n",
       "  <tbody>\n",
       "    <tr>\n",
       "      <th>499704</th>\n",
       "      <td>I do believe the most important thing I can do...</td>\n",
       "      <td>John C. Stennis</td>\n",
       "      <td>past, believe, help</td>\n",
       "      <td>24</td>\n",
       "      <td>believe  help  past</td>\n",
       "      <td>3</td>\n",
       "    </tr>\n",
       "    <tr>\n",
       "      <th>499705</th>\n",
       "      <td>I'd say I'm a bit antimadridista although I do...</td>\n",
       "      <td>Isco</td>\n",
       "      <td>team, humility, know</td>\n",
       "      <td>45</td>\n",
       "      <td>team  know   humility</td>\n",
       "      <td>3</td>\n",
       "    </tr>\n",
       "    <tr>\n",
       "      <th>499706</th>\n",
       "      <td>The future is now.</td>\n",
       "      <td>Nam June Paik</td>\n",
       "      <td>now</td>\n",
       "      <td>4</td>\n",
       "      <td>now</td>\n",
       "      <td>1</td>\n",
       "    </tr>\n",
       "    <tr>\n",
       "      <th>499707</th>\n",
       "      <td>In all my life and in the future, I will alway...</td>\n",
       "      <td>Norodom Sihamoni</td>\n",
       "      <td>life, my life, servant</td>\n",
       "      <td>22</td>\n",
       "      <td>life  servant   my life</td>\n",
       "      <td>3</td>\n",
       "    </tr>\n",
       "    <tr>\n",
       "      <th>499708</th>\n",
       "      <td>This is me, I have taken a selfie in Paris.</td>\n",
       "      <td>image</td>\n",
       "      <td>image</td>\n",
       "      <td>10</td>\n",
       "      <td>image</td>\n",
       "      <td>1</td>\n",
       "    </tr>\n",
       "  </tbody>\n",
       "</table>\n",
       "</div>"
      ],
      "text/plain": [
       "                                                    quote            author  \\\n",
       "499704  I do believe the most important thing I can do...   John C. Stennis   \n",
       "499705  I'd say I'm a bit antimadridista although I do...              Isco   \n",
       "499706                                 The future is now.     Nam June Paik   \n",
       "499707  In all my life and in the future, I will alway...  Norodom Sihamoni   \n",
       "499708        This is me, I have taken a selfie in Paris.             image   \n",
       "\n",
       "                       category quotes_length                list_tags  \\\n",
       "499704     past, believe, help             24      believe  help  past   \n",
       "499705    team, humility, know             45    team  know   humility   \n",
       "499706                     now              4                     now    \n",
       "499707  life, my life, servant             22  life  servant   my life   \n",
       "499708                    image            10                    image   \n",
       "\n",
       "       count_tags  \n",
       "499704          3  \n",
       "499705          3  \n",
       "499706          1  \n",
       "499707          3  \n",
       "499708          1  "
      ]
     },
     "execution_count": 36,
     "metadata": {},
     "output_type": "execute_result"
    }
   ],
>>>>>>> 69665e65a7c9baf063812b22af8a253a46f0fc26
   "source": [
    "quotes40.tail()"
   ]
  },
  {
   "cell_type": "code",
<<<<<<< HEAD
   "execution_count": null,
   "id": "36c9858b",
   "metadata": {},
   "outputs": [],
=======
   "execution_count": 37,
   "id": "9f91bb5c",
   "metadata": {},
   "outputs": [
    {
     "data": {
      "text/html": [
       "<div>\n",
       "<style scoped>\n",
       "    .dataframe tbody tr th:only-of-type {\n",
       "        vertical-align: middle;\n",
       "    }\n",
       "\n",
       "    .dataframe tbody tr th {\n",
       "        vertical-align: top;\n",
       "    }\n",
       "\n",
       "    .dataframe thead th {\n",
       "        text-align: right;\n",
       "    }\n",
       "</style>\n",
       "<table border=\"1\" class=\"dataframe\">\n",
       "  <thead>\n",
       "    <tr style=\"text-align: right;\">\n",
       "      <th></th>\n",
       "      <th>quote</th>\n",
       "      <th>author</th>\n",
       "      <th>category</th>\n",
       "      <th>quotes_length</th>\n",
       "      <th>list_tags</th>\n",
       "      <th>count_tags</th>\n",
       "    </tr>\n",
       "  </thead>\n",
       "  <tbody>\n",
       "    <tr>\n",
       "      <th>0</th>\n",
       "      <td>I'm selfish, impatient and a little insecure. ...</td>\n",
       "      <td>Marilyn Monroe</td>\n",
       "      <td>attributed, no, source, best, life, love, mist...</td>\n",
       "      <td>41</td>\n",
       "      <td>best  source  love  of  no  out  control  mis...</td>\n",
       "      <td>12</td>\n",
       "    </tr>\n",
       "    <tr>\n",
       "      <th>1</th>\n",
       "      <td>You've gotta dance like there's nobody watchin...</td>\n",
       "      <td>William W. Purkey</td>\n",
       "      <td>dance, heaven, hurt, inspirational, life, love...</td>\n",
       "      <td>22</td>\n",
       "      <td>sing  inspirational  love  hurt dance  heaven...</td>\n",
       "      <td>7</td>\n",
       "    </tr>\n",
       "    <tr>\n",
       "      <th>2</th>\n",
       "      <td>You know you're in love when you can't fall as...</td>\n",
       "      <td>Dr. Seuss</td>\n",
       "      <td>attributed, no, source, dreams, love, reality,...</td>\n",
       "      <td>18</td>\n",
       "      <td>source  love  sleep  dreams  no attributed  r...</td>\n",
       "      <td>7</td>\n",
       "    </tr>\n",
       "    <tr>\n",
       "      <th>3</th>\n",
       "      <td>A friend is someone who knows all about you an...</td>\n",
       "      <td>Elbert Hubbard</td>\n",
       "      <td>friend, friendship, knowledge, love</td>\n",
       "      <td>13</td>\n",
       "      <td>friendship  love  knowledge friend</td>\n",
       "      <td>4</td>\n",
       "    </tr>\n",
       "    <tr>\n",
       "      <th>4</th>\n",
       "      <td>Darkness cannot drive out darkness: only light...</td>\n",
       "      <td>Martin Luther King Jr., A Testament of Hope: T...</td>\n",
       "      <td>darkness, drive, out, hate, inspirational, lig...</td>\n",
       "      <td>20</td>\n",
       "      <td>peace  inspirational darkness  hate  love  ou...</td>\n",
       "      <td>8</td>\n",
       "    </tr>\n",
       "  </tbody>\n",
       "</table>\n",
       "</div>"
      ],
      "text/plain": [
       "                                               quote  \\\n",
       "0  I'm selfish, impatient and a little insecure. ...   \n",
       "1  You've gotta dance like there's nobody watchin...   \n",
       "2  You know you're in love when you can't fall as...   \n",
       "3  A friend is someone who knows all about you an...   \n",
       "4  Darkness cannot drive out darkness: only light...   \n",
       "\n",
       "                                              author  \\\n",
       "0                                     Marilyn Monroe   \n",
       "1                                  William W. Purkey   \n",
       "2                                          Dr. Seuss   \n",
       "3                                     Elbert Hubbard   \n",
       "4  Martin Luther King Jr., A Testament of Hope: T...   \n",
       "\n",
       "                                            category quotes_length  \\\n",
       "0  attributed, no, source, best, life, love, mist...            41   \n",
       "1  dance, heaven, hurt, inspirational, life, love...            22   \n",
       "2  attributed, no, source, dreams, love, reality,...            18   \n",
       "3                friend, friendship, knowledge, love            13   \n",
       "4  darkness, drive, out, hate, inspirational, lig...            20   \n",
       "\n",
       "                                           list_tags count_tags  \n",
       "0   best  source  love  of  no  out  control  mis...         12  \n",
       "1   sing  inspirational  love  hurt dance  heaven...          7  \n",
       "2   source  love  sleep  dreams  no attributed  r...          7  \n",
       "3                 friendship  love  knowledge friend          4  \n",
       "4   peace  inspirational darkness  hate  love  ou...          8  "
      ]
     },
     "execution_count": 37,
     "metadata": {},
     "output_type": "execute_result"
    }
   ],
   "source": [
    "quotes40.head()"
   ]
  },
  {
   "cell_type": "code",
   "execution_count": 38,
   "id": "1c13406e",
   "metadata": {},
   "outputs": [
    {
     "data": {
      "text/plain": [
       "str"
      ]
     },
     "execution_count": 38,
     "metadata": {},
     "output_type": "execute_result"
    }
   ],
>>>>>>> 69665e65a7c9baf063812b22af8a253a46f0fc26
   "source": [
    "type(quotes40.list_tags[0])"
   ]
  },
  {
   "cell_type": "code",
   "execution_count": 39,
   "id": "c41d0b28",
   "metadata": {},
   "outputs": [
    {
     "data": {
      "text/plain": [
       "\"I've never written a quote I feel would be suitable for my gravestone. Wouldn't it be ironic if it were this one? Oh, and could you pull a few weeds while you're here?\""
      ]
     },
     "execution_count": 39,
     "metadata": {},
     "output_type": "execute_result"
    }
   ],
   "source": [
    "tfidf_vect = TfidfVectorizer()\n",
    "tfidf_weight = tfidf_vect.fit_transform(quotes40['list_tags'].values.astype('U'))\n",
    "nn_cosine = NearestNeighbors(metric = 'euclidean')\n",
    "nn_cosine.fit(tfidf_weight)\n",
    "test_selfie_index = -1\n",
    "cosine, indices = nn_cosine.kneighbors(tfidf_weight[test_selfie_index], n_neighbors = 100)\n",
    "\n",
    "neighbors_cosine = pd.DataFrame({'cosine': cosine.flatten(), 'id': indices.flatten()})\n",
    "nearest_info = (quotes40.\n",
    "                merge(neighbors_cosine, right_on = 'id', left_index = True).\n",
    "                sort_values('cosine')[['id', 'quote', 'author','cosine']])\n",
    "\n",
    "nearest_info.quote[3]"
   ]
  },
  {
   "cell_type": "code",
<<<<<<< HEAD
   "execution_count": 14,
   "id": "e8b8f4f9",
=======
   "execution_count": null,
   "id": "c7a8a981",
>>>>>>> 69665e65a7c9baf063812b22af8a253a46f0fc26
   "metadata": {},
   "outputs": [],
   "source": [
    "tags_df = pd.DataFrame(vocab_list)"
   ]
  },
  {
   "cell_type": "code",
   "execution_count": 21,
   "id": "4c897dd3",
   "metadata": {
    "scrolled": true
   },
   "outputs": [],
   "source": [
    "tags_df=tags_df.rename(columns = { 0: 'Unique tags'})"
   ]
  },
  {
   "cell_type": "code",
   "execution_count": 22,
   "id": "a47b771f",
   "metadata": {},
   "outputs": [],
   "source": [
    "#tags_df.to_csv(\"../raw_data/tags.csv\",index=False)"
   ]
  }
 ],
 "metadata": {
  "kernelspec": {
   "display_name": "Python 3 (ipykernel)",
   "language": "python",
   "name": "python3"
  },
  "language_info": {
   "codemirror_mode": {
    "name": "ipython",
    "version": 3
   },
   "file_extension": ".py",
   "mimetype": "text/x-python",
   "name": "python",
   "nbconvert_exporter": "python",
   "pygments_lexer": "ipython3",
   "version": "3.8.12"
  },
  "toc": {
   "base_numbering": 1,
   "nav_menu": {},
   "number_sections": true,
   "sideBar": true,
   "skip_h1_title": false,
   "title_cell": "Table of Contents",
   "title_sidebar": "Contents",
   "toc_cell": false,
   "toc_position": {},
   "toc_section_display": true,
   "toc_window_display": false
  }
 },
 "nbformat": 4,
 "nbformat_minor": 5
}
