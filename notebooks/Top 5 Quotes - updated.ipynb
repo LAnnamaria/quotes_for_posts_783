{
 "cells": [
  {
   "cell_type": "markdown",
   "id": "1e92e177",
   "metadata": {},
   "source": [
    "# Top 5 Quotes dummy model"
   ]
  },
  {
   "cell_type": "code",
   "execution_count": 1,
   "id": "1ca64412",
   "metadata": {},
   "outputs": [
    {
     "name": "stderr",
     "output_type": "stream",
     "text": [
      "2022-03-03 13:55:26.416793: W tensorflow/stream_executor/platform/default/dso_loader.cc:64] Could not load dynamic library 'libcudart.so.11.0'; dlerror: libcudart.so.11.0: cannot open shared object file: No such file or directory\n",
      "2022-03-03 13:55:26.417512: I tensorflow/stream_executor/cuda/cudart_stub.cc:29] Ignore above cudart dlerror if you do not have a GPU set up on your machine.\n"
     ]
    }
   ],
   "source": [
    "import pandas as pd\n",
    "import itertools\n",
    "import re\n",
    "from sklearn.decomposition import LatentDirichletAllocation\n",
    "from sklearn.feature_extraction.text import CountVectorizer,TfidfVectorizer\n",
    "import string\n",
    "from sklearn.neighbors import NearestNeighbors\n",
    "import numpy as np\n",
    "import matplotlib.pyplot as plt\n",
    "from gensim.models import Word2Vec\n",
    "from tensorflow.keras.preprocessing.sequence import pad_sequences\n",
    "from sklearn.model_selection import GridSearchCV\n",
    "from sklearn.pipeline import Pipeline"
   ]
  },
  {
   "cell_type": "code",
   "execution_count": 2,
   "id": "f4d861c0",
   "metadata": {},
   "outputs": [
    {
     "data": {
      "text/html": [
       "<div>\n",
       "<style scoped>\n",
       "    .dataframe tbody tr th:only-of-type {\n",
       "        vertical-align: middle;\n",
       "    }\n",
       "\n",
       "    .dataframe tbody tr th {\n",
       "        vertical-align: top;\n",
       "    }\n",
       "\n",
       "    .dataframe thead th {\n",
       "        text-align: right;\n",
       "    }\n",
       "</style>\n",
       "<table border=\"1\" class=\"dataframe\">\n",
       "  <thead>\n",
       "    <tr style=\"text-align: right;\">\n",
       "      <th></th>\n",
       "      <th>quote</th>\n",
       "      <th>author</th>\n",
       "      <th>category</th>\n",
       "    </tr>\n",
       "  </thead>\n",
       "  <tbody>\n",
       "    <tr>\n",
       "      <th>0</th>\n",
       "      <td>I'm selfish, impatient and a little insecure. ...</td>\n",
       "      <td>Marilyn Monroe</td>\n",
       "      <td>attributed-no-source, best, life, love, mistak...</td>\n",
       "    </tr>\n",
       "    <tr>\n",
       "      <th>1</th>\n",
       "      <td>You've gotta dance like there's nobody watchin...</td>\n",
       "      <td>William W. Purkey</td>\n",
       "      <td>dance, heaven, hurt, inspirational, life, love...</td>\n",
       "    </tr>\n",
       "    <tr>\n",
       "      <th>2</th>\n",
       "      <td>You know you're in love when you can't fall as...</td>\n",
       "      <td>Dr. Seuss</td>\n",
       "      <td>attributed-no-source, dreams, love, reality, s...</td>\n",
       "    </tr>\n",
       "  </tbody>\n",
       "</table>\n",
       "</div>"
      ],
      "text/plain": [
       "                                               quote             author  \\\n",
       "0  I'm selfish, impatient and a little insecure. ...     Marilyn Monroe   \n",
       "1  You've gotta dance like there's nobody watchin...  William W. Purkey   \n",
       "2  You know you're in love when you can't fall as...          Dr. Seuss   \n",
       "\n",
       "                                            category  \n",
       "0  attributed-no-source, best, life, love, mistak...  \n",
       "1  dance, heaven, hurt, inspirational, life, love...  \n",
       "2  attributed-no-source, dreams, love, reality, s...  "
      ]
     },
     "execution_count": 2,
     "metadata": {},
     "output_type": "execute_result"
    }
   ],
   "source": [
    "file = \"../raw_data/quotes - reduced.csv\"\n",
    "quotes = pd.read_csv(file, decimal=\",\")\n",
    "quotes.head(3)"
   ]
  },
  {
   "cell_type": "code",
   "execution_count": 3,
   "id": "6091862d",
   "metadata": {},
   "outputs": [],
   "source": [
    "tags_list = quotes.category.to_list()\n",
    "number_of_tags = []\n",
    "for i in tags_list:\n",
    "    number_of_tags.append(len(str(i).split(',')))"
   ]
  },
  {
   "cell_type": "code",
   "execution_count": 4,
   "id": "aff95d1a",
   "metadata": {},
   "outputs": [],
   "source": [
    "quotes['quotes_length'] = quotes['quote'].copy()\n",
    "for index, row in quotes.iterrows():\n",
    "    quotes.loc[index, \"quotes_length\"] = len(str(row['quotes_length']).split(' '))"
   ]
  },
  {
   "cell_type": "markdown",
   "id": "6b3571ee",
   "metadata": {},
   "source": [
    "## Cleaning data: tags are all lowercase, '-' were replaced with ',', duplicates were removed"
   ]
  },
  {
   "cell_type": "code",
   "execution_count": 5,
   "id": "20c0a4ef",
   "metadata": {},
   "outputs": [],
   "source": [
    "for index, row in quotes.iterrows():\n",
    "    quotes.loc[index, \"category\"] = str(row['category']).lower().replace('-',', ')"
   ]
  },
  {
   "cell_type": "code",
   "execution_count": 6,
   "id": "a8118749",
   "metadata": {},
   "outputs": [
    {
     "data": {
      "text/plain": [
       "count    154318.000000\n",
       "mean          9.758272\n",
       "std          15.418337\n",
       "min           1.000000\n",
       "25%           3.000000\n",
       "50%           5.000000\n",
       "75%          11.000000\n",
       "max         568.000000\n",
       "Name: count_tags, dtype: float64"
      ]
     },
     "execution_count": 6,
     "metadata": {},
     "output_type": "execute_result"
    }
   ],
   "source": [
    "quotes['list_tags'] = quotes['category'].copy()\n",
    "for index,row in quotes.iterrows():\n",
    "    quotes.loc[index, 'count_tags'] = len(str(row['list_tags']).split(','))\n",
    "quotes.count_tags.describe()"
   ]
  },
  {
   "cell_type": "code",
   "execution_count": 7,
   "id": "03173ade",
   "metadata": {},
   "outputs": [],
   "source": [
    "for index,row in quotes.iterrows():\n",
    "    quotes.at[index, 'list_tags'] = str(row['list_tags']).split(',')"
   ]
  },
  {
   "cell_type": "code",
   "execution_count": 8,
   "id": "a2694b22",
   "metadata": {},
   "outputs": [],
   "source": [
    "for index,row in quotes.iterrows():\n",
    "    quotes.at[index, 'list_tags'] = str(set(row['list_tags']))"
   ]
  },
  {
   "cell_type": "code",
   "execution_count": 9,
   "id": "fe5bd848",
   "metadata": {},
   "outputs": [],
   "source": [
    "def remove_punctuations(text):\n",
    "    for punctuation in string.punctuation:\n",
    "        text = text.replace(punctuation, '')\n",
    "    return text\n",
    "quotes['list_tags'] = quotes['list_tags'].apply(remove_punctuations)"
   ]
  },
  {
   "cell_type": "code",
   "execution_count": 10,
   "id": "2a9e9728",
   "metadata": {},
   "outputs": [],
   "source": [
    "vectorizer = TfidfVectorizer(max_df=0.95, min_df=2, stop_words=\"english\")\n",
    "tags_vectorized = vectorizer.fit_transform(quotes['list_tags'])\n",
    "dummy_tags = LatentDirichletAllocation(n_components=5)\n",
    "lda_vectors = dummy_tags.fit_transform(tags_vectorized)"
   ]
  },
  {
   "cell_type": "code",
   "execution_count": 11,
   "id": "e2718d5d",
   "metadata": {},
   "outputs": [
    {
     "name": "stdout",
     "output_type": "stream",
     "text": [
      "Topic 0:\n",
      "[('religion', 1370.5273923834975), ('humour', 1344.952333765986), ('war', 1227.206538303888), ('politics', 1225.5503331531606), ('children', 1151.9874349826614), ('christianity', 960.7833647308468), ('leadership', 875.0738360807519), ('funny', 796.5038548292805), ('family', 710.9577103555193), ('god', 483.78390293525075)]\n",
      "Topic 1:\n",
      "[('humor', 1727.8533359357564), ('music', 1156.1892917602484), ('relationships', 1072.6463230921213), ('psychology', 1009.3575728442161), ('love', 975.5086090562465), ('reality', 843.1077644731284), ('beauty', 828.7513871474674), ('inspiration', 752.9763376735883), ('life', 570.7237936463284), ('freedom', 434.38443213566933)]\n",
      "Topic 2:\n",
      "[('friendship', 1291.6073805497788), ('science', 1282.7865648280929), ('nature', 884.438871138888), ('marriage', 691.0933156971889), ('time', 657.6090684011766), ('life', 592.292809632764), ('dreams', 580.4799887957256), ('humanity', 494.87714311899475), ('change', 476.64276384455417), ('love', 472.03140297775116)]\n",
      "Topic 3:\n",
      "[('writing', 2108.583367355223), ('romance', 1812.668097906828), ('love', 1802.4518982481595), ('books', 1762.5079081469999), ('reading', 1394.2536297487693), ('art', 1239.632931968229), ('debasish', 1199.054721830789), ('fiction', 1100.4516688430972), ('fantasy', 1089.0356575278918), ('feminism', 1031.589778285397)]\n",
      "Topic 4:\n",
      "[('inspirational', 4711.609275656635), ('life', 4082.7429505444966), ('quotes', 3335.4906651975884), ('wisdom', 2580.637870749075), ('love', 2114.046796416182), ('hope', 1965.9937129710927), ('philosophy', 1930.6109357838016), ('happiness', 1913.7560791970363), ('truth', 1913.157389836121), ('motivational', 1794.030536318123)]\n"
     ]
    }
   ],
   "source": [
    "def print_topics(model, vectorizer):\n",
    "    for idx, topic in enumerate(model.components_):\n",
    "        print(\"Topic %d:\" % (idx))\n",
    "        print([(vectorizer.get_feature_names_out()[i], topic[i])\n",
    "                        for i in topic.argsort()[:-10 - 1:-1]])\n",
    "        \n",
    "\n",
    "print_topics(dummy_tags, vectorizer.fit(quotes['list_tags']))"
   ]
  },
  {
   "cell_type": "code",
   "execution_count": 12,
   "id": "cf60f897",
   "metadata": {},
   "outputs": [
    {
     "data": {
      "text/plain": [
       "array([0.05904291, 0.06140315, 0.05919814, 0.4406249 , 0.3797309 ])"
      ]
     },
     "execution_count": 12,
     "metadata": {},
     "output_type": "execute_result"
    }
   ],
   "source": [
    "lda_vectors[1]"
   ]
  },
  {
   "cell_type": "code",
   "execution_count": 13,
   "id": "89afe129",
   "metadata": {},
   "outputs": [
    {
     "data": {
      "text/html": [
       "<div>\n",
       "<style scoped>\n",
       "    .dataframe tbody tr th:only-of-type {\n",
       "        vertical-align: middle;\n",
       "    }\n",
       "\n",
       "    .dataframe tbody tr th {\n",
       "        vertical-align: top;\n",
       "    }\n",
       "\n",
       "    .dataframe thead th {\n",
       "        text-align: right;\n",
       "    }\n",
       "</style>\n",
       "<table border=\"1\" class=\"dataframe\">\n",
       "  <thead>\n",
       "    <tr style=\"text-align: right;\">\n",
       "      <th></th>\n",
       "      <th>quote</th>\n",
       "      <th>author</th>\n",
       "      <th>category</th>\n",
       "      <th>quotes_length</th>\n",
       "      <th>list_tags</th>\n",
       "      <th>count_tags</th>\n",
       "    </tr>\n",
       "  </thead>\n",
       "  <tbody>\n",
       "    <tr>\n",
       "      <th>0</th>\n",
       "      <td>I'm selfish, impatient and a little insecure. ...</td>\n",
       "      <td>Marilyn Monroe</td>\n",
       "      <td>attributed, no, source, best, life, love, mist...</td>\n",
       "      <td>41</td>\n",
       "      <td>control  mistakes  out  truth  life  of  wors...</td>\n",
       "      <td>12.0</td>\n",
       "    </tr>\n",
       "    <tr>\n",
       "      <th>1</th>\n",
       "      <td>You've gotta dance like there's nobody watchin...</td>\n",
       "      <td>William W. Purkey</td>\n",
       "      <td>dance, heaven, hurt, inspirational, life, love...</td>\n",
       "      <td>22</td>\n",
       "      <td>dance  heaven  life  sing  love  inspirational...</td>\n",
       "      <td>7.0</td>\n",
       "    </tr>\n",
       "    <tr>\n",
       "      <th>2</th>\n",
       "      <td>You know you're in love when you can't fall as...</td>\n",
       "      <td>Dr. Seuss</td>\n",
       "      <td>attributed, no, source, dreams, love, reality,...</td>\n",
       "      <td>18</td>\n",
       "      <td>dreams  reality  sleep  source  love attribut...</td>\n",
       "      <td>7.0</td>\n",
       "    </tr>\n",
       "    <tr>\n",
       "      <th>3</th>\n",
       "      <td>A friend is someone who knows all about you an...</td>\n",
       "      <td>Elbert Hubbard</td>\n",
       "      <td>friend, friendship, knowledge, love</td>\n",
       "      <td>13</td>\n",
       "      <td>love friend  knowledge  friendship</td>\n",
       "      <td>4.0</td>\n",
       "    </tr>\n",
       "    <tr>\n",
       "      <th>4</th>\n",
       "      <td>Darkness cannot drive out darkness: only light...</td>\n",
       "      <td>Martin Luther King Jr., A Testament of Hope: T...</td>\n",
       "      <td>darkness, drive, out, hate, inspirational, lig...</td>\n",
       "      <td>20</td>\n",
       "      <td>peace  out  light  love  drive  inspirational...</td>\n",
       "      <td>8.0</td>\n",
       "    </tr>\n",
       "  </tbody>\n",
       "</table>\n",
       "</div>"
      ],
      "text/plain": [
       "                                               quote  \\\n",
       "0  I'm selfish, impatient and a little insecure. ...   \n",
       "1  You've gotta dance like there's nobody watchin...   \n",
       "2  You know you're in love when you can't fall as...   \n",
       "3  A friend is someone who knows all about you an...   \n",
       "4  Darkness cannot drive out darkness: only light...   \n",
       "\n",
       "                                              author  \\\n",
       "0                                     Marilyn Monroe   \n",
       "1                                  William W. Purkey   \n",
       "2                                          Dr. Seuss   \n",
       "3                                     Elbert Hubbard   \n",
       "4  Martin Luther King Jr., A Testament of Hope: T...   \n",
       "\n",
       "                                            category quotes_length  \\\n",
       "0  attributed, no, source, best, life, love, mist...            41   \n",
       "1  dance, heaven, hurt, inspirational, life, love...            22   \n",
       "2  attributed, no, source, dreams, love, reality,...            18   \n",
       "3                friend, friendship, knowledge, love            13   \n",
       "4  darkness, drive, out, hate, inspirational, lig...            20   \n",
       "\n",
       "                                           list_tags  count_tags  \n",
       "0   control  mistakes  out  truth  life  of  wors...        12.0  \n",
       "1  dance  heaven  life  sing  love  inspirational...         7.0  \n",
       "2   dreams  reality  sleep  source  love attribut...         7.0  \n",
       "3                 love friend  knowledge  friendship         4.0  \n",
       "4   peace  out  light  love  drive  inspirational...         8.0  "
      ]
     },
     "execution_count": 13,
     "metadata": {},
     "output_type": "execute_result"
    }
   ],
   "source": [
    "quotes.head()"
   ]
  },
  {
   "cell_type": "code",
   "execution_count": 14,
   "id": "546b16a1",
   "metadata": {},
   "outputs": [],
   "source": [
    "quotes.iloc[-1] = ['A large crowd is assembled on an outdoor street scene , with toy balloons visible and a woman walking a pink bicyc', 'image','image','5','A large crowd is assembled on an outdoor street scene , with toy balloons visible and a woman walking a pink bicyc','1']"
   ]
  },
  {
   "cell_type": "code",
   "execution_count": 15,
   "id": "1be062b5",
   "metadata": {},
   "outputs": [],
   "source": [
    "picture_vectorized = vectorizer.transform(quotes.iloc[-1])\n",
    "lda_vectors_self = dummy_tags.transform(picture_vectorized)\n",
    "for index,row in quotes.iterrows():\n",
    "    quotes['topic'] = quotes.quote.copy()"
   ]
  },
  {
   "cell_type": "code",
   "execution_count": 16,
   "id": "5d2597fa",
   "metadata": {},
   "outputs": [],
   "source": [
    "for index,row in quotes.iterrows():\n",
    "    quotes.at[index, 'topic'] = np.where(lda_vectors[index] == max(lda_vectors[index]))[0][0]"
   ]
  },
  {
   "cell_type": "code",
   "execution_count": 17,
   "id": "127c7574",
   "metadata": {},
   "outputs": [
    {
     "data": {
      "text/html": [
       "<div>\n",
       "<style scoped>\n",
       "    .dataframe tbody tr th:only-of-type {\n",
       "        vertical-align: middle;\n",
       "    }\n",
       "\n",
       "    .dataframe tbody tr th {\n",
       "        vertical-align: top;\n",
       "    }\n",
       "\n",
       "    .dataframe thead th {\n",
       "        text-align: right;\n",
       "    }\n",
       "</style>\n",
       "<table border=\"1\" class=\"dataframe\">\n",
       "  <thead>\n",
       "    <tr style=\"text-align: right;\">\n",
       "      <th></th>\n",
       "      <th>quote</th>\n",
       "      <th>author</th>\n",
       "      <th>category</th>\n",
       "      <th>quotes_length</th>\n",
       "      <th>list_tags</th>\n",
       "      <th>count_tags</th>\n",
       "      <th>topic</th>\n",
       "    </tr>\n",
       "  </thead>\n",
       "  <tbody>\n",
       "    <tr>\n",
       "      <th>154313</th>\n",
       "      <td>The harassed look is that of a desperately tir...</td>\n",
       "      <td>Christopher Isherwood, A Single Man</td>\n",
       "      <td>dying, living</td>\n",
       "      <td>96</td>\n",
       "      <td>living dying</td>\n",
       "      <td>2.0</td>\n",
       "      <td>4</td>\n",
       "    </tr>\n",
       "    <tr>\n",
       "      <th>154314</th>\n",
       "      <td>…In this way that he sought to control the ver...</td>\n",
       "      <td>Jesse Ball, The Curfew</td>\n",
       "      <td>life, living, mindfulness</td>\n",
       "      <td>39</td>\n",
       "      <td>mindfulness life  living</td>\n",
       "      <td>3.0</td>\n",
       "      <td>4</td>\n",
       "    </tr>\n",
       "    <tr>\n",
       "      <th>154315</th>\n",
       "      <td>No matter how we choose to live, we both die a...</td>\n",
       "      <td>Adam Silvera, They Both Die at the End</td>\n",
       "      <td>death, living</td>\n",
       "      <td>13</td>\n",
       "      <td>death  living</td>\n",
       "      <td>2.0</td>\n",
       "      <td>4</td>\n",
       "    </tr>\n",
       "    <tr>\n",
       "      <th>154316</th>\n",
       "      <td>The goal that you hope you will one day arrive...</td>\n",
       "      <td>Marcus Aurelius, The Essential Marcus Aurelius</td>\n",
       "      <td>living</td>\n",
       "      <td>239</td>\n",
       "      <td>living</td>\n",
       "      <td>1.0</td>\n",
       "      <td>4</td>\n",
       "    </tr>\n",
       "    <tr>\n",
       "      <th>154317</th>\n",
       "      <td>A large crowd is assembled on an outdoor stree...</td>\n",
       "      <td>image</td>\n",
       "      <td>image</td>\n",
       "      <td>5</td>\n",
       "      <td>A large crowd is assembled on an outdoor stree...</td>\n",
       "      <td>1</td>\n",
       "      <td>0</td>\n",
       "    </tr>\n",
       "  </tbody>\n",
       "</table>\n",
       "</div>"
      ],
      "text/plain": [
       "                                                    quote  \\\n",
       "154313  The harassed look is that of a desperately tir...   \n",
       "154314  …In this way that he sought to control the ver...   \n",
       "154315  No matter how we choose to live, we both die a...   \n",
       "154316  The goal that you hope you will one day arrive...   \n",
       "154317  A large crowd is assembled on an outdoor stree...   \n",
       "\n",
       "                                                author  \\\n",
       "154313             Christopher Isherwood, A Single Man   \n",
       "154314                          Jesse Ball, The Curfew   \n",
       "154315          Adam Silvera, They Both Die at the End   \n",
       "154316  Marcus Aurelius, The Essential Marcus Aurelius   \n",
       "154317                                           image   \n",
       "\n",
       "                         category quotes_length  \\\n",
       "154313              dying, living            96   \n",
       "154314  life, living, mindfulness            39   \n",
       "154315              death, living            13   \n",
       "154316                     living           239   \n",
       "154317                      image             5   \n",
       "\n",
       "                                                list_tags count_tags topic  \n",
       "154313                                       living dying        2.0     4  \n",
       "154314                           mindfulness life  living        3.0     4  \n",
       "154315                                      death  living        2.0     4  \n",
       "154316                                             living        1.0     4  \n",
       "154317  A large crowd is assembled on an outdoor stree...          1     0  "
      ]
     },
     "execution_count": 17,
     "metadata": {},
     "output_type": "execute_result"
    }
   ],
   "source": [
    "quotes.tail()"
   ]
  },
  {
   "cell_type": "code",
   "execution_count": 18,
   "id": "17e5ce10",
   "metadata": {},
   "outputs": [
    {
     "data": {
      "text/plain": [
       "(array([29563.,     0., 26418.,     0.,     0., 21179.,     0., 28805.,\n",
       "            0., 48353.]),\n",
       " array([0.0, 0.4, 0.8, 1.2000000000000002, 1.6, 2.0, 2.4000000000000004,\n",
       "        2.8000000000000003, 3.2, 3.6, 4.0], dtype=object),\n",
       " <BarContainer object of 10 artists>)"
      ]
     },
     "execution_count": 18,
     "metadata": {},
     "output_type": "execute_result"
    },
    {
     "data": {
      "image/png": "[encoded data removed]",
      "text/plain": [
       "<Figure size 432x288 with 1 Axes>"
      ]
     },
     "metadata": {
      "needs_background": "light"
     },
     "output_type": "display_data"
    }
   ],
   "source": [
    "plt.hist(quotes.topic)"
   ]
  },
  {
   "cell_type": "markdown",
   "id": "5343aa9b",
   "metadata": {},
   "source": [
    "__Adding the image caption as the last line to our dataset to be able to see the closest neighbourhs__"
   ]
  },
  {
   "cell_type": "code",
   "execution_count": 19,
   "id": "82c637de",
   "metadata": {},
   "outputs": [
    {
     "data": {
      "text/plain": [
       "0"
      ]
     },
     "execution_count": 19,
     "metadata": {},
     "output_type": "execute_result"
    }
   ],
   "source": [
    "image_topic = int(quotes.iloc[-1, [-1]])\n",
    "image_topic"
   ]
  },
  {
   "cell_type": "code",
   "execution_count": 20,
   "id": "3325329c",
   "metadata": {},
   "outputs": [
    {
     "data": {
      "text/html": [
       "<div>\n",
       "<style scoped>\n",
       "    .dataframe tbody tr th:only-of-type {\n",
       "        vertical-align: middle;\n",
       "    }\n",
       "\n",
       "    .dataframe tbody tr th {\n",
       "        vertical-align: top;\n",
       "    }\n",
       "\n",
       "    .dataframe thead th {\n",
       "        text-align: right;\n",
       "    }\n",
       "</style>\n",
       "<table border=\"1\" class=\"dataframe\">\n",
       "  <thead>\n",
       "    <tr style=\"text-align: right;\">\n",
       "      <th></th>\n",
       "      <th>quote</th>\n",
       "      <th>author</th>\n",
       "      <th>category</th>\n",
       "      <th>quotes_length</th>\n",
       "      <th>list_tags</th>\n",
       "      <th>count_tags</th>\n",
       "      <th>topic</th>\n",
       "    </tr>\n",
       "  </thead>\n",
       "  <tbody>\n",
       "    <tr>\n",
       "      <th>9</th>\n",
       "      <td>The opposite of love is not hate, it's indiffe...</td>\n",
       "      <td>Elie Wiesel</td>\n",
       "      <td>activism, apathy, hate, indifference, inspirat...</td>\n",
       "      <td>37</td>\n",
       "      <td>opposite  indifference  apathy  philosophy  l...</td>\n",
       "      <td>8.0</td>\n",
       "      <td>0</td>\n",
       "    </tr>\n",
       "    <tr>\n",
       "      <th>12</th>\n",
       "      <td>Love all, trust a few, do wrong to none.</td>\n",
       "      <td>William Shakespeare, All's Well That Ends Well</td>\n",
       "      <td>do, wrong, love, trust, wrong</td>\n",
       "      <td>9</td>\n",
       "      <td>wrong  love  trust do</td>\n",
       "      <td>5.0</td>\n",
       "      <td>0</td>\n",
       "    </tr>\n",
       "    <tr>\n",
       "      <th>17</th>\n",
       "      <td>Love is that condition in which the happiness ...</td>\n",
       "      <td>Robert A. Heinlein, Stranger in a Strange Land</td>\n",
       "      <td>essential, happiness, love</td>\n",
       "      <td>16</td>\n",
       "      <td>love  happiness essential</td>\n",
       "      <td>3.0</td>\n",
       "      <td>0</td>\n",
       "    </tr>\n",
       "    <tr>\n",
       "      <th>34</th>\n",
       "      <td>Dumbledore watched her fly away, and as her si...</td>\n",
       "      <td>J.K. Rowling, Harry Potter and the Deathly Hal...</td>\n",
       "      <td>dumbledore, life, love, snape</td>\n",
       "      <td>28</td>\n",
       "      <td>love  snape  life dumbledore</td>\n",
       "      <td>4.0</td>\n",
       "      <td>0</td>\n",
       "    </tr>\n",
       "    <tr>\n",
       "      <th>40</th>\n",
       "      <td>Tis better to have loved and lost, Than never ...</td>\n",
       "      <td>Alfred Tennyson, In Memoriam</td>\n",
       "      <td>love, paraphrase, of, congreve</td>\n",
       "      <td>14</td>\n",
       "      <td>congreve  paraphrase love  of</td>\n",
       "      <td>4.0</td>\n",
       "      <td>0</td>\n",
       "    </tr>\n",
       "  </tbody>\n",
       "</table>\n",
       "</div>"
      ],
      "text/plain": [
       "                                                quote  \\\n",
       "9   The opposite of love is not hate, it's indiffe...   \n",
       "12           Love all, trust a few, do wrong to none.   \n",
       "17  Love is that condition in which the happiness ...   \n",
       "34  Dumbledore watched her fly away, and as her si...   \n",
       "40  Tis better to have loved and lost, Than never ...   \n",
       "\n",
       "                                               author  \\\n",
       "9                                         Elie Wiesel   \n",
       "12     William Shakespeare, All's Well That Ends Well   \n",
       "17     Robert A. Heinlein, Stranger in a Strange Land   \n",
       "34  J.K. Rowling, Harry Potter and the Deathly Hal...   \n",
       "40                       Alfred Tennyson, In Memoriam   \n",
       "\n",
       "                                             category quotes_length  \\\n",
       "9   activism, apathy, hate, indifference, inspirat...            37   \n",
       "12                      do, wrong, love, trust, wrong             9   \n",
       "17                         essential, happiness, love            16   \n",
       "34                      dumbledore, life, love, snape            28   \n",
       "40                     love, paraphrase, of, congreve            14   \n",
       "\n",
       "                                            list_tags count_tags topic  \n",
       "9    opposite  indifference  apathy  philosophy  l...        8.0     0  \n",
       "12                              wrong  love  trust do        5.0     0  \n",
       "17                          love  happiness essential        3.0     0  \n",
       "34                       love  snape  life dumbledore        4.0     0  \n",
       "40                      congreve  paraphrase love  of        4.0     0  "
      ]
     },
     "execution_count": 20,
     "metadata": {},
     "output_type": "execute_result"
    }
   ],
   "source": [
    "quotes = quotes.dropna()\n",
    "only_topic = quotes[quotes.topic == image_topic]\n",
    "only_topic.head()"
   ]
  },
  {
   "cell_type": "code",
   "execution_count": 21,
   "id": "9ed8f347",
   "metadata": {},
   "outputs": [
    {
     "data": {
      "text/html": [
       "<div>\n",
       "<style scoped>\n",
       "    .dataframe tbody tr th:only-of-type {\n",
       "        vertical-align: middle;\n",
       "    }\n",
       "\n",
       "    .dataframe tbody tr th {\n",
       "        vertical-align: top;\n",
       "    }\n",
       "\n",
       "    .dataframe thead th {\n",
       "        text-align: right;\n",
       "    }\n",
       "</style>\n",
       "<table border=\"1\" class=\"dataframe\">\n",
       "  <thead>\n",
       "    <tr style=\"text-align: right;\">\n",
       "      <th></th>\n",
       "      <th>quote</th>\n",
       "      <th>author</th>\n",
       "    </tr>\n",
       "  </thead>\n",
       "  <tbody>\n",
       "    <tr>\n",
       "      <th>36</th>\n",
       "      <td>Religion has actually convinced people that th...</td>\n",
       "      <td>George Carlin</td>\n",
       "    </tr>\n",
       "    <tr>\n",
       "      <th>62</th>\n",
       "      <td>Never say no when you really want to say yes.</td>\n",
       "      <td>Jenny Han, Always and Forever, Lara Jean</td>\n",
       "    </tr>\n",
       "    <tr>\n",
       "      <th>59</th>\n",
       "      <td>Wrath held her even closer, right to his beati...</td>\n",
       "      <td>J.R. Ward, The King</td>\n",
       "    </tr>\n",
       "    <tr>\n",
       "      <th>65</th>\n",
       "      <td>I live a grateful life, and the result is pure...</td>\n",
       "      <td>Amy Leigh Mercree, Joyful Living: 101 Ways to ...</td>\n",
       "    </tr>\n",
       "    <tr>\n",
       "      <th>16</th>\n",
       "      <td>Love yourself deeply and be satisfied with the...</td>\n",
       "      <td>Amy Leigh Mercree, The Spiritual Girl's Guide ...</td>\n",
       "    </tr>\n",
       "  </tbody>\n",
       "</table>\n",
       "</div>"
      ],
      "text/plain": [
       "                                                quote  \\\n",
       "36  Religion has actually convinced people that th...   \n",
       "62      Never say no when you really want to say yes.   \n",
       "59  Wrath held her even closer, right to his beati...   \n",
       "65  I live a grateful life, and the result is pure...   \n",
       "16  Love yourself deeply and be satisfied with the...   \n",
       "\n",
       "                                               author  \n",
       "36                                      George Carlin  \n",
       "62           Jenny Han, Always and Forever, Lara Jean  \n",
       "59                                J.R. Ward, The King  \n",
       "65  Amy Leigh Mercree, Joyful Living: 101 Ways to ...  \n",
       "16  Amy Leigh Mercree, The Spiritual Girl's Guide ...  "
      ]
     },
     "execution_count": 21,
     "metadata": {},
     "output_type": "execute_result"
    }
   ],
   "source": [
    "tfidf_weight = vectorizer.fit_transform(only_topic['list_tags'].values.astype('U'))\n",
    "nn_euc = NearestNeighbors(metric = 'euclidean')\n",
    "nn_euc.fit(tfidf_weight)\n",
    "image_index = -1\n",
    "euc, indices = nn_euc.kneighbors(tfidf_weight[image_index], n_neighbors = 100)\n",
    "neighbors_euc = pd.DataFrame({'euc': euc.flatten(), 'id': indices.flatten()})\n",
    "result_top5 = (only_topic.merge(neighbors_euc, right_on = 'id', left_index = True).\n",
    "                sort_values('euc')[['quote', 'author']]).head()\n",
    "\n",
    "result_top5"
   ]
  },
  {
   "cell_type": "code",
   "execution_count": 22,
   "id": "6f9d25cd",
   "metadata": {},
   "outputs": [
    {
     "name": "stdout",
     "output_type": "stream",
     "text": [
      "Please give me 5 words that are descriptive of your picture:me, you\n"
     ]
    },
    {
     "name": "stderr",
     "output_type": "stream",
     "text": [
      "/tmp/ipykernel_8502/101407589.py:3: SettingWithCopyWarning: \n",
      "A value is trying to be set on a copy of a slice from a DataFrame\n",
      "\n",
      "See the caveats in the documentation: https://pandas.pydata.org/pandas-docs/stable/user_guide/indexing.html#returning-a-view-versus-a-copy\n",
      "  most_suiting.iloc[-1] = [own_tags,'image','image','5',own_tags,'1',image_topic]\n"
     ]
    },
    {
     "data": {
      "text/html": [
       "<div>\n",
       "<style scoped>\n",
       "    .dataframe tbody tr th:only-of-type {\n",
       "        vertical-align: middle;\n",
       "    }\n",
       "\n",
       "    .dataframe tbody tr th {\n",
       "        vertical-align: top;\n",
       "    }\n",
       "\n",
       "    .dataframe thead th {\n",
       "        text-align: right;\n",
       "    }\n",
       "</style>\n",
       "<table border=\"1\" class=\"dataframe\">\n",
       "  <thead>\n",
       "    <tr style=\"text-align: right;\">\n",
       "      <th></th>\n",
       "      <th>quote</th>\n",
       "      <th>author</th>\n",
       "      <th>category</th>\n",
       "      <th>quotes_length</th>\n",
       "      <th>list_tags</th>\n",
       "      <th>count_tags</th>\n",
       "      <th>topic</th>\n",
       "    </tr>\n",
       "  </thead>\n",
       "  <tbody>\n",
       "    <tr>\n",
       "      <th>154312</th>\n",
       "      <td>Sasha's green eyes were right up against yours...</td>\n",
       "      <td>Jennifer Egan, A Visit from the Goon Squad</td>\n",
       "      <td>coping, living, survival</td>\n",
       "      <td>77</td>\n",
       "      <td>survival coping  living</td>\n",
       "      <td>3.0</td>\n",
       "      <td>4</td>\n",
       "    </tr>\n",
       "    <tr>\n",
       "      <th>154313</th>\n",
       "      <td>The harassed look is that of a desperately tir...</td>\n",
       "      <td>Christopher Isherwood, A Single Man</td>\n",
       "      <td>dying, living</td>\n",
       "      <td>96</td>\n",
       "      <td>living dying</td>\n",
       "      <td>2.0</td>\n",
       "      <td>4</td>\n",
       "    </tr>\n",
       "    <tr>\n",
       "      <th>154314</th>\n",
       "      <td>…In this way that he sought to control the ver...</td>\n",
       "      <td>Jesse Ball, The Curfew</td>\n",
       "      <td>life, living, mindfulness</td>\n",
       "      <td>39</td>\n",
       "      <td>mindfulness life  living</td>\n",
       "      <td>3.0</td>\n",
       "      <td>4</td>\n",
       "    </tr>\n",
       "    <tr>\n",
       "      <th>154315</th>\n",
       "      <td>No matter how we choose to live, we both die a...</td>\n",
       "      <td>Adam Silvera, They Both Die at the End</td>\n",
       "      <td>death, living</td>\n",
       "      <td>13</td>\n",
       "      <td>death  living</td>\n",
       "      <td>2.0</td>\n",
       "      <td>4</td>\n",
       "    </tr>\n",
       "    <tr>\n",
       "      <th>154316</th>\n",
       "      <td>me, you</td>\n",
       "      <td>image</td>\n",
       "      <td>image</td>\n",
       "      <td>5</td>\n",
       "      <td>me, you</td>\n",
       "      <td>1</td>\n",
       "      <td>0</td>\n",
       "    </tr>\n",
       "  </tbody>\n",
       "</table>\n",
       "</div>"
      ],
      "text/plain": [
       "                                                    quote  \\\n",
       "154312  Sasha's green eyes were right up against yours...   \n",
       "154313  The harassed look is that of a desperately tir...   \n",
       "154314  …In this way that he sought to control the ver...   \n",
       "154315  No matter how we choose to live, we both die a...   \n",
       "154316                                            me, you   \n",
       "\n",
       "                                            author                   category  \\\n",
       "154312  Jennifer Egan, A Visit from the Goon Squad   coping, living, survival   \n",
       "154313         Christopher Isherwood, A Single Man              dying, living   \n",
       "154314                      Jesse Ball, The Curfew  life, living, mindfulness   \n",
       "154315      Adam Silvera, They Both Die at the End              death, living   \n",
       "154316                                       image                      image   \n",
       "\n",
       "       quotes_length                  list_tags count_tags topic  \n",
       "154312            77    survival coping  living        3.0     4  \n",
       "154313            96               living dying        2.0     4  \n",
       "154314            39   mindfulness life  living        3.0     4  \n",
       "154315            13              death  living        2.0     4  \n",
       "154316             5                    me, you          1     0  "
      ]
     },
     "execution_count": 22,
     "metadata": {},
     "output_type": "execute_result"
    }
   ],
   "source": [
    "most_suiting = quotes[quotes.topic != image_topic]\n",
    "own_tags = input(\"Please give me 5 words that are descriptive of your picture:\")\n",
    "most_suiting.iloc[-1] = [own_tags,'image','image','5',own_tags,'1',image_topic]\n",
    "most_suiting.tail()"
   ]
  },
  {
   "cell_type": "code",
   "execution_count": 23,
   "id": "a2e6ae3c",
   "metadata": {},
   "outputs": [
    {
     "data": {
      "text/plain": [
       "5    Know that it is your birthright to awaken. See...\n",
       "Name: quote, dtype: object"
      ]
     },
     "execution_count": 23,
     "metadata": {},
     "output_type": "execute_result"
    }
   ],
   "source": [
    "tfidf_weight = vectorizer.fit_transform(most_suiting['list_tags'].values.astype('U'))\n",
    "nn_euc = NearestNeighbors(metric = 'euclidean')\n",
    "nn_euc.fit(tfidf_weight)\n",
    "image_index = -1\n",
    "euc, indices = nn_euc.kneighbors(tfidf_weight[image_index], n_neighbors = 100)\n",
    "neighbors_euc = pd.DataFrame({'euc': euc.flatten(), 'id': indices.flatten()})\n",
    "result_most_s = (only_topic.merge(neighbors_euc, right_on = 'id', left_index = True).\n",
    "                sort_values('euc')[['quote', 'author']]).head(1)\n",
    "\n",
    "result_most_s.quote"
   ]
  },
  {
   "cell_type": "markdown",
   "id": "8c482d9f",
   "metadata": {},
   "source": [
    "### Trying word2vec for the most suiting quote for better result"
   ]
  },
  {
   "cell_type": "code",
   "execution_count": 24,
   "id": "a2dd4d01",
   "metadata": {},
   "outputs": [],
   "source": [
    "word2vec = Word2Vec(sentences=most_suiting.list_tags, vector_size=100, min_count=1, window=10)"
   ]
  },
  {
   "cell_type": "code",
   "execution_count": null,
   "id": "d13ad3bd",
   "metadata": {},
   "outputs": [],
   "source": [
    "# Function to convert a sentence (list of words) into a matrix representing the words in the embedding space\n",
    "def embed_sentence(word2vec, sentence):\n",
    "    embedded_sentence = []\n",
    "    for word in sentence:\n",
    "        if word in word2vec.wv:\n",
    "            embedded_sentence.append(word2vec.wv[word])\n",
    "        \n",
    "    return np.array(embedded_sentence)\n",
    "\n",
    "# Function that converts a list of sentences into a list of matrices\n",
    "def embedding(word2vec, sentences):\n",
    "    embed = []\n",
    "    \n",
    "    for sentence in sentences:\n",
    "        embedded_sentence = embed_sentence(word2vec, sentence)\n",
    "        embed.append(embedded_sentence)\n",
    "        \n",
    "    return embed\n",
    "\n",
    "# Embed the training and test sentences\n",
    "tags_embed = embedding(word2vec, most_suiting.list_tags)\n",
    "\n",
    "# Pad the training and test embedded sentences\n",
    "tags_pad = pad_sequences(tags_embed, dtype='float32', padding='post', maxlen=200)"
   ]
  },
  {
   "cell_type": "code",
   "execution_count": null,
   "id": "0b493a31",
   "metadata": {},
   "outputs": [],
   "source": [
    "for X in most_suiting.list_tags:\n",
    "    assert type(X) == np.ndarray\n",
    "    assert X.shape[-1] == word2vec.wv.vector_size\n",
    "\n",
    "assert tags_pad.shape[0] == len(most_suiting.list_tags)"
   ]
  },
  {
   "cell_type": "code",
   "execution_count": null,
   "id": "a4b6783c",
   "metadata": {},
   "outputs": [],
   "source": [
    "result = word2vec.most_similar(positive=[own_tags], topn=1)\n",
    "result"
   ]
  },
  {
   "cell_type": "markdown",
   "id": "5d927608",
   "metadata": {},
   "source": [
    "### GridSearchCV for LDA finetuning (defining the number of components)"
   ]
  },
  {
   "cell_type": "code",
   "execution_count": null,
   "id": "25ea1fe3",
   "metadata": {},
   "outputs": [],
   "source": [
    "pipeline = Pipeline([\n",
    "    ('tfidf', TfidfVectorizer()),\n",
    "    ('lda', LatentDirichletAllocation()),\n",
    "])\n",
    "\n"
   ]
  },
  {
   "cell_type": "code",
   "execution_count": 1,
   "id": "3f9e1ed7",
   "metadata": {},
   "outputs": [
    {
     "ename": "NameError",
     "evalue": "name 'pipeline' is not defined",
     "output_type": "error",
     "traceback": [
      "\u001b[0;31m---------------------------------------------------------------------------\u001b[0m",
      "\u001b[0;31mNameError\u001b[0m                                 Traceback (most recent call last)",
      "Input \u001b[0;32mIn [1]\u001b[0m, in \u001b[0;36m<cell line: 1>\u001b[0;34m()\u001b[0m\n\u001b[0;32m----> 1\u001b[0m \u001b[43mpipeline\u001b[49m\u001b[38;5;241m.\u001b[39mget_params()\n",
      "\u001b[0;31mNameError\u001b[0m: name 'pipeline' is not defined"
     ]
    }
   ],
   "source": [
    "pipeline.get_params()"
   ]
  },
  {
   "cell_type": "code",
   "execution_count": null,
   "id": "19cd5454",
   "metadata": {},
   "outputs": [],
   "source": [
    "search_params = {'n_components': [5, 10, 20, 30], 'learning_decay': [.5, .7, .9]}\n",
    "model = GridSearchCV(pipeline, param_grid=search_params, cv=5,)\n",
    "model.fit(tags_vectorized)\n",
    "6"
   ]
  }
 ],
 "metadata": {
  "kernelspec": {
   "display_name": "Python 3 (ipykernel)",
   "language": "python",
   "name": "python3"
  },
  "language_info": {
   "codemirror_mode": {
    "name": "ipython",
    "version": 3
   },
   "file_extension": ".py",
   "mimetype": "text/x-python",
   "name": "python",
   "nbconvert_exporter": "python",
   "pygments_lexer": "ipython3",
   "version": "3.8.12"
  },
  "toc": {
   "base_numbering": 1,
   "nav_menu": {},
   "number_sections": true,
   "sideBar": true,
   "skip_h1_title": false,
   "title_cell": "Table of Contents",
   "title_sidebar": "Contents",
   "toc_cell": false,
   "toc_position": {},
   "toc_section_display": true,
   "toc_window_display": false
  }
 },
 "nbformat": 4,
 "nbformat_minor": 5
}
