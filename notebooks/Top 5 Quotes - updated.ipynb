{
 "cells": [
  {
   "cell_type": "markdown",
   "id": "1e92e177",
   "metadata": {},
   "source": [
    "# Top 5 Quotes dummy model"
   ]
  },
  {
   "cell_type": "code",
   "execution_count": 1,
   "id": "1ca64412",
   "metadata": {},
   "outputs": [
    {
     "name": "stderr",
     "output_type": "stream",
     "text": [
      "2022-03-03 12:10:37.323049: W tensorflow/stream_executor/platform/default/dso_loader.cc:64] Could not load dynamic library 'libcudart.so.11.0'; dlerror: libcudart.so.11.0: cannot open shared object file: No such file or directory\n",
      "2022-03-03 12:10:37.323095: I tensorflow/stream_executor/cuda/cudart_stub.cc:29] Ignore above cudart dlerror if you do not have a GPU set up on your machine.\n"
     ]
    }
   ],
   "source": [
    "import pandas as pd\n",
    "import itertools\n",
    "import re\n",
    "from sklearn.decomposition import LatentDirichletAllocation\n",
    "from sklearn.feature_extraction.text import CountVectorizer,TfidfVectorizer\n",
    "import string\n",
    "from sklearn.neighbors import NearestNeighbors\n",
    "import numpy as np\n",
    "import matplotlib.pyplot as plt\n",
    "from gensim.models import Word2Vec\n",
    "from tensorflow.keras.preprocessing.sequence import pad_sequences\n",
    "from sklearn.model_selection import GridSearchCV\n",
    "from sklearn.pipeline import Pipeline"
   ]
  },
  {
   "cell_type": "code",
   "execution_count": 2,
   "id": "f4d861c0",
   "metadata": {},
   "outputs": [
    {
     "data": {
      "text/html": [
       "<div>\n",
       "<style scoped>\n",
       "    .dataframe tbody tr th:only-of-type {\n",
       "        vertical-align: middle;\n",
       "    }\n",
       "\n",
       "    .dataframe tbody tr th {\n",
       "        vertical-align: top;\n",
       "    }\n",
       "\n",
       "    .dataframe thead th {\n",
       "        text-align: right;\n",
       "    }\n",
       "</style>\n",
       "<table border=\"1\" class=\"dataframe\">\n",
       "  <thead>\n",
       "    <tr style=\"text-align: right;\">\n",
       "      <th></th>\n",
       "      <th>quote</th>\n",
       "      <th>author</th>\n",
       "      <th>category</th>\n",
       "    </tr>\n",
       "  </thead>\n",
       "  <tbody>\n",
       "    <tr>\n",
       "      <th>0</th>\n",
       "      <td>I'm selfish, impatient and a little insecure. ...</td>\n",
       "      <td>Marilyn Monroe</td>\n",
       "      <td>attributed-no-source, best, life, love, mistak...</td>\n",
       "    </tr>\n",
       "    <tr>\n",
       "      <th>1</th>\n",
       "      <td>You've gotta dance like there's nobody watchin...</td>\n",
       "      <td>William W. Purkey</td>\n",
       "      <td>dance, heaven, hurt, inspirational, life, love...</td>\n",
       "    </tr>\n",
       "    <tr>\n",
       "      <th>2</th>\n",
       "      <td>You know you're in love when you can't fall as...</td>\n",
       "      <td>Dr. Seuss</td>\n",
       "      <td>attributed-no-source, dreams, love, reality, s...</td>\n",
       "    </tr>\n",
       "  </tbody>\n",
       "</table>\n",
       "</div>"
      ],
      "text/plain": [
       "                                               quote             author  \\\n",
       "0  I'm selfish, impatient and a little insecure. ...     Marilyn Monroe   \n",
       "1  You've gotta dance like there's nobody watchin...  William W. Purkey   \n",
       "2  You know you're in love when you can't fall as...          Dr. Seuss   \n",
       "\n",
       "                                            category  \n",
       "0  attributed-no-source, best, life, love, mistak...  \n",
       "1  dance, heaven, hurt, inspirational, life, love...  \n",
       "2  attributed-no-source, dreams, love, reality, s...  "
      ]
     },
     "execution_count": 2,
     "metadata": {},
     "output_type": "execute_result"
    }
   ],
   "source": [
    "file = \"../raw_data/quotes - reduced.csv\"\n",
    "quotes = pd.read_csv(file, decimal=\",\")\n",
    "quotes.head(3)"
   ]
  },
  {
   "cell_type": "code",
   "execution_count": 3,
   "id": "6091862d",
   "metadata": {},
   "outputs": [],
   "source": [
    "tags_list = quotes.category.to_list()\n",
    "number_of_tags = []\n",
    "for i in tags_list:\n",
    "    number_of_tags.append(len(str(i).split(',')))"
   ]
  },
  {
   "cell_type": "code",
   "execution_count": 4,
   "id": "aff95d1a",
   "metadata": {},
   "outputs": [],
   "source": [
    "quotes['quotes_length'] = quotes['quote'].copy()\n",
    "for index, row in quotes.iterrows():\n",
    "    quotes.loc[index, \"quotes_length\"] = len(str(row['quotes_length']).split(' '))"
   ]
  },
  {
   "cell_type": "markdown",
   "id": "6b3571ee",
   "metadata": {},
   "source": [
    "## Cleaning data: tags are all lowercase, '-' were replaced with ',', duplicates were removed"
   ]
  },
  {
   "cell_type": "code",
   "execution_count": 5,
   "id": "20c0a4ef",
   "metadata": {},
   "outputs": [],
   "source": [
    "for index, row in quotes.iterrows():\n",
    "    quotes.loc[index, \"category\"] = str(row['category']).lower().replace('-',', ')"
   ]
  },
  {
   "cell_type": "code",
   "execution_count": 6,
   "id": "a8118749",
   "metadata": {},
   "outputs": [
    {
     "data": {
      "text/plain": [
       "count    154318.000000\n",
       "mean          9.758272\n",
       "std          15.418337\n",
       "min           1.000000\n",
       "25%           3.000000\n",
       "50%           5.000000\n",
       "75%          11.000000\n",
       "max         568.000000\n",
       "Name: count_tags, dtype: float64"
      ]
     },
     "execution_count": 6,
     "metadata": {},
     "output_type": "execute_result"
    }
   ],
   "source": [
    "quotes['list_tags'] = quotes['category'].copy()\n",
    "for index,row in quotes.iterrows():\n",
    "    quotes.loc[index, 'count_tags'] = len(str(row['list_tags']).split(','))\n",
    "quotes.count_tags.describe()"
   ]
  },
  {
   "cell_type": "code",
   "execution_count": 7,
   "id": "03173ade",
   "metadata": {},
   "outputs": [],
   "source": [
    "for index,row in quotes.iterrows():\n",
    "    quotes.at[index, 'list_tags'] = str(row['list_tags']).split(',')"
   ]
  },
  {
   "cell_type": "code",
   "execution_count": 8,
   "id": "a2694b22",
   "metadata": {},
   "outputs": [],
   "source": [
    "for index,row in quotes.iterrows():\n",
    "    quotes.at[index, 'list_tags'] = str(set(row['list_tags']))"
   ]
  },
  {
   "cell_type": "code",
   "execution_count": 9,
   "id": "fe5bd848",
   "metadata": {},
   "outputs": [],
   "source": [
    "def remove_punctuations(text):\n",
    "    for punctuation in string.punctuation:\n",
    "        text = text.replace(punctuation, '')\n",
    "    return text\n",
    "quotes['list_tags'] = quotes['list_tags'].apply(remove_punctuations)"
   ]
  },
  {
   "cell_type": "code",
   "execution_count": 10,
   "id": "2a9e9728",
   "metadata": {},
   "outputs": [],
   "source": [
    "vectorizer = TfidfVectorizer(max_df=0.95, min_df=2, stop_words=\"english\")\n",
    "tags_vectorized = vectorizer.fit_transform(quotes['list_tags'])\n",
    "dummy_tags = LatentDirichletAllocation(n_components=5)\n",
    "lda_vectors = dummy_tags.fit_transform(tags_vectorized)"
   ]
  },
  {
   "cell_type": "code",
   "execution_count": 11,
   "id": "e2718d5d",
   "metadata": {},
   "outputs": [
    {
     "name": "stdout",
     "output_type": "stream",
     "text": [
      "Topic 0:\n",
      "[('humor', 2861.300072786587), ('writing', 1776.4235700444779), ('romance', 1548.161362554567), ('humour', 1382.7360776237533), ('funny', 1294.8553427010054), ('fiction', 1076.972914019251), ('fantasy', 1003.0275699673603), ('history', 872.1972846223128), ('sex', 820.5457124197679), ('beauty', 616.3604395066176)]\n",
      "Topic 1:\n",
      "[('religion', 1578.4730430347472), ('art', 1146.9226665602675), ('war', 1122.5082114524776), ('politics', 1087.833941879061), ('science', 1047.8551793850888), ('christianity', 1017.4020634631645), ('god', 934.0374426182353), ('women', 845.4970069643826), ('leadership', 470.57797056256715), ('family', 455.6445092613923)]\n",
      "Topic 2:\n",
      "[('inspirational', 4504.515290677026), ('life', 3727.9212210965957), ('quotes', 3168.210713846572), ('wisdom', 2513.135834717884), ('hope', 1977.408665170897), ('love', 1898.455795291577), ('happiness', 1878.7158739627598), ('motivational', 1741.0340385318334), ('philosophy', 1645.2917691616433), ('inspiration', 1572.5296336711122)]\n",
      "Topic 3:\n",
      "[('death', 1738.2159183970937), ('books', 1704.743867607839), ('reading', 1387.2898646779267), ('debasish', 1199.3188208991469), ('children', 1152.2174926940702), ('poetry', 1108.0990373075447), ('truth', 945.664422000475), ('love', 931.3659046971109), ('mridha', 870.1731151412378), ('fear', 707.4260900301413)]\n",
      "Topic 4:\n",
      "[('love', 1898.137366301075), ('friendship', 1271.5259609983514), ('life', 975.5876562981005), ('marriage', 975.4402919380863), ('relationships', 940.7965623021774), ('time', 935.2662930687289), ('music', 882.2315103325908), ('work', 845.257148834521), ('purpose', 821.3916291768347), ('money', 758.8671546914536)]\n"
     ]
    }
   ],
   "source": [
    "def print_topics(model, vectorizer):\n",
    "    for idx, topic in enumerate(model.components_):\n",
    "        print(\"Topic %d:\" % (idx))\n",
    "        print([(vectorizer.get_feature_names_out()[i], topic[i])\n",
    "                        for i in topic.argsort()[:-10 - 1:-1]])\n",
    "        \n",
    "\n",
    "print_topics(dummy_tags, vectorizer.fit(quotes['list_tags']))"
   ]
  },
  {
   "cell_type": "code",
   "execution_count": 12,
   "id": "cf60f897",
   "metadata": {},
   "outputs": [
    {
     "data": {
      "text/plain": [
       "array([0.05846742, 0.062578  , 0.06021051, 0.75957939, 0.05916468])"
      ]
     },
     "execution_count": 12,
     "metadata": {},
     "output_type": "execute_result"
    }
   ],
   "source": [
    "lda_vectors[1]"
   ]
  },
  {
   "cell_type": "code",
   "execution_count": 13,
   "id": "89afe129",
   "metadata": {},
   "outputs": [
    {
     "data": {
      "text/html": [
       "<div>\n",
       "<style scoped>\n",
       "    .dataframe tbody tr th:only-of-type {\n",
       "        vertical-align: middle;\n",
       "    }\n",
       "\n",
       "    .dataframe tbody tr th {\n",
       "        vertical-align: top;\n",
       "    }\n",
       "\n",
       "    .dataframe thead th {\n",
       "        text-align: right;\n",
       "    }\n",
       "</style>\n",
       "<table border=\"1\" class=\"dataframe\">\n",
       "  <thead>\n",
       "    <tr style=\"text-align: right;\">\n",
       "      <th></th>\n",
       "      <th>quote</th>\n",
       "      <th>author</th>\n",
       "      <th>category</th>\n",
       "      <th>quotes_length</th>\n",
       "      <th>list_tags</th>\n",
       "      <th>count_tags</th>\n",
       "    </tr>\n",
       "  </thead>\n",
       "  <tbody>\n",
       "    <tr>\n",
       "      <th>0</th>\n",
       "      <td>I'm selfish, impatient and a little insecure. ...</td>\n",
       "      <td>Marilyn Monroe</td>\n",
       "      <td>attributed, no, source, best, life, love, mist...</td>\n",
       "      <td>41</td>\n",
       "      <td>attributed  truth  life  out  control  best  s...</td>\n",
       "      <td>12.0</td>\n",
       "    </tr>\n",
       "    <tr>\n",
       "      <th>1</th>\n",
       "      <td>You've gotta dance like there's nobody watchin...</td>\n",
       "      <td>William W. Purkey</td>\n",
       "      <td>dance, heaven, hurt, inspirational, life, love...</td>\n",
       "      <td>22</td>\n",
       "      <td>inspirational  heaven  life  sing dance  hurt...</td>\n",
       "      <td>7.0</td>\n",
       "    </tr>\n",
       "    <tr>\n",
       "      <th>2</th>\n",
       "      <td>You know you're in love when you can't fall as...</td>\n",
       "      <td>Dr. Seuss</td>\n",
       "      <td>attributed, no, source, dreams, love, reality,...</td>\n",
       "      <td>18</td>\n",
       "      <td>attributed  sleep  reality  dreams  source  no...</td>\n",
       "      <td>7.0</td>\n",
       "    </tr>\n",
       "    <tr>\n",
       "      <th>3</th>\n",
       "      <td>A friend is someone who knows all about you an...</td>\n",
       "      <td>Elbert Hubbard</td>\n",
       "      <td>friend, friendship, knowledge, love</td>\n",
       "      <td>13</td>\n",
       "      <td>knowledge  love friend  friendship</td>\n",
       "      <td>4.0</td>\n",
       "    </tr>\n",
       "    <tr>\n",
       "      <th>4</th>\n",
       "      <td>Darkness cannot drive out darkness: only light...</td>\n",
       "      <td>Martin Luther King Jr., A Testament of Hope: T...</td>\n",
       "      <td>darkness, drive, out, hate, inspirational, lig...</td>\n",
       "      <td>20</td>\n",
       "      <td>inspirational  light  out  hate  drive  peace...</td>\n",
       "      <td>8.0</td>\n",
       "    </tr>\n",
       "  </tbody>\n",
       "</table>\n",
       "</div>"
      ],
      "text/plain": [
       "                                               quote  \\\n",
       "0  I'm selfish, impatient and a little insecure. ...   \n",
       "1  You've gotta dance like there's nobody watchin...   \n",
       "2  You know you're in love when you can't fall as...   \n",
       "3  A friend is someone who knows all about you an...   \n",
       "4  Darkness cannot drive out darkness: only light...   \n",
       "\n",
       "                                              author  \\\n",
       "0                                     Marilyn Monroe   \n",
       "1                                  William W. Purkey   \n",
       "2                                          Dr. Seuss   \n",
       "3                                     Elbert Hubbard   \n",
       "4  Martin Luther King Jr., A Testament of Hope: T...   \n",
       "\n",
       "                                            category quotes_length  \\\n",
       "0  attributed, no, source, best, life, love, mist...            41   \n",
       "1  dance, heaven, hurt, inspirational, life, love...            22   \n",
       "2  attributed, no, source, dreams, love, reality,...            18   \n",
       "3                friend, friendship, knowledge, love            13   \n",
       "4  darkness, drive, out, hate, inspirational, lig...            20   \n",
       "\n",
       "                                           list_tags  count_tags  \n",
       "0  attributed  truth  life  out  control  best  s...        12.0  \n",
       "1   inspirational  heaven  life  sing dance  hurt...         7.0  \n",
       "2  attributed  sleep  reality  dreams  source  no...         7.0  \n",
       "3                 knowledge  love friend  friendship         4.0  \n",
       "4   inspirational  light  out  hate  drive  peace...         8.0  "
      ]
     },
     "execution_count": 13,
     "metadata": {},
     "output_type": "execute_result"
    }
   ],
   "source": [
    "quotes.head()"
   ]
  },
  {
   "cell_type": "code",
   "execution_count": 14,
   "id": "546b16a1",
   "metadata": {},
   "outputs": [],
   "source": [
    "quotes.iloc[-1] = ['A large crowd is assembled on an outdoor street scene , with toy balloons visible and a woman walking a pink bicyc', 'image','image','5','A large crowd is assembled on an outdoor street scene , with toy balloons visible and a woman walking a pink bicyc','1']"
   ]
  },
  {
   "cell_type": "code",
   "execution_count": 15,
   "id": "1be062b5",
   "metadata": {},
   "outputs": [],
   "source": [
    "picture_vectorized = vectorizer.transform(quotes.iloc[-1])\n",
    "lda_vectors_self = dummy_tags.transform(picture_vectorized)\n",
    "for index,row in quotes.iterrows():\n",
    "    quotes['topic'] = quotes.quote.copy()"
   ]
  },
  {
   "cell_type": "code",
   "execution_count": 16,
   "id": "5d2597fa",
   "metadata": {},
   "outputs": [],
   "source": [
    "for index,row in quotes.iterrows():\n",
    "    quotes.at[index, 'topic'] = np.where(lda_vectors[index] == max(lda_vectors[index]))[0][0]"
   ]
  },
  {
   "cell_type": "code",
   "execution_count": 17,
   "id": "127c7574",
   "metadata": {},
   "outputs": [
    {
     "data": {
      "text/html": [
       "<div>\n",
       "<style scoped>\n",
       "    .dataframe tbody tr th:only-of-type {\n",
       "        vertical-align: middle;\n",
       "    }\n",
       "\n",
       "    .dataframe tbody tr th {\n",
       "        vertical-align: top;\n",
       "    }\n",
       "\n",
       "    .dataframe thead th {\n",
       "        text-align: right;\n",
       "    }\n",
       "</style>\n",
       "<table border=\"1\" class=\"dataframe\">\n",
       "  <thead>\n",
       "    <tr style=\"text-align: right;\">\n",
       "      <th></th>\n",
       "      <th>quote</th>\n",
       "      <th>author</th>\n",
       "      <th>category</th>\n",
       "      <th>quotes_length</th>\n",
       "      <th>list_tags</th>\n",
       "      <th>count_tags</th>\n",
       "      <th>topic</th>\n",
       "    </tr>\n",
       "  </thead>\n",
       "  <tbody>\n",
       "    <tr>\n",
       "      <th>154313</th>\n",
       "      <td>The harassed look is that of a desperately tir...</td>\n",
       "      <td>Christopher Isherwood, A Single Man</td>\n",
       "      <td>dying, living</td>\n",
       "      <td>96</td>\n",
       "      <td>dying  living</td>\n",
       "      <td>2.0</td>\n",
       "      <td>3</td>\n",
       "    </tr>\n",
       "    <tr>\n",
       "      <th>154314</th>\n",
       "      <td>…In this way that he sought to control the ver...</td>\n",
       "      <td>Jesse Ball, The Curfew</td>\n",
       "      <td>life, living, mindfulness</td>\n",
       "      <td>39</td>\n",
       "      <td>life  mindfulness  living</td>\n",
       "      <td>3.0</td>\n",
       "      <td>4</td>\n",
       "    </tr>\n",
       "    <tr>\n",
       "      <th>154315</th>\n",
       "      <td>No matter how we choose to live, we both die a...</td>\n",
       "      <td>Adam Silvera, They Both Die at the End</td>\n",
       "      <td>death, living</td>\n",
       "      <td>13</td>\n",
       "      <td>living death</td>\n",
       "      <td>2.0</td>\n",
       "      <td>2</td>\n",
       "    </tr>\n",
       "    <tr>\n",
       "      <th>154316</th>\n",
       "      <td>The goal that you hope you will one day arrive...</td>\n",
       "      <td>Marcus Aurelius, The Essential Marcus Aurelius</td>\n",
       "      <td>living</td>\n",
       "      <td>239</td>\n",
       "      <td>living</td>\n",
       "      <td>1.0</td>\n",
       "      <td>2</td>\n",
       "    </tr>\n",
       "    <tr>\n",
       "      <th>154317</th>\n",
       "      <td>A large crowd is assembled on an outdoor stree...</td>\n",
       "      <td>image</td>\n",
       "      <td>image</td>\n",
       "      <td>5</td>\n",
       "      <td>A large crowd is assembled on an outdoor stree...</td>\n",
       "      <td>1</td>\n",
       "      <td>3</td>\n",
       "    </tr>\n",
       "  </tbody>\n",
       "</table>\n",
       "</div>"
      ],
      "text/plain": [
       "                                                    quote  \\\n",
       "154313  The harassed look is that of a desperately tir...   \n",
       "154314  …In this way that he sought to control the ver...   \n",
       "154315  No matter how we choose to live, we both die a...   \n",
       "154316  The goal that you hope you will one day arrive...   \n",
       "154317  A large crowd is assembled on an outdoor stree...   \n",
       "\n",
       "                                                author  \\\n",
       "154313             Christopher Isherwood, A Single Man   \n",
       "154314                          Jesse Ball, The Curfew   \n",
       "154315          Adam Silvera, They Both Die at the End   \n",
       "154316  Marcus Aurelius, The Essential Marcus Aurelius   \n",
       "154317                                           image   \n",
       "\n",
       "                         category quotes_length  \\\n",
       "154313              dying, living            96   \n",
       "154314  life, living, mindfulness            39   \n",
       "154315              death, living            13   \n",
       "154316                     living           239   \n",
       "154317                      image             5   \n",
       "\n",
       "                                                list_tags count_tags topic  \n",
       "154313                                      dying  living        2.0     3  \n",
       "154314                          life  mindfulness  living        3.0     4  \n",
       "154315                                       living death        2.0     2  \n",
       "154316                                             living        1.0     2  \n",
       "154317  A large crowd is assembled on an outdoor stree...          1     3  "
      ]
     },
     "execution_count": 17,
     "metadata": {},
     "output_type": "execute_result"
    }
   ],
   "source": [
    "quotes.tail()"
   ]
  },
  {
   "cell_type": "code",
   "execution_count": 18,
   "id": "17e5ce10",
   "metadata": {},
   "outputs": [
    {
     "data": {
      "text/plain": [
       "(array([26854.,     0., 27456.,     0.,     0., 44150.,     0., 30932.,\n",
       "            0., 24926.]),\n",
       " array([0.0, 0.4, 0.8, 1.2000000000000002, 1.6, 2.0, 2.4000000000000004,\n",
       "        2.8000000000000003, 3.2, 3.6, 4.0], dtype=object),\n",
       " <BarContainer object of 10 artists>)"
      ]
     },
     "execution_count": 18,
     "metadata": {},
     "output_type": "execute_result"
    },
    {
     "data": {
      "image/png": "[encoded data removed]",
      "text/plain": [
       "<Figure size 432x288 with 1 Axes>"
      ]
     },
     "metadata": {
      "needs_background": "light"
     },
     "output_type": "display_data"
    }
   ],
   "source": [
    "plt.hist(quotes.topic)"
   ]
  },
  {
   "cell_type": "markdown",
   "id": "5343aa9b",
   "metadata": {},
   "source": [
    "__Adding the image caption as the last line to our dataset to be able to see the closest neighbourhs__"
   ]
  },
  {
   "cell_type": "code",
   "execution_count": 19,
   "id": "82c637de",
   "metadata": {},
   "outputs": [
    {
     "data": {
      "text/plain": [
       "3"
      ]
     },
     "execution_count": 19,
     "metadata": {},
     "output_type": "execute_result"
    }
   ],
   "source": [
    "image_topic = int(quotes.iloc[-1, [-1]])\n",
    "image_topic"
   ]
  },
  {
   "cell_type": "code",
   "execution_count": 20,
   "id": "3325329c",
   "metadata": {},
   "outputs": [
    {
     "data": {
      "text/html": [
       "<div>\n",
       "<style scoped>\n",
       "    .dataframe tbody tr th:only-of-type {\n",
       "        vertical-align: middle;\n",
       "    }\n",
       "\n",
       "    .dataframe tbody tr th {\n",
       "        vertical-align: top;\n",
       "    }\n",
       "\n",
       "    .dataframe thead th {\n",
       "        text-align: right;\n",
       "    }\n",
       "</style>\n",
       "<table border=\"1\" class=\"dataframe\">\n",
       "  <thead>\n",
       "    <tr style=\"text-align: right;\">\n",
       "      <th></th>\n",
       "      <th>quote</th>\n",
       "      <th>author</th>\n",
       "      <th>category</th>\n",
       "      <th>quotes_length</th>\n",
       "      <th>list_tags</th>\n",
       "      <th>count_tags</th>\n",
       "      <th>topic</th>\n",
       "    </tr>\n",
       "  </thead>\n",
       "  <tbody>\n",
       "    <tr>\n",
       "      <th>0</th>\n",
       "      <td>I'm selfish, impatient and a little insecure. ...</td>\n",
       "      <td>Marilyn Monroe</td>\n",
       "      <td>attributed, no, source, best, life, love, mist...</td>\n",
       "      <td>41</td>\n",
       "      <td>attributed  truth  life  out  control  best  s...</td>\n",
       "      <td>12.0</td>\n",
       "      <td>3</td>\n",
       "    </tr>\n",
       "    <tr>\n",
       "      <th>1</th>\n",
       "      <td>You've gotta dance like there's nobody watchin...</td>\n",
       "      <td>William W. Purkey</td>\n",
       "      <td>dance, heaven, hurt, inspirational, life, love...</td>\n",
       "      <td>22</td>\n",
       "      <td>inspirational  heaven  life  sing dance  hurt...</td>\n",
       "      <td>7.0</td>\n",
       "      <td>3</td>\n",
       "    </tr>\n",
       "    <tr>\n",
       "      <th>2</th>\n",
       "      <td>You know you're in love when you can't fall as...</td>\n",
       "      <td>Dr. Seuss</td>\n",
       "      <td>attributed, no, source, dreams, love, reality,...</td>\n",
       "      <td>18</td>\n",
       "      <td>attributed  sleep  reality  dreams  source  no...</td>\n",
       "      <td>7.0</td>\n",
       "      <td>3</td>\n",
       "    </tr>\n",
       "    <tr>\n",
       "      <th>11</th>\n",
       "      <td>I love you without knowing how, or when, or fr...</td>\n",
       "      <td>Pablo Neruda, 100 Love Sonnets</td>\n",
       "      <td>love, poetry</td>\n",
       "      <td>66</td>\n",
       "      <td>love  poetry</td>\n",
       "      <td>2.0</td>\n",
       "      <td>3</td>\n",
       "    </tr>\n",
       "    <tr>\n",
       "      <th>12</th>\n",
       "      <td>Love all, trust a few, do wrong to none.</td>\n",
       "      <td>William Shakespeare, All's Well That Ends Well</td>\n",
       "      <td>do, wrong, love, trust, wrong</td>\n",
       "      <td>9</td>\n",
       "      <td>trust do  wrong  love</td>\n",
       "      <td>5.0</td>\n",
       "      <td>3</td>\n",
       "    </tr>\n",
       "  </tbody>\n",
       "</table>\n",
       "</div>"
      ],
      "text/plain": [
       "                                                quote  \\\n",
       "0   I'm selfish, impatient and a little insecure. ...   \n",
       "1   You've gotta dance like there's nobody watchin...   \n",
       "2   You know you're in love when you can't fall as...   \n",
       "11  I love you without knowing how, or when, or fr...   \n",
       "12           Love all, trust a few, do wrong to none.   \n",
       "\n",
       "                                            author  \\\n",
       "0                                   Marilyn Monroe   \n",
       "1                                William W. Purkey   \n",
       "2                                        Dr. Seuss   \n",
       "11                  Pablo Neruda, 100 Love Sonnets   \n",
       "12  William Shakespeare, All's Well That Ends Well   \n",
       "\n",
       "                                             category quotes_length  \\\n",
       "0   attributed, no, source, best, life, love, mist...            41   \n",
       "1   dance, heaven, hurt, inspirational, life, love...            22   \n",
       "2   attributed, no, source, dreams, love, reality,...            18   \n",
       "11                                       love, poetry            66   \n",
       "12                      do, wrong, love, trust, wrong             9   \n",
       "\n",
       "                                            list_tags count_tags topic  \n",
       "0   attributed  truth  life  out  control  best  s...       12.0     3  \n",
       "1    inspirational  heaven  life  sing dance  hurt...        7.0     3  \n",
       "2   attributed  sleep  reality  dreams  source  no...        7.0     3  \n",
       "11                                       love  poetry        2.0     3  \n",
       "12                              trust do  wrong  love        5.0     3  "
      ]
     },
     "execution_count": 20,
     "metadata": {},
     "output_type": "execute_result"
    }
   ],
   "source": [
    "quotes = quotes.dropna()\n",
    "only_topic = quotes[quotes.topic == image_topic]\n",
    "only_topic.head()"
   ]
  },
  {
   "cell_type": "code",
   "execution_count": 21,
   "id": "9ed8f347",
   "metadata": {},
   "outputs": [
    {
     "data": {
      "text/html": [
       "<div>\n",
       "<style scoped>\n",
       "    .dataframe tbody tr th:only-of-type {\n",
       "        vertical-align: middle;\n",
       "    }\n",
       "\n",
       "    .dataframe tbody tr th {\n",
       "        vertical-align: top;\n",
       "    }\n",
       "\n",
       "    .dataframe thead th {\n",
       "        text-align: right;\n",
       "    }\n",
       "</style>\n",
       "<table border=\"1\" class=\"dataframe\">\n",
       "  <thead>\n",
       "    <tr style=\"text-align: right;\">\n",
       "      <th></th>\n",
       "      <th>quote</th>\n",
       "      <th>author</th>\n",
       "    </tr>\n",
       "  </thead>\n",
       "  <tbody>\n",
       "    <tr>\n",
       "      <th>4</th>\n",
       "      <td>The two stand in the fast-thinning throng of v...</td>\n",
       "      <td>Charles Dickens, A Tale of Two Cities</td>\n",
       "    </tr>\n",
       "    <tr>\n",
       "      <th>12</th>\n",
       "      <td>If you don't live a life in service of a great...</td>\n",
       "      <td>John Green, The Fault in Our Stars</td>\n",
       "    </tr>\n",
       "    <tr>\n",
       "      <th>15</th>\n",
       "      <td>When an old truth ceases to be applicable, it ...</td>\n",
       "      <td>Hannah Arendt, On Revolution</td>\n",
       "    </tr>\n",
       "    <tr>\n",
       "      <th>42</th>\n",
       "      <td>Worship your body, beauty, and sexual allure a...</td>\n",
       "      <td>David Foster Wallace</td>\n",
       "    </tr>\n",
       "    <tr>\n",
       "      <th>45</th>\n",
       "      <td>How ghastly for her, people actually thinking,...</td>\n",
       "      <td>Gail Carriger, Soulless</td>\n",
       "    </tr>\n",
       "  </tbody>\n",
       "</table>\n",
       "</div>"
      ],
      "text/plain": [
       "                                                quote  \\\n",
       "4   The two stand in the fast-thinning throng of v...   \n",
       "12  If you don't live a life in service of a great...   \n",
       "15  When an old truth ceases to be applicable, it ...   \n",
       "42  Worship your body, beauty, and sexual allure a...   \n",
       "45  How ghastly for her, people actually thinking,...   \n",
       "\n",
       "                                   author  \n",
       "4   Charles Dickens, A Tale of Two Cities  \n",
       "12     John Green, The Fault in Our Stars  \n",
       "15           Hannah Arendt, On Revolution  \n",
       "42                   David Foster Wallace  \n",
       "45                Gail Carriger, Soulless  "
      ]
     },
     "execution_count": 21,
     "metadata": {},
     "output_type": "execute_result"
    }
   ],
   "source": [
    "tfidf_weight = vectorizer.fit_transform(only_topic['list_tags'].values.astype('U'))\n",
    "nn_euc = NearestNeighbors(metric = 'euclidean')\n",
    "nn_euc.fit(tfidf_weight)\n",
    "image_index = -1\n",
    "euc, indices = nn_euc.kneighbors(tfidf_weight[image_index], n_neighbors = 100)\n",
    "neighbors_euc = pd.DataFrame({'euc': euc.flatten(), 'id': indices.flatten()})\n",
    "result_top5 = (only_topic.merge(neighbors_euc, right_on = 'id', left_index = True).\n",
    "                sort_values('euc')[['quote', 'author']]).head()\n",
    "\n",
    "result_top5"
   ]
  },
  {
   "cell_type": "code",
   "execution_count": 22,
   "id": "6f9d25cd",
   "metadata": {},
   "outputs": [
    {
     "name": "stdout",
     "output_type": "stream",
     "text": [
      "Please give me 5 words that are descriptive of your picture:one, two, three, cat, dog\n"
     ]
    },
    {
     "name": "stderr",
     "output_type": "stream",
     "text": [
      "/tmp/ipykernel_3016/101407589.py:3: SettingWithCopyWarning: \n",
      "A value is trying to be set on a copy of a slice from a DataFrame\n",
      "\n",
      "See the caveats in the documentation: https://pandas.pydata.org/pandas-docs/stable/user_guide/indexing.html#returning-a-view-versus-a-copy\n",
      "  most_suiting.iloc[-1] = [own_tags,'image','image','5',own_tags,'1',image_topic]\n"
     ]
    },
    {
     "data": {
      "text/html": [
       "<div>\n",
       "<style scoped>\n",
       "    .dataframe tbody tr th:only-of-type {\n",
       "        vertical-align: middle;\n",
       "    }\n",
       "\n",
       "    .dataframe tbody tr th {\n",
       "        vertical-align: top;\n",
       "    }\n",
       "\n",
       "    .dataframe thead th {\n",
       "        text-align: right;\n",
       "    }\n",
       "</style>\n",
       "<table border=\"1\" class=\"dataframe\">\n",
       "  <thead>\n",
       "    <tr style=\"text-align: right;\">\n",
       "      <th></th>\n",
       "      <th>quote</th>\n",
       "      <th>author</th>\n",
       "      <th>category</th>\n",
       "      <th>quotes_length</th>\n",
       "      <th>list_tags</th>\n",
       "      <th>count_tags</th>\n",
       "      <th>topic</th>\n",
       "    </tr>\n",
       "  </thead>\n",
       "  <tbody>\n",
       "    <tr>\n",
       "      <th>154311</th>\n",
       "      <td>Now is everythingNow is the essenceNow is the ...</td>\n",
       "      <td>Karen Hackel, The Whisper of Your Soul</td>\n",
       "      <td>living, living, in, the, present, living, life...</td>\n",
       "      <td>16</td>\n",
       "      <td>living  in  life  age  to  now  living  new  f...</td>\n",
       "      <td>15.0</td>\n",
       "      <td>2</td>\n",
       "    </tr>\n",
       "    <tr>\n",
       "      <th>154312</th>\n",
       "      <td>Sasha's green eyes were right up against yours...</td>\n",
       "      <td>Jennifer Egan, A Visit from the Goon Squad</td>\n",
       "      <td>coping, living, survival</td>\n",
       "      <td>77</td>\n",
       "      <td>living coping  survival</td>\n",
       "      <td>3.0</td>\n",
       "      <td>2</td>\n",
       "    </tr>\n",
       "    <tr>\n",
       "      <th>154314</th>\n",
       "      <td>…In this way that he sought to control the ver...</td>\n",
       "      <td>Jesse Ball, The Curfew</td>\n",
       "      <td>life, living, mindfulness</td>\n",
       "      <td>39</td>\n",
       "      <td>life  mindfulness  living</td>\n",
       "      <td>3.0</td>\n",
       "      <td>4</td>\n",
       "    </tr>\n",
       "    <tr>\n",
       "      <th>154315</th>\n",
       "      <td>No matter how we choose to live, we both die a...</td>\n",
       "      <td>Adam Silvera, They Both Die at the End</td>\n",
       "      <td>death, living</td>\n",
       "      <td>13</td>\n",
       "      <td>living death</td>\n",
       "      <td>2.0</td>\n",
       "      <td>2</td>\n",
       "    </tr>\n",
       "    <tr>\n",
       "      <th>154316</th>\n",
       "      <td>one, two, three, cat, dog</td>\n",
       "      <td>image</td>\n",
       "      <td>image</td>\n",
       "      <td>5</td>\n",
       "      <td>one, two, three, cat, dog</td>\n",
       "      <td>1</td>\n",
       "      <td>3</td>\n",
       "    </tr>\n",
       "  </tbody>\n",
       "</table>\n",
       "</div>"
      ],
      "text/plain": [
       "                                                    quote  \\\n",
       "154311  Now is everythingNow is the essenceNow is the ...   \n",
       "154312  Sasha's green eyes were right up against yours...   \n",
       "154314  …In this way that he sought to control the ver...   \n",
       "154315  No matter how we choose to live, we both die a...   \n",
       "154316                          one, two, three, cat, dog   \n",
       "\n",
       "                                            author  \\\n",
       "154311      Karen Hackel, The Whisper of Your Soul   \n",
       "154312  Jennifer Egan, A Visit from the Goon Squad   \n",
       "154314                      Jesse Ball, The Curfew   \n",
       "154315      Adam Silvera, They Both Die at the End   \n",
       "154316                                       image   \n",
       "\n",
       "                                                 category quotes_length  \\\n",
       "154311  living, living, in, the, present, living, life...            16   \n",
       "154312                           coping, living, survival            77   \n",
       "154314                          life, living, mindfulness            39   \n",
       "154315                                      death, living            13   \n",
       "154316                                              image             5   \n",
       "\n",
       "                                                list_tags count_tags topic  \n",
       "154311  living  in  life  age  to  now  living  new  f...       15.0     2  \n",
       "154312                            living coping  survival        3.0     2  \n",
       "154314                          life  mindfulness  living        3.0     4  \n",
       "154315                                       living death        2.0     2  \n",
       "154316                          one, two, three, cat, dog          1     3  "
      ]
     },
     "execution_count": 22,
     "metadata": {},
     "output_type": "execute_result"
    }
   ],
   "source": [
    "most_suiting = quotes[quotes.topic != image_topic]\n",
    "own_tags = input(\"Please give me 5 words that are descriptive of your picture:\")\n",
    "most_suiting.iloc[-1] = [own_tags,'image','image','5',own_tags,'1',image_topic]\n",
    "most_suiting.tail()"
   ]
  },
  {
   "cell_type": "code",
   "execution_count": 23,
   "id": "a2e6ae3c",
   "metadata": {},
   "outputs": [
    {
     "data": {
      "text/plain": [
       "18    I became aware that the invincible power that ...\n",
       "Name: quote, dtype: object"
      ]
     },
     "execution_count": 23,
     "metadata": {},
     "output_type": "execute_result"
    }
   ],
   "source": [
    "tfidf_weight = vectorizer.fit_transform(most_suiting['list_tags'].values.astype('U'))\n",
    "nn_euc = NearestNeighbors(metric = 'euclidean')\n",
    "nn_euc.fit(tfidf_weight)\n",
    "image_index = -1\n",
    "euc, indices = nn_euc.kneighbors(tfidf_weight[image_index], n_neighbors = 100)\n",
    "neighbors_euc = pd.DataFrame({'euc': euc.flatten(), 'id': indices.flatten()})\n",
    "result_most_s = (only_topic.merge(neighbors_euc, right_on = 'id', left_index = True).\n",
    "                sort_values('euc')[['quote', 'author']]).head(1)\n",
    "\n",
    "result_most_s.quote"
   ]
  },
  {
   "cell_type": "markdown",
   "id": "8c482d9f",
   "metadata": {},
   "source": [
    "### Trying word2vec for the most suiting quote for better result"
   ]
  },
  {
   "cell_type": "code",
   "execution_count": 24,
   "id": "a2dd4d01",
   "metadata": {},
   "outputs": [],
   "source": [
    "word2vec = Word2Vec(sentences=most_suiting.list_tags, vector_size=100, min_count=1, window=10)"
   ]
  },
  {
   "cell_type": "code",
   "execution_count": null,
   "id": "d13ad3bd",
   "metadata": {},
   "outputs": [],
   "source": [
    "# Function to convert a sentence (list of words) into a matrix representing the words in the embedding space\n",
    "def embed_sentence(word2vec, sentence):\n",
    "    embedded_sentence = []\n",
    "    for word in sentence:\n",
    "        if word in word2vec.wv:\n",
    "            embedded_sentence.append(word2vec.wv[word])\n",
    "        \n",
    "    return np.array(embedded_sentence)\n",
    "\n",
    "# Function that converts a list of sentences into a list of matrices\n",
    "def embedding(word2vec, sentences):\n",
    "    embed = []\n",
    "    \n",
    "    for sentence in sentences:\n",
    "        embedded_sentence = embed_sentence(word2vec, sentence)\n",
    "        embed.append(embedded_sentence)\n",
    "        \n",
    "    return embed\n",
    "\n",
    "# Embed the training and test sentences\n",
    "tags_embed = embedding(word2vec, most_suiting.list_tags)\n",
    "\n",
    "# Pad the training and test embedded sentences\n",
    "tags_pad = pad_sequences(tags_embed, dtype='float32', padding='post', maxlen=200)"
   ]
  },
  {
   "cell_type": "code",
   "execution_count": null,
   "id": "0b493a31",
   "metadata": {},
   "outputs": [],
   "source": [
    "for X in most_suiting.list_tags:\n",
    "    assert type(X) == np.ndarray\n",
    "    assert X.shape[-1] == word2vec.wv.vector_size\n",
    "\n",
    "assert tags_pad.shape[0] == len(most_suiting.list_tags)"
   ]
  },
  {
   "cell_type": "code",
   "execution_count": null,
   "id": "a4b6783c",
   "metadata": {},
   "outputs": [],
   "source": [
    "result = word2vec.most_similar(positive=[own_tags], topn=1)\n",
    "result"
   ]
  },
  {
   "cell_type": "markdown",
   "id": "9d8198ed",
   "metadata": {},
   "source": [
    "### GridSearchCV for LDA finetuning (defining the number of components)"
   ]
  },
  {
   "cell_type": "code",
   "execution_count": null,
   "id": "bc76943a",
   "metadata": {},
   "outputs": [],
   "source": [
    "pipeline = Pipeline([\n",
    "    ('tfidf', TfidfVectorizer()),\n",
    "    ('lda', LatentDirichletAllocation()),\n",
    "])\n",
    "\n",
    "# # Set parameters to search\n",
    "# parameters = {\n",
    "#     'tfidf__ngram_range': ((1,1), (2,2)),\n",
    "#     'tfidf__min_df': (0.05,0.1),\n",
    "#     'tfidf__max_df': (0.75,1),\n",
    "#     'nb__alpha': (0.01,0.1,1,10),}\n",
    "\n",
    "# # Perform grid search on pipeline\n",
    "# grid_search = GridSearchCV(pipeline, parameters, n_jobs=-1, \n",
    "#                            verbose=1, scoring = \"accuracy\", \n",
    "#                            refit=True, cv=5)\n",
    "\n",
    "# grid_search.fit(data.clean_reviews,data.target)"
   ]
  },
  {
   "cell_type": "code",
   "execution_count": null,
   "id": "3b6d438d",
   "metadata": {},
   "outputs": [],
   "source": []
  }
 ],
 "metadata": {
  "kernelspec": {
   "display_name": "Python 3 (ipykernel)",
   "language": "python",
   "name": "python3"
  },
  "language_info": {
   "codemirror_mode": {
    "name": "ipython",
    "version": 3
   },
   "file_extension": ".py",
   "mimetype": "text/x-python",
   "name": "python",
   "nbconvert_exporter": "python",
   "pygments_lexer": "ipython3",
   "version": "3.8.12"
  },
  "toc": {
   "base_numbering": 1,
   "nav_menu": {},
   "number_sections": true,
   "sideBar": true,
   "skip_h1_title": false,
   "title_cell": "Table of Contents",
   "title_sidebar": "Contents",
   "toc_cell": false,
   "toc_position": {},
   "toc_section_display": true,
   "toc_window_display": false
  }
 },
 "nbformat": 4,
 "nbformat_minor": 5
}
