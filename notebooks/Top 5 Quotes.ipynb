{
 "cells": [
  {
   "cell_type": "markdown",
   "id": "1e92e177",
   "metadata": {},
   "source": [
    "# Top 5 Quotes dummy model"
   ]
  },
  {
   "cell_type": "code",
   "execution_count": null,
   "id": "1ca64412",
   "metadata": {},
   "outputs": [],
   "source": [
    "import pandas as pd\n",
    "import itertools\n",
    "import re\n",
    "from sklearn.decomposition import LatentDirichletAllocation\n",
    "from sklearn.feature_extraction.text import CountVectorizer,TfidfVectorizer\n",
    "import string\n",
    "from sklearn.neighbors import NearestNeighbors\n",
    "import numpy as np\n",
    "import matplotlib.pyplot as plt\n",
    "from gensim.models import Word2Vec\n",
    "from tensorflow.keras.preprocessing.sequence import pad_sequences"
   ]
  },
  {
   "cell_type": "code",
   "execution_count": 2,
   "id": "f4d861c0",
   "metadata": {},
   "outputs": [
    {
     "data": {
      "text/html": [
       "<div>\n",
       "<style scoped>\n",
       "    .dataframe tbody tr th:only-of-type {\n",
       "        vertical-align: middle;\n",
       "    }\n",
       "\n",
       "    .dataframe tbody tr th {\n",
       "        vertical-align: top;\n",
       "    }\n",
       "\n",
       "    .dataframe thead th {\n",
       "        text-align: right;\n",
       "    }\n",
       "</style>\n",
       "<table border=\"1\" class=\"dataframe\">\n",
       "  <thead>\n",
       "    <tr style=\"text-align: right;\">\n",
       "      <th></th>\n",
       "      <th>quote</th>\n",
       "      <th>author</th>\n",
       "      <th>category</th>\n",
       "    </tr>\n",
       "  </thead>\n",
       "  <tbody>\n",
       "    <tr>\n",
       "      <th>0</th>\n",
       "      <td>I'm selfish, impatient and a little insecure. ...</td>\n",
       "      <td>Marilyn Monroe</td>\n",
       "      <td>attributed-no-source, best, life, love, mistak...</td>\n",
       "    </tr>\n",
       "    <tr>\n",
       "      <th>1</th>\n",
       "      <td>You've gotta dance like there's nobody watchin...</td>\n",
       "      <td>William W. Purkey</td>\n",
       "      <td>dance, heaven, hurt, inspirational, life, love...</td>\n",
       "    </tr>\n",
       "    <tr>\n",
       "      <th>2</th>\n",
       "      <td>You know you're in love when you can't fall as...</td>\n",
       "      <td>Dr. Seuss</td>\n",
       "      <td>attributed-no-source, dreams, love, reality, s...</td>\n",
       "    </tr>\n",
       "  </tbody>\n",
       "</table>\n",
       "</div>"
      ],
      "text/plain": [
       "                                               quote             author  \\\n",
       "0  I'm selfish, impatient and a little insecure. ...     Marilyn Monroe   \n",
       "1  You've gotta dance like there's nobody watchin...  William W. Purkey   \n",
       "2  You know you're in love when you can't fall as...          Dr. Seuss   \n",
       "\n",
       "                                            category  \n",
       "0  attributed-no-source, best, life, love, mistak...  \n",
       "1  dance, heaven, hurt, inspirational, life, love...  \n",
       "2  attributed-no-source, dreams, love, reality, s...  "
      ]
     },
     "execution_count": 2,
     "metadata": {},
     "output_type": "execute_result"
    }
   ],
   "source": [
    "file = \"../raw_data/quotes - reduced.csv\"\n",
    "quotes = pd.read_csv(file, decimal=\",\")\n",
    "quotes.head(3)"
   ]
  },
  {
   "cell_type": "code",
   "execution_count": 3,
   "id": "6091862d",
   "metadata": {},
   "outputs": [],
   "source": [
    "tags_list = quotes.category.to_list()\n",
    "number_of_tags = []\n",
    "for i in tags_list:\n",
    "    number_of_tags.append(len(str(i).split(',')))"
   ]
  },
  {
   "cell_type": "code",
   "execution_count": 4,
   "id": "aff95d1a",
   "metadata": {},
   "outputs": [],
   "source": [
    "quotes['quotes_length'] = quotes['quote'].copy()\n",
    "for index, row in quotes.iterrows():\n",
    "    quotes.loc[index, \"quotes_length\"] = len(str(row['quotes_length']).split(' '))"
   ]
  },
  {
   "cell_type": "markdown",
   "id": "6b3571ee",
   "metadata": {},
   "source": [
    "## Cleaning data: tags are all lowercase, '-' were replaced with ',', duplicates were removed"
   ]
  },
  {
   "cell_type": "code",
   "execution_count": 5,
   "id": "20c0a4ef",
   "metadata": {},
   "outputs": [],
   "source": [
    "for index, row in quotes.iterrows():\n",
    "    quotes.loc[index, \"category\"] = str(row['category']).lower().replace('-',', ')"
   ]
  },
  {
   "cell_type": "code",
   "execution_count": 6,
   "id": "a8118749",
   "metadata": {},
   "outputs": [
    {
     "data": {
      "text/plain": [
       "count    154318.000000\n",
       "mean          9.758272\n",
       "std          15.418337\n",
       "min           1.000000\n",
       "25%           3.000000\n",
       "50%           5.000000\n",
       "75%          11.000000\n",
       "max         568.000000\n",
       "Name: count_tags, dtype: float64"
      ]
     },
     "execution_count": 6,
     "metadata": {},
     "output_type": "execute_result"
    }
   ],
   "source": [
    "quotes['list_tags'] = quotes['category'].copy()\n",
    "for index,row in quotes.iterrows():\n",
    "    quotes.loc[index, 'count_tags'] = len(str(row['list_tags']).split(','))\n",
    "quotes.count_tags.describe()"
   ]
  },
  {
   "cell_type": "code",
   "execution_count": 7,
   "id": "03173ade",
   "metadata": {},
   "outputs": [],
   "source": [
    "for index,row in quotes.iterrows():\n",
    "    quotes.at[index, 'list_tags'] = str(row['list_tags']).split(',')"
   ]
  },
  {
   "cell_type": "code",
   "execution_count": 8,
   "id": "a2694b22",
   "metadata": {},
   "outputs": [],
   "source": [
    "for index,row in quotes.iterrows():\n",
    "    quotes.at[index, 'list_tags'] = str(set(row['list_tags']))"
   ]
  },
  {
   "cell_type": "code",
   "execution_count": 9,
   "id": "fe5bd848",
   "metadata": {},
   "outputs": [],
   "source": [
    "def remove_punctuations(text):\n",
    "    for punctuation in string.punctuation:\n",
    "        text = text.replace(punctuation, '')\n",
    "    return text\n",
    "quotes['list_tags'] = quotes['list_tags'].apply(remove_punctuations)"
   ]
  },
  {
   "cell_type": "code",
   "execution_count": 10,
   "id": "2a9e9728",
   "metadata": {},
   "outputs": [],
   "source": [
    "vectorizer = TfidfVectorizer(max_df=0.95, min_df=2, stop_words=\"english\")\n",
    "tags_vectorized = vectorizer.fit_transform(quotes['list_tags'])\n",
    "dummy_tags = LatentDirichletAllocation(n_components=5)\n",
    "lda_vectors = dummy_tags.fit_transform(tags_vectorized)"
   ]
  },
  {
   "cell_type": "code",
   "execution_count": 11,
   "id": "e2718d5d",
   "metadata": {},
   "outputs": [
    {
     "name": "stdout",
     "output_type": "stream",
     "text": [
      "Topic 0:\n",
      "[('humor', 1764.5564310616714), ('death', 1757.2756728312966), ('books', 1725.8168808965365), ('reading', 1373.9845557720403), ('romance', 1287.6157397430463), ('debasish', 1103.2124162291727), ('feminism', 1004.1313398206244), ('love', 955.4051221793081), ('god', 892.2980408559707), ('women', 862.5881968474065)]\n",
      "Topic 1:\n",
      "[('writing', 1954.4366442213461), ('art', 1235.0425082007885), ('children', 776.914224614157), ('psychology', 667.1526621970057), ('money', 514.428554843274), ('dreams', 459.1669493640958), ('music', 420.7101872182142), ('life', 345.2666393631447), ('creativity', 294.2906920748076), ('humor', 276.67166475385164)]\n",
      "Topic 2:\n",
      "[('inspirational', 4633.721928984054), ('life', 3726.8602898121762), ('quotes', 3380.0745961906287), ('wisdom', 2676.1027466955306), ('love', 2440.508624071583), ('happiness', 1975.360728604923), ('philosophy', 1879.6502496281175), ('truth', 1857.242151053079), ('motivational', 1741.5071739440268), ('hope', 1670.7320073211524)]\n",
      "Topic 3:\n",
      "[('love', 1443.7968660885526), ('friendship', 1128.2233261259032), ('relationships', 1068.4516914107683), ('life', 911.4429699481047), ('pain', 881.6781040485075), ('time', 829.6679715476369), ('purpose', 635.4415965283782), ('strength', 622.522764865276), ('heart', 535.2624475639827), ('work', 512.0922156756534)]\n",
      "Topic 4:\n",
      "[('science', 1409.3241517842914), ('humour', 1342.7474726065477), ('religion', 1336.998734249506), ('politics', 1106.1963462649148), ('funny', 1102.9017302980756), ('fiction', 888.0281845005014), ('fantasy', 881.8751759615525), ('marriage', 873.8756598351945), ('humor', 806.4169244430915), ('nature', 766.1400794565527)]\n"
     ]
    }
   ],
   "source": [
    "def print_topics(model, vectorizer):\n",
    "    for idx, topic in enumerate(model.components_):\n",
    "        print(\"Topic %d:\" % (idx))\n",
    "        print([(vectorizer.get_feature_names_out()[i], topic[i])\n",
    "                        for i in topic.argsort()[:-10 - 1:-1]])\n",
    "        \n",
    "\n",
    "print_topics(dummy_tags, vectorizer.fit(quotes['list_tags']))"
   ]
  },
  {
   "cell_type": "code",
   "execution_count": 12,
   "id": "cf60f897",
   "metadata": {},
   "outputs": [
    {
     "data": {
      "text/plain": [
       "array([0.36058611, 0.45498145, 0.06202246, 0.06322233, 0.05918764])"
      ]
     },
     "execution_count": 12,
     "metadata": {},
     "output_type": "execute_result"
    }
   ],
   "source": [
    "lda_vectors[1]"
   ]
  },
  {
   "cell_type": "code",
   "execution_count": 13,
   "id": "89afe129",
   "metadata": {},
   "outputs": [
    {
     "data": {
      "text/html": [
       "<div>\n",
       "<style scoped>\n",
       "    .dataframe tbody tr th:only-of-type {\n",
       "        vertical-align: middle;\n",
       "    }\n",
       "\n",
       "    .dataframe tbody tr th {\n",
       "        vertical-align: top;\n",
       "    }\n",
       "\n",
       "    .dataframe thead th {\n",
       "        text-align: right;\n",
       "    }\n",
       "</style>\n",
       "<table border=\"1\" class=\"dataframe\">\n",
       "  <thead>\n",
       "    <tr style=\"text-align: right;\">\n",
       "      <th></th>\n",
       "      <th>quote</th>\n",
       "      <th>author</th>\n",
       "      <th>category</th>\n",
       "      <th>quotes_length</th>\n",
       "      <th>list_tags</th>\n",
       "      <th>count_tags</th>\n",
       "    </tr>\n",
       "  </thead>\n",
       "  <tbody>\n",
       "    <tr>\n",
       "      <th>0</th>\n",
       "      <td>I'm selfish, impatient and a little insecure. ...</td>\n",
       "      <td>Marilyn Monroe</td>\n",
       "      <td>attributed, no, source, best, life, love, mist...</td>\n",
       "      <td>41</td>\n",
       "      <td>best  life  no  out  of attributed  mistakes ...</td>\n",
       "      <td>12.0</td>\n",
       "    </tr>\n",
       "    <tr>\n",
       "      <th>1</th>\n",
       "      <td>You've gotta dance like there's nobody watchin...</td>\n",
       "      <td>William W. Purkey</td>\n",
       "      <td>dance, heaven, hurt, inspirational, life, love...</td>\n",
       "      <td>22</td>\n",
       "      <td>life  inspirational  hurt  heaven dance  sing...</td>\n",
       "      <td>7.0</td>\n",
       "    </tr>\n",
       "    <tr>\n",
       "      <th>2</th>\n",
       "      <td>You know you're in love when you can't fall as...</td>\n",
       "      <td>Dr. Seuss</td>\n",
       "      <td>attributed, no, source, dreams, love, reality,...</td>\n",
       "      <td>18</td>\n",
       "      <td>dreams  no attributed  sleep  reality  source...</td>\n",
       "      <td>7.0</td>\n",
       "    </tr>\n",
       "    <tr>\n",
       "      <th>3</th>\n",
       "      <td>A friend is someone who knows all about you an...</td>\n",
       "      <td>Elbert Hubbard</td>\n",
       "      <td>friend, friendship, knowledge, love</td>\n",
       "      <td>13</td>\n",
       "      <td>friendship friend  knowledge  love</td>\n",
       "      <td>4.0</td>\n",
       "    </tr>\n",
       "    <tr>\n",
       "      <th>4</th>\n",
       "      <td>Darkness cannot drive out darkness: only light...</td>\n",
       "      <td>Martin Luther King Jr., A Testament of Hope: T...</td>\n",
       "      <td>darkness, drive, out, hate, inspirational, lig...</td>\n",
       "      <td>20</td>\n",
       "      <td>drive  light  out darkness  hate  inspiration...</td>\n",
       "      <td>8.0</td>\n",
       "    </tr>\n",
       "  </tbody>\n",
       "</table>\n",
       "</div>"
      ],
      "text/plain": [
       "                                               quote  \\\n",
       "0  I'm selfish, impatient and a little insecure. ...   \n",
       "1  You've gotta dance like there's nobody watchin...   \n",
       "2  You know you're in love when you can't fall as...   \n",
       "3  A friend is someone who knows all about you an...   \n",
       "4  Darkness cannot drive out darkness: only light...   \n",
       "\n",
       "                                              author  \\\n",
       "0                                     Marilyn Monroe   \n",
       "1                                  William W. Purkey   \n",
       "2                                          Dr. Seuss   \n",
       "3                                     Elbert Hubbard   \n",
       "4  Martin Luther King Jr., A Testament of Hope: T...   \n",
       "\n",
       "                                            category quotes_length  \\\n",
       "0  attributed, no, source, best, life, love, mist...            41   \n",
       "1  dance, heaven, hurt, inspirational, life, love...            22   \n",
       "2  attributed, no, source, dreams, love, reality,...            18   \n",
       "3                friend, friendship, knowledge, love            13   \n",
       "4  darkness, drive, out, hate, inspirational, lig...            20   \n",
       "\n",
       "                                           list_tags  count_tags  \n",
       "0   best  life  no  out  of attributed  mistakes ...        12.0  \n",
       "1   life  inspirational  hurt  heaven dance  sing...         7.0  \n",
       "2   dreams  no attributed  sleep  reality  source...         7.0  \n",
       "3                 friendship friend  knowledge  love         4.0  \n",
       "4   drive  light  out darkness  hate  inspiration...         8.0  "
      ]
     },
     "execution_count": 13,
     "metadata": {},
     "output_type": "execute_result"
    }
   ],
   "source": [
    "quotes.head()"
   ]
  },
  {
   "cell_type": "code",
   "execution_count": 14,
   "id": "546b16a1",
   "metadata": {},
   "outputs": [],
   "source": [
    "quotes.iloc[-1] = ['A large crowd is assembled on an outdoor street scene , with toy balloons visible and a woman walking a pink bicyc', 'image','image','5','A large crowd is assembled on an outdoor street scene , with toy balloons visible and a woman walking a pink bicyc','1']"
   ]
  },
  {
   "cell_type": "code",
   "execution_count": 15,
   "id": "1be062b5",
   "metadata": {},
   "outputs": [],
   "source": [
    "picture_vectorized = vectorizer.transform(quotes.iloc[-1])\n",
    "lda_vectors_self = dummy_tags.transform(picture_vectorized)\n",
    "for index,row in quotes.iterrows():\n",
    "    quotes['topic'] = quotes.quote.copy()"
   ]
  },
  {
   "cell_type": "code",
   "execution_count": 16,
   "id": "5d2597fa",
   "metadata": {},
   "outputs": [],
   "source": [
    "for index,row in quotes.iterrows():\n",
    "    quotes.at[index, 'topic'] = int(np.where(lda_vectors[index] == max(lda_vectors[index]))[0])"
   ]
  },
  {
   "cell_type": "code",
   "execution_count": 17,
   "id": "127c7574",
   "metadata": {},
   "outputs": [
    {
     "data": {
      "text/html": [
       "<div>\n",
       "<style scoped>\n",
       "    .dataframe tbody tr th:only-of-type {\n",
       "        vertical-align: middle;\n",
       "    }\n",
       "\n",
       "    .dataframe tbody tr th {\n",
       "        vertical-align: top;\n",
       "    }\n",
       "\n",
       "    .dataframe thead th {\n",
       "        text-align: right;\n",
       "    }\n",
       "</style>\n",
       "<table border=\"1\" class=\"dataframe\">\n",
       "  <thead>\n",
       "    <tr style=\"text-align: right;\">\n",
       "      <th></th>\n",
       "      <th>quote</th>\n",
       "      <th>author</th>\n",
       "      <th>category</th>\n",
       "      <th>quotes_length</th>\n",
       "      <th>list_tags</th>\n",
       "      <th>count_tags</th>\n",
       "      <th>topic</th>\n",
       "    </tr>\n",
       "  </thead>\n",
       "  <tbody>\n",
       "    <tr>\n",
       "      <th>154313</th>\n",
       "      <td>The harassed look is that of a desperately tir...</td>\n",
       "      <td>Christopher Isherwood, A Single Man</td>\n",
       "      <td>dying, living</td>\n",
       "      <td>96</td>\n",
       "      <td>living dying</td>\n",
       "      <td>2.0</td>\n",
       "      <td>0</td>\n",
       "    </tr>\n",
       "    <tr>\n",
       "      <th>154314</th>\n",
       "      <td>…In this way that he sought to control the ver...</td>\n",
       "      <td>Jesse Ball, The Curfew</td>\n",
       "      <td>life, living, mindfulness</td>\n",
       "      <td>39</td>\n",
       "      <td>living  mindfulness life</td>\n",
       "      <td>3.0</td>\n",
       "      <td>2</td>\n",
       "    </tr>\n",
       "    <tr>\n",
       "      <th>154315</th>\n",
       "      <td>No matter how we choose to live, we both die a...</td>\n",
       "      <td>Adam Silvera, They Both Die at the End</td>\n",
       "      <td>death, living</td>\n",
       "      <td>13</td>\n",
       "      <td>death  living</td>\n",
       "      <td>2.0</td>\n",
       "      <td>0</td>\n",
       "    </tr>\n",
       "    <tr>\n",
       "      <th>154316</th>\n",
       "      <td>The goal that you hope you will one day arrive...</td>\n",
       "      <td>Marcus Aurelius, The Essential Marcus Aurelius</td>\n",
       "      <td>living</td>\n",
       "      <td>239</td>\n",
       "      <td>living</td>\n",
       "      <td>1.0</td>\n",
       "      <td>2</td>\n",
       "    </tr>\n",
       "    <tr>\n",
       "      <th>154317</th>\n",
       "      <td>A large crowd is assembled on an outdoor stree...</td>\n",
       "      <td>image</td>\n",
       "      <td>image</td>\n",
       "      <td>5</td>\n",
       "      <td>A large crowd is assembled on an outdoor stree...</td>\n",
       "      <td>1</td>\n",
       "      <td>1</td>\n",
       "    </tr>\n",
       "  </tbody>\n",
       "</table>\n",
       "</div>"
      ],
      "text/plain": [
       "                                                    quote  \\\n",
       "154313  The harassed look is that of a desperately tir...   \n",
       "154314  …In this way that he sought to control the ver...   \n",
       "154315  No matter how we choose to live, we both die a...   \n",
       "154316  The goal that you hope you will one day arrive...   \n",
       "154317  A large crowd is assembled on an outdoor stree...   \n",
       "\n",
       "                                                author  \\\n",
       "154313             Christopher Isherwood, A Single Man   \n",
       "154314                          Jesse Ball, The Curfew   \n",
       "154315          Adam Silvera, They Both Die at the End   \n",
       "154316  Marcus Aurelius, The Essential Marcus Aurelius   \n",
       "154317                                           image   \n",
       "\n",
       "                         category quotes_length  \\\n",
       "154313              dying, living            96   \n",
       "154314  life, living, mindfulness            39   \n",
       "154315              death, living            13   \n",
       "154316                     living           239   \n",
       "154317                      image             5   \n",
       "\n",
       "                                                list_tags count_tags topic  \n",
       "154313                                       living dying        2.0     0  \n",
       "154314                           living  mindfulness life        3.0     2  \n",
       "154315                                      death  living        2.0     0  \n",
       "154316                                             living        1.0     2  \n",
       "154317  A large crowd is assembled on an outdoor stree...          1     1  "
      ]
     },
     "execution_count": 17,
     "metadata": {},
     "output_type": "execute_result"
    }
   ],
   "source": [
    "quotes.tail()"
   ]
  },
  {
   "cell_type": "code",
   "execution_count": 18,
   "id": "17e5ce10",
   "metadata": {},
   "outputs": [
    {
     "data": {
      "text/plain": [
       "(array([27521.,     0., 26343.,     0.,     0., 44514.,     0., 28477.,\n",
       "            0., 27463.]),\n",
       " array([0.0, 0.4, 0.8, 1.2000000000000002, 1.6, 2.0, 2.4000000000000004,\n",
       "        2.8000000000000003, 3.2, 3.6, 4.0], dtype=object),\n",
       " <BarContainer object of 10 artists>)"
      ]
     },
     "execution_count": 18,
     "metadata": {},
     "output_type": "execute_result"
    },
    {
     "data": {
      "image/png": "[encoded data removed]",
      "text/plain": [
       "<Figure size 432x288 with 1 Axes>"
      ]
     },
     "metadata": {
      "needs_background": "light"
     },
     "output_type": "display_data"
    }
   ],
   "source": [
    "plt.hist(quotes.topic)"
   ]
  },
  {
   "cell_type": "markdown",
   "id": "5343aa9b",
   "metadata": {},
   "source": [
    "__Adding the image caption as the last line to our dataset to be able to see the closest neighbourhs__"
   ]
  },
  {
   "cell_type": "code",
   "execution_count": 19,
   "id": "82c637de",
   "metadata": {},
   "outputs": [
    {
     "data": {
      "text/plain": [
       "1"
      ]
     },
     "execution_count": 19,
     "metadata": {},
     "output_type": "execute_result"
    }
   ],
   "source": [
    "image_topic = int(quotes.iloc[-1, [-1]])\n",
    "image_topic"
   ]
  },
  {
   "cell_type": "code",
   "execution_count": 20,
   "id": "3325329c",
   "metadata": {},
   "outputs": [
    {
     "data": {
      "text/html": [
       "<div>\n",
       "<style scoped>\n",
       "    .dataframe tbody tr th:only-of-type {\n",
       "        vertical-align: middle;\n",
       "    }\n",
       "\n",
       "    .dataframe tbody tr th {\n",
       "        vertical-align: top;\n",
       "    }\n",
       "\n",
       "    .dataframe thead th {\n",
       "        text-align: right;\n",
       "    }\n",
       "</style>\n",
       "<table border=\"1\" class=\"dataframe\">\n",
       "  <thead>\n",
       "    <tr style=\"text-align: right;\">\n",
       "      <th></th>\n",
       "      <th>quote</th>\n",
       "      <th>author</th>\n",
       "      <th>category</th>\n",
       "      <th>quotes_length</th>\n",
       "      <th>list_tags</th>\n",
       "      <th>count_tags</th>\n",
       "      <th>topic</th>\n",
       "    </tr>\n",
       "  </thead>\n",
       "  <tbody>\n",
       "    <tr>\n",
       "      <th>0</th>\n",
       "      <td>I'm selfish, impatient and a little insecure. ...</td>\n",
       "      <td>Marilyn Monroe</td>\n",
       "      <td>attributed, no, source, best, life, love, mist...</td>\n",
       "      <td>41</td>\n",
       "      <td>best  life  no  out  of attributed  mistakes ...</td>\n",
       "      <td>12.0</td>\n",
       "      <td>1</td>\n",
       "    </tr>\n",
       "    <tr>\n",
       "      <th>1</th>\n",
       "      <td>You've gotta dance like there's nobody watchin...</td>\n",
       "      <td>William W. Purkey</td>\n",
       "      <td>dance, heaven, hurt, inspirational, life, love...</td>\n",
       "      <td>22</td>\n",
       "      <td>life  inspirational  hurt  heaven dance  sing...</td>\n",
       "      <td>7.0</td>\n",
       "      <td>1</td>\n",
       "    </tr>\n",
       "    <tr>\n",
       "      <th>2</th>\n",
       "      <td>You know you're in love when you can't fall as...</td>\n",
       "      <td>Dr. Seuss</td>\n",
       "      <td>attributed, no, source, dreams, love, reality,...</td>\n",
       "      <td>18</td>\n",
       "      <td>dreams  no attributed  sleep  reality  source...</td>\n",
       "      <td>7.0</td>\n",
       "      <td>1</td>\n",
       "    </tr>\n",
       "    <tr>\n",
       "      <th>21</th>\n",
       "      <td>I'm in love with you,\" he said quietly.\"August...</td>\n",
       "      <td>John Green, The Fault in Our Stars</td>\n",
       "      <td>doomed, inevitable, love, oblivion, pleasure, ...</td>\n",
       "      <td>112</td>\n",
       "      <td>simple  inevitable  oblivion doomed  pleasure...</td>\n",
       "      <td>6.0</td>\n",
       "      <td>1</td>\n",
       "    </tr>\n",
       "    <tr>\n",
       "      <th>25</th>\n",
       "      <td>If you can make a woman laugh, you can make he...</td>\n",
       "      <td>Marilyn Monroe</td>\n",
       "      <td>attributed, no, source, girls, love</td>\n",
       "      <td>13</td>\n",
       "      <td>no attributed  source  girls  love</td>\n",
       "      <td>5.0</td>\n",
       "      <td>1</td>\n",
       "    </tr>\n",
       "  </tbody>\n",
       "</table>\n",
       "</div>"
      ],
      "text/plain": [
       "                                                quote  \\\n",
       "0   I'm selfish, impatient and a little insecure. ...   \n",
       "1   You've gotta dance like there's nobody watchin...   \n",
       "2   You know you're in love when you can't fall as...   \n",
       "21  I'm in love with you,\" he said quietly.\"August...   \n",
       "25  If you can make a woman laugh, you can make he...   \n",
       "\n",
       "                                author  \\\n",
       "0                       Marilyn Monroe   \n",
       "1                    William W. Purkey   \n",
       "2                            Dr. Seuss   \n",
       "21  John Green, The Fault in Our Stars   \n",
       "25                      Marilyn Monroe   \n",
       "\n",
       "                                             category quotes_length  \\\n",
       "0   attributed, no, source, best, life, love, mist...            41   \n",
       "1   dance, heaven, hurt, inspirational, life, love...            22   \n",
       "2   attributed, no, source, dreams, love, reality,...            18   \n",
       "21  doomed, inevitable, love, oblivion, pleasure, ...           112   \n",
       "25                attributed, no, source, girls, love            13   \n",
       "\n",
       "                                            list_tags count_tags topic  \n",
       "0    best  life  no  out  of attributed  mistakes ...       12.0     1  \n",
       "1    life  inspirational  hurt  heaven dance  sing...        7.0     1  \n",
       "2    dreams  no attributed  sleep  reality  source...        7.0     1  \n",
       "21   simple  inevitable  oblivion doomed  pleasure...        6.0     1  \n",
       "25                 no attributed  source  girls  love        5.0     1  "
      ]
     },
     "execution_count": 20,
     "metadata": {},
     "output_type": "execute_result"
    }
   ],
   "source": [
    "quotes = quotes.dropna()\n",
    "only_topic = quotes[quotes.topic == image_topic]\n",
    "only_topic.head()"
   ]
  },
  {
   "cell_type": "code",
   "execution_count": 21,
   "id": "9ed8f347",
   "metadata": {},
   "outputs": [
    {
     "data": {
      "text/html": [
       "<div>\n",
       "<style scoped>\n",
       "    .dataframe tbody tr th:only-of-type {\n",
       "        vertical-align: middle;\n",
       "    }\n",
       "\n",
       "    .dataframe tbody tr th {\n",
       "        vertical-align: top;\n",
       "    }\n",
       "\n",
       "    .dataframe thead th {\n",
       "        text-align: right;\n",
       "    }\n",
       "</style>\n",
       "<table border=\"1\" class=\"dataframe\">\n",
       "  <thead>\n",
       "    <tr style=\"text-align: right;\">\n",
       "      <th></th>\n",
       "      <th>quote</th>\n",
       "      <th>author</th>\n",
       "    </tr>\n",
       "  </thead>\n",
       "  <tbody>\n",
       "    <tr>\n",
       "      <th>9</th>\n",
       "      <td>What I cannot love, I overlook.</td>\n",
       "      <td>Anaïs Nin</td>\n",
       "    </tr>\n",
       "    <tr>\n",
       "      <th>15</th>\n",
       "      <td>This is the strangest life I have ever known.</td>\n",
       "      <td>Jim Morrison</td>\n",
       "    </tr>\n",
       "    <tr>\n",
       "      <th>26</th>\n",
       "      <td>Fail soon so that you can succeed sooner.</td>\n",
       "      <td>Amit Kalantri, Wealth of Words</td>\n",
       "    </tr>\n",
       "    <tr>\n",
       "      <th>32</th>\n",
       "      <td>Convert your time into useful assets</td>\n",
       "      <td>Sunday Adelaja</td>\n",
       "    </tr>\n",
       "    <tr>\n",
       "      <th>33</th>\n",
       "      <td>Living with him is like being told a perpetual...</td>\n",
       "      <td>Sylvia Plath, The Unabridged Journals of Sylvi...</td>\n",
       "    </tr>\n",
       "  </tbody>\n",
       "</table>\n",
       "</div>"
      ],
      "text/plain": [
       "                                                quote  \\\n",
       "9                     What I cannot love, I overlook.   \n",
       "15      This is the strangest life I have ever known.   \n",
       "26          Fail soon so that you can succeed sooner.   \n",
       "32               Convert your time into useful assets   \n",
       "33  Living with him is like being told a perpetual...   \n",
       "\n",
       "                                               author  \n",
       "9                                           Anaïs Nin  \n",
       "15                                       Jim Morrison  \n",
       "26                     Amit Kalantri, Wealth of Words  \n",
       "32                                     Sunday Adelaja  \n",
       "33  Sylvia Plath, The Unabridged Journals of Sylvi...  "
      ]
     },
     "execution_count": 21,
     "metadata": {},
     "output_type": "execute_result"
    }
   ],
   "source": [
    "tfidf_weight = vectorizer.fit_transform(only_topic['list_tags'].values.astype('U'))\n",
    "nn_euc = NearestNeighbors(metric = 'euclidean')\n",
    "nn_euc.fit(tfidf_weight)\n",
    "image_index = -1\n",
    "euc, indices = nn_euc.kneighbors(tfidf_weight[image_index], n_neighbors = 100)\n",
    "neighbors_euc = pd.DataFrame({'euc': euc.flatten(), 'id': indices.flatten()})\n",
    "result_top5 = (only_topic.merge(neighbors_euc, right_on = 'id', left_index = True).\n",
    "                sort_values('euc')[['quote', 'author']]).head()\n",
    "\n",
    "result_top5"
   ]
  },
  {
   "cell_type": "code",
   "execution_count": null,
   "id": "6f9d25cd",
   "metadata": {},
   "outputs": [],
   "source": [
    "most_suiting = quotes[quotes.topic != image_topic]\n",
    "own_tags = input(\"Please give me 5 words that are descriptive of your picture:\")\n",
    "most_suiting.iloc[-1] = [own_tags,'image','image','5',own_tags,'1',image_topic]\n",
    "most_suiting.tail()"
   ]
  },
  {
   "cell_type": "code",
   "execution_count": null,
   "id": "a2e6ae3c",
   "metadata": {},
   "outputs": [],
   "source": [
    "tfidf_weight = vectorizer.fit_transform(most_suiting['list_tags'].values.astype('U'))\n",
    "nn_euc = NearestNeighbors(metric = 'euclidean')\n",
    "nn_euc.fit(tfidf_weight)\n",
    "image_index = -1\n",
    "euc, indices = nn_euc.kneighbors(tfidf_weight[image_index], n_neighbors = 100)\n",
    "neighbors_euc = pd.DataFrame({'euc': euc.flatten(), 'id': indices.flatten()})\n",
    "result_most_s = (only_topic.merge(neighbors_euc, right_on = 'id', left_index = True).\n",
    "                sort_values('euc')[['quote', 'author']]).head(1)\n",
    "\n",
    "result_most_s.quote"
   ]
  },
  {
   "cell_type": "markdown",
   "id": "8b09aaec",
   "metadata": {},
   "source": [
    "### Trying word2vec for the most suiting quote for better result"
   ]
  },
  {
   "cell_type": "code",
   "execution_count": null,
   "id": "a2dd4d01",
   "metadata": {},
   "outputs": [],
   "source": [
    "word2vec = Word2Vec(sentences=most_suiting.list_tags, vector_size=100, min_count=1, window=10)"
   ]
  },
  {
   "cell_type": "code",
   "execution_count": null,
   "id": "08318c9e",
   "metadata": {},
   "outputs": [],
   "source": [
    "# Function to convert a sentence (list of words) into a matrix representing the words in the embedding space\n",
    "def embed_sentence(word2vec, sentence):\n",
    "    embedded_sentence = []\n",
    "    for word in sentence:\n",
    "        if word in word2vec.wv:\n",
    "            embedded_sentence.append(word2vec.wv[word])\n",
    "        \n",
    "    return np.array(embedded_sentence)\n",
    "\n",
    "# Function that converts a list of sentences into a list of matrices\n",
    "def embedding(word2vec, sentences):\n",
    "    embed = []\n",
    "    \n",
    "    for sentence in sentences:\n",
    "        embedded_sentence = embed_sentence(word2vec, sentence)\n",
    "        embed.append(embedded_sentence)\n",
    "        \n",
    "    return embed\n",
    "\n",
    "# Embed the training and test sentences\n",
    "tags_embed = embedding(word2vec, most_suiting.list_tags)\n",
    "\n",
    "# Pad the training and test embedded sentences\n",
    "tags_pad = pad_sequences(tags_embed, dtype='float32', padding='post', maxlen=200)"
   ]
  },
  {
   "cell_type": "code",
   "execution_count": null,
   "id": "efac86db",
   "metadata": {},
   "outputs": [],
   "source": [
    "for X in most_suiting.list_tags:\n",
    "    assert type(X) == np.ndarray\n",
    "    assert X.shape[-1] == word2vec.wv.vector_size\n",
    "\n",
    "assert tags_pad.shape[0] == len(most_suiting.list_tags)"
   ]
  },
  {
   "cell_type": "code",
   "execution_count": null,
   "id": "d54930a2",
   "metadata": {},
   "outputs": [],
   "source": [
    "result = word2vec.most_similar(positive=[own_tags], topn=1)\n",
    "result"
   ]
  },
  {
   "cell_type": "code",
   "execution_count": null,
   "id": "821c2a33",
   "metadata": {},
   "outputs": [],
   "source": []
  }
 ],
 "metadata": {
  "kernelspec": {
   "display_name": "Python 3 (ipykernel)",
   "language": "python",
   "name": "python3"
  },
  "language_info": {
   "codemirror_mode": {
    "name": "ipython",
    "version": 3
   },
   "file_extension": ".py",
   "mimetype": "text/x-python",
   "name": "python",
   "nbconvert_exporter": "python",
   "pygments_lexer": "ipython3",
   "version": "3.8.12"
  },
  "toc": {
   "base_numbering": 1,
   "nav_menu": {},
   "number_sections": true,
   "sideBar": true,
   "skip_h1_title": false,
   "title_cell": "Table of Contents",
   "title_sidebar": "Contents",
   "toc_cell": false,
   "toc_position": {},
   "toc_section_display": true,
   "toc_window_display": false
  }
 },
 "nbformat": 4,
 "nbformat_minor": 5
}
