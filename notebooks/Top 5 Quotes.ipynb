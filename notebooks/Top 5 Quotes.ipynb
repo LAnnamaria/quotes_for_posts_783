{
 "cells": [
  {
   "cell_type": "markdown",
   "id": "1e92e177",
   "metadata": {},
   "source": [
    "# Top 5 Quotes dummy model"
   ]
  },
  {
   "cell_type": "code",
   "execution_count": 1,
   "id": "1ca64412",
   "metadata": {},
   "outputs": [],
   "source": [
    "import pandas as pd\n",
    "import itertools\n",
    "import re\n",
    "from sklearn.decomposition import LatentDirichletAllocation\n",
    "from sklearn.feature_extraction.text import CountVectorizer,TfidfVectorizer\n",
    "import string\n",
    "from sklearn.neighbors import NearestNeighbors\n",
    "import numpy as np\n",
    "import matplotlib.pyplot as plt"
   ]
  },
  {
   "cell_type": "code",
   "execution_count": 2,
   "id": "f4d861c0",
   "metadata": {},
   "outputs": [
    {
     "data": {
      "text/html": [
       "<div>\n",
       "<style scoped>\n",
       "    .dataframe tbody tr th:only-of-type {\n",
       "        vertical-align: middle;\n",
       "    }\n",
       "\n",
       "    .dataframe tbody tr th {\n",
       "        vertical-align: top;\n",
       "    }\n",
       "\n",
       "    .dataframe thead th {\n",
       "        text-align: right;\n",
       "    }\n",
       "</style>\n",
       "<table border=\"1\" class=\"dataframe\">\n",
       "  <thead>\n",
       "    <tr style=\"text-align: right;\">\n",
       "      <th></th>\n",
       "      <th>quote</th>\n",
       "      <th>author</th>\n",
       "      <th>category</th>\n",
       "    </tr>\n",
       "  </thead>\n",
       "  <tbody>\n",
       "    <tr>\n",
       "      <th>0</th>\n",
       "      <td>I'm selfish, impatient and a little insecure. ...</td>\n",
       "      <td>Marilyn Monroe</td>\n",
       "      <td>attributed-no-source, best, life, love, mistak...</td>\n",
       "    </tr>\n",
       "    <tr>\n",
       "      <th>1</th>\n",
       "      <td>You've gotta dance like there's nobody watchin...</td>\n",
       "      <td>William W. Purkey</td>\n",
       "      <td>dance, heaven, hurt, inspirational, life, love...</td>\n",
       "    </tr>\n",
       "    <tr>\n",
       "      <th>2</th>\n",
       "      <td>You know you're in love when you can't fall as...</td>\n",
       "      <td>Dr. Seuss</td>\n",
       "      <td>attributed-no-source, dreams, love, reality, s...</td>\n",
       "    </tr>\n",
       "  </tbody>\n",
       "</table>\n",
       "</div>"
      ],
      "text/plain": [
       "                                               quote             author  \\\n",
       "0  I'm selfish, impatient and a little insecure. ...     Marilyn Monroe   \n",
       "1  You've gotta dance like there's nobody watchin...  William W. Purkey   \n",
       "2  You know you're in love when you can't fall as...          Dr. Seuss   \n",
       "\n",
       "                                            category  \n",
       "0  attributed-no-source, best, life, love, mistak...  \n",
       "1  dance, heaven, hurt, inspirational, life, love...  \n",
       "2  attributed-no-source, dreams, love, reality, s...  "
      ]
     },
     "execution_count": 2,
     "metadata": {},
     "output_type": "execute_result"
    }
   ],
   "source": [
    "file = \"../raw_data/quotes - reduced.csv\"\n",
    "quotes = pd.read_csv(file, decimal=\",\")\n",
    "quotes.head(3)"
   ]
  },
  {
   "cell_type": "code",
   "execution_count": 3,
   "id": "6091862d",
   "metadata": {},
   "outputs": [],
   "source": [
    "tags_list = quotes.category.to_list()\n",
    "number_of_tags = []\n",
    "for i in tags_list:\n",
    "    number_of_tags.append(len(str(i).split(',')))"
   ]
  },
  {
   "cell_type": "code",
   "execution_count": 4,
   "id": "aff95d1a",
   "metadata": {},
   "outputs": [],
   "source": [
    "quotes['quotes_length'] = quotes['quote'].copy()\n",
    "for index, row in quotes.iterrows():\n",
    "    quotes.loc[index, \"quotes_length\"] = len(str(row['quotes_length']).split(' '))"
   ]
  },
  {
   "cell_type": "markdown",
   "id": "6b3571ee",
   "metadata": {},
   "source": [
    "## Cleaning data: tags are all lowercase, '-' were replaced with ',', duplicates were removed"
   ]
  },
  {
   "cell_type": "code",
   "execution_count": 5,
   "id": "20c0a4ef",
   "metadata": {},
   "outputs": [],
   "source": [
    "for index, row in quotes.iterrows():\n",
    "    quotes.loc[index, \"category\"] = str(row['category']).lower().replace('-',', ')"
   ]
  },
  {
   "cell_type": "code",
   "execution_count": 6,
   "id": "a8118749",
   "metadata": {},
   "outputs": [
    {
     "data": {
      "text/plain": [
       "count    154318.000000\n",
       "mean          9.758272\n",
       "std          15.418337\n",
       "min           1.000000\n",
       "25%           3.000000\n",
       "50%           5.000000\n",
       "75%          11.000000\n",
       "max         568.000000\n",
       "Name: count_tags, dtype: float64"
      ]
     },
     "execution_count": 6,
     "metadata": {},
     "output_type": "execute_result"
    }
   ],
   "source": [
    "quotes['list_tags'] = quotes['category'].copy()\n",
    "for index,row in quotes.iterrows():\n",
    "    quotes.loc[index, 'count_tags'] = len(str(row['list_tags']).split(','))\n",
    "quotes.count_tags.describe()"
   ]
  },
  {
   "cell_type": "code",
   "execution_count": 7,
   "id": "03173ade",
   "metadata": {},
   "outputs": [],
   "source": [
    "for index,row in quotes.iterrows():\n",
    "    quotes.at[index, 'list_tags'] = str(row['list_tags']).split(',')"
   ]
  },
  {
   "cell_type": "code",
   "execution_count": 8,
   "id": "a2694b22",
   "metadata": {},
   "outputs": [],
   "source": [
    "for index,row in quotes.iterrows():\n",
    "    quotes.at[index, 'list_tags'] = str(set(row['list_tags']))"
   ]
  },
  {
   "cell_type": "code",
   "execution_count": 9,
   "id": "fe5bd848",
   "metadata": {},
   "outputs": [],
   "source": [
    "def remove_punctuations(text):\n",
    "    for punctuation in string.punctuation:\n",
    "        text = text.replace(punctuation, '')\n",
    "    return text\n",
    "quotes['list_tags'] = quotes['list_tags'].apply(remove_punctuations)"
   ]
  },
  {
   "cell_type": "code",
   "execution_count": 10,
   "id": "2a9e9728",
   "metadata": {},
   "outputs": [],
   "source": [
    "vectorizer = TfidfVectorizer()\n",
    "tags_vectorized = vectorizer.fit_transform(quotes['list_tags'])\n",
    "dummy_tags = LatentDirichletAllocation(n_components=5)\n",
    "lda_vectors = dummy_tags.fit_transform(tags_vectorized)"
   ]
  },
  {
   "cell_type": "code",
   "execution_count": 11,
   "id": "e2718d5d",
   "metadata": {},
   "outputs": [
    {
     "name": "stdout",
     "output_type": "stream",
     "text": [
      "Topic 0:\n",
      "[('inspirational', 4495.69088686116), ('life', 3456.2995365162265), ('quotes', 2772.7161990089303), ('love', 2662.4566438363886), ('wisdom', 2389.775202591504), ('truth', 1933.535179062117), ('philosophy', 1891.2313482005045), ('happiness', 1887.7640765934411), ('hope', 1847.778903051943), ('faith', 1640.4246095798194)]\n",
      "Topic 1:\n",
      "[('music', 1127.8149313675594), ('debasish', 1104.151977974746), ('marriage', 1101.4112228298363), ('quotes', 1022.8006599108156), ('love', 863.3608311170866), ('mridha', 805.257909110759), ('women', 769.4757700276647), ('inspirational', 683.4118067196921), ('war', 672.7254647087663), ('quote', 624.0702274291147)]\n",
      "Topic 2:\n",
      "[('writing', 2081.6160400097065), ('books', 1645.7791801647754), ('reading', 1361.990184150408), ('art', 1271.2786307405652), ('poetry', 960.5554135924584), ('history', 916.3455280384553), ('fiction', 724.0800317606304), ('education', 645.2553955721108), ('children', 586.5805911960216), ('literature', 488.23193944689103)]\n",
      "Topic 3:\n",
      "[('humor', 2232.548239215071), ('humour', 1325.7942086820988), ('science', 1234.2699561693778), ('feminism', 1211.4786224305585), ('politics', 1197.5576640265472), ('sex', 973.6699185121329), ('family', 924.9941686861439), ('psychology', 849.3786916315377), ('society', 799.7878025111818), ('relationships', 736.2815327954721)]\n",
      "Topic 4:\n",
      "[('death', 1634.8625204386365), ('romance', 1522.3505392553313), ('love', 1229.2876114858113), ('fantasy', 938.4054876570515), ('life', 928.4985429375156), ('pain', 822.9536063801186), ('reality', 811.7576706967546), ('nature', 666.2776247355259), ('mind', 631.4390923978524), ('heart', 586.6468978592643)]\n"
     ]
    }
   ],
   "source": [
    "def print_topics(model, vectorizer):\n",
    "    for idx, topic in enumerate(model.components_):\n",
    "        print(\"Topic %d:\" % (idx))\n",
    "        print([(vectorizer.get_feature_names_out()[i], topic[i])\n",
    "                        for i in topic.argsort()[:-10 - 1:-1]])\n",
    "        \n",
    "\n",
    "print_topics(dummy_tags, vectorizer.fit(quotes['list_tags']))"
   ]
  },
  {
   "cell_type": "code",
   "execution_count": 12,
   "id": "cf60f897",
   "metadata": {},
   "outputs": [
    {
     "data": {
      "text/plain": [
       "array([0.06181121, 0.47106712, 0.0586053 , 0.0586774 , 0.34983896])"
      ]
     },
     "execution_count": 12,
     "metadata": {},
     "output_type": "execute_result"
    }
   ],
   "source": [
    "lda_vectors[1]"
   ]
  },
  {
   "cell_type": "code",
   "execution_count": 15,
   "id": "89afe129",
   "metadata": {},
   "outputs": [
    {
     "data": {
      "text/html": [
       "<div>\n",
       "<style scoped>\n",
       "    .dataframe tbody tr th:only-of-type {\n",
       "        vertical-align: middle;\n",
       "    }\n",
       "\n",
       "    .dataframe tbody tr th {\n",
       "        vertical-align: top;\n",
       "    }\n",
       "\n",
       "    .dataframe thead th {\n",
       "        text-align: right;\n",
       "    }\n",
       "</style>\n",
       "<table border=\"1\" class=\"dataframe\">\n",
       "  <thead>\n",
       "    <tr style=\"text-align: right;\">\n",
       "      <th></th>\n",
       "      <th>quote</th>\n",
       "      <th>author</th>\n",
       "      <th>category</th>\n",
       "      <th>quotes_length</th>\n",
       "      <th>list_tags</th>\n",
       "      <th>count_tags</th>\n",
       "    </tr>\n",
       "  </thead>\n",
       "  <tbody>\n",
       "    <tr>\n",
       "      <th>0</th>\n",
       "      <td>I'm selfish, impatient and a little insecure. ...</td>\n",
       "      <td>Marilyn Monroe</td>\n",
       "      <td>attributed, no, source, best, life, love, mist...</td>\n",
       "      <td>41</td>\n",
       "      <td>of  best  out  truth  worst  source  mistakes...</td>\n",
       "      <td>12.0</td>\n",
       "    </tr>\n",
       "    <tr>\n",
       "      <th>1</th>\n",
       "      <td>You've gotta dance like there's nobody watchin...</td>\n",
       "      <td>William W. Purkey</td>\n",
       "      <td>dance, heaven, hurt, inspirational, life, love...</td>\n",
       "      <td>22</td>\n",
       "      <td>heaven  sing  inspirational  love  hurt dance...</td>\n",
       "      <td>7.0</td>\n",
       "    </tr>\n",
       "    <tr>\n",
       "      <th>2</th>\n",
       "      <td>You know you're in love when you can't fall as...</td>\n",
       "      <td>Dr. Seuss</td>\n",
       "      <td>attributed, no, source, dreams, love, reality,...</td>\n",
       "      <td>18</td>\n",
       "      <td>source  dreams  sleep  reality  no attributed...</td>\n",
       "      <td>7.0</td>\n",
       "    </tr>\n",
       "    <tr>\n",
       "      <th>3</th>\n",
       "      <td>A friend is someone who knows all about you an...</td>\n",
       "      <td>Elbert Hubbard</td>\n",
       "      <td>friend, friendship, knowledge, love</td>\n",
       "      <td>13</td>\n",
       "      <td>knowledge friend  friendship  love</td>\n",
       "      <td>4.0</td>\n",
       "    </tr>\n",
       "    <tr>\n",
       "      <th>4</th>\n",
       "      <td>Darkness cannot drive out darkness: only light...</td>\n",
       "      <td>Martin Luther King Jr., A Testament of Hope: T...</td>\n",
       "      <td>darkness, drive, out, hate, inspirational, lig...</td>\n",
       "      <td>20</td>\n",
       "      <td>light darkness  out  hate  drive  inspiration...</td>\n",
       "      <td>8.0</td>\n",
       "    </tr>\n",
       "  </tbody>\n",
       "</table>\n",
       "</div>"
      ],
      "text/plain": [
       "                                               quote  \\\n",
       "0  I'm selfish, impatient and a little insecure. ...   \n",
       "1  You've gotta dance like there's nobody watchin...   \n",
       "2  You know you're in love when you can't fall as...   \n",
       "3  A friend is someone who knows all about you an...   \n",
       "4  Darkness cannot drive out darkness: only light...   \n",
       "\n",
       "                                              author  \\\n",
       "0                                     Marilyn Monroe   \n",
       "1                                  William W. Purkey   \n",
       "2                                          Dr. Seuss   \n",
       "3                                     Elbert Hubbard   \n",
       "4  Martin Luther King Jr., A Testament of Hope: T...   \n",
       "\n",
       "                                            category quotes_length  \\\n",
       "0  attributed, no, source, best, life, love, mist...            41   \n",
       "1  dance, heaven, hurt, inspirational, life, love...            22   \n",
       "2  attributed, no, source, dreams, love, reality,...            18   \n",
       "3                friend, friendship, knowledge, love            13   \n",
       "4  darkness, drive, out, hate, inspirational, lig...            20   \n",
       "\n",
       "                                           list_tags  count_tags  \n",
       "0   of  best  out  truth  worst  source  mistakes...        12.0  \n",
       "1   heaven  sing  inspirational  love  hurt dance...         7.0  \n",
       "2   source  dreams  sleep  reality  no attributed...         7.0  \n",
       "3                 knowledge friend  friendship  love         4.0  \n",
       "4   light darkness  out  hate  drive  inspiration...         8.0  "
      ]
     },
     "execution_count": 15,
     "metadata": {},
     "output_type": "execute_result"
    }
   ],
   "source": [
    "quotes.head()"
   ]
  },
  {
   "cell_type": "code",
   "execution_count": 16,
   "id": "546b16a1",
   "metadata": {},
   "outputs": [],
   "source": [
    "quotes.iloc[-1] = ['A large crowd is assembled on an outdoor street scene , with toy balloons visible and a woman walking a pink bicyc', 'image','image','5','A large crowd is assembled on an outdoor street scene , with toy balloons visible and a woman walking a pink bicyc','1']"
   ]
  },
  {
   "cell_type": "code",
   "execution_count": 17,
   "id": "1be062b5",
   "metadata": {},
   "outputs": [],
   "source": [
    "picture_vectorized = vectorizer.transform(quotes.iloc[-1])\n",
    "lda_vectors_self = dummy_tags.transform(picture_vectorized)\n",
    "for index,row in quotes.iterrows():\n",
    "    quotes['topic'] = quotes.quote.copy()"
   ]
  },
  {
   "cell_type": "code",
   "execution_count": 18,
   "id": "5d2597fa",
   "metadata": {},
   "outputs": [],
   "source": [
    "for index,row in quotes.iterrows():\n",
    "    quotes.at[index, 'topic'] = int(np.where(lda_vectors[index] == max(lda_vectors[index]))[0])"
   ]
  },
  {
   "cell_type": "code",
   "execution_count": 19,
   "id": "127c7574",
   "metadata": {},
   "outputs": [
    {
     "data": {
      "text/html": [
       "<div>\n",
       "<style scoped>\n",
       "    .dataframe tbody tr th:only-of-type {\n",
       "        vertical-align: middle;\n",
       "    }\n",
       "\n",
       "    .dataframe tbody tr th {\n",
       "        vertical-align: top;\n",
       "    }\n",
       "\n",
       "    .dataframe thead th {\n",
       "        text-align: right;\n",
       "    }\n",
       "</style>\n",
       "<table border=\"1\" class=\"dataframe\">\n",
       "  <thead>\n",
       "    <tr style=\"text-align: right;\">\n",
       "      <th></th>\n",
       "      <th>quote</th>\n",
       "      <th>author</th>\n",
       "      <th>category</th>\n",
       "      <th>quotes_length</th>\n",
       "      <th>list_tags</th>\n",
       "      <th>count_tags</th>\n",
       "      <th>topic</th>\n",
       "    </tr>\n",
       "  </thead>\n",
       "  <tbody>\n",
       "    <tr>\n",
       "      <th>154313</th>\n",
       "      <td>The harassed look is that of a desperately tir...</td>\n",
       "      <td>Christopher Isherwood, A Single Man</td>\n",
       "      <td>dying, living</td>\n",
       "      <td>96</td>\n",
       "      <td>dying  living</td>\n",
       "      <td>2.0</td>\n",
       "      <td>4</td>\n",
       "    </tr>\n",
       "    <tr>\n",
       "      <th>154314</th>\n",
       "      <td>…In this way that he sought to control the ver...</td>\n",
       "      <td>Jesse Ball, The Curfew</td>\n",
       "      <td>life, living, mindfulness</td>\n",
       "      <td>39</td>\n",
       "      <td>mindfulness life  living</td>\n",
       "      <td>3.0</td>\n",
       "      <td>4</td>\n",
       "    </tr>\n",
       "    <tr>\n",
       "      <th>154315</th>\n",
       "      <td>No matter how we choose to live, we both die a...</td>\n",
       "      <td>Adam Silvera, They Both Die at the End</td>\n",
       "      <td>death, living</td>\n",
       "      <td>13</td>\n",
       "      <td>living death</td>\n",
       "      <td>2.0</td>\n",
       "      <td>4</td>\n",
       "    </tr>\n",
       "    <tr>\n",
       "      <th>154316</th>\n",
       "      <td>The goal that you hope you will one day arrive...</td>\n",
       "      <td>Marcus Aurelius, The Essential Marcus Aurelius</td>\n",
       "      <td>living</td>\n",
       "      <td>239</td>\n",
       "      <td>living</td>\n",
       "      <td>1.0</td>\n",
       "      <td>0</td>\n",
       "    </tr>\n",
       "    <tr>\n",
       "      <th>154317</th>\n",
       "      <td>A large crowd is assembled on an outdoor stree...</td>\n",
       "      <td>image</td>\n",
       "      <td>image</td>\n",
       "      <td>5</td>\n",
       "      <td>A large crowd is assembled on an outdoor stree...</td>\n",
       "      <td>1</td>\n",
       "      <td>4</td>\n",
       "    </tr>\n",
       "  </tbody>\n",
       "</table>\n",
       "</div>"
      ],
      "text/plain": [
       "                                                    quote  \\\n",
       "154313  The harassed look is that of a desperately tir...   \n",
       "154314  …In this way that he sought to control the ver...   \n",
       "154315  No matter how we choose to live, we both die a...   \n",
       "154316  The goal that you hope you will one day arrive...   \n",
       "154317  A large crowd is assembled on an outdoor stree...   \n",
       "\n",
       "                                                author  \\\n",
       "154313             Christopher Isherwood, A Single Man   \n",
       "154314                          Jesse Ball, The Curfew   \n",
       "154315          Adam Silvera, They Both Die at the End   \n",
       "154316  Marcus Aurelius, The Essential Marcus Aurelius   \n",
       "154317                                           image   \n",
       "\n",
       "                         category quotes_length  \\\n",
       "154313              dying, living            96   \n",
       "154314  life, living, mindfulness            39   \n",
       "154315              death, living            13   \n",
       "154316                     living           239   \n",
       "154317                      image             5   \n",
       "\n",
       "                                                list_tags count_tags topic  \n",
       "154313                                      dying  living        2.0     4  \n",
       "154314                           mindfulness life  living        3.0     4  \n",
       "154315                                       living death        2.0     4  \n",
       "154316                                             living        1.0     0  \n",
       "154317  A large crowd is assembled on an outdoor stree...          1     4  "
      ]
     },
     "execution_count": 19,
     "metadata": {},
     "output_type": "execute_result"
    }
   ],
   "source": [
    "quotes.tail()"
   ]
  },
  {
   "cell_type": "code",
   "execution_count": 20,
   "id": "17e5ce10",
   "metadata": {},
   "outputs": [
    {
     "data": {
      "text/plain": [
       "(array([44286.,     0., 26831.,     0.,     0., 19963.,     0., 32735.,\n",
       "            0., 30503.]),\n",
       " array([0.0, 0.4, 0.8, 1.2000000000000002, 1.6, 2.0, 2.4000000000000004,\n",
       "        2.8000000000000003, 3.2, 3.6, 4.0], dtype=object),\n",
       " <BarContainer object of 10 artists>)"
      ]
     },
     "execution_count": 20,
     "metadata": {},
     "output_type": "execute_result"
    },
    {
     "data": {
      "image/png": "[encoded data removed]",
      "text/plain": [
       "<Figure size 432x288 with 1 Axes>"
      ]
     },
     "metadata": {
      "needs_background": "light"
     },
     "output_type": "display_data"
    }
   ],
   "source": [
    "plt.hist(quotes.topic)"
   ]
  },
  {
   "cell_type": "markdown",
   "id": "5343aa9b",
   "metadata": {},
   "source": [
    "__Adding the image caption as the last line to our dataset to be able to see the closest neighbourhs__"
   ]
  },
  {
   "cell_type": "code",
   "execution_count": 21,
   "id": "82c637de",
   "metadata": {},
   "outputs": [
    {
     "data": {
      "text/plain": [
       "4"
      ]
     },
     "execution_count": 21,
     "metadata": {},
     "output_type": "execute_result"
    }
   ],
   "source": [
    "image_topic = int(quotes.iloc[-1, [-1]])\n",
    "image_topic"
   ]
  },
  {
   "cell_type": "code",
   "execution_count": 22,
   "id": "3325329c",
   "metadata": {},
   "outputs": [
    {
     "data": {
      "text/html": [
       "<div>\n",
       "<style scoped>\n",
       "    .dataframe tbody tr th:only-of-type {\n",
       "        vertical-align: middle;\n",
       "    }\n",
       "\n",
       "    .dataframe tbody tr th {\n",
       "        vertical-align: top;\n",
       "    }\n",
       "\n",
       "    .dataframe thead th {\n",
       "        text-align: right;\n",
       "    }\n",
       "</style>\n",
       "<table border=\"1\" class=\"dataframe\">\n",
       "  <thead>\n",
       "    <tr style=\"text-align: right;\">\n",
       "      <th></th>\n",
       "      <th>quote</th>\n",
       "      <th>author</th>\n",
       "      <th>category</th>\n",
       "      <th>quotes_length</th>\n",
       "      <th>list_tags</th>\n",
       "      <th>count_tags</th>\n",
       "      <th>topic</th>\n",
       "    </tr>\n",
       "  </thead>\n",
       "  <tbody>\n",
       "    <tr>\n",
       "      <th>4</th>\n",
       "      <td>Darkness cannot drive out darkness: only light...</td>\n",
       "      <td>Martin Luther King Jr., A Testament of Hope: T...</td>\n",
       "      <td>darkness, drive, out, hate, inspirational, lig...</td>\n",
       "      <td>20</td>\n",
       "      <td>light darkness  out  hate  drive  inspiration...</td>\n",
       "      <td>8.0</td>\n",
       "      <td>4</td>\n",
       "    </tr>\n",
       "    <tr>\n",
       "      <th>23</th>\n",
       "      <td>Love is like the wind, you can't see it but yo...</td>\n",
       "      <td>Nicholas Sparks, A Walk to Remember</td>\n",
       "      <td>love, simile</td>\n",
       "      <td>14</td>\n",
       "      <td>love  simile</td>\n",
       "      <td>2.0</td>\n",
       "      <td>4</td>\n",
       "    </tr>\n",
       "    <tr>\n",
       "      <th>28</th>\n",
       "      <td>Love never dies a natural death. It dies becau...</td>\n",
       "      <td>Anaïs Nin</td>\n",
       "      <td>death, love</td>\n",
       "      <td>39</td>\n",
       "      <td>love death</td>\n",
       "      <td>2.0</td>\n",
       "      <td>4</td>\n",
       "    </tr>\n",
       "    <tr>\n",
       "      <th>34</th>\n",
       "      <td>Dumbledore watched her fly away, and as her si...</td>\n",
       "      <td>J.K. Rowling, Harry Potter and the Deathly Hal...</td>\n",
       "      <td>dumbledore, life, love, snape</td>\n",
       "      <td>28</td>\n",
       "      <td>dumbledore  snape  love  life</td>\n",
       "      <td>4.0</td>\n",
       "      <td>4</td>\n",
       "    </tr>\n",
       "    <tr>\n",
       "      <th>36</th>\n",
       "      <td>To die will be an awfully big adventure.</td>\n",
       "      <td>J.M. Barrie, Peter Pan</td>\n",
       "      <td>adventure, love</td>\n",
       "      <td>8</td>\n",
       "      <td>adventure  love</td>\n",
       "      <td>2.0</td>\n",
       "      <td>4</td>\n",
       "    </tr>\n",
       "  </tbody>\n",
       "</table>\n",
       "</div>"
      ],
      "text/plain": [
       "                                                quote  \\\n",
       "4   Darkness cannot drive out darkness: only light...   \n",
       "23  Love is like the wind, you can't see it but yo...   \n",
       "28  Love never dies a natural death. It dies becau...   \n",
       "34  Dumbledore watched her fly away, and as her si...   \n",
       "36           To die will be an awfully big adventure.   \n",
       "\n",
       "                                               author  \\\n",
       "4   Martin Luther King Jr., A Testament of Hope: T...   \n",
       "23                Nicholas Sparks, A Walk to Remember   \n",
       "28                                          Anaïs Nin   \n",
       "34  J.K. Rowling, Harry Potter and the Deathly Hal...   \n",
       "36                             J.M. Barrie, Peter Pan   \n",
       "\n",
       "                                             category quotes_length  \\\n",
       "4   darkness, drive, out, hate, inspirational, lig...            20   \n",
       "23                                       love, simile            14   \n",
       "28                                        death, love            39   \n",
       "34                      dumbledore, life, love, snape            28   \n",
       "36                                    adventure, love             8   \n",
       "\n",
       "                                            list_tags count_tags topic  \n",
       "4    light darkness  out  hate  drive  inspiration...        8.0     4  \n",
       "23                                       love  simile        2.0     4  \n",
       "28                                         love death        2.0     4  \n",
       "34                      dumbledore  snape  love  life        4.0     4  \n",
       "36                                    adventure  love        2.0     4  "
      ]
     },
     "execution_count": 22,
     "metadata": {},
     "output_type": "execute_result"
    }
   ],
   "source": [
    "quotes = quotes.dropna()\n",
    "only_topic = quotes[quotes.topic == image_topic]\n",
    "only_topic.head()"
   ]
  },
  {
   "cell_type": "code",
   "execution_count": 23,
   "id": "9ed8f347",
   "metadata": {},
   "outputs": [
    {
     "data": {
      "text/html": [
       "<div>\n",
       "<style scoped>\n",
       "    .dataframe tbody tr th:only-of-type {\n",
       "        vertical-align: middle;\n",
       "    }\n",
       "\n",
       "    .dataframe tbody tr th {\n",
       "        vertical-align: top;\n",
       "    }\n",
       "\n",
       "    .dataframe thead th {\n",
       "        text-align: right;\n",
       "    }\n",
       "</style>\n",
       "<table border=\"1\" class=\"dataframe\">\n",
       "  <thead>\n",
       "    <tr style=\"text-align: right;\">\n",
       "      <th></th>\n",
       "      <th>quote</th>\n",
       "      <th>author</th>\n",
       "    </tr>\n",
       "  </thead>\n",
       "  <tbody>\n",
       "    <tr>\n",
       "      <th>7</th>\n",
       "      <td>I died. I died and someone made a clerical err...</td>\n",
       "      <td>Jim Butcher, Summer Knight</td>\n",
       "    </tr>\n",
       "    <tr>\n",
       "      <th>9</th>\n",
       "      <td>Our revels now are ended. These our actors, As...</td>\n",
       "      <td>William Shakespeare, The Tempest</td>\n",
       "    </tr>\n",
       "    <tr>\n",
       "      <th>12</th>\n",
       "      <td>Which way did they go, Peeves?\" Filch was sayi...</td>\n",
       "      <td>J.K. Rowling, Harry Potter and the Sorcerer's ...</td>\n",
       "    </tr>\n",
       "    <tr>\n",
       "      <th>18</th>\n",
       "      <td>I hold it true, whate'er befall;I feel it when...</td>\n",
       "      <td>Alfred Tennyson, In Memoriam</td>\n",
       "    </tr>\n",
       "    <tr>\n",
       "      <th>24</th>\n",
       "      <td>Falling in love is not a rational process. It ...</td>\n",
       "      <td>Suzanne Selfors, Coffeehouse Angel</td>\n",
       "    </tr>\n",
       "  </tbody>\n",
       "</table>\n",
       "</div>"
      ],
      "text/plain": [
       "                                                quote  \\\n",
       "7   I died. I died and someone made a clerical err...   \n",
       "9   Our revels now are ended. These our actors, As...   \n",
       "12  Which way did they go, Peeves?\" Filch was sayi...   \n",
       "18  I hold it true, whate'er befall;I feel it when...   \n",
       "24  Falling in love is not a rational process. It ...   \n",
       "\n",
       "                                               author  \n",
       "7                          Jim Butcher, Summer Knight  \n",
       "9                    William Shakespeare, The Tempest  \n",
       "12  J.K. Rowling, Harry Potter and the Sorcerer's ...  \n",
       "18                       Alfred Tennyson, In Memoriam  \n",
       "24                 Suzanne Selfors, Coffeehouse Angel  "
      ]
     },
     "execution_count": 23,
     "metadata": {},
     "output_type": "execute_result"
    }
   ],
   "source": [
    "tfidf_weight = vectorizer.fit_transform(only_topic['list_tags'].values.astype('U'))\n",
    "nn_euc = NearestNeighbors(metric = 'euclidean')\n",
    "nn_euc.fit(tfidf_weight)\n",
    "image_index = -1\n",
    "euc, indices = nn_euc.kneighbors(tfidf_weight[image_index], n_neighbors = 100)\n",
    "neighbors_euc = pd.DataFrame({'euc': euc.flatten(), 'id': indices.flatten()})\n",
    "result_top5 = (only_topic.merge(neighbors_euc, right_on = 'id', left_index = True).\n",
    "                sort_values('euc')[['quote', 'author']]).head()\n",
    "\n",
    "result_top5"
   ]
  },
  {
   "cell_type": "code",
   "execution_count": 24,
   "id": "6f9d25cd",
   "metadata": {},
   "outputs": [
    {
     "name": "stdout",
     "output_type": "stream",
     "text": [
      "Please give me 5 words that are descriptive of your picture:bycicle\n"
     ]
    },
    {
     "name": "stderr",
     "output_type": "stream",
     "text": [
      "/tmp/ipykernel_19315/101407589.py:3: SettingWithCopyWarning: \n",
      "A value is trying to be set on a copy of a slice from a DataFrame\n",
      "\n",
      "See the caveats in the documentation: https://pandas.pydata.org/pandas-docs/stable/user_guide/indexing.html#returning-a-view-versus-a-copy\n",
      "  most_suiting.iloc[-1] = [own_tags,'image','image','5',own_tags,'1',image_topic]\n"
     ]
    },
    {
     "data": {
      "text/html": [
       "<div>\n",
       "<style scoped>\n",
       "    .dataframe tbody tr th:only-of-type {\n",
       "        vertical-align: middle;\n",
       "    }\n",
       "\n",
       "    .dataframe tbody tr th {\n",
       "        vertical-align: top;\n",
       "    }\n",
       "\n",
       "    .dataframe thead th {\n",
       "        text-align: right;\n",
       "    }\n",
       "</style>\n",
       "<table border=\"1\" class=\"dataframe\">\n",
       "  <thead>\n",
       "    <tr style=\"text-align: right;\">\n",
       "      <th></th>\n",
       "      <th>quote</th>\n",
       "      <th>author</th>\n",
       "      <th>category</th>\n",
       "      <th>quotes_length</th>\n",
       "      <th>list_tags</th>\n",
       "      <th>count_tags</th>\n",
       "      <th>topic</th>\n",
       "    </tr>\n",
       "  </thead>\n",
       "  <tbody>\n",
       "    <tr>\n",
       "      <th>154308</th>\n",
       "      <td>Haldir had gone on and was now climbing to the...</td>\n",
       "      <td>J.R.R. Tolkien, The Lord of the Rings</td>\n",
       "      <td>living, tree</td>\n",
       "      <td>80</td>\n",
       "      <td>tree living</td>\n",
       "      <td>2.0</td>\n",
       "      <td>1</td>\n",
       "    </tr>\n",
       "    <tr>\n",
       "      <th>154309</th>\n",
       "      <td>Trust that whatever you are dealing with, what...</td>\n",
       "      <td>Barbara Marciniak, Family of Light: Pleiadian ...</td>\n",
       "      <td>crisis, living, love</td>\n",
       "      <td>41</td>\n",
       "      <td>crisis  living  love</td>\n",
       "      <td>3.0</td>\n",
       "      <td>3</td>\n",
       "    </tr>\n",
       "    <tr>\n",
       "      <th>154310</th>\n",
       "      <td>The venerable teachers, philosophers &amp; spiritu...</td>\n",
       "      <td>Allan Lokos, Pocket Peace: Effective Practices...</td>\n",
       "      <td>buddhism, healing, health, inspirational, livi...</td>\n",
       "      <td>27</td>\n",
       "      <td>buddhism  healing  health  living  inspiration...</td>\n",
       "      <td>7.0</td>\n",
       "      <td>0</td>\n",
       "    </tr>\n",
       "    <tr>\n",
       "      <th>154312</th>\n",
       "      <td>Sasha's green eyes were right up against yours...</td>\n",
       "      <td>Jennifer Egan, A Visit from the Goon Squad</td>\n",
       "      <td>coping, living, survival</td>\n",
       "      <td>77</td>\n",
       "      <td>survival  living coping</td>\n",
       "      <td>3.0</td>\n",
       "      <td>0</td>\n",
       "    </tr>\n",
       "    <tr>\n",
       "      <th>154316</th>\n",
       "      <td>bycicle</td>\n",
       "      <td>image</td>\n",
       "      <td>image</td>\n",
       "      <td>5</td>\n",
       "      <td>bycicle</td>\n",
       "      <td>1</td>\n",
       "      <td>4</td>\n",
       "    </tr>\n",
       "  </tbody>\n",
       "</table>\n",
       "</div>"
      ],
      "text/plain": [
       "                                                    quote  \\\n",
       "154308  Haldir had gone on and was now climbing to the...   \n",
       "154309  Trust that whatever you are dealing with, what...   \n",
       "154310  The venerable teachers, philosophers & spiritu...   \n",
       "154312  Sasha's green eyes were right up against yours...   \n",
       "154316                                            bycicle   \n",
       "\n",
       "                                                   author  \\\n",
       "154308              J.R.R. Tolkien, The Lord of the Rings   \n",
       "154309  Barbara Marciniak, Family of Light: Pleiadian ...   \n",
       "154310  Allan Lokos, Pocket Peace: Effective Practices...   \n",
       "154312         Jennifer Egan, A Visit from the Goon Squad   \n",
       "154316                                              image   \n",
       "\n",
       "                                                 category quotes_length  \\\n",
       "154308                                       living, tree            80   \n",
       "154309                               crisis, living, love            41   \n",
       "154310  buddhism, healing, health, inspirational, livi...            27   \n",
       "154312                           coping, living, survival            77   \n",
       "154316                                              image             5   \n",
       "\n",
       "                                                list_tags count_tags topic  \n",
       "154308                                        tree living        2.0     1  \n",
       "154309                               crisis  living  love        3.0     3  \n",
       "154310  buddhism  healing  health  living  inspiration...        7.0     0  \n",
       "154312                            survival  living coping        3.0     0  \n",
       "154316                                            bycicle          1     4  "
      ]
     },
     "execution_count": 24,
     "metadata": {},
     "output_type": "execute_result"
    }
   ],
   "source": [
    "most_suiting = quotes[quotes.topic != image_topic]\n",
    "own_tags = input(\"Please give me 5 words that are descriptive of your picture:\")\n",
    "most_suiting.iloc[-1] = [own_tags,'image','image','5',own_tags,'1',image_topic]\n",
    "most_suiting.tail()"
   ]
  },
  {
   "cell_type": "code",
   "execution_count": 25,
   "id": "a2e6ae3c",
   "metadata": {},
   "outputs": [
    {
     "data": {
      "text/plain": [
       "42    I must die. Must I then die lamenting? I must ...\n",
       "Name: quote, dtype: object"
      ]
     },
     "execution_count": 25,
     "metadata": {},
     "output_type": "execute_result"
    }
   ],
   "source": [
    "tfidf_weight = vectorizer.fit_transform(most_suiting['list_tags'].values.astype('U'))\n",
    "nn_euc = NearestNeighbors(metric = 'euclidean')\n",
    "nn_euc.fit(tfidf_weight)\n",
    "image_index = -1\n",
    "euc, indices = nn_euc.kneighbors(tfidf_weight[image_index], n_neighbors = 100)\n",
    "neighbors_euc = pd.DataFrame({'euc': euc.flatten(), 'id': indices.flatten()})\n",
    "result_most_s = (only_topic.merge(neighbors_euc, right_on = 'id', left_index = True).\n",
    "                sort_values('euc')[['quote', 'author']]).head(1)\n",
    "\n",
    "result_most_s.quote"
   ]
  },
  {
   "cell_type": "code",
   "execution_count": null,
   "id": "a2dd4d01",
   "metadata": {},
   "outputs": [],
   "source": []
  }
 ],
 "metadata": {
  "kernelspec": {
   "display_name": "Python 3 (ipykernel)",
   "language": "python",
   "name": "python3"
  },
  "language_info": {
   "codemirror_mode": {
    "name": "ipython",
    "version": 3
   },
   "file_extension": ".py",
   "mimetype": "text/x-python",
   "name": "python",
   "nbconvert_exporter": "python",
   "pygments_lexer": "ipython3",
   "version": "3.8.12"
  },
  "toc": {
   "base_numbering": 1,
   "nav_menu": {},
   "number_sections": true,
   "sideBar": true,
   "skip_h1_title": false,
   "title_cell": "Table of Contents",
   "title_sidebar": "Contents",
   "toc_cell": false,
   "toc_position": {},
   "toc_section_display": true,
   "toc_window_display": false
  }
 },
 "nbformat": 4,
 "nbformat_minor": 5
}
