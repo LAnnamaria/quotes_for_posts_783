{
 "cells": [
  {
   "cell_type": "markdown",
   "id": "bfaa9231",
   "metadata": {},
   "source": [
    "# Top 5 Quotes dummy model"
   ]
  },
  {
   "cell_type": "code",
   "execution_count": 1,
   "id": "11f8c0ed",
   "metadata": {},
   "outputs": [],
   "source": [
    "import pandas as pd\n",
    "import itertools\n",
    "import re\n",
    "from sklearn.decomposition import LatentDirichletAllocation\n",
    "from sklearn.feature_extraction.text import CountVectorizer,TfidfVectorizer\n",
    "import string\n",
    "from sklearn.neighbors import NearestNeighbors\n",
    "import numpy as np"
   ]
  },
  {
   "cell_type": "code",
   "execution_count": 2,
   "id": "0101fec3",
   "metadata": {},
   "outputs": [
    {
     "data": {
      "text/html": [
       "<div>\n",
       "<style scoped>\n",
       "    .dataframe tbody tr th:only-of-type {\n",
       "        vertical-align: middle;\n",
       "    }\n",
       "\n",
       "    .dataframe tbody tr th {\n",
       "        vertical-align: top;\n",
       "    }\n",
       "\n",
       "    .dataframe thead th {\n",
       "        text-align: right;\n",
       "    }\n",
       "</style>\n",
       "<table border=\"1\" class=\"dataframe\">\n",
       "  <thead>\n",
       "    <tr style=\"text-align: right;\">\n",
       "      <th></th>\n",
       "      <th>quote</th>\n",
       "      <th>author</th>\n",
       "      <th>category</th>\n",
       "    </tr>\n",
       "  </thead>\n",
       "  <tbody>\n",
       "    <tr>\n",
       "      <th>0</th>\n",
       "      <td>I'm selfish, impatient and a little insecure. ...</td>\n",
       "      <td>Marilyn Monroe</td>\n",
       "      <td>attributed-no-source, best, life, love, mistak...</td>\n",
       "    </tr>\n",
       "    <tr>\n",
       "      <th>1</th>\n",
       "      <td>You've gotta dance like there's nobody watchin...</td>\n",
       "      <td>William W. Purkey</td>\n",
       "      <td>dance, heaven, hurt, inspirational, life, love...</td>\n",
       "    </tr>\n",
       "    <tr>\n",
       "      <th>2</th>\n",
       "      <td>You know you're in love when you can't fall as...</td>\n",
       "      <td>Dr. Seuss</td>\n",
       "      <td>attributed-no-source, dreams, love, reality, s...</td>\n",
       "    </tr>\n",
       "  </tbody>\n",
       "</table>\n",
       "</div>"
      ],
      "text/plain": [
       "                                               quote             author  \\\n",
       "0  I'm selfish, impatient and a little insecure. ...     Marilyn Monroe   \n",
       "1  You've gotta dance like there's nobody watchin...  William W. Purkey   \n",
       "2  You know you're in love when you can't fall as...          Dr. Seuss   \n",
       "\n",
       "                                            category  \n",
       "0  attributed-no-source, best, life, love, mistak...  \n",
       "1  dance, heaven, hurt, inspirational, life, love...  \n",
       "2  attributed-no-source, dreams, love, reality, s...  "
      ]
     },
     "execution_count": 2,
     "metadata": {},
     "output_type": "execute_result"
    }
   ],
   "source": [
    "file = \"../raw_data/quotes - reduced.csv\"\n",
    "quotes = pd.read_csv(file, decimal=\",\")\n",
    "quotes.head(3)"
   ]
  },
  {
   "cell_type": "code",
   "execution_count": 3,
   "id": "2cd651bd",
   "metadata": {},
   "outputs": [],
   "source": [
    "tags_list = quotes.category.to_list()\n",
    "number_of_tags = []\n",
    "for i in tags_list:\n",
    "    number_of_tags.append(len(str(i).split(',')))"
   ]
  },
  {
   "cell_type": "code",
   "execution_count": 4,
   "id": "59d00fea",
   "metadata": {},
   "outputs": [],
   "source": [
    "quotes['quotes_length'] = quotes['quote'].copy()\n",
    "for index, row in quotes.iterrows():\n",
    "    quotes.loc[index, \"quotes_length\"] = len(str(row['quotes_length']).split(' '))"
   ]
  },
  {
   "cell_type": "markdown",
   "id": "2ef796be",
   "metadata": {},
   "source": [
    "## Cleaning data: tags are all lowercase, '-' were replaced with ',', duplicates were removed"
   ]
  },
  {
   "cell_type": "code",
   "execution_count": 5,
   "id": "bfd51b53",
   "metadata": {},
   "outputs": [],
   "source": [
    "for index, row in quotes.iterrows():\n",
    "    quotes.loc[index, \"category\"] = str(row['category']).lower().replace('-',', ')"
   ]
  },
  {
   "cell_type": "code",
   "execution_count": 6,
   "id": "c3b40550",
   "metadata": {},
   "outputs": [
    {
     "data": {
      "text/plain": [
       "count    156656.000000\n",
       "mean          9.747638\n",
       "std          15.356019\n",
       "min           1.000000\n",
       "25%           3.000000\n",
       "50%           5.000000\n",
       "75%          11.000000\n",
       "max         568.000000\n",
       "Name: count_tags, dtype: float64"
      ]
     },
     "execution_count": 6,
     "metadata": {},
     "output_type": "execute_result"
    }
   ],
   "source": [
    "quotes['list_tags'] = quotes['category'].copy()\n",
    "for index,row in quotes.iterrows():\n",
    "    quotes.loc[index, 'count_tags'] = len(str(row['list_tags']).split(','))\n",
    "quotes.count_tags.describe()"
   ]
  },
  {
   "cell_type": "code",
   "execution_count": 7,
   "id": "86fe45b1",
   "metadata": {},
   "outputs": [],
   "source": [
    "for index,row in quotes.iterrows():\n",
    "    quotes.at[index, 'list_tags'] = str(row['list_tags']).split(',')"
   ]
  },
  {
   "cell_type": "code",
   "execution_count": 8,
   "id": "e3237081",
   "metadata": {},
   "outputs": [],
   "source": [
    "for index,row in quotes.iterrows():\n",
    "    quotes.at[index, 'list_tags'] = str(set(row['list_tags']))"
   ]
  },
  {
   "cell_type": "code",
   "execution_count": 9,
   "id": "4e0b98bd",
   "metadata": {},
   "outputs": [],
   "source": [
    "def remove_punctuations(text):\n",
    "    for punctuation in string.punctuation:\n",
    "        text = text.replace(punctuation, '')\n",
    "    return text\n",
    "quotes['list_tags'] = quotes['list_tags'].apply(remove_punctuations)"
   ]
  },
  {
   "cell_type": "code",
   "execution_count": 10,
   "id": "8283cb82",
   "metadata": {},
   "outputs": [],
   "source": [
    "vectorizer = TfidfVectorizer()\n",
    "tags_vectorized = vectorizer.fit_transform(quotes['list_tags'])\n",
    "dummy_tags = LatentDirichletAllocation(n_components=5)\n",
    "lda_vectors = dummy_tags.fit_transform(tags_vectorized)"
   ]
  },
  {
   "cell_type": "code",
   "execution_count": 11,
   "id": "bbaa98fc",
   "metadata": {},
   "outputs": [
    {
     "name": "stdout",
     "output_type": "stream",
     "text": [
      "Topic 0:\n",
      "[('inspirational', 3650.8768572601734), ('life', 3339.1726005134287), ('quotes', 2612.6615727594594), ('motivational', 1762.4080945515987), ('writing', 1754.987350715119), ('inspiration', 1556.6452223069969), ('self', 1537.5935024215287), ('lessons', 1349.8828446131438), ('success', 1310.7935045102076), ('motivation', 1239.4041451269798)]\n",
      "Topic 1:\n",
      "[('love', 2005.3423284287821), ('romance', 1810.4174084683577), ('fiction', 1264.8868430969608), ('feminism', 1213.8353621061226), ('women', 1207.876230434013), ('marriage', 1167.05683311547), ('fantasy', 1103.3611956797297), ('sex', 1068.213044687214), ('death', 1052.4424813657795), ('relationships', 739.195820749136)]\n",
      "Topic 2:\n",
      "[('poetry', 1745.2692095917193), ('god', 1542.6186567993977), ('religion', 1517.6516007619043), ('reading', 1249.8522250844267), ('faith', 1143.7010076074316), ('christianity', 1107.7149646915327), ('science', 1058.2339504758245), ('love', 1021.4296053320269), ('nature', 1003.4096916890909), ('family', 872.8930262535358)]\n",
      "Topic 3:\n",
      "[('humor', 2049.0893222704362), ('debasish', 1314.5498536904433), ('philosophy', 1310.2916986396344), ('funny', 1009.6409776119389), ('mridha', 949.7371888900394), ('quotes', 660.9410283374856), ('psychology', 630.2659805343064), ('inspirational', 567.2087887512049), ('love', 512.5550645814421), ('money', 502.5601814034191)]\n",
      "Topic 4:\n",
      "[('truth', 1699.256692329165), ('wisdom', 1676.7622371004088), ('education', 1625.9519216246483), ('knowledge', 1400.3202034908124), ('happiness', 1394.292188974018), ('music', 1233.0140446477687), ('hope', 1205.7504103472181), ('war', 1202.1128130193576), ('politics', 1195.0944202961703), ('history', 1126.3918882078324)]\n"
     ]
    }
   ],
   "source": [
    "def print_topics(model, vectorizer):\n",
    "    for idx, topic in enumerate(model.components_):\n",
    "        print(\"Topic %d:\" % (idx))\n",
    "        print([(vectorizer.get_feature_names_out()[i], topic[i])\n",
    "                        for i in topic.argsort()[:-10 - 1:-1]])\n",
    "        \n",
    "\n",
    "print_topics(dummy_tags, vectorizer.fit(quotes['list_tags']))"
   ]
  },
  {
   "cell_type": "code",
   "execution_count": 12,
   "id": "5bafc933",
   "metadata": {},
   "outputs": [
    {
     "data": {
      "text/plain": [
       "array([0.05965695, 0.05911973, 0.29855933, 0.52266864, 0.05999535])"
      ]
     },
     "execution_count": 12,
     "metadata": {},
     "output_type": "execute_result"
    }
   ],
   "source": [
    "lda_vectors[1]"
   ]
  },
  {
   "cell_type": "code",
   "execution_count": 13,
   "id": "6de61319",
   "metadata": {},
   "outputs": [],
   "source": [
    "quotes.iloc[-1] = ['me, Paris, selfie, singing, book','image','image','5','image','1']"
   ]
  },
  {
   "cell_type": "code",
   "execution_count": 14,
   "id": "89343bfb",
   "metadata": {},
   "outputs": [],
   "source": [
    "picture_vectorized = vectorizer.transform(quotes.iloc[-1])\n",
    "lda_vectors_self = dummy_tags.transform(picture_vectorized)\n",
    "for index,row in quotes.iterrows():\n",
    "    quotes['topic'] = quotes.quote.copy()"
   ]
  },
  {
   "cell_type": "code",
   "execution_count": 15,
   "id": "674f3c91",
   "metadata": {},
   "outputs": [],
   "source": [
    "for index,row in quotes.iterrows():\n",
    "    quotes.at[index, 'topic'] = int(np.where(lda_vectors[index] == max(lda_vectors[index]))[0])"
   ]
  },
  {
   "cell_type": "code",
   "execution_count": 16,
   "id": "16162d2b",
   "metadata": {},
   "outputs": [
    {
     "data": {
      "text/html": [
       "<div>\n",
       "<style scoped>\n",
       "    .dataframe tbody tr th:only-of-type {\n",
       "        vertical-align: middle;\n",
       "    }\n",
       "\n",
       "    .dataframe tbody tr th {\n",
       "        vertical-align: top;\n",
       "    }\n",
       "\n",
       "    .dataframe thead th {\n",
       "        text-align: right;\n",
       "    }\n",
       "</style>\n",
       "<table border=\"1\" class=\"dataframe\">\n",
       "  <thead>\n",
       "    <tr style=\"text-align: right;\">\n",
       "      <th></th>\n",
       "      <th>quote</th>\n",
       "      <th>author</th>\n",
       "      <th>category</th>\n",
       "      <th>quotes_length</th>\n",
       "      <th>list_tags</th>\n",
       "      <th>count_tags</th>\n",
       "      <th>topic</th>\n",
       "    </tr>\n",
       "  </thead>\n",
       "  <tbody>\n",
       "    <tr>\n",
       "      <th>156651</th>\n",
       "      <td>The harassed look is that of a desperately tir...</td>\n",
       "      <td>Christopher Isherwood, A Single Man</td>\n",
       "      <td>dying, living</td>\n",
       "      <td>96</td>\n",
       "      <td>living dying</td>\n",
       "      <td>2.0</td>\n",
       "      <td>2</td>\n",
       "    </tr>\n",
       "    <tr>\n",
       "      <th>156652</th>\n",
       "      <td>…In this way that he sought to control the ver...</td>\n",
       "      <td>Jesse Ball, The Curfew</td>\n",
       "      <td>life, living, mindfulness</td>\n",
       "      <td>39</td>\n",
       "      <td>life  mindfulness  living</td>\n",
       "      <td>3.0</td>\n",
       "      <td>0</td>\n",
       "    </tr>\n",
       "    <tr>\n",
       "      <th>156653</th>\n",
       "      <td>No matter how we choose to live, we both die a...</td>\n",
       "      <td>Adam Silvera, They Both Die at the End</td>\n",
       "      <td>death, living</td>\n",
       "      <td>13</td>\n",
       "      <td>living death</td>\n",
       "      <td>2.0</td>\n",
       "      <td>0</td>\n",
       "    </tr>\n",
       "    <tr>\n",
       "      <th>156654</th>\n",
       "      <td>The goal that you hope you will one day arrive...</td>\n",
       "      <td>Marcus Aurelius, The Essential Marcus Aurelius</td>\n",
       "      <td>living</td>\n",
       "      <td>239</td>\n",
       "      <td>living</td>\n",
       "      <td>1.0</td>\n",
       "      <td>0</td>\n",
       "    </tr>\n",
       "    <tr>\n",
       "      <th>156655</th>\n",
       "      <td>me, Paris, selfie, singing, book</td>\n",
       "      <td>image</td>\n",
       "      <td>image</td>\n",
       "      <td>5</td>\n",
       "      <td>image</td>\n",
       "      <td>1</td>\n",
       "      <td>0</td>\n",
       "    </tr>\n",
       "  </tbody>\n",
       "</table>\n",
       "</div>"
      ],
      "text/plain": [
       "                                                    quote  \\\n",
       "156651  The harassed look is that of a desperately tir...   \n",
       "156652  …In this way that he sought to control the ver...   \n",
       "156653  No matter how we choose to live, we both die a...   \n",
       "156654  The goal that you hope you will one day arrive...   \n",
       "156655                   me, Paris, selfie, singing, book   \n",
       "\n",
       "                                                author  \\\n",
       "156651             Christopher Isherwood, A Single Man   \n",
       "156652                          Jesse Ball, The Curfew   \n",
       "156653          Adam Silvera, They Both Die at the End   \n",
       "156654  Marcus Aurelius, The Essential Marcus Aurelius   \n",
       "156655                                           image   \n",
       "\n",
       "                         category quotes_length                  list_tags  \\\n",
       "156651              dying, living            96               living dying   \n",
       "156652  life, living, mindfulness            39  life  mindfulness  living   \n",
       "156653              death, living            13               living death   \n",
       "156654                     living           239                     living   \n",
       "156655                      image             5                      image   \n",
       "\n",
       "       count_tags topic  \n",
       "156651        2.0     2  \n",
       "156652        3.0     0  \n",
       "156653        2.0     0  \n",
       "156654        1.0     0  \n",
       "156655          1     0  "
      ]
     },
     "execution_count": 16,
     "metadata": {},
     "output_type": "execute_result"
    }
   ],
   "source": [
    "quotes.tail()"
   ]
  },
  {
   "cell_type": "markdown",
   "id": "a2ba3d03",
   "metadata": {},
   "source": [
    "__Adding the image caption as the last line to our dataset to be able to see the closest neighbourhs__"
   ]
  },
  {
   "cell_type": "code",
   "execution_count": 20,
   "id": "5c465b7f",
   "metadata": {},
   "outputs": [
    {
     "data": {
      "text/plain": [
       "0"
      ]
     },
     "execution_count": 20,
     "metadata": {},
     "output_type": "execute_result"
    }
   ],
   "source": [
    "#quotes.loc[quotes['author'] == 'image', ['topic']] = np.where(lda_vectors[-1] == max(lda_vectors[-1]))[0]\n",
    "image_topic = int(quotes.iloc[-1, [-1]])\n",
    "image_topic"
   ]
  },
  {
   "cell_type": "code",
   "execution_count": 18,
   "id": "ada6aeb3",
   "metadata": {},
   "outputs": [
    {
     "data": {
      "text/html": [
       "<div>\n",
       "<style scoped>\n",
       "    .dataframe tbody tr th:only-of-type {\n",
       "        vertical-align: middle;\n",
       "    }\n",
       "\n",
       "    .dataframe tbody tr th {\n",
       "        vertical-align: top;\n",
       "    }\n",
       "\n",
       "    .dataframe thead th {\n",
       "        text-align: right;\n",
       "    }\n",
       "</style>\n",
       "<table border=\"1\" class=\"dataframe\">\n",
       "  <thead>\n",
       "    <tr style=\"text-align: right;\">\n",
       "      <th></th>\n",
       "      <th>quote</th>\n",
       "      <th>author</th>\n",
       "      <th>category</th>\n",
       "      <th>quotes_length</th>\n",
       "      <th>list_tags</th>\n",
       "      <th>count_tags</th>\n",
       "      <th>topic</th>\n",
       "    </tr>\n",
       "  </thead>\n",
       "  <tbody>\n",
       "    <tr>\n",
       "      <th>4</th>\n",
       "      <td>Darkness cannot drive out darkness: only light...</td>\n",
       "      <td>Martin Luther King Jr., A Testament of Hope: T...</td>\n",
       "      <td>darkness, drive, out, hate, inspirational, lig...</td>\n",
       "      <td>20</td>\n",
       "      <td>out  inspirational  drive  love darkness  pea...</td>\n",
       "      <td>8.0</td>\n",
       "      <td>0</td>\n",
       "    </tr>\n",
       "    <tr>\n",
       "      <th>5</th>\n",
       "      <td>We accept the love we think we deserve.</td>\n",
       "      <td>Stephen Chbosky, The Perks of Being a Wallflower</td>\n",
       "      <td>inspirational, love</td>\n",
       "      <td>8</td>\n",
       "      <td>inspirational  love</td>\n",
       "      <td>2.0</td>\n",
       "      <td>0</td>\n",
       "    </tr>\n",
       "    <tr>\n",
       "      <th>7</th>\n",
       "      <td>It is better to be hated for what you are than...</td>\n",
       "      <td>André Gide, Autumn Leaves</td>\n",
       "      <td>life, love</td>\n",
       "      <td>19</td>\n",
       "      <td>life  love</td>\n",
       "      <td>2.0</td>\n",
       "      <td>0</td>\n",
       "    </tr>\n",
       "    <tr>\n",
       "      <th>10</th>\n",
       "      <td>It is not a lack of love, but a lack of friend...</td>\n",
       "      <td>Friedrich Nietzsche</td>\n",
       "      <td>friendship, lack, of, friendship, lack, of, lo...</td>\n",
       "      <td>16</td>\n",
       "      <td>love  friendship  lack  of  marriage friendsh...</td>\n",
       "      <td>11.0</td>\n",
       "      <td>0</td>\n",
       "    </tr>\n",
       "    <tr>\n",
       "      <th>12</th>\n",
       "      <td>Love all, trust a few, do wrong to none.</td>\n",
       "      <td>William Shakespeare, All's Well That Ends Well</td>\n",
       "      <td>do, wrong, love, trust, wrong</td>\n",
       "      <td>9</td>\n",
       "      <td>do  wrong  love  trust</td>\n",
       "      <td>5.0</td>\n",
       "      <td>0</td>\n",
       "    </tr>\n",
       "  </tbody>\n",
       "</table>\n",
       "</div>"
      ],
      "text/plain": [
       "                                                quote  \\\n",
       "4   Darkness cannot drive out darkness: only light...   \n",
       "5             We accept the love we think we deserve.   \n",
       "7   It is better to be hated for what you are than...   \n",
       "10  It is not a lack of love, but a lack of friend...   \n",
       "12           Love all, trust a few, do wrong to none.   \n",
       "\n",
       "                                               author  \\\n",
       "4   Martin Luther King Jr., A Testament of Hope: T...   \n",
       "5    Stephen Chbosky, The Perks of Being a Wallflower   \n",
       "7                           André Gide, Autumn Leaves   \n",
       "10                                Friedrich Nietzsche   \n",
       "12     William Shakespeare, All's Well That Ends Well   \n",
       "\n",
       "                                             category quotes_length  \\\n",
       "4   darkness, drive, out, hate, inspirational, lig...            20   \n",
       "5                                 inspirational, love             8   \n",
       "7                                          life, love            19   \n",
       "10  friendship, lack, of, friendship, lack, of, lo...            16   \n",
       "12                      do, wrong, love, trust, wrong             9   \n",
       "\n",
       "                                            list_tags count_tags topic  \n",
       "4    out  inspirational  drive  love darkness  pea...        8.0     0  \n",
       "5                                 inspirational  love        2.0     0  \n",
       "7                                          life  love        2.0     0  \n",
       "10   love  friendship  lack  of  marriage friendsh...       11.0     0  \n",
       "12                             do  wrong  love  trust        5.0     0  "
      ]
     },
     "execution_count": 18,
     "metadata": {},
     "output_type": "execute_result"
    }
   ],
   "source": [
    "quotes = quotes.dropna()\n",
    "only_topic = quotes[quotes.topic == image_topic]\n",
    "only_topic.head()"
   ]
  },
  {
   "cell_type": "code",
   "execution_count": 19,
   "id": "a4b715ee",
   "metadata": {},
   "outputs": [
    {
     "data": {
      "text/plain": [
       "4     You are what your creators and experiences hav...\n",
       "10    Every life needs a little space. It leaves roo...\n",
       "13    Every day send some blessings to the world. Le...\n",
       "19    If something doesn't work exactly right, or ma...\n",
       "20    Everyone wants a prodigy to fail it makes our ...\n",
       "Name: quote, dtype: object"
      ]
     },
     "execution_count": 19,
     "metadata": {},
     "output_type": "execute_result"
    }
   ],
   "source": [
    "tfidf_weight = vectorizer.fit_transform(only_topic['list_tags'].values.astype('U'))\n",
    "nn_euc = NearestNeighbors(metric = 'euclidean')\n",
    "nn_euc.fit(tfidf_weight)\n",
    "image_index = -1\n",
    "euc, indices = nn_euc.kneighbors(tfidf_weight[image_index], n_neighbors = 100)\n",
    "neighbors_euc = pd.DataFrame({'euc': euc.flatten(), 'id': indices.flatten()})\n",
    "nearest_info = (only_topic.merge(neighbors_euc, right_on = 'id', left_index = True).\n",
    "                sort_values('euc')[['id', 'quote', 'author','euc']])\n",
    "\n",
    "nearest_info.quote.head()"
   ]
  },
  {
   "cell_type": "code",
   "execution_count": null,
   "id": "d45bf2a5",
   "metadata": {},
   "outputs": [],
   "source": []
  }
 ],
 "metadata": {
  "kernelspec": {
   "display_name": "Python 3 (ipykernel)",
   "language": "python",
   "name": "python3"
  },
  "language_info": {
   "codemirror_mode": {
    "name": "ipython",
    "version": 3
   },
   "file_extension": ".py",
   "mimetype": "text/x-python",
   "name": "python",
   "nbconvert_exporter": "python",
   "pygments_lexer": "ipython3",
   "version": "3.8.12"
  },
  "toc": {
   "base_numbering": 1,
   "nav_menu": {},
   "number_sections": true,
   "sideBar": true,
   "skip_h1_title": false,
   "title_cell": "Table of Contents",
   "title_sidebar": "Contents",
   "toc_cell": false,
   "toc_position": {},
   "toc_section_display": true,
   "toc_window_display": false
  }
 },
 "nbformat": 4,
 "nbformat_minor": 5
}
