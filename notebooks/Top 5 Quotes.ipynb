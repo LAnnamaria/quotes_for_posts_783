{
 "cells": [
  {
   "cell_type": "markdown",
   "id": "59bc6b99",
   "metadata": {},
   "source": [
    "# Top 5 Quotes dummy model"
   ]
  },
  {
   "cell_type": "code",
   "execution_count": 1,
   "id": "7b139943",
   "metadata": {},
   "outputs": [],
   "source": [
    "import pandas as pd\n",
    "import itertools\n",
    "import re\n",
    "from sklearn.decomposition import LatentDirichletAllocation\n",
    "from sklearn.feature_extraction.text import CountVectorizer,TfidfVectorizer\n",
    "import string\n",
    "from sklearn.neighbors import NearestNeighbors\n",
    "import numpy as np"
   ]
  },
  {
   "cell_type": "code",
   "execution_count": 2,
   "id": "758bceb3",
   "metadata": {},
   "outputs": [
    {
     "data": {
      "text/html": [
       "<div>\n",
       "<style scoped>\n",
       "    .dataframe tbody tr th:only-of-type {\n",
       "        vertical-align: middle;\n",
       "    }\n",
       "\n",
       "    .dataframe tbody tr th {\n",
       "        vertical-align: top;\n",
       "    }\n",
       "\n",
       "    .dataframe thead th {\n",
       "        text-align: right;\n",
       "    }\n",
       "</style>\n",
       "<table border=\"1\" class=\"dataframe\">\n",
       "  <thead>\n",
       "    <tr style=\"text-align: right;\">\n",
       "      <th></th>\n",
       "      <th>quote</th>\n",
       "      <th>author</th>\n",
       "      <th>category</th>\n",
       "    </tr>\n",
       "  </thead>\n",
       "  <tbody>\n",
       "    <tr>\n",
       "      <th>0</th>\n",
       "      <td>I'm selfish, impatient and a little insecure. ...</td>\n",
       "      <td>Marilyn Monroe</td>\n",
       "      <td>attributed-no-source, best, life, love, mistak...</td>\n",
       "    </tr>\n",
       "    <tr>\n",
       "      <th>1</th>\n",
       "      <td>You've gotta dance like there's nobody watchin...</td>\n",
       "      <td>William W. Purkey</td>\n",
       "      <td>dance, heaven, hurt, inspirational, life, love...</td>\n",
       "    </tr>\n",
       "    <tr>\n",
       "      <th>2</th>\n",
       "      <td>You know you're in love when you can't fall as...</td>\n",
       "      <td>Dr. Seuss</td>\n",
       "      <td>attributed-no-source, dreams, love, reality, s...</td>\n",
       "    </tr>\n",
       "  </tbody>\n",
       "</table>\n",
       "</div>"
      ],
      "text/plain": [
       "                                               quote             author  \\\n",
       "0  I'm selfish, impatient and a little insecure. ...     Marilyn Monroe   \n",
       "1  You've gotta dance like there's nobody watchin...  William W. Purkey   \n",
       "2  You know you're in love when you can't fall as...          Dr. Seuss   \n",
       "\n",
       "                                            category  \n",
       "0  attributed-no-source, best, life, love, mistak...  \n",
       "1  dance, heaven, hurt, inspirational, life, love...  \n",
       "2  attributed-no-source, dreams, love, reality, s...  "
      ]
     },
     "execution_count": 2,
     "metadata": {},
     "output_type": "execute_result"
    }
   ],
   "source": [
    "file = \"../raw_data/quotes.csv\"\n",
    "quotes = pd.read_csv(file, decimal=\",\")\n",
    "quotes.head(3)"
   ]
  },
  {
   "cell_type": "code",
   "execution_count": 3,
   "id": "8e4109c0",
   "metadata": {},
   "outputs": [],
   "source": [
    "tags_list = quotes.category.to_list()\n",
    "number_of_tags = []\n",
    "for i in tags_list:\n",
    "    number_of_tags.append(len(str(i).split(',')))"
   ]
  },
  {
   "cell_type": "code",
   "execution_count": 4,
   "id": "dcc19721",
   "metadata": {},
   "outputs": [],
   "source": [
    "quotes['quotes_length'] = quotes['quote'].copy()\n",
    "for index, row in quotes.iterrows():\n",
    "    quotes.loc[index, \"quotes_length\"] = len(str(row['quotes_length']).split(' '))"
   ]
  },
  {
   "cell_type": "markdown",
   "id": "793917d3",
   "metadata": {},
   "source": [
    "## Cleaning data: tags are all lowercase, '-' were replaced with ',', duplicates were removed"
   ]
  },
  {
   "cell_type": "code",
   "execution_count": 5,
   "id": "9f0cf988",
   "metadata": {},
   "outputs": [],
   "source": [
    "for index, row in quotes.iterrows():\n",
    "    quotes.loc[index, \"category\"] = str(row['category']).lower().replace('-',', ')"
   ]
  },
  {
   "cell_type": "code",
   "execution_count": 6,
   "id": "0a5bfae0",
   "metadata": {},
   "outputs": [
    {
     "data": {
      "text/plain": [
       "count    499709.000000\n",
       "mean          6.684064\n",
       "std          10.532606\n",
       "min           1.000000\n",
       "25%           2.000000\n",
       "50%           3.000000\n",
       "75%           7.000000\n",
       "max         568.000000\n",
       "Name: count_tags, dtype: float64"
      ]
     },
     "execution_count": 6,
     "metadata": {},
     "output_type": "execute_result"
    }
   ],
   "source": [
    "quotes['list_tags'] = quotes['category'].copy()\n",
    "for index,row in quotes.iterrows():\n",
    "    quotes.loc[index, 'count_tags'] = len(str(row['list_tags']).split(','))\n",
    "quotes.count_tags.describe()"
   ]
  },
  {
   "cell_type": "code",
   "execution_count": 7,
   "id": "41db0b3c",
   "metadata": {},
   "outputs": [],
   "source": [
    "for index,row in quotes.iterrows():\n",
    "    quotes.at[index, 'list_tags'] = str(row['list_tags']).split(',')"
   ]
  },
  {
   "cell_type": "code",
   "execution_count": 8,
   "id": "c530ef8f",
   "metadata": {},
   "outputs": [],
   "source": [
    "for index,row in quotes.iterrows():\n",
    "    quotes.at[index, 'list_tags'] = str(set(row['list_tags']))"
   ]
  },
  {
   "cell_type": "code",
   "execution_count": 9,
   "id": "a1bdbd3c",
   "metadata": {},
   "outputs": [],
   "source": [
    "def remove_punctuations(text):\n",
    "    for punctuation in string.punctuation:\n",
    "        text = text.replace(punctuation, '')\n",
    "    return text\n",
    "quotes['list_tags'] = quotes['list_tags'].apply(remove_punctuations)"
   ]
  },
  {
   "cell_type": "code",
   "execution_count": 10,
   "id": "ba6eef0e",
   "metadata": {},
   "outputs": [],
   "source": [
    "vectorizer = TfidfVectorizer()\n",
    "tags_vectorized = vectorizer.fit_transform(quotes['list_tags'])\n",
    "dummy_tags = LatentDirichletAllocation(n_components=5)\n",
    "lda_vectors = dummy_tags.fit_transform(tags_vectorized)"
   ]
  },
  {
   "cell_type": "code",
   "execution_count": 11,
   "id": "c563e3e9",
   "metadata": {},
   "outputs": [
    {
     "name": "stdout",
     "output_type": "stream",
     "text": [
      "Topic 0:\n",
      "[('women', 2003.2581827849167), ('religion', 1908.0676301053654), ('nature', 1890.6100338399694), ('science', 1772.937646835534), ('love', 1766.3299356477967), ('human', 1652.4255568335732), ('men', 1581.2149618745252), ('money', 1568.487889399725), ('god', 1542.7426505656852), ('life', 1542.3320486167172)]\n",
      "Topic 1:\n",
      "[('life', 7154.573897807301), ('self', 4631.441743724187), ('inspirational', 4120.105029027829), ('success', 3415.9149167223995), ('quotes', 3398.7426084176686), ('philosophy', 2875.738313595533), ('love', 2589.2768360706864), ('you', 2444.3078771890036), ('living', 2307.287000244068), ('people', 2117.3967304893235)]\n",
      "Topic 2:\n",
      "[('inspirational', 5670.415183345447), ('love', 4124.27367091982), ('quotes', 3928.36471879855), ('writing', 3350.0344684543275), ('life', 2982.9977185728844), ('god', 2662.9377959705625), ('books', 2452.925589008916), ('wisdom', 2282.7205099032053), ('reading', 2108.018266105808), ('faith', 2094.1382041387405)]\n",
      "Topic 3:\n",
      "[('happiness', 2628.0324937908413), ('friendship', 2188.382021678921), ('education', 2158.743987897267), ('knowledge', 2127.733724377724), ('humor', 2120.4175264996884), ('truth', 2071.0281293130283), ('war', 2050.527648962201), ('politics', 1954.3162428558908), ('history', 1926.4984117267015), ('love', 1778.7569905988958)]\n",
      "Topic 4:\n",
      "[('romance', 4707.229871614328), ('death', 2714.7643797931282), ('love', 2632.9588309756014), ('fiction', 2213.374161298575), ('poetry', 2167.7453723480894), ('family', 1922.8581084324874), ('fantasy', 1893.7283386304496), ('humour', 1593.5129554563666), ('humor', 1586.1286281386606), ('paranormal', 1444.6238514996655)]\n"
     ]
    }
   ],
   "source": [
    "def print_topics(model, vectorizer):\n",
    "    for idx, topic in enumerate(model.components_):\n",
    "        print(\"Topic %d:\" % (idx))\n",
    "        print([(vectorizer.get_feature_names_out()[i], topic[i])\n",
    "                        for i in topic.argsort()[:-10 - 1:-1]])\n",
    "        \n",
    "\n",
    "print_topics(dummy_tags, vectorizer.fit(quotes['list_tags']))"
   ]
  },
  {
   "cell_type": "code",
   "execution_count": 15,
   "id": "06655503",
   "metadata": {},
   "outputs": [
    {
     "data": {
      "text/plain": [
       "array([0.04701307, 0.63154942, 0.22661882, 0.04728886, 0.04752983])"
      ]
     },
     "execution_count": 15,
     "metadata": {},
     "output_type": "execute_result"
    }
   ],
   "source": [
    "lda_vectors[0]"
   ]
  },
  {
   "cell_type": "code",
   "execution_count": 13,
   "id": "286b918f",
   "metadata": {},
   "outputs": [],
   "source": [
    "quotes.iloc[-1] = ['me, Paris, selfie, singing, book','image','image','5','image','1']"
   ]
  },
  {
   "cell_type": "code",
   "execution_count": null,
   "id": "0dee4bdc",
   "metadata": {},
   "outputs": [],
   "source": [
    "picture_vectorized = vectorizer.transform(quotes.iloc[-1])\n",
    "lda_vectors_self = dummy_tags.transform(picture_vectorized)\n",
    "for index,row in quotes.iterrows():\n",
    "    quotes['topic'] = quotes.quote.copy()\n",
    "    quotes.at[index, 'topic'] = np.where(lda_vectors[0] == max(lda_vectors[0]))[0]"
   ]
  },
  {
   "cell_type": "code",
   "execution_count": null,
   "id": "851ec6df",
   "metadata": {},
   "outputs": [],
   "source": [
    "quotes.head()"
   ]
  },
  {
   "cell_type": "code",
   "execution_count": null,
   "id": "a7bece13",
   "metadata": {},
   "outputs": [],
   "source": []
  }
 ],
 "metadata": {
  "kernelspec": {
   "display_name": "Python 3 (ipykernel)",
   "language": "python",
   "name": "python3"
  },
  "language_info": {
   "codemirror_mode": {
    "name": "ipython",
    "version": 3
   },
   "file_extension": ".py",
   "mimetype": "text/x-python",
   "name": "python",
   "nbconvert_exporter": "python",
   "pygments_lexer": "ipython3",
   "version": "3.8.12"
  },
  "toc": {
   "base_numbering": 1,
   "nav_menu": {},
   "number_sections": true,
   "sideBar": true,
   "skip_h1_title": false,
   "title_cell": "Table of Contents",
   "title_sidebar": "Contents",
   "toc_cell": false,
   "toc_position": {},
   "toc_section_display": true,
   "toc_window_display": false
  }
 },
 "nbformat": 4,
 "nbformat_minor": 5
}
