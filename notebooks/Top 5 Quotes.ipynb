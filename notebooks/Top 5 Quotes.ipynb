{
 "cells": [
  {
   "cell_type": "markdown",
   "id": "380a9290",
   "metadata": {},
   "source": [
    "# Top 5 Quotes dummy model"
   ]
  },
  {
   "cell_type": "code",
   "execution_count": 1,
   "id": "18d62c92",
   "metadata": {},
   "outputs": [],
   "source": [
    "import pandas as pd\n",
    "import itertools\n",
    "import re\n",
    "from sklearn.decomposition import LatentDirichletAllocation\n",
    "from sklearn.feature_extraction.text import CountVectorizer,TfidfVectorizer\n",
    "import string\n",
    "from sklearn.neighbors import NearestNeighbors\n",
    "import numpy as np\n",
    "import matplotlib.pyplot as plt"
   ]
  },
  {
   "cell_type": "code",
   "execution_count": 2,
   "id": "953097d6",
   "metadata": {},
   "outputs": [
    {
     "data": {
      "text/html": [
       "<div>\n",
       "<style scoped>\n",
       "    .dataframe tbody tr th:only-of-type {\n",
       "        vertical-align: middle;\n",
       "    }\n",
       "\n",
       "    .dataframe tbody tr th {\n",
       "        vertical-align: top;\n",
       "    }\n",
       "\n",
       "    .dataframe thead th {\n",
       "        text-align: right;\n",
       "    }\n",
       "</style>\n",
       "<table border=\"1\" class=\"dataframe\">\n",
       "  <thead>\n",
       "    <tr style=\"text-align: right;\">\n",
       "      <th></th>\n",
       "      <th>quote</th>\n",
       "      <th>author</th>\n",
       "      <th>category</th>\n",
       "    </tr>\n",
       "  </thead>\n",
       "  <tbody>\n",
       "    <tr>\n",
       "      <th>0</th>\n",
       "      <td>I'm selfish, impatient and a little insecure. ...</td>\n",
       "      <td>Marilyn Monroe</td>\n",
       "      <td>attributed-no-source, best, life, love, mistak...</td>\n",
       "    </tr>\n",
       "    <tr>\n",
       "      <th>1</th>\n",
       "      <td>You've gotta dance like there's nobody watchin...</td>\n",
       "      <td>William W. Purkey</td>\n",
       "      <td>dance, heaven, hurt, inspirational, life, love...</td>\n",
       "    </tr>\n",
       "    <tr>\n",
       "      <th>2</th>\n",
       "      <td>You know you're in love when you can't fall as...</td>\n",
       "      <td>Dr. Seuss</td>\n",
       "      <td>attributed-no-source, dreams, love, reality, s...</td>\n",
       "    </tr>\n",
       "  </tbody>\n",
       "</table>\n",
       "</div>"
      ],
      "text/plain": [
       "                                               quote             author  \\\n",
       "0  I'm selfish, impatient and a little insecure. ...     Marilyn Monroe   \n",
       "1  You've gotta dance like there's nobody watchin...  William W. Purkey   \n",
       "2  You know you're in love when you can't fall as...          Dr. Seuss   \n",
       "\n",
       "                                            category  \n",
       "0  attributed-no-source, best, life, love, mistak...  \n",
       "1  dance, heaven, hurt, inspirational, life, love...  \n",
       "2  attributed-no-source, dreams, love, reality, s...  "
      ]
     },
     "execution_count": 2,
     "metadata": {},
     "output_type": "execute_result"
    }
   ],
   "source": [
    "file = \"../raw_data/quotes - reduced.csv\"\n",
    "quotes = pd.read_csv(file, decimal=\",\")\n",
    "quotes.head(3)"
   ]
  },
  {
   "cell_type": "code",
   "execution_count": 3,
   "id": "703bf251",
   "metadata": {},
   "outputs": [],
   "source": [
    "tags_list = quotes.category.to_list()\n",
    "number_of_tags = []\n",
    "for i in tags_list:\n",
    "    number_of_tags.append(len(str(i).split(',')))"
   ]
  },
  {
   "cell_type": "code",
   "execution_count": 4,
   "id": "7637bf55",
   "metadata": {},
   "outputs": [],
   "source": [
    "quotes['quotes_length'] = quotes['quote'].copy()\n",
    "for index, row in quotes.iterrows():\n",
    "    quotes.loc[index, \"quotes_length\"] = len(str(row['quotes_length']).split(' '))"
   ]
  },
  {
   "cell_type": "markdown",
   "id": "51bfb02d",
   "metadata": {},
   "source": [
    "## Cleaning data: tags are all lowercase, '-' were replaced with ',', duplicates were removed"
   ]
  },
  {
   "cell_type": "code",
   "execution_count": 5,
   "id": "1109d29d",
   "metadata": {},
   "outputs": [],
   "source": [
    "for index, row in quotes.iterrows():\n",
    "    quotes.loc[index, \"category\"] = str(row['category']).lower().replace('-',', ')"
   ]
  },
  {
   "cell_type": "code",
   "execution_count": 6,
   "id": "33f1c405",
   "metadata": {},
   "outputs": [
    {
     "data": {
      "text/plain": [
       "count    156656.000000\n",
       "mean          9.747638\n",
       "std          15.356019\n",
       "min           1.000000\n",
       "25%           3.000000\n",
       "50%           5.000000\n",
       "75%          11.000000\n",
       "max         568.000000\n",
       "Name: count_tags, dtype: float64"
      ]
     },
     "execution_count": 6,
     "metadata": {},
     "output_type": "execute_result"
    }
   ],
   "source": [
    "quotes['list_tags'] = quotes['category'].copy()\n",
    "for index,row in quotes.iterrows():\n",
    "    quotes.loc[index, 'count_tags'] = len(str(row['list_tags']).split(','))\n",
    "quotes.count_tags.describe()"
   ]
  },
  {
   "cell_type": "code",
   "execution_count": 7,
   "id": "14482e59",
   "metadata": {},
   "outputs": [],
   "source": [
    "for index,row in quotes.iterrows():\n",
    "    quotes.at[index, 'list_tags'] = str(row['list_tags']).split(',')"
   ]
  },
  {
   "cell_type": "code",
   "execution_count": 8,
   "id": "25ce3160",
   "metadata": {},
   "outputs": [],
   "source": [
    "for index,row in quotes.iterrows():\n",
    "    quotes.at[index, 'list_tags'] = str(set(row['list_tags']))"
   ]
  },
  {
   "cell_type": "code",
   "execution_count": 9,
   "id": "7fdf2fc4",
   "metadata": {},
   "outputs": [],
   "source": [
    "def remove_punctuations(text):\n",
    "    for punctuation in string.punctuation:\n",
    "        text = text.replace(punctuation, '')\n",
    "    return text\n",
    "quotes['list_tags'] = quotes['list_tags'].apply(remove_punctuations)"
   ]
  },
  {
   "cell_type": "code",
   "execution_count": 10,
   "id": "a31c87dc",
   "metadata": {},
   "outputs": [],
   "source": [
    "vectorizer = TfidfVectorizer()\n",
    "tags_vectorized = vectorizer.fit_transform(quotes['list_tags'])\n",
    "dummy_tags = LatentDirichletAllocation(n_components=5)\n",
    "lda_vectors = dummy_tags.fit_transform(tags_vectorized)"
   ]
  },
  {
   "cell_type": "code",
   "execution_count": 11,
   "id": "3ec6ad9b",
   "metadata": {},
   "outputs": [
    {
     "name": "stdout",
     "output_type": "stream",
     "text": [
      "Topic 0:\n",
      "[('humor', 2164.5693270988104), ('religion', 1470.5032612971058), ('god', 1280.1688752970276), ('humour', 1194.4367560747419), ('music', 1179.8508193980667), ('feminism', 1049.3683685626347), ('christianity', 1008.1443057504287), ('funny', 952.2040905722603), ('politics', 889.574627820969), ('war', 857.05461190538)]\n",
      "Topic 1:\n",
      "[('love', 1392.2060086730412), ('debasish', 1314.5492760276848), ('friendship', 1129.512472145731), ('quotes', 1012.7257027782887), ('mridha', 949.7364771807445), ('life', 909.3767115477734), ('inspirational', 840.2670277504025), ('romance', 809.5708015240504), ('sex', 790.4169461721655), ('courage', 682.9755010282946)]\n",
      "Topic 2:\n",
      "[('inspirational', 3482.2237322494248), ('life', 2338.850606863753), ('quotes', 2035.9375566972672), ('motivational', 1643.1329809429321), ('inspiration', 1482.1081975111365), ('self', 1456.1392449842656), ('lessons', 1247.9717913151455), ('motivation', 1215.9191150993818), ('spiritual', 1057.3308511116948), ('art', 1033.4506911822791)]\n",
      "Topic 3:\n",
      "[('writing', 2016.6941826058683), ('books', 1634.3989451686816), ('reading', 1340.8952532415983), ('fiction', 1301.4721687200963), ('children', 1127.0756478432004), ('fantasy', 1105.9732646420123), ('history', 853.7073488118065), ('nature', 853.2985044704401), ('romance', 710.4817977527936), ('family', 704.2931312646748)]\n",
      "Topic 4:\n",
      "[('love', 2905.34070318472), ('truth', 1999.441371751961), ('philosophy', 1753.9182217732034), ('wisdom', 1719.284686045891), ('life', 1698.1824504791514), ('death', 1650.308103080492), ('poetry', 1638.0133371694744), ('education', 1446.7356589234955), ('happiness', 1441.8886693666566), ('knowledge', 1402.8524075438734)]\n"
     ]
    }
   ],
   "source": [
    "def print_topics(model, vectorizer):\n",
    "    for idx, topic in enumerate(model.components_):\n",
    "        print(\"Topic %d:\" % (idx))\n",
    "        print([(vectorizer.get_feature_names_out()[i], topic[i])\n",
    "                        for i in topic.argsort()[:-10 - 1:-1]])\n",
    "        \n",
    "\n",
    "print_topics(dummy_tags, vectorizer.fit(quotes['list_tags']))"
   ]
  },
  {
   "cell_type": "code",
   "execution_count": 12,
   "id": "6bb2d79f",
   "metadata": {},
   "outputs": [
    {
     "data": {
      "text/plain": [
       "array([0.05932556, 0.42108086, 0.0597981 , 0.05887248, 0.400923  ])"
      ]
     },
     "execution_count": 12,
     "metadata": {},
     "output_type": "execute_result"
    }
   ],
   "source": [
    "lda_vectors[1]"
   ]
  },
  {
   "cell_type": "code",
   "execution_count": 13,
   "id": "9e065a9f",
   "metadata": {},
   "outputs": [],
   "source": [
    "quotes.iloc[-1] = ['me, Paris, selfie, singing, book','image','image','5','me, Paris, selfie, singing, book','1']"
   ]
  },
  {
   "cell_type": "code",
   "execution_count": 14,
   "id": "6eb161c4",
   "metadata": {},
   "outputs": [],
   "source": [
    "picture_vectorized = vectorizer.transform(quotes.iloc[-1])\n",
    "lda_vectors_self = dummy_tags.transform(picture_vectorized)\n",
    "for index,row in quotes.iterrows():\n",
    "    quotes['topic'] = quotes.quote.copy()"
   ]
  },
  {
   "cell_type": "code",
   "execution_count": 15,
   "id": "59aa1e5e",
   "metadata": {},
   "outputs": [],
   "source": [
    "for index,row in quotes.iterrows():\n",
    "    quotes.at[index, 'topic'] = int(np.where(lda_vectors[index] == max(lda_vectors[index]))[0])"
   ]
  },
  {
   "cell_type": "code",
   "execution_count": 16,
   "id": "b97c8215",
   "metadata": {},
   "outputs": [
    {
     "data": {
      "text/html": [
       "<div>\n",
       "<style scoped>\n",
       "    .dataframe tbody tr th:only-of-type {\n",
       "        vertical-align: middle;\n",
       "    }\n",
       "\n",
       "    .dataframe tbody tr th {\n",
       "        vertical-align: top;\n",
       "    }\n",
       "\n",
       "    .dataframe thead th {\n",
       "        text-align: right;\n",
       "    }\n",
       "</style>\n",
       "<table border=\"1\" class=\"dataframe\">\n",
       "  <thead>\n",
       "    <tr style=\"text-align: right;\">\n",
       "      <th></th>\n",
       "      <th>quote</th>\n",
       "      <th>author</th>\n",
       "      <th>category</th>\n",
       "      <th>quotes_length</th>\n",
       "      <th>list_tags</th>\n",
       "      <th>count_tags</th>\n",
       "      <th>topic</th>\n",
       "    </tr>\n",
       "  </thead>\n",
       "  <tbody>\n",
       "    <tr>\n",
       "      <th>156651</th>\n",
       "      <td>The harassed look is that of a desperately tir...</td>\n",
       "      <td>Christopher Isherwood, A Single Man</td>\n",
       "      <td>dying, living</td>\n",
       "      <td>96</td>\n",
       "      <td>dying  living</td>\n",
       "      <td>2.0</td>\n",
       "      <td>4</td>\n",
       "    </tr>\n",
       "    <tr>\n",
       "      <th>156652</th>\n",
       "      <td>…In this way that he sought to control the ver...</td>\n",
       "      <td>Jesse Ball, The Curfew</td>\n",
       "      <td>life, living, mindfulness</td>\n",
       "      <td>39</td>\n",
       "      <td>mindfulness life  living</td>\n",
       "      <td>3.0</td>\n",
       "      <td>2</td>\n",
       "    </tr>\n",
       "    <tr>\n",
       "      <th>156653</th>\n",
       "      <td>No matter how we choose to live, we both die a...</td>\n",
       "      <td>Adam Silvera, They Both Die at the End</td>\n",
       "      <td>death, living</td>\n",
       "      <td>13</td>\n",
       "      <td>death  living</td>\n",
       "      <td>2.0</td>\n",
       "      <td>4</td>\n",
       "    </tr>\n",
       "    <tr>\n",
       "      <th>156654</th>\n",
       "      <td>The goal that you hope you will one day arrive...</td>\n",
       "      <td>Marcus Aurelius, The Essential Marcus Aurelius</td>\n",
       "      <td>living</td>\n",
       "      <td>239</td>\n",
       "      <td>living</td>\n",
       "      <td>1.0</td>\n",
       "      <td>2</td>\n",
       "    </tr>\n",
       "    <tr>\n",
       "      <th>156655</th>\n",
       "      <td>me, Paris, selfie, singing, book</td>\n",
       "      <td>image</td>\n",
       "      <td>image</td>\n",
       "      <td>5</td>\n",
       "      <td>me, Paris, selfie, singing, book</td>\n",
       "      <td>1</td>\n",
       "      <td>3</td>\n",
       "    </tr>\n",
       "  </tbody>\n",
       "</table>\n",
       "</div>"
      ],
      "text/plain": [
       "                                                    quote  \\\n",
       "156651  The harassed look is that of a desperately tir...   \n",
       "156652  …In this way that he sought to control the ver...   \n",
       "156653  No matter how we choose to live, we both die a...   \n",
       "156654  The goal that you hope you will one day arrive...   \n",
       "156655                   me, Paris, selfie, singing, book   \n",
       "\n",
       "                                                author  \\\n",
       "156651             Christopher Isherwood, A Single Man   \n",
       "156652                          Jesse Ball, The Curfew   \n",
       "156653          Adam Silvera, They Both Die at the End   \n",
       "156654  Marcus Aurelius, The Essential Marcus Aurelius   \n",
       "156655                                           image   \n",
       "\n",
       "                         category quotes_length  \\\n",
       "156651              dying, living            96   \n",
       "156652  life, living, mindfulness            39   \n",
       "156653              death, living            13   \n",
       "156654                     living           239   \n",
       "156655                      image             5   \n",
       "\n",
       "                               list_tags count_tags topic  \n",
       "156651                     dying  living        2.0     4  \n",
       "156652          mindfulness life  living        3.0     2  \n",
       "156653                     death  living        2.0     4  \n",
       "156654                            living        1.0     2  \n",
       "156655  me, Paris, selfie, singing, book          1     3  "
      ]
     },
     "execution_count": 16,
     "metadata": {},
     "output_type": "execute_result"
    }
   ],
   "source": [
    "quotes.tail()"
   ]
  },
  {
   "cell_type": "code",
   "execution_count": 17,
   "id": "9fc7787b",
   "metadata": {},
   "outputs": [
    {
     "data": {
      "text/plain": [
       "(array([25343.,     0., 34534.,     0.,     0., 34498.,     0., 32329.,\n",
       "            0., 29952.]),\n",
       " array([0.0, 0.4, 0.8, 1.2000000000000002, 1.6, 2.0, 2.4000000000000004,\n",
       "        2.8000000000000003, 3.2, 3.6, 4.0], dtype=object),\n",
       " <BarContainer object of 10 artists>)"
      ]
     },
     "execution_count": 17,
     "metadata": {},
     "output_type": "execute_result"
    },
    {
     "data": {
      "image/png": "[encoded data removed]",
      "text/plain": [
       "<Figure size 432x288 with 1 Axes>"
      ]
     },
     "metadata": {
      "needs_background": "light"
     },
     "output_type": "display_data"
    }
   ],
   "source": [
    "plt.hist(quotes.topic)"
   ]
  },
  {
   "cell_type": "markdown",
   "id": "0bf838fd",
   "metadata": {},
   "source": [
    "__Adding the image caption as the last line to our dataset to be able to see the closest neighbourhs__"
   ]
  },
  {
   "cell_type": "code",
   "execution_count": 18,
   "id": "599ddf7e",
   "metadata": {},
   "outputs": [
    {
     "data": {
      "text/plain": [
       "3"
      ]
     },
     "execution_count": 18,
     "metadata": {},
     "output_type": "execute_result"
    }
   ],
   "source": [
    "image_topic = int(quotes.iloc[-1, [-1]])\n",
    "image_topic"
   ]
  },
  {
   "cell_type": "code",
   "execution_count": 19,
   "id": "70b51ff8",
   "metadata": {},
   "outputs": [
    {
     "data": {
      "text/html": [
       "<div>\n",
       "<style scoped>\n",
       "    .dataframe tbody tr th:only-of-type {\n",
       "        vertical-align: middle;\n",
       "    }\n",
       "\n",
       "    .dataframe tbody tr th {\n",
       "        vertical-align: top;\n",
       "    }\n",
       "\n",
       "    .dataframe thead th {\n",
       "        text-align: right;\n",
       "    }\n",
       "</style>\n",
       "<table border=\"1\" class=\"dataframe\">\n",
       "  <thead>\n",
       "    <tr style=\"text-align: right;\">\n",
       "      <th></th>\n",
       "      <th>quote</th>\n",
       "      <th>author</th>\n",
       "      <th>category</th>\n",
       "      <th>quotes_length</th>\n",
       "      <th>list_tags</th>\n",
       "      <th>count_tags</th>\n",
       "      <th>topic</th>\n",
       "    </tr>\n",
       "  </thead>\n",
       "  <tbody>\n",
       "    <tr>\n",
       "      <th>27</th>\n",
       "      <td>We’re all a little weird. And life is a little...</td>\n",
       "      <td>Robert Fulghum, True Love</td>\n",
       "      <td>love, weirdness</td>\n",
       "      <td>37</td>\n",
       "      <td>love  weirdness</td>\n",
       "      <td>2.0</td>\n",
       "      <td>3</td>\n",
       "    </tr>\n",
       "    <tr>\n",
       "      <th>36</th>\n",
       "      <td>To die will be an awfully big adventure.</td>\n",
       "      <td>J.M. Barrie, Peter Pan</td>\n",
       "      <td>adventure, love</td>\n",
       "      <td>8</td>\n",
       "      <td>adventure  love</td>\n",
       "      <td>2.0</td>\n",
       "      <td>3</td>\n",
       "    </tr>\n",
       "    <tr>\n",
       "      <th>37</th>\n",
       "      <td>A lady's imagination is very rapid; it jumps f...</td>\n",
       "      <td>Jane Austen, Pride and Prejudice</td>\n",
       "      <td>humor, love, romantic, women</td>\n",
       "      <td>19</td>\n",
       "      <td>romantic  love humor  women</td>\n",
       "      <td>4.0</td>\n",
       "      <td>3</td>\n",
       "    </tr>\n",
       "    <tr>\n",
       "      <th>53</th>\n",
       "      <td>In vain have I struggled. It will not do. My f...</td>\n",
       "      <td>Jane Austen, Pride And Prejudice</td>\n",
       "      <td>love, mr, darcy</td>\n",
       "      <td>29</td>\n",
       "      <td>mr  darcy love</td>\n",
       "      <td>3.0</td>\n",
       "      <td>3</td>\n",
       "    </tr>\n",
       "    <tr>\n",
       "      <th>58</th>\n",
       "      <td>The only thing worse than a boy who hates you:...</td>\n",
       "      <td>Markus Zusak, The Book Thief</td>\n",
       "      <td>boys, hate, love</td>\n",
       "      <td>15</td>\n",
       "      <td>hate  love boys</td>\n",
       "      <td>3.0</td>\n",
       "      <td>3</td>\n",
       "    </tr>\n",
       "  </tbody>\n",
       "</table>\n",
       "</div>"
      ],
      "text/plain": [
       "                                                quote  \\\n",
       "27  We’re all a little weird. And life is a little...   \n",
       "36           To die will be an awfully big adventure.   \n",
       "37  A lady's imagination is very rapid; it jumps f...   \n",
       "53  In vain have I struggled. It will not do. My f...   \n",
       "58  The only thing worse than a boy who hates you:...   \n",
       "\n",
       "                              author                      category  \\\n",
       "27         Robert Fulghum, True Love               love, weirdness   \n",
       "36            J.M. Barrie, Peter Pan               adventure, love   \n",
       "37  Jane Austen, Pride and Prejudice  humor, love, romantic, women   \n",
       "53  Jane Austen, Pride And Prejudice               love, mr, darcy   \n",
       "58      Markus Zusak, The Book Thief              boys, hate, love   \n",
       "\n",
       "   quotes_length                     list_tags count_tags topic  \n",
       "27            37               love  weirdness        2.0     3  \n",
       "36             8               adventure  love        2.0     3  \n",
       "37            19   romantic  love humor  women        4.0     3  \n",
       "53            29                mr  darcy love        3.0     3  \n",
       "58            15               hate  love boys        3.0     3  "
      ]
     },
     "execution_count": 19,
     "metadata": {},
     "output_type": "execute_result"
    }
   ],
   "source": [
    "quotes = quotes.dropna()\n",
    "only_topic = quotes[quotes.topic == image_topic]\n",
    "only_topic.head()"
   ]
  },
  {
   "cell_type": "code",
   "execution_count": 20,
   "id": "73a8f23c",
   "metadata": {},
   "outputs": [
    {
     "data": {
      "text/html": [
       "<div>\n",
       "<style scoped>\n",
       "    .dataframe tbody tr th:only-of-type {\n",
       "        vertical-align: middle;\n",
       "    }\n",
       "\n",
       "    .dataframe tbody tr th {\n",
       "        vertical-align: top;\n",
       "    }\n",
       "\n",
       "    .dataframe thead th {\n",
       "        text-align: right;\n",
       "    }\n",
       "</style>\n",
       "<table border=\"1\" class=\"dataframe\">\n",
       "  <thead>\n",
       "    <tr style=\"text-align: right;\">\n",
       "      <th></th>\n",
       "      <th>quote</th>\n",
       "      <th>author</th>\n",
       "    </tr>\n",
       "  </thead>\n",
       "  <tbody>\n",
       "    <tr>\n",
       "      <th>7</th>\n",
       "      <td>Tous mes anciens amours vont me revenir.'- All...</td>\n",
       "      <td>Carolyn Turgeon, Godmother: The Secret Cindere...</td>\n",
       "    </tr>\n",
       "    <tr>\n",
       "      <th>8</th>\n",
       "      <td>Go on, get out! Last words are for fools who h...</td>\n",
       "      <td>Karl Marx</td>\n",
       "    </tr>\n",
       "    <tr>\n",
       "      <th>16</th>\n",
       "      <td>A farm includes the passion of the farmer's he...</td>\n",
       "      <td>Joel Salatin, Everything I Want to Do Is Illeg...</td>\n",
       "    </tr>\n",
       "    <tr>\n",
       "      <th>23</th>\n",
       "      <td>...Nobody knows like a woman how to say things...</td>\n",
       "      <td>Victor Hugo, Les Misérables</td>\n",
       "    </tr>\n",
       "    <tr>\n",
       "      <th>25</th>\n",
       "      <td>You’ll see,” Mother assured her. “The fish wil...</td>\n",
       "      <td>Melanie  Crowder, A Nearer Moon</td>\n",
       "    </tr>\n",
       "  </tbody>\n",
       "</table>\n",
       "</div>"
      ],
      "text/plain": [
       "                                                quote  \\\n",
       "7   Tous mes anciens amours vont me revenir.'- All...   \n",
       "8   Go on, get out! Last words are for fools who h...   \n",
       "16  A farm includes the passion of the farmer's he...   \n",
       "23  ...Nobody knows like a woman how to say things...   \n",
       "25  You’ll see,” Mother assured her. “The fish wil...   \n",
       "\n",
       "                                               author  \n",
       "7   Carolyn Turgeon, Godmother: The Secret Cindere...  \n",
       "8                                           Karl Marx  \n",
       "16  Joel Salatin, Everything I Want to Do Is Illeg...  \n",
       "23                        Victor Hugo, Les Misérables  \n",
       "25                    Melanie  Crowder, A Nearer Moon  "
      ]
     },
     "execution_count": 20,
     "metadata": {},
     "output_type": "execute_result"
    }
   ],
   "source": [
    "tfidf_weight = vectorizer.fit_transform(only_topic['list_tags'].values.astype('U'))\n",
    "nn_euc = NearestNeighbors(metric = 'euclidean')\n",
    "nn_euc.fit(tfidf_weight)\n",
    "image_index = -1\n",
    "euc, indices = nn_euc.kneighbors(tfidf_weight[image_index], n_neighbors = 100)\n",
    "neighbors_euc = pd.DataFrame({'euc': euc.flatten(), 'id': indices.flatten()})\n",
    "result_top5 = (only_topic.merge(neighbors_euc, right_on = 'id', left_index = True).\n",
    "                sort_values('euc')[['quote', 'author']]).head()\n",
    "\n",
    "result_top5"
   ]
  },
  {
   "cell_type": "code",
   "execution_count": 21,
   "id": "c4efe4c8",
   "metadata": {},
   "outputs": [
    {
     "name": "stdout",
     "output_type": "stream",
     "text": [
      "Please give me 5 words that are descriptive of your picture:yellow, face, selfie, me, Paris\n"
     ]
    },
    {
     "name": "stderr",
     "output_type": "stream",
     "text": [
      "/tmp/ipykernel_3514/101407589.py:3: SettingWithCopyWarning: \n",
      "A value is trying to be set on a copy of a slice from a DataFrame\n",
      "\n",
      "See the caveats in the documentation: https://pandas.pydata.org/pandas-docs/stable/user_guide/indexing.html#returning-a-view-versus-a-copy\n",
      "  most_suiting.iloc[-1] = [own_tags,'image','image','5',own_tags,'1',image_topic]\n"
     ]
    },
    {
     "data": {
      "text/html": [
       "<div>\n",
       "<style scoped>\n",
       "    .dataframe tbody tr th:only-of-type {\n",
       "        vertical-align: middle;\n",
       "    }\n",
       "\n",
       "    .dataframe tbody tr th {\n",
       "        vertical-align: top;\n",
       "    }\n",
       "\n",
       "    .dataframe thead th {\n",
       "        text-align: right;\n",
       "    }\n",
       "</style>\n",
       "<table border=\"1\" class=\"dataframe\">\n",
       "  <thead>\n",
       "    <tr style=\"text-align: right;\">\n",
       "      <th></th>\n",
       "      <th>quote</th>\n",
       "      <th>author</th>\n",
       "      <th>category</th>\n",
       "      <th>quotes_length</th>\n",
       "      <th>list_tags</th>\n",
       "      <th>count_tags</th>\n",
       "      <th>topic</th>\n",
       "    </tr>\n",
       "  </thead>\n",
       "  <tbody>\n",
       "    <tr>\n",
       "      <th>156650</th>\n",
       "      <td>Sasha's green eyes were right up against yours...</td>\n",
       "      <td>Jennifer Egan, A Visit from the Goon Squad</td>\n",
       "      <td>coping, living, survival</td>\n",
       "      <td>77</td>\n",
       "      <td>coping  survival  living</td>\n",
       "      <td>3.0</td>\n",
       "      <td>1</td>\n",
       "    </tr>\n",
       "    <tr>\n",
       "      <th>156651</th>\n",
       "      <td>The harassed look is that of a desperately tir...</td>\n",
       "      <td>Christopher Isherwood, A Single Man</td>\n",
       "      <td>dying, living</td>\n",
       "      <td>96</td>\n",
       "      <td>dying  living</td>\n",
       "      <td>2.0</td>\n",
       "      <td>4</td>\n",
       "    </tr>\n",
       "    <tr>\n",
       "      <th>156652</th>\n",
       "      <td>…In this way that he sought to control the ver...</td>\n",
       "      <td>Jesse Ball, The Curfew</td>\n",
       "      <td>life, living, mindfulness</td>\n",
       "      <td>39</td>\n",
       "      <td>mindfulness life  living</td>\n",
       "      <td>3.0</td>\n",
       "      <td>2</td>\n",
       "    </tr>\n",
       "    <tr>\n",
       "      <th>156653</th>\n",
       "      <td>No matter how we choose to live, we both die a...</td>\n",
       "      <td>Adam Silvera, They Both Die at the End</td>\n",
       "      <td>death, living</td>\n",
       "      <td>13</td>\n",
       "      <td>death  living</td>\n",
       "      <td>2.0</td>\n",
       "      <td>4</td>\n",
       "    </tr>\n",
       "    <tr>\n",
       "      <th>156654</th>\n",
       "      <td>yellow, face, selfie, me, Paris</td>\n",
       "      <td>image</td>\n",
       "      <td>image</td>\n",
       "      <td>5</td>\n",
       "      <td>yellow, face, selfie, me, Paris</td>\n",
       "      <td>1</td>\n",
       "      <td>3</td>\n",
       "    </tr>\n",
       "  </tbody>\n",
       "</table>\n",
       "</div>"
      ],
      "text/plain": [
       "                                                    quote  \\\n",
       "156650  Sasha's green eyes were right up against yours...   \n",
       "156651  The harassed look is that of a desperately tir...   \n",
       "156652  …In this way that he sought to control the ver...   \n",
       "156653  No matter how we choose to live, we both die a...   \n",
       "156654                    yellow, face, selfie, me, Paris   \n",
       "\n",
       "                                            author                   category  \\\n",
       "156650  Jennifer Egan, A Visit from the Goon Squad   coping, living, survival   \n",
       "156651         Christopher Isherwood, A Single Man              dying, living   \n",
       "156652                      Jesse Ball, The Curfew  life, living, mindfulness   \n",
       "156653      Adam Silvera, They Both Die at the End              death, living   \n",
       "156654                                       image                      image   \n",
       "\n",
       "       quotes_length                        list_tags count_tags topic  \n",
       "156650            77         coping  survival  living        3.0     1  \n",
       "156651            96                    dying  living        2.0     4  \n",
       "156652            39         mindfulness life  living        3.0     2  \n",
       "156653            13                    death  living        2.0     4  \n",
       "156654             5  yellow, face, selfie, me, Paris          1     3  "
      ]
     },
     "execution_count": 21,
     "metadata": {},
     "output_type": "execute_result"
    }
   ],
   "source": [
    "most_suiting = quotes[quotes.topic != image_topic]\n",
    "own_tags = input(\"Please give me 5 words that are descriptive of your picture:\")\n",
    "most_suiting.iloc[-1] = [own_tags,'image','image','5',own_tags,'1',image_topic]\n",
    "most_suiting.tail()"
   ]
  },
  {
   "cell_type": "code",
   "execution_count": 22,
   "id": "3e438cb9",
   "metadata": {},
   "outputs": [
    {
     "data": {
      "text/html": [
       "<div>\n",
       "<style scoped>\n",
       "    .dataframe tbody tr th:only-of-type {\n",
       "        vertical-align: middle;\n",
       "    }\n",
       "\n",
       "    .dataframe tbody tr th {\n",
       "        vertical-align: top;\n",
       "    }\n",
       "\n",
       "    .dataframe thead th {\n",
       "        text-align: right;\n",
       "    }\n",
       "</style>\n",
       "<table border=\"1\" class=\"dataframe\">\n",
       "  <thead>\n",
       "    <tr style=\"text-align: right;\">\n",
       "      <th></th>\n",
       "      <th>quote</th>\n",
       "      <th>author</th>\n",
       "    </tr>\n",
       "  </thead>\n",
       "  <tbody>\n",
       "    <tr>\n",
       "      <th>5</th>\n",
       "      <td>Establishing lasting peace is the work of educ...</td>\n",
       "      <td>all politics can do is keep us out of war.</td>\n",
       "    </tr>\n",
       "  </tbody>\n",
       "</table>\n",
       "</div>"
      ],
      "text/plain": [
       "                                               quote  \\\n",
       "5  Establishing lasting peace is the work of educ...   \n",
       "\n",
       "                                        author  \n",
       "5   all politics can do is keep us out of war.  "
      ]
     },
     "execution_count": 22,
     "metadata": {},
     "output_type": "execute_result"
    }
   ],
   "source": [
    "tfidf_weight = vectorizer.fit_transform(most_suiting['list_tags'].values.astype('U'))\n",
    "nn_euc = NearestNeighbors(metric = 'euclidean')\n",
    "nn_euc.fit(tfidf_weight)\n",
    "image_index = -1\n",
    "euc, indices = nn_euc.kneighbors(tfidf_weight[image_index], n_neighbors = 100)\n",
    "neighbors_euc = pd.DataFrame({'euc': euc.flatten(), 'id': indices.flatten()})\n",
    "result_most_s = (only_topic.merge(neighbors_euc, right_on = 'id', left_index = True).\n",
    "                sort_values('euc')[['quote', 'author']]).head(1)\n",
    "\n",
    "result_most_s"
   ]
  },
  {
   "cell_type": "code",
   "execution_count": null,
   "id": "1c5d410e",
   "metadata": {},
   "outputs": [],
   "source": []
  }
 ],
 "metadata": {
  "kernelspec": {
   "display_name": "Python 3 (ipykernel)",
   "language": "python",
   "name": "python3"
  },
  "language_info": {
   "codemirror_mode": {
    "name": "ipython",
    "version": 3
   },
   "file_extension": ".py",
   "mimetype": "text/x-python",
   "name": "python",
   "nbconvert_exporter": "python",
   "pygments_lexer": "ipython3",
   "version": "3.8.12"
  },
  "toc": {
   "base_numbering": 1,
   "nav_menu": {},
   "number_sections": true,
   "sideBar": true,
   "skip_h1_title": false,
   "title_cell": "Table of Contents",
   "title_sidebar": "Contents",
   "toc_cell": false,
   "toc_position": {},
   "toc_section_display": true,
   "toc_window_display": false
  }
 },
 "nbformat": 4,
 "nbformat_minor": 5
}
