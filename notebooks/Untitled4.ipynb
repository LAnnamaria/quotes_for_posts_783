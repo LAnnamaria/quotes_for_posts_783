{
 "cells": [
  {
   "cell_type": "code",
   "execution_count": 1,
   "id": "1b406bb1",
   "metadata": {
    "scrolled": true
   },
   "outputs": [
    {
     "name": "stderr",
     "output_type": "stream",
     "text": [
      "2022-03-10 12:46:04.530972: W tensorflow/stream_executor/platform/default/dso_loader.cc:64] Could not load dynamic library 'libcudart.so.11.0'; dlerror: libcudart.so.11.0: cannot open shared object file: No such file or directory\n",
      "2022-03-10 12:46:04.531633: I tensorflow/stream_executor/cuda/cudart_stub.cc:29] Ignore above cudart dlerror if you do not have a GPU set up on your machine.\n"
     ]
    }
   ],
   "source": [
    "import quotes_for_posts_783.trainer_get_quotes as tgq"
   ]
  },
  {
   "cell_type": "code",
   "execution_count": 11,
   "id": "1ecda29e",
   "metadata": {},
   "outputs": [
    {
     "data": {
      "text/plain": [
       "'/home/morad/code/LAnnamaria/quotes_for_posts_783/notebooks'"
      ]
     },
     "execution_count": 11,
     "metadata": {},
     "output_type": "execute_result"
    }
   ],
   "source": [
    "pwd"
   ]
  },
  {
   "cell_type": "code",
   "execution_count": 12,
   "id": "7e39e793",
   "metadata": {},
   "outputs": [
    {
     "name": "stdout",
     "output_type": "stream",
     "text": [
      "/home/morad/code/LAnnamaria/quotes_for_posts_783\n"
     ]
    }
   ],
   "source": [
    "cd .."
   ]
  },
  {
   "cell_type": "code",
   "execution_count": null,
   "id": "ec78dd15",
   "metadata": {},
   "outputs": [],
   "source": []
  },
  {
   "cell_type": "code",
   "execution_count": 2,
   "id": "728979ad",
   "metadata": {},
   "outputs": [],
   "source": [
    "cap = 'It will be added from Mohana´s'\n",
    "quotes = tgq.clean_data(cap)"
   ]
  },
  {
   "cell_type": "code",
   "execution_count": 3,
   "id": "80631cd2",
   "metadata": {},
   "outputs": [
    {
     "data": {
      "text/plain": [
       "'/home/morad/code/LAnnamaria/quotes_for_posts_783/notebooks'"
      ]
     },
     "execution_count": 3,
     "metadata": {},
     "output_type": "execute_result"
    }
   ],
   "source": [
    "pwd"
   ]
  },
  {
   "cell_type": "code",
   "execution_count": 4,
   "id": "df3ee870",
   "metadata": {},
   "outputs": [
    {
     "name": "stdout",
     "output_type": "stream",
     "text": [
      "/home/morad/code/LAnnamaria/quotes_for_posts_783\n"
     ]
    }
   ],
   "source": [
    "cd .."
   ]
  },
  {
   "cell_type": "code",
   "execution_count": 5,
   "id": "417d4049",
   "metadata": {},
   "outputs": [],
   "source": [
    "trainer = tgq.GetQuote(quotes)\n",
    "#quotess = trainer.run()"
   ]
  },
  {
   "cell_type": "code",
   "execution_count": 6,
   "id": "3adf2342",
   "metadata": {},
   "outputs": [],
   "source": [
    "quotess = trainer.run()"
   ]
  },
  {
   "cell_type": "code",
   "execution_count": 7,
   "id": "229eb64d",
   "metadata": {},
   "outputs": [
    {
     "ename": "TypeError",
     "evalue": "'Pipeline' object is not callable",
     "output_type": "error",
     "traceback": [
      "\u001b[0;31m---------------------------------------------------------------------------\u001b[0m",
      "\u001b[0;31mTypeError\u001b[0m                                 Traceback (most recent call last)",
      "\u001b[1;32m/home/morad/code/LAnnamaria/quotes_for_posts_783/notebooks/Untitled4.ipynb Cell 10'\u001b[0m in \u001b[0;36m<cell line: 1>\u001b[0;34m()\u001b[0m\n\u001b[0;32m----> <a href='vscode-notebook-cell://wsl%2Bubuntu/home/morad/code/LAnnamaria/quotes_for_posts_783/notebooks/Untitled4.ipynb#ch0000009vscode-remote?line=0'>1</a>\u001b[0m trainer\u001b[39m.\u001b[39;49mtop5(quotess)\n",
      "\u001b[0;31mTypeError\u001b[0m: 'Pipeline' object is not callable"
     ]
    }
   ],
   "source": [
    "trainer.top5(quotess)"
   ]
  }
 ],
 "metadata": {
  "kernelspec": {
   "display_name": "Python 3 (ipykernel)",
   "language": "python",
   "name": "python3"
  },
  "language_info": {
   "codemirror_mode": {
    "name": "ipython",
    "version": 3
   },
   "file_extension": ".py",
   "mimetype": "text/x-python",
   "name": "python",
   "nbconvert_exporter": "python",
   "pygments_lexer": "ipython3",
   "version": "3.8.12"
  },
  "toc": {
   "base_numbering": 1,
   "nav_menu": {},
   "number_sections": true,
   "sideBar": true,
   "skip_h1_title": false,
   "title_cell": "Table of Contents",
   "title_sidebar": "Contents",
   "toc_cell": false,
   "toc_position": {},
   "toc_section_display": true,
   "toc_window_display": false
  }
 },
 "nbformat": 4,
 "nbformat_minor": 5
}
