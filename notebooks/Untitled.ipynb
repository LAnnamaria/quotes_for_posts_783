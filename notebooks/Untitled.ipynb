{
 "cells": [
  {
   "cell_type": "code",
   "execution_count": 1,
   "id": "01f263c2",
   "metadata": {},
   "outputs": [
    {
     "name": "stderr",
     "output_type": "stream",
     "text": [
      "2022-03-07 16:00:23.537356: W tensorflow/stream_executor/platform/default/dso_loader.cc:64] Could not load dynamic library 'libcudart.so.11.0'; dlerror: libcudart.so.11.0: cannot open shared object file: No such file or directory; LD_LIBRARY_PATH: /home/morad/.pyenv/versions/3.8.12/envs/quotes_for_posts_783/lib/python3.8/site-packages/cv2/../../lib64:\n",
      "2022-03-07 16:00:23.537466: I tensorflow/stream_executor/cuda/cudart_stub.cc:29] Ignore above cudart dlerror if you do not have a GPU set up on your machine.\n"
     ]
    }
   ],
   "source": [
    "import pandas as pd\n",
    "import numpy as np\n",
    "import matplotlib.pyplot as plt\n",
    "import matplotlib.image as mpimg\n",
    "import cv2\n",
    "import tensorflow as tf\n",
    "from sklearn.cluster import AgglomerativeClustering"
   ]
  },
  {
   "cell_type": "code",
   "execution_count": 2,
   "id": "19b3a98d",
   "metadata": {},
   "outputs": [],
   "source": [
    "df = pd.read_csv('../raw_data/images_name.csv')"
   ]
  },
  {
   "cell_type": "code",
   "execution_count": 3,
   "id": "78cbcc5b",
   "metadata": {},
   "outputs": [
    {
     "data": {
      "text/html": [
       "<div>\n",
       "<style scoped>\n",
       "    .dataframe tbody tr th:only-of-type {\n",
       "        vertical-align: middle;\n",
       "    }\n",
       "\n",
       "    .dataframe tbody tr th {\n",
       "        vertical-align: top;\n",
       "    }\n",
       "\n",
       "    .dataframe thead th {\n",
       "        text-align: right;\n",
       "    }\n",
       "</style>\n",
       "<table border=\"1\" class=\"dataframe\">\n",
       "  <thead>\n",
       "    <tr style=\"text-align: right;\">\n",
       "      <th></th>\n",
       "      <th>image_name</th>\n",
       "      <th>longest_comment</th>\n",
       "      <th>comments_5</th>\n",
       "    </tr>\n",
       "  </thead>\n",
       "  <tbody>\n",
       "    <tr>\n",
       "      <th>0</th>\n",
       "      <td>1000092795</td>\n",
       "      <td>Two young guys with shaggy hair look at their...</td>\n",
       "      <td>0    | Two young guys with shaggy hair look at...</td>\n",
       "    </tr>\n",
       "    <tr>\n",
       "      <th>1</th>\n",
       "      <td>10002456</td>\n",
       "      <td>Several men in hard hats are operating a giant...</td>\n",
       "      <td>5    Several men in hard hats are operating a ...</td>\n",
       "    </tr>\n",
       "    <tr>\n",
       "      <th>2</th>\n",
       "      <td>1000268201</td>\n",
       "      <td>A child in a pink dress is climbing up a set ...</td>\n",
       "      <td>10    | A child in a pink dress is climbing up...</td>\n",
       "    </tr>\n",
       "    <tr>\n",
       "      <th>3</th>\n",
       "      <td>1000344755</td>\n",
       "      <td>Someone in a blue shirt and hat is standing o...</td>\n",
       "      <td>15    | Someone in a blue shirt and hat is sta...</td>\n",
       "    </tr>\n",
       "    <tr>\n",
       "      <th>4</th>\n",
       "      <td>1000366164</td>\n",
       "      <td>Two men , one in a gray shirt , one in a blac...</td>\n",
       "      <td>20    | Two men , one in a gray shirt , one in...</td>\n",
       "    </tr>\n",
       "  </tbody>\n",
       "</table>\n",
       "</div>"
      ],
      "text/plain": [
       "   image_name                                    longest_comment  \\\n",
       "0  1000092795   Two young guys with shaggy hair look at their...   \n",
       "1    10002456  Several men in hard hats are operating a giant...   \n",
       "2  1000268201   A child in a pink dress is climbing up a set ...   \n",
       "3  1000344755   Someone in a blue shirt and hat is standing o...   \n",
       "4  1000366164   Two men , one in a gray shirt , one in a blac...   \n",
       "\n",
       "                                          comments_5  \n",
       "0  0    | Two young guys with shaggy hair look at...  \n",
       "1  5    Several men in hard hats are operating a ...  \n",
       "2  10    | A child in a pink dress is climbing up...  \n",
       "3  15    | Someone in a blue shirt and hat is sta...  \n",
       "4  20    | Two men , one in a gray shirt , one in...  "
      ]
     },
     "execution_count": 3,
     "metadata": {},
     "output_type": "execute_result"
    }
   ],
   "source": [
    "df.head()"
   ]
  },
  {
   "cell_type": "code",
   "execution_count": 7,
   "id": "bf9609fa",
   "metadata": {},
   "outputs": [],
   "source": [
    "import os\n",
    "os.rename('../raw_data/images_name.csv','../raw_data/images_name.txt')"
   ]
  },
  {
   "cell_type": "code",
   "execution_count": null,
   "id": "4139da8e",
   "metadata": {},
   "outputs": [],
   "source": [
    "data = {\n",
    "    'flattenPhoto' : [],\n",
    "    'photoclass' : [],\n",
    "    'photoclasskmeans' : [],\n",
    "    'image_name' : []\n",
    "    }"
   ]
  },
  {
   "cell_type": "code",
   "execution_count": null,
   "id": "5525177e",
   "metadata": {},
   "outputs": [],
   "source": [
    "MyModel = tf.keras.models.Sequential()\n",
    "MyModel.add(tf.keras.applications.ResNet50(\n",
    "    #include_top = True, weights=None,pooling=None,classes = 5, classifier_activation = 'softmax'\n",
    "    include_top = False, weights='imagenet',    pooling='avg',\n",
    "))\n",
    "MyModel.layers[0].trainable = False"
   ]
  },
  {
   "cell_type": "code",
   "execution_count": null,
   "id": "42ce8ff0",
   "metadata": {},
   "outputs": [],
   "source": [
    "def LoadDataAndDoEssentials(path, h, w):\n",
    "    img = mpimg.imread(path)\n",
    "    img = cv2.resize(img, (h, w))\n",
    "    ## Expanding image dims so this represents 1 sample\n",
    "    img = np.expand_dims(img, 0)\n",
    "    img = tf.keras.applications.resnet50.preprocess_input(img)\n",
    "    extractedFeatures = MyModel.predict(img)\n",
    "    classes_x=np.argmax(extractedFeatures,axis=1)[0]\n",
    "    extractedFeatures = np.array(extractedFeatures)\n",
    "    data['photoclass'].append(classes_x)\n",
    "    data['flattenPhoto'].append(extractedFeatures.flatten())"
   ]
  },
  {
   "cell_type": "code",
   "execution_count": null,
   "id": "e8f4a775",
   "metadata": {},
   "outputs": [],
   "source": [
    "def ReadAndStoreMyImages(path):\n",
    "    for i in images:\n",
    "        imagePath = f\"{path}/{i}.jpg\"\n",
    "        data['image_name'].append(i)\n",
    "        LoadDataAndDoEssentials(imagePath, 224, 224)"
   ]
  },
  {
   "cell_type": "code",
   "execution_count": null,
   "id": "a7c1f243",
   "metadata": {},
   "outputs": [],
   "source": [
    "ReadAndStoreMyImages('image_dataset')"
   ]
  },
  {
   "cell_type": "code",
   "execution_count": null,
   "id": "d8ff2e7d",
   "metadata": {},
   "outputs": [],
   "source": [
    "Training_Feature_vector = np.array(data['flattenPhoto'], dtype = 'float64')\n",
    "kmeans = AgglomerativeClustering(n_clusters = 5)\n",
    "k = kmeans.fit_predict(Training_Feature_vector)\n",
    "data['photoclasskmeans'] = k"
   ]
  },
  {
   "cell_type": "code",
   "execution_count": null,
   "id": "1943bff1",
   "metadata": {},
   "outputs": [],
   "source": [
    "data = pd.DataFrame(data)\n",
    "data = data.sort_values('photoclass').reset_index()"
   ]
  },
  {
   "cell_type": "code",
   "execution_count": null,
   "id": "86244f4f",
   "metadata": {},
   "outputs": [],
   "source": [
    "g_im = data.groupby('photoclasskmeans')\n",
    "g_im = pd.DataFrame(g_im)"
   ]
  },
  {
   "cell_type": "code",
   "execution_count": null,
   "id": "4d3e3fae",
   "metadata": {},
   "outputs": [],
   "source": [
    "for i in range(5):\n",
    "    if i == 0:\n",
    "    img_0 = list(g_im[1][i]['image_name'])\n",
    "    if i == 1:\n",
    "    img_1 = list(g_im[1][i]['image_name'])\n",
    "    if i == 2:\n",
    "    img_2 = list(g_im[1][i]['image_name'])\n",
    "    if i == 3:\n",
    "    img_3 = list(g_im[1][i]['image_name'])\n",
    "    if i == 4:\n",
    "    img_4 = list(g_im[1][i]['image_name'])"
   ]
  }
 ],
 "metadata": {
  "kernelspec": {
   "display_name": "Python 3 (ipykernel)",
   "language": "python",
   "name": "python3"
  },
  "language_info": {
   "codemirror_mode": {
    "name": "ipython",
    "version": 3
   },
   "file_extension": ".py",
   "mimetype": "text/x-python",
   "name": "python",
   "nbconvert_exporter": "python",
   "pygments_lexer": "ipython3",
   "version": "3.8.12"
  },
  "toc": {
   "base_numbering": 1,
   "nav_menu": {},
   "number_sections": true,
   "sideBar": true,
   "skip_h1_title": false,
   "title_cell": "Table of Contents",
   "title_sidebar": "Contents",
   "toc_cell": false,
   "toc_position": {},
   "toc_section_display": true,
   "toc_window_display": false
  }
 },
 "nbformat": 4,
 "nbformat_minor": 5
}
