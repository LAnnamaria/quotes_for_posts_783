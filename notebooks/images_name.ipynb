{
 "cells": [
  {
   "cell_type": "code",
   "execution_count": 1,
   "id": "fe38000e",
   "metadata": {},
   "outputs": [],
   "source": [
    "import pandas as pd\n",
    "import numpy as np"
   ]
  },
  {
   "cell_type": "code",
   "execution_count": 2,
   "id": "250a4758",
   "metadata": {},
   "outputs": [],
   "source": [
    "df_im = pd.read_fwf('../raw_data/images.csv')"
   ]
  },
  {
   "cell_type": "code",
   "execution_count": 3,
   "id": "4f86311f",
   "metadata": {},
   "outputs": [
    {
     "data": {
      "text/plain": [
       "'1000092795.jpg| 1| Two young , White males are outside near many bushes .'"
      ]
     },
     "execution_count": 3,
     "metadata": {},
     "output_type": "execute_result"
    }
   ],
   "source": [
    "df_im['image_name| comment_number| comment'][1]"
   ]
  },
  {
   "cell_type": "code",
   "execution_count": 4,
   "id": "b267d717",
   "metadata": {},
   "outputs": [
    {
     "data": {
      "text/plain": [
       "' Two young guys with shaggy hair look at their hands while hanging out in the yard .'"
      ]
     },
     "execution_count": 4,
     "metadata": {},
     "output_type": "execute_result"
    }
   ],
   "source": [
    "df_im['image_name| comment_number| comment'][0][18:]"
   ]
  },
  {
   "cell_type": "code",
   "execution_count": 5,
   "id": "37a017ed",
   "metadata": {},
   "outputs": [],
   "source": [
    "df_im['image_name'] = df_im['image_name| comment_number| comment'].apply(lambda x: x[:14])"
   ]
  },
  {
   "cell_type": "code",
   "execution_count": 6,
   "id": "9161ae8e",
   "metadata": {},
   "outputs": [],
   "source": [
    "df_im['comment_number'] = df_im['image_name| comment_number| comment'].apply(lambda x: x[16:17])"
   ]
  },
  {
   "cell_type": "code",
   "execution_count": 7,
   "id": "2bcb52b2",
   "metadata": {},
   "outputs": [],
   "source": [
    "df_im['comment'] = df_im['image_name| comment_number| comment'].apply(lambda x: x[17:])"
   ]
  },
  {
   "cell_type": "code",
   "execution_count": 8,
   "id": "33777d50",
   "metadata": {
    "scrolled": true
   },
   "outputs": [
    {
     "data": {
      "text/plain": [
       "str"
      ]
     },
     "execution_count": 8,
     "metadata": {},
     "output_type": "execute_result"
    }
   ],
   "source": [
    "type(df_im.image_name[0])"
   ]
  },
  {
   "cell_type": "code",
   "execution_count": 9,
   "id": "038767b9",
   "metadata": {},
   "outputs": [
    {
     "data": {
      "text/html": [
       "<div>\n",
       "<style scoped>\n",
       "    .dataframe tbody tr th:only-of-type {\n",
       "        vertical-align: middle;\n",
       "    }\n",
       "\n",
       "    .dataframe tbody tr th {\n",
       "        vertical-align: top;\n",
       "    }\n",
       "\n",
       "    .dataframe thead th {\n",
       "        text-align: right;\n",
       "    }\n",
       "</style>\n",
       "<table border=\"1\" class=\"dataframe\">\n",
       "  <thead>\n",
       "    <tr style=\"text-align: right;\">\n",
       "      <th></th>\n",
       "      <th>image_name| comment_number| comment</th>\n",
       "      <th>Unnamed: 1</th>\n",
       "      <th>image_name</th>\n",
       "      <th>comment_number</th>\n",
       "      <th>comment</th>\n",
       "    </tr>\n",
       "  </thead>\n",
       "  <tbody>\n",
       "    <tr>\n",
       "      <th>0</th>\n",
       "      <td>1000092795.jpg| 0| Two young guys with shaggy ...</td>\n",
       "      <td>NaN</td>\n",
       "      <td>1000092795.jpg</td>\n",
       "      <td>0</td>\n",
       "      <td>| Two young guys with shaggy hair look at thei...</td>\n",
       "    </tr>\n",
       "    <tr>\n",
       "      <th>1</th>\n",
       "      <td>1000092795.jpg| 1| Two young , White males are...</td>\n",
       "      <td>NaN</td>\n",
       "      <td>1000092795.jpg</td>\n",
       "      <td>1</td>\n",
       "      <td>| Two young , White males are outside near man...</td>\n",
       "    </tr>\n",
       "    <tr>\n",
       "      <th>2</th>\n",
       "      <td>1000092795.jpg| 2| Two men in green shirts are...</td>\n",
       "      <td>NaN</td>\n",
       "      <td>1000092795.jpg</td>\n",
       "      <td>2</td>\n",
       "      <td>| Two men in green shirts are standing in a ya...</td>\n",
       "    </tr>\n",
       "    <tr>\n",
       "      <th>3</th>\n",
       "      <td>1000092795.jpg| 3| A man in a blue shirt stand...</td>\n",
       "      <td>NaN</td>\n",
       "      <td>1000092795.jpg</td>\n",
       "      <td>3</td>\n",
       "      <td>| A man in a blue shirt standing in a garden .</td>\n",
       "    </tr>\n",
       "    <tr>\n",
       "      <th>4</th>\n",
       "      <td>1000092795.jpg| 4| Two friends enjoy time spen...</td>\n",
       "      <td>NaN</td>\n",
       "      <td>1000092795.jpg</td>\n",
       "      <td>4</td>\n",
       "      <td>| Two friends enjoy time spent together .</td>\n",
       "    </tr>\n",
       "    <tr>\n",
       "      <th>5</th>\n",
       "      <td>10002456.jpg| 0| Several men in hard hats are ...</td>\n",
       "      <td>NaN</td>\n",
       "      <td>10002456.jpg|</td>\n",
       "      <td></td>\n",
       "      <td>Several men in hard hats are operating a giant...</td>\n",
       "    </tr>\n",
       "  </tbody>\n",
       "</table>\n",
       "</div>"
      ],
      "text/plain": [
       "                 image_name| comment_number| comment Unnamed: 1  \\\n",
       "0  1000092795.jpg| 0| Two young guys with shaggy ...        NaN   \n",
       "1  1000092795.jpg| 1| Two young , White males are...        NaN   \n",
       "2  1000092795.jpg| 2| Two men in green shirts are...        NaN   \n",
       "3  1000092795.jpg| 3| A man in a blue shirt stand...        NaN   \n",
       "4  1000092795.jpg| 4| Two friends enjoy time spen...        NaN   \n",
       "5  10002456.jpg| 0| Several men in hard hats are ...        NaN   \n",
       "\n",
       "       image_name comment_number  \\\n",
       "0  1000092795.jpg              0   \n",
       "1  1000092795.jpg              1   \n",
       "2  1000092795.jpg              2   \n",
       "3  1000092795.jpg              3   \n",
       "4  1000092795.jpg              4   \n",
       "5  10002456.jpg|                   \n",
       "\n",
       "                                             comment  \n",
       "0  | Two young guys with shaggy hair look at thei...  \n",
       "1  | Two young , White males are outside near man...  \n",
       "2  | Two men in green shirts are standing in a ya...  \n",
       "3     | A man in a blue shirt standing in a garden .  \n",
       "4          | Two friends enjoy time spent together .  \n",
       "5  Several men in hard hats are operating a giant...  "
      ]
     },
     "execution_count": 9,
     "metadata": {},
     "output_type": "execute_result"
    }
   ],
   "source": [
    "df_im.head(6)"
   ]
  },
  {
   "cell_type": "code",
   "execution_count": 10,
   "id": "ffbf15a2",
   "metadata": {},
   "outputs": [
    {
     "data": {
      "text/plain": [
       "array(['1000092795.jpg', '10002456.jpg| ', '1000268201.jpg', ...,\n",
       "       '997876722.jpg|', '99804383.jpg| ', '998845445.jpg|'], dtype=object)"
      ]
     },
     "execution_count": 10,
     "metadata": {},
     "output_type": "execute_result"
    }
   ],
   "source": [
    "df_im['image_name'].unique()"
   ]
  },
  {
   "cell_type": "code",
   "execution_count": 11,
   "id": "77002fdf",
   "metadata": {},
   "outputs": [],
   "source": [
    "df = df_im['image_name'].unique()\n",
    "df = pd.DataFrame(df)"
   ]
  },
  {
   "cell_type": "code",
   "execution_count": 12,
   "id": "455ce87b",
   "metadata": {},
   "outputs": [],
   "source": [
    "data = df_im.groupby('image_name')\n",
    "data = pd.DataFrame(data)"
   ]
  },
  {
   "cell_type": "code",
   "execution_count": 13,
   "id": "d588f52b",
   "metadata": {},
   "outputs": [
    {
     "data": {
      "text/plain": [
       "32535"
      ]
     },
     "execution_count": 13,
     "metadata": {},
     "output_type": "execute_result"
    }
   ],
   "source": [
    "df.shape[0]"
   ]
  },
  {
   "cell_type": "code",
   "execution_count": 14,
   "id": "1b6069be",
   "metadata": {},
   "outputs": [
    {
     "data": {
      "text/plain": [
       "'| A girl going into a wooden building .'"
      ]
     },
     "execution_count": 14,
     "metadata": {},
     "output_type": "execute_result"
    }
   ],
   "source": [
    "data[1][2]['comment'][9+5]"
   ]
  },
  {
   "cell_type": "code",
   "execution_count": 15,
   "id": "4194447b",
   "metadata": {},
   "outputs": [],
   "source": [
    "longest_comment = []\n",
    "for i in range(df.shape[0]):\n",
    "    longest_comment.append(max(data[1][i]['comment'], key=len))"
   ]
  },
  {
   "cell_type": "code",
   "execution_count": 16,
   "id": "c171ed06",
   "metadata": {},
   "outputs": [],
   "source": [
    "comments_5 = []\n",
    "for i in range(df.shape[0]):\n",
    "    comments_5.append(data[1][i]['comment'])\n"
   ]
  },
  {
   "cell_type": "code",
   "execution_count": 17,
   "id": "f68393f9",
   "metadata": {},
   "outputs": [
    {
     "data": {
      "text/plain": [
       "\"comment = []\\n        comment.append(data[1][i]['comment'][c])\\n        comments_5.append(comment)\\n\""
      ]
     },
     "execution_count": 17,
     "metadata": {},
     "output_type": "execute_result"
    }
   ],
   "source": [
    "'''comment = []\n",
    "        comment.append(data[1][i]['comment'][c])\n",
    "        comments_5.append(comment)\n",
    "'''"
   ]
  },
  {
   "cell_type": "code",
   "execution_count": 18,
   "id": "4515c49e",
   "metadata": {},
   "outputs": [],
   "source": [
    "df['longest_comment']= np.array(longest_comment)\n",
    "df['comments_5']= np.array(comments_5)"
   ]
  },
  {
   "cell_type": "code",
   "execution_count": 19,
   "id": "3509f107",
   "metadata": {},
   "outputs": [],
   "source": [
    "df = df.rename(\n",
    "    columns={0:\"image_name\"})"
   ]
  },
  {
   "cell_type": "code",
   "execution_count": 20,
   "id": "2ffc4d79",
   "metadata": {},
   "outputs": [
    {
     "data": {
      "text/html": [
       "<div>\n",
       "<style scoped>\n",
       "    .dataframe tbody tr th:only-of-type {\n",
       "        vertical-align: middle;\n",
       "    }\n",
       "\n",
       "    .dataframe tbody tr th {\n",
       "        vertical-align: top;\n",
       "    }\n",
       "\n",
       "    .dataframe thead th {\n",
       "        text-align: right;\n",
       "    }\n",
       "</style>\n",
       "<table border=\"1\" class=\"dataframe\">\n",
       "  <thead>\n",
       "    <tr style=\"text-align: right;\">\n",
       "      <th></th>\n",
       "      <th>image_name</th>\n",
       "      <th>longest_comment</th>\n",
       "      <th>comments_5</th>\n",
       "    </tr>\n",
       "  </thead>\n",
       "  <tbody>\n",
       "    <tr>\n",
       "      <th>0</th>\n",
       "      <td>1000092795.jpg</td>\n",
       "      <td>| Two young guys with shaggy hair look at thei...</td>\n",
       "      <td>0    | Two young guys with shaggy hair look at...</td>\n",
       "    </tr>\n",
       "    <tr>\n",
       "      <th>1</th>\n",
       "      <td>10002456.jpg|</td>\n",
       "      <td>Several men in hard hats are operating a giant...</td>\n",
       "      <td>5    Several men in hard hats are operating a ...</td>\n",
       "    </tr>\n",
       "    <tr>\n",
       "      <th>2</th>\n",
       "      <td>1000268201.jpg</td>\n",
       "      <td>| A child in a pink dress is climbing up a set...</td>\n",
       "      <td>10    | A child in a pink dress is climbing up...</td>\n",
       "    </tr>\n",
       "    <tr>\n",
       "      <th>3</th>\n",
       "      <td>1000344755.jpg</td>\n",
       "      <td>| Someone in a blue shirt and hat is standing ...</td>\n",
       "      <td>15    | Someone in a blue shirt and hat is sta...</td>\n",
       "    </tr>\n",
       "    <tr>\n",
       "      <th>4</th>\n",
       "      <td>1000366164.jpg</td>\n",
       "      <td>| Two men , one in a gray shirt , one in a bla...</td>\n",
       "      <td>20    | Two men , one in a gray shirt , one in...</td>\n",
       "    </tr>\n",
       "    <tr>\n",
       "      <th>...</th>\n",
       "      <td>...</td>\n",
       "      <td>...</td>\n",
       "      <td>...</td>\n",
       "    </tr>\n",
       "    <tr>\n",
       "      <th>32530</th>\n",
       "      <td>997338199.jpg|</td>\n",
       "      <td>Woman writing on a pad in room with gold , de...</td>\n",
       "      <td>158890     Woman writing on a pad in room with...</td>\n",
       "    </tr>\n",
       "    <tr>\n",
       "      <th>32531</th>\n",
       "      <td>997722733.jpg|</td>\n",
       "      <td>A person in a red shirt climbing up a rock fa...</td>\n",
       "      <td>158895     A person in a red shirt climbing up...</td>\n",
       "    </tr>\n",
       "    <tr>\n",
       "      <th>32532</th>\n",
       "      <td>997876722.jpg|</td>\n",
       "      <td>Two male construction workers are working on ...</td>\n",
       "      <td>158900     Two male construction workers are w...</td>\n",
       "    </tr>\n",
       "    <tr>\n",
       "      <th>32533</th>\n",
       "      <td>99804383.jpg|</td>\n",
       "      <td>An older busker in glasses plays an Eastern st...</td>\n",
       "      <td>158905    An older busker in glasses plays an ...</td>\n",
       "    </tr>\n",
       "    <tr>\n",
       "      <th>32534</th>\n",
       "      <td>998845445.jpg|</td>\n",
       "      <td>A man in shorts and a Hawaiian shirt leans ov...</td>\n",
       "      <td>158910     A man in shorts and a Hawaiian shir...</td>\n",
       "    </tr>\n",
       "  </tbody>\n",
       "</table>\n",
       "<p>32535 rows × 3 columns</p>\n",
       "</div>"
      ],
      "text/plain": [
       "           image_name                                    longest_comment  \\\n",
       "0      1000092795.jpg  | Two young guys with shaggy hair look at thei...   \n",
       "1      10002456.jpg|   Several men in hard hats are operating a giant...   \n",
       "2      1000268201.jpg  | A child in a pink dress is climbing up a set...   \n",
       "3      1000344755.jpg  | Someone in a blue shirt and hat is standing ...   \n",
       "4      1000366164.jpg  | Two men , one in a gray shirt , one in a bla...   \n",
       "...               ...                                                ...   \n",
       "32530  997338199.jpg|   Woman writing on a pad in room with gold , de...   \n",
       "32531  997722733.jpg|   A person in a red shirt climbing up a rock fa...   \n",
       "32532  997876722.jpg|   Two male construction workers are working on ...   \n",
       "32533  99804383.jpg|   An older busker in glasses plays an Eastern st...   \n",
       "32534  998845445.jpg|   A man in shorts and a Hawaiian shirt leans ov...   \n",
       "\n",
       "                                              comments_5  \n",
       "0      0    | Two young guys with shaggy hair look at...  \n",
       "1      5    Several men in hard hats are operating a ...  \n",
       "2      10    | A child in a pink dress is climbing up...  \n",
       "3      15    | Someone in a blue shirt and hat is sta...  \n",
       "4      20    | Two men , one in a gray shirt , one in...  \n",
       "...                                                  ...  \n",
       "32530  158890     Woman writing on a pad in room with...  \n",
       "32531  158895     A person in a red shirt climbing up...  \n",
       "32532  158900     Two male construction workers are w...  \n",
       "32533  158905    An older busker in glasses plays an ...  \n",
       "32534  158910     A man in shorts and a Hawaiian shir...  \n",
       "\n",
       "[32535 rows x 3 columns]"
      ]
     },
     "execution_count": 20,
     "metadata": {},
     "output_type": "execute_result"
    }
   ],
   "source": [
    "df"
   ]
  },
  {
   "cell_type": "code",
   "execution_count": 21,
   "id": "d76f2f7a",
   "metadata": {},
   "outputs": [],
   "source": [
    "df['image_name'] = df['image_name'].str.split('.').map(lambda x: x[0])\n",
    "df['longest_comment'] = df['longest_comment'].apply(lambda x: x.replace('|', '') )\n"
   ]
  },
  {
   "cell_type": "code",
   "execution_count": 22,
   "id": "63024f4c",
   "metadata": {},
   "outputs": [
    {
     "data": {
      "text/plain": [
       "25    | Two people in the photo are playing the guit...\n",
       "26    | A man in green holds a guitar while the othe...\n",
       "27       | A man is fixing the guitar players costume .\n",
       "28           | a guy stitching up another man 's coat .\n",
       "29                        | the two boys playing guitar\n",
       "Name: comment, dtype: object"
      ]
     },
     "execution_count": 22,
     "metadata": {},
     "output_type": "execute_result"
    }
   ],
   "source": [
    "df['comments_5'][5]"
   ]
  },
  {
   "cell_type": "code",
   "execution_count": 23,
   "id": "da766f15",
   "metadata": {},
   "outputs": [],
   "source": [
    "#df['comments_5'] = df['comments_5'].apply(lambda x: x.replace('|', '') )"
   ]
  },
  {
   "cell_type": "code",
   "execution_count": 24,
   "id": "78b84d4e",
   "metadata": {},
   "outputs": [],
   "source": [
    "df.to_csv(\"../raw_data/images_name.csv\",index=False)"
   ]
  }
 ],
 "metadata": {
  "kernelspec": {
   "display_name": "Python 3 (ipykernel)",
   "language": "python",
   "name": "python3"
  },
  "language_info": {
   "codemirror_mode": {
    "name": "ipython",
    "version": 3
   },
   "file_extension": ".py",
   "mimetype": "text/x-python",
   "name": "python",
   "nbconvert_exporter": "python",
   "pygments_lexer": "ipython3",
   "version": "3.8.12"
  },
  "toc": {
   "base_numbering": 1,
   "nav_menu": {},
   "number_sections": true,
   "sideBar": true,
   "skip_h1_title": false,
   "title_cell": "Table of Contents",
   "title_sidebar": "Contents",
   "toc_cell": false,
   "toc_position": {},
   "toc_section_display": true,
   "toc_window_display": false
  }
 },
 "nbformat": 4,
 "nbformat_minor": 5
}
