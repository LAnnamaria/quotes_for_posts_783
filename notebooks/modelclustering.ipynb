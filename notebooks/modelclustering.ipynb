{
  "nbformat": 4,
  "nbformat_minor": 0,
  "metadata": {
    "colab": {
      "name": "modelclustering.ipynb",
      "provenance": []
    },
    "kernelspec": {
      "name": "python3",
      "display_name": "Python 3"
    },
    "language_info": {
      "name": "python"
    }
  },
  "cells": [
    {
      "cell_type": "code",
      "source": [
        "!pip install pillow==4.1.1"
      ],
      "metadata": {
        "colab": {
          "base_uri": "https://localhost:8080/"
        },
        "id": "OWpPh7e_Y1JB",
        "outputId": "5db544ab-2ef0-40f0-f791-630578544432"
      },
      "execution_count": null,
      "outputs": [
        {
          "output_type": "stream",
          "name": "stdout",
          "text": [
            "Requirement already satisfied: pillow==4.1.1 in /usr/local/lib/python3.7/dist-packages (4.1.1)\n",
            "Requirement already satisfied: olefile in /usr/local/lib/python3.7/dist-packages (from pillow==4.1.1) (0.46)\n"
          ]
        }
      ]
    },
    {
      "cell_type": "code",
      "execution_count": null,
      "metadata": {
        "id": "eXr7nOLmYjgf"
      },
      "outputs": [],
      "source": [
        "import pandas as pd\n",
        "import numpy as np\n",
        "import matplotlib.pyplot as plt\n",
        "import matplotlib.image as mpimg\n",
        "import cv2\n",
        "import tensorflow as tf\n",
        "from sklearn.cluster import AgglomerativeClustering"
      ]
    },
    {
      "cell_type": "code",
      "source": [
        "from google.colab import drive\n",
        "drive.mount(\"/content/gdrive\", force_remount=True)"
      ],
      "metadata": {
        "colab": {
          "base_uri": "https://localhost:8080/"
        },
        "id": "otdx0EsIYxln",
        "outputId": "4c66431a-94ff-49b6-c257-46007d3a3b3c"
      },
      "execution_count": null,
      "outputs": [
        {
          "output_type": "stream",
          "name": "stdout",
          "text": [
            "Mounted at /content/gdrive\n"
          ]
        }
      ]
    },
    {
      "cell_type": "code",
      "source": [
        "cd gdrive/MyDrive/ML_project_data/pictures/"
      ],
      "metadata": {
        "colab": {
          "base_uri": "https://localhost:8080/"
        },
        "id": "3HCpcd5FY4Tx",
        "outputId": "483cc7a4-144a-45d1-d17c-a37f1e770228"
      },
      "execution_count": null,
      "outputs": [
        {
          "output_type": "stream",
          "name": "stdout",
          "text": [
            "/content/gdrive/.shortcut-targets-by-id/1Pq6YAd5542Bw36m_pWOnZiNxfcJ5vdDS/ML_project_data/pictures\n"
          ]
        }
      ]
    },
    {
      "cell_type": "code",
      "source": [
        "from google.colab import auth\n",
        "auth.authenticate_user()\n",
        "import gspread\n",
        "from google.auth import default\n",
        "creds, _ = default()\n",
        "\n",
        "gc = gspread.authorize(creds)\n",
        "worksheet = gc.open('images_name.csv').sheet1\n",
        "rows = worksheet.get_all_values()\n",
        "df = pd.DataFrame.from_records(rows) "
      ],
      "metadata": {
        "id": "iLzdvlVbY8O6"
      },
      "execution_count": null,
      "outputs": []
    },
    {
      "cell_type": "code",
      "source": [
        "df_im = df.head(1500)\n",
        "df_im.head()"
      ],
      "metadata": {
        "colab": {
          "base_uri": "https://localhost:8080/",
          "height": 206
        },
        "id": "nsZuUGb0ZA3k",
        "outputId": "7e3fb487-f710-40d4-dc47-a90e39d97719"
      },
      "execution_count": null,
      "outputs": [
        {
          "output_type": "execute_result",
          "data": {
            "text/html": [
              "\n",
              "  <div id=\"df-8e64975a-df3b-4605-9dca-865fecaf96b3\">\n",
              "    <div class=\"colab-df-container\">\n",
              "      <div>\n",
              "<style scoped>\n",
              "    .dataframe tbody tr th:only-of-type {\n",
              "        vertical-align: middle;\n",
              "    }\n",
              "\n",
              "    .dataframe tbody tr th {\n",
              "        vertical-align: top;\n",
              "    }\n",
              "\n",
              "    .dataframe thead th {\n",
              "        text-align: right;\n",
              "    }\n",
              "</style>\n",
              "<table border=\"1\" class=\"dataframe\">\n",
              "  <thead>\n",
              "    <tr style=\"text-align: right;\">\n",
              "      <th></th>\n",
              "      <th>0</th>\n",
              "      <th>1</th>\n",
              "      <th>2</th>\n",
              "    </tr>\n",
              "  </thead>\n",
              "  <tbody>\n",
              "    <tr>\n",
              "      <th>0</th>\n",
              "      <td>image_name</td>\n",
              "      <td>longest_comment</td>\n",
              "      <td>comments_5</td>\n",
              "    </tr>\n",
              "    <tr>\n",
              "      <th>1</th>\n",
              "      <td>1000092795</td>\n",
              "      <td>Two young guys with shaggy hair look at their ...</td>\n",
              "      <td>0    | Two young guys with shaggy hair look at...</td>\n",
              "    </tr>\n",
              "    <tr>\n",
              "      <th>2</th>\n",
              "      <td>10002456</td>\n",
              "      <td>Several men in hard hats are operating a giant...</td>\n",
              "      <td>5    Several men in hard hats are operating a ...</td>\n",
              "    </tr>\n",
              "    <tr>\n",
              "      <th>3</th>\n",
              "      <td>1000268201</td>\n",
              "      <td>A child in a pink dress is climbing up a set o...</td>\n",
              "      <td>10    | A child in a pink dress is climbing up...</td>\n",
              "    </tr>\n",
              "    <tr>\n",
              "      <th>4</th>\n",
              "      <td>1000344755</td>\n",
              "      <td>Someone in a blue shirt and hat is standing on...</td>\n",
              "      <td>15    | Someone in a blue shirt and hat is sta...</td>\n",
              "    </tr>\n",
              "  </tbody>\n",
              "</table>\n",
              "</div>\n",
              "      <button class=\"colab-df-convert\" onclick=\"convertToInteractive('df-8e64975a-df3b-4605-9dca-865fecaf96b3')\"\n",
              "              title=\"Convert this dataframe to an interactive table.\"\n",
              "              style=\"display:none;\">\n",
              "        \n",
              "  <svg xmlns=\"http://www.w3.org/2000/svg\" height=\"24px\"viewBox=\"0 0 24 24\"\n",
              "       width=\"24px\">\n",
              "    <path d=\"M0 0h24v24H0V0z\" fill=\"none\"/>\n",
              "    <path d=\"M18.56 5.44l.94 2.06.94-2.06 2.06-.94-2.06-.94-.94-2.06-.94 2.06-2.06.94zm-11 1L8.5 8.5l.94-2.06 2.06-.94-2.06-.94L8.5 2.5l-.94 2.06-2.06.94zm10 10l.94 2.06.94-2.06 2.06-.94-2.06-.94-.94-2.06-.94 2.06-2.06.94z\"/><path d=\"M17.41 7.96l-1.37-1.37c-.4-.4-.92-.59-1.43-.59-.52 0-1.04.2-1.43.59L10.3 9.45l-7.72 7.72c-.78.78-.78 2.05 0 2.83L4 21.41c.39.39.9.59 1.41.59.51 0 1.02-.2 1.41-.59l7.78-7.78 2.81-2.81c.8-.78.8-2.07 0-2.86zM5.41 20L4 18.59l7.72-7.72 1.47 1.35L5.41 20z\"/>\n",
              "  </svg>\n",
              "      </button>\n",
              "      \n",
              "  <style>\n",
              "    .colab-df-container {\n",
              "      display:flex;\n",
              "      flex-wrap:wrap;\n",
              "      gap: 12px;\n",
              "    }\n",
              "\n",
              "    .colab-df-convert {\n",
              "      background-color: #E8F0FE;\n",
              "      border: none;\n",
              "      border-radius: 50%;\n",
              "      cursor: pointer;\n",
              "      display: none;\n",
              "      fill: #1967D2;\n",
              "      height: 32px;\n",
              "      padding: 0 0 0 0;\n",
              "      width: 32px;\n",
              "    }\n",
              "\n",
              "    .colab-df-convert:hover {\n",
              "      background-color: #E2EBFA;\n",
              "      box-shadow: 0px 1px 2px rgba(60, 64, 67, 0.3), 0px 1px 3px 1px rgba(60, 64, 67, 0.15);\n",
              "      fill: #174EA6;\n",
              "    }\n",
              "\n",
              "    [theme=dark] .colab-df-convert {\n",
              "      background-color: #3B4455;\n",
              "      fill: #D2E3FC;\n",
              "    }\n",
              "\n",
              "    [theme=dark] .colab-df-convert:hover {\n",
              "      background-color: #434B5C;\n",
              "      box-shadow: 0px 1px 3px 1px rgba(0, 0, 0, 0.15);\n",
              "      filter: drop-shadow(0px 1px 2px rgba(0, 0, 0, 0.3));\n",
              "      fill: #FFFFFF;\n",
              "    }\n",
              "  </style>\n",
              "\n",
              "      <script>\n",
              "        const buttonEl =\n",
              "          document.querySelector('#df-8e64975a-df3b-4605-9dca-865fecaf96b3 button.colab-df-convert');\n",
              "        buttonEl.style.display =\n",
              "          google.colab.kernel.accessAllowed ? 'block' : 'none';\n",
              "\n",
              "        async function convertToInteractive(key) {\n",
              "          const element = document.querySelector('#df-8e64975a-df3b-4605-9dca-865fecaf96b3');\n",
              "          const dataTable =\n",
              "            await google.colab.kernel.invokeFunction('convertToInteractive',\n",
              "                                                     [key], {});\n",
              "          if (!dataTable) return;\n",
              "\n",
              "          const docLinkHtml = 'Like what you see? Visit the ' +\n",
              "            '<a target=\"_blank\" href=https://colab.research.google.com/notebooks/data_table.ipynb>data table notebook</a>'\n",
              "            + ' to learn more about interactive tables.';\n",
              "          element.innerHTML = '';\n",
              "          dataTable['output_type'] = 'display_data';\n",
              "          await google.colab.output.renderOutput(dataTable, element);\n",
              "          const docLink = document.createElement('div');\n",
              "          docLink.innerHTML = docLinkHtml;\n",
              "          element.appendChild(docLink);\n",
              "        }\n",
              "      </script>\n",
              "    </div>\n",
              "  </div>\n",
              "  "
            ],
            "text/plain": [
              "            0                                                  1  \\\n",
              "0  image_name                                    longest_comment   \n",
              "1  1000092795  Two young guys with shaggy hair look at their ...   \n",
              "2    10002456  Several men in hard hats are operating a giant...   \n",
              "3  1000268201  A child in a pink dress is climbing up a set o...   \n",
              "4  1000344755  Someone in a blue shirt and hat is standing on...   \n",
              "\n",
              "                                                   2  \n",
              "0                                         comments_5  \n",
              "1  0    | Two young guys with shaggy hair look at...  \n",
              "2  5    Several men in hard hats are operating a ...  \n",
              "3  10    | A child in a pink dress is climbing up...  \n",
              "4  15    | Someone in a blue shirt and hat is sta...  "
            ]
          },
          "metadata": {},
          "execution_count": 6
        }
      ]
    },
    {
      "cell_type": "code",
      "source": [
        "images = df_im[0][1:]\n",
        "images = list(images)\n",
        "images[0]"
      ],
      "metadata": {
        "colab": {
          "base_uri": "https://localhost:8080/",
          "height": 35
        },
        "id": "RvnfcZpKZKKq",
        "outputId": "9e2f6884-181e-48c5-a2b7-8955529309f3"
      },
      "execution_count": null,
      "outputs": [
        {
          "output_type": "execute_result",
          "data": {
            "application/vnd.google.colaboratory.intrinsic+json": {
              "type": "string"
            },
            "text/plain": [
              "'1000092795'"
            ]
          },
          "metadata": {},
          "execution_count": 7
        }
      ]
    },
    {
      "cell_type": "code",
      "source": [
        "data = {\n",
        "    'flattenPhoto' : [],\n",
        "    'photoclass' : [],\n",
        "    'photoclasskmeans' : [],\n",
        "    'image_name' : []\n",
        "    }"
      ],
      "metadata": {
        "id": "v-cmvDA1ald-"
      },
      "execution_count": null,
      "outputs": []
    },
    {
      "cell_type": "code",
      "source": [
        "MyModel = tf.keras.models.Sequential()\n",
        "MyModel.add(tf.keras.applications.ResNet50(\n",
        "    #include_top = True, weights=None,pooling=None,classes = 5, classifier_activation = 'softmax'\n",
        "    include_top = False, weights='imagenet',    pooling='avg',\n",
        "))\n",
        "MyModel.layers[0].trainable = False"
      ],
      "metadata": {
        "id": "q4dUtbKUZQRI"
      },
      "execution_count": null,
      "outputs": []
    },
    {
      "cell_type": "code",
      "source": [
        "def LoadDataAndDoEssentials(path, h, w):\n",
        "    img = mpimg.imread(path)\n",
        "    img = cv2.resize(img, (h, w))\n",
        "    ## Expanding image dims so this represents 1 sample\n",
        "    img = np.expand_dims(img, 0)\n",
        "    img = tf.keras.applications.resnet50.preprocess_input(img)\n",
        "    extractedFeatures = MyModel.predict(img)\n",
        "    classes_x=np.argmax(extractedFeatures,axis=1)[0]\n",
        "    extractedFeatures = np.array(extractedFeatures)\n",
        "    data['photoclass'].append(classes_x)\n",
        "    data['flattenPhoto'].append(extractedFeatures.flatten())"
      ],
      "metadata": {
        "id": "EG2xurkcZcmq"
      },
      "execution_count": null,
      "outputs": []
    },
    {
      "cell_type": "code",
      "source": [
        "def ReadAndStoreMyImages(path):\n",
        "    for i in images:\n",
        "        imagePath = f\"{path}/{i}.jpg\"\n",
        "        data['image_name'].append(i)\n",
        "        LoadDataAndDoEssentials(imagePath, 224, 224)"
      ],
      "metadata": {
        "id": "CxwixPgzZbxu"
      },
      "execution_count": null,
      "outputs": []
    },
    {
      "cell_type": "code",
      "source": [
        "imagePath = \"image_dataset/10002456.jpg\"\n",
        "im = mpimg.imread(imagePath)"
      ],
      "metadata": {
        "id": "NriWTJvNZh1f"
      },
      "execution_count": null,
      "outputs": []
    },
    {
      "cell_type": "code",
      "source": [
        "ReadAndStoreMyImages('image_dataset')"
      ],
      "metadata": {
        "id": "TN-QPbF8acDR"
      },
      "execution_count": null,
      "outputs": []
    },
    {
      "cell_type": "code",
      "source": [
        "Training_Feature_vector = np.array(data['flattenPhoto'], dtype = 'float64')\n",
        "kmeans = AgglomerativeClustering(n_clusters = 5)\n",
        "k = kmeans.fit_predict(Training_Feature_vector)\n",
        "data['photoclasskmeans'] = k"
      ],
      "metadata": {
        "id": "p1cDfqYEaehL"
      },
      "execution_count": null,
      "outputs": []
    },
    {
      "cell_type": "code",
      "source": [
        "dimReducedDataFrame = pd.DataFrame(Training_Feature_vector)\n",
        "dimReducedDataFrame = dimReducedDataFrame.rename(columns = { 0: 'V1', 1 : 'V2', 2 :'V3', 3 : 'V4',4: 'V5'})\n",
        "x = [dimReducedDataFrame['V1'], dimReducedDataFrame['V2'], dimReducedDataFrame['V3'],dimReducedDataFrame['V4'],dimReducedDataFrame['V5']]\n",
        "plt.figure(figsize = (10, 5))\n",
        "plt.hist(x = x)\n",
        "plt.show()"
      ],
      "metadata": {
        "colab": {
          "base_uri": "https://localhost:8080/",
          "height": 320
        },
        "id": "-KP9e-Wqa5Hp",
        "outputId": "d3643a4e-3b46-4486-a7eb-2f6e37638d02"
      },
      "execution_count": null,
      "outputs": [
        {
          "output_type": "display_data",
          "data": {
            "image/png": "[encoded data removed]",
            "text/plain": [
              "<Figure size 720x360 with 1 Axes>"
            ]
          },
          "metadata": {
            "needs_background": "light"
          }
        }
      ]
    },
    {
      "cell_type": "code",
      "source": [
        "data = pd.DataFrame(data)\n",
        "data = data.sort_values('photoclass').reset_index()"
      ],
      "metadata": {
        "id": "yoz4oav7kEB1"
      },
      "execution_count": null,
      "outputs": []
    },
    {
      "cell_type": "code",
      "source": [
        "data.head(10)"
      ],
      "metadata": {
        "colab": {
          "base_uri": "https://localhost:8080/",
          "height": 363
        },
        "id": "u05zwV9zfGvC",
        "outputId": "8feb017d-6abf-4995-8090-c0084133c4c4"
      },
      "execution_count": 66,
      "outputs": [
        {
          "output_type": "execute_result",
          "data": {
            "text/html": [
              "\n",
              "  <div id=\"df-4770979c-81f6-4107-ad66-091a57639d0e\">\n",
              "    <div class=\"colab-df-container\">\n",
              "      <div>\n",
              "<style scoped>\n",
              "    .dataframe tbody tr th:only-of-type {\n",
              "        vertical-align: middle;\n",
              "    }\n",
              "\n",
              "    .dataframe tbody tr th {\n",
              "        vertical-align: top;\n",
              "    }\n",
              "\n",
              "    .dataframe thead th {\n",
              "        text-align: right;\n",
              "    }\n",
              "</style>\n",
              "<table border=\"1\" class=\"dataframe\">\n",
              "  <thead>\n",
              "    <tr style=\"text-align: right;\">\n",
              "      <th></th>\n",
              "      <th>index</th>\n",
              "      <th>flattenPhoto</th>\n",
              "      <th>photoclass</th>\n",
              "      <th>photoclasskmeans</th>\n",
              "      <th>image_name</th>\n",
              "    </tr>\n",
              "  </thead>\n",
              "  <tbody>\n",
              "    <tr>\n",
              "      <th>0</th>\n",
              "      <td>1078</td>\n",
              "      <td>[1.3859904, 1.275703, 0.30141994, 7.364384, 1....</td>\n",
              "      <td>3</td>\n",
              "      <td>2</td>\n",
              "      <td>133280380</td>\n",
              "    </tr>\n",
              "    <tr>\n",
              "      <th>1</th>\n",
              "      <td>787</td>\n",
              "      <td>[0.34437042, 0.10638516, 0.0, 12.394428, 0.210...</td>\n",
              "      <td>3</td>\n",
              "      <td>2</td>\n",
              "      <td>126042604</td>\n",
              "    </tr>\n",
              "    <tr>\n",
              "      <th>2</th>\n",
              "      <td>583</td>\n",
              "      <td>[0.048443943, 0.6345056, 0.0, 5.9613447, 0.061...</td>\n",
              "      <td>3</td>\n",
              "      <td>2</td>\n",
              "      <td>118939861</td>\n",
              "    </tr>\n",
              "    <tr>\n",
              "      <th>3</th>\n",
              "      <td>284</td>\n",
              "      <td>[0.7945638, 1.337263, 0.2730246, 0.18258385, 0...</td>\n",
              "      <td>5</td>\n",
              "      <td>3</td>\n",
              "      <td>1096097967</td>\n",
              "    </tr>\n",
              "    <tr>\n",
              "      <th>4</th>\n",
              "      <td>1397</td>\n",
              "      <td>[0.75358886, 0.0, 0.00670343, 1.8252532, 0.212...</td>\n",
              "      <td>7</td>\n",
              "      <td>2</td>\n",
              "      <td>1404471863</td>\n",
              "    </tr>\n",
              "    <tr>\n",
              "      <th>5</th>\n",
              "      <td>867</td>\n",
              "      <td>[0.18512839, 0.31934902, 0.2578488, 0.7481743,...</td>\n",
              "      <td>8</td>\n",
              "      <td>1</td>\n",
              "      <td>128395441</td>\n",
              "    </tr>\n",
              "    <tr>\n",
              "      <th>6</th>\n",
              "      <td>663</td>\n",
              "      <td>[0.41304538, 0.17377032, 0.17240454, 2.2810209...</td>\n",
              "      <td>8</td>\n",
              "      <td>1</td>\n",
              "      <td>1223671563</td>\n",
              "    </tr>\n",
              "    <tr>\n",
              "      <th>7</th>\n",
              "      <td>217</td>\n",
              "      <td>[0.7679215, 0.1986859, 0.32439515, 3.9587014, ...</td>\n",
              "      <td>8</td>\n",
              "      <td>0</td>\n",
              "      <td>1076460267</td>\n",
              "    </tr>\n",
              "    <tr>\n",
              "      <th>8</th>\n",
              "      <td>39</td>\n",
              "      <td>[0.027015569, 0.08532012, 0.043271117, 3.07562...</td>\n",
              "      <td>8</td>\n",
              "      <td>0</td>\n",
              "      <td>1010087623</td>\n",
              "    </tr>\n",
              "    <tr>\n",
              "      <th>9</th>\n",
              "      <td>1277</td>\n",
              "      <td>[0.5362914, 1.3631399, 0.29243073, 1.1145055, ...</td>\n",
              "      <td>8</td>\n",
              "      <td>1</td>\n",
              "      <td>137422713</td>\n",
              "    </tr>\n",
              "  </tbody>\n",
              "</table>\n",
              "</div>\n",
              "      <button class=\"colab-df-convert\" onclick=\"convertToInteractive('df-4770979c-81f6-4107-ad66-091a57639d0e')\"\n",
              "              title=\"Convert this dataframe to an interactive table.\"\n",
              "              style=\"display:none;\">\n",
              "        \n",
              "  <svg xmlns=\"http://www.w3.org/2000/svg\" height=\"24px\"viewBox=\"0 0 24 24\"\n",
              "       width=\"24px\">\n",
              "    <path d=\"M0 0h24v24H0V0z\" fill=\"none\"/>\n",
              "    <path d=\"M18.56 5.44l.94 2.06.94-2.06 2.06-.94-2.06-.94-.94-2.06-.94 2.06-2.06.94zm-11 1L8.5 8.5l.94-2.06 2.06-.94-2.06-.94L8.5 2.5l-.94 2.06-2.06.94zm10 10l.94 2.06.94-2.06 2.06-.94-2.06-.94-.94-2.06-.94 2.06-2.06.94z\"/><path d=\"M17.41 7.96l-1.37-1.37c-.4-.4-.92-.59-1.43-.59-.52 0-1.04.2-1.43.59L10.3 9.45l-7.72 7.72c-.78.78-.78 2.05 0 2.83L4 21.41c.39.39.9.59 1.41.59.51 0 1.02-.2 1.41-.59l7.78-7.78 2.81-2.81c.8-.78.8-2.07 0-2.86zM5.41 20L4 18.59l7.72-7.72 1.47 1.35L5.41 20z\"/>\n",
              "  </svg>\n",
              "      </button>\n",
              "      \n",
              "  <style>\n",
              "    .colab-df-container {\n",
              "      display:flex;\n",
              "      flex-wrap:wrap;\n",
              "      gap: 12px;\n",
              "    }\n",
              "\n",
              "    .colab-df-convert {\n",
              "      background-color: #E8F0FE;\n",
              "      border: none;\n",
              "      border-radius: 50%;\n",
              "      cursor: pointer;\n",
              "      display: none;\n",
              "      fill: #1967D2;\n",
              "      height: 32px;\n",
              "      padding: 0 0 0 0;\n",
              "      width: 32px;\n",
              "    }\n",
              "\n",
              "    .colab-df-convert:hover {\n",
              "      background-color: #E2EBFA;\n",
              "      box-shadow: 0px 1px 2px rgba(60, 64, 67, 0.3), 0px 1px 3px 1px rgba(60, 64, 67, 0.15);\n",
              "      fill: #174EA6;\n",
              "    }\n",
              "\n",
              "    [theme=dark] .colab-df-convert {\n",
              "      background-color: #3B4455;\n",
              "      fill: #D2E3FC;\n",
              "    }\n",
              "\n",
              "    [theme=dark] .colab-df-convert:hover {\n",
              "      background-color: #434B5C;\n",
              "      box-shadow: 0px 1px 3px 1px rgba(0, 0, 0, 0.15);\n",
              "      filter: drop-shadow(0px 1px 2px rgba(0, 0, 0, 0.3));\n",
              "      fill: #FFFFFF;\n",
              "    }\n",
              "  </style>\n",
              "\n",
              "      <script>\n",
              "        const buttonEl =\n",
              "          document.querySelector('#df-4770979c-81f6-4107-ad66-091a57639d0e button.colab-df-convert');\n",
              "        buttonEl.style.display =\n",
              "          google.colab.kernel.accessAllowed ? 'block' : 'none';\n",
              "\n",
              "        async function convertToInteractive(key) {\n",
              "          const element = document.querySelector('#df-4770979c-81f6-4107-ad66-091a57639d0e');\n",
              "          const dataTable =\n",
              "            await google.colab.kernel.invokeFunction('convertToInteractive',\n",
              "                                                     [key], {});\n",
              "          if (!dataTable) return;\n",
              "\n",
              "          const docLinkHtml = 'Like what you see? Visit the ' +\n",
              "            '<a target=\"_blank\" href=https://colab.research.google.com/notebooks/data_table.ipynb>data table notebook</a>'\n",
              "            + ' to learn more about interactive tables.';\n",
              "          element.innerHTML = '';\n",
              "          dataTable['output_type'] = 'display_data';\n",
              "          await google.colab.output.renderOutput(dataTable, element);\n",
              "          const docLink = document.createElement('div');\n",
              "          docLink.innerHTML = docLinkHtml;\n",
              "          element.appendChild(docLink);\n",
              "        }\n",
              "      </script>\n",
              "    </div>\n",
              "  </div>\n",
              "  "
            ],
            "text/plain": [
              "   index                                       flattenPhoto  photoclass  \\\n",
              "0   1078  [1.3859904, 1.275703, 0.30141994, 7.364384, 1....           3   \n",
              "1    787  [0.34437042, 0.10638516, 0.0, 12.394428, 0.210...           3   \n",
              "2    583  [0.048443943, 0.6345056, 0.0, 5.9613447, 0.061...           3   \n",
              "3    284  [0.7945638, 1.337263, 0.2730246, 0.18258385, 0...           5   \n",
              "4   1397  [0.75358886, 0.0, 0.00670343, 1.8252532, 0.212...           7   \n",
              "5    867  [0.18512839, 0.31934902, 0.2578488, 0.7481743,...           8   \n",
              "6    663  [0.41304538, 0.17377032, 0.17240454, 2.2810209...           8   \n",
              "7    217  [0.7679215, 0.1986859, 0.32439515, 3.9587014, ...           8   \n",
              "8     39  [0.027015569, 0.08532012, 0.043271117, 3.07562...           8   \n",
              "9   1277  [0.5362914, 1.3631399, 0.29243073, 1.1145055, ...           8   \n",
              "\n",
              "   photoclasskmeans  image_name  \n",
              "0                 2   133280380  \n",
              "1                 2   126042604  \n",
              "2                 2   118939861  \n",
              "3                 3  1096097967  \n",
              "4                 2  1404471863  \n",
              "5                 1   128395441  \n",
              "6                 1  1223671563  \n",
              "7                 0  1076460267  \n",
              "8                 0  1010087623  \n",
              "9                 1   137422713  "
            ]
          },
          "metadata": {},
          "execution_count": 66
        }
      ]
    },
    {
      "cell_type": "code",
      "source": [
        "data.groupby('photoclasskmeans').count()"
      ],
      "metadata": {
        "colab": {
          "base_uri": "https://localhost:8080/",
          "height": 238
        },
        "id": "NMouOEyHwzxG",
        "outputId": "d817f488-6340-4ba3-a6a7-67f5ab86ec50"
      },
      "execution_count": null,
      "outputs": [
        {
          "output_type": "execute_result",
          "data": {
            "text/html": [
              "\n",
              "  <div id=\"df-ab6d3fd0-808a-494f-87f7-09d1b0d92303\">\n",
              "    <div class=\"colab-df-container\">\n",
              "      <div>\n",
              "<style scoped>\n",
              "    .dataframe tbody tr th:only-of-type {\n",
              "        vertical-align: middle;\n",
              "    }\n",
              "\n",
              "    .dataframe tbody tr th {\n",
              "        vertical-align: top;\n",
              "    }\n",
              "\n",
              "    .dataframe thead th {\n",
              "        text-align: right;\n",
              "    }\n",
              "</style>\n",
              "<table border=\"1\" class=\"dataframe\">\n",
              "  <thead>\n",
              "    <tr style=\"text-align: right;\">\n",
              "      <th></th>\n",
              "      <th>index</th>\n",
              "      <th>flattenPhoto</th>\n",
              "      <th>photoclass</th>\n",
              "      <th>image_name</th>\n",
              "    </tr>\n",
              "    <tr>\n",
              "      <th>photoclasskmeans</th>\n",
              "      <th></th>\n",
              "      <th></th>\n",
              "      <th></th>\n",
              "      <th></th>\n",
              "    </tr>\n",
              "  </thead>\n",
              "  <tbody>\n",
              "    <tr>\n",
              "      <th>0</th>\n",
              "      <td>434</td>\n",
              "      <td>434</td>\n",
              "      <td>434</td>\n",
              "      <td>434</td>\n",
              "    </tr>\n",
              "    <tr>\n",
              "      <th>1</th>\n",
              "      <td>341</td>\n",
              "      <td>341</td>\n",
              "      <td>341</td>\n",
              "      <td>341</td>\n",
              "    </tr>\n",
              "    <tr>\n",
              "      <th>2</th>\n",
              "      <td>393</td>\n",
              "      <td>393</td>\n",
              "      <td>393</td>\n",
              "      <td>393</td>\n",
              "    </tr>\n",
              "    <tr>\n",
              "      <th>3</th>\n",
              "      <td>244</td>\n",
              "      <td>244</td>\n",
              "      <td>244</td>\n",
              "      <td>244</td>\n",
              "    </tr>\n",
              "    <tr>\n",
              "      <th>4</th>\n",
              "      <td>87</td>\n",
              "      <td>87</td>\n",
              "      <td>87</td>\n",
              "      <td>87</td>\n",
              "    </tr>\n",
              "  </tbody>\n",
              "</table>\n",
              "</div>\n",
              "      <button class=\"colab-df-convert\" onclick=\"convertToInteractive('df-ab6d3fd0-808a-494f-87f7-09d1b0d92303')\"\n",
              "              title=\"Convert this dataframe to an interactive table.\"\n",
              "              style=\"display:none;\">\n",
              "        \n",
              "  <svg xmlns=\"http://www.w3.org/2000/svg\" height=\"24px\"viewBox=\"0 0 24 24\"\n",
              "       width=\"24px\">\n",
              "    <path d=\"M0 0h24v24H0V0z\" fill=\"none\"/>\n",
              "    <path d=\"M18.56 5.44l.94 2.06.94-2.06 2.06-.94-2.06-.94-.94-2.06-.94 2.06-2.06.94zm-11 1L8.5 8.5l.94-2.06 2.06-.94-2.06-.94L8.5 2.5l-.94 2.06-2.06.94zm10 10l.94 2.06.94-2.06 2.06-.94-2.06-.94-.94-2.06-.94 2.06-2.06.94z\"/><path d=\"M17.41 7.96l-1.37-1.37c-.4-.4-.92-.59-1.43-.59-.52 0-1.04.2-1.43.59L10.3 9.45l-7.72 7.72c-.78.78-.78 2.05 0 2.83L4 21.41c.39.39.9.59 1.41.59.51 0 1.02-.2 1.41-.59l7.78-7.78 2.81-2.81c.8-.78.8-2.07 0-2.86zM5.41 20L4 18.59l7.72-7.72 1.47 1.35L5.41 20z\"/>\n",
              "  </svg>\n",
              "      </button>\n",
              "      \n",
              "  <style>\n",
              "    .colab-df-container {\n",
              "      display:flex;\n",
              "      flex-wrap:wrap;\n",
              "      gap: 12px;\n",
              "    }\n",
              "\n",
              "    .colab-df-convert {\n",
              "      background-color: #E8F0FE;\n",
              "      border: none;\n",
              "      border-radius: 50%;\n",
              "      cursor: pointer;\n",
              "      display: none;\n",
              "      fill: #1967D2;\n",
              "      height: 32px;\n",
              "      padding: 0 0 0 0;\n",
              "      width: 32px;\n",
              "    }\n",
              "\n",
              "    .colab-df-convert:hover {\n",
              "      background-color: #E2EBFA;\n",
              "      box-shadow: 0px 1px 2px rgba(60, 64, 67, 0.3), 0px 1px 3px 1px rgba(60, 64, 67, 0.15);\n",
              "      fill: #174EA6;\n",
              "    }\n",
              "\n",
              "    [theme=dark] .colab-df-convert {\n",
              "      background-color: #3B4455;\n",
              "      fill: #D2E3FC;\n",
              "    }\n",
              "\n",
              "    [theme=dark] .colab-df-convert:hover {\n",
              "      background-color: #434B5C;\n",
              "      box-shadow: 0px 1px 3px 1px rgba(0, 0, 0, 0.15);\n",
              "      filter: drop-shadow(0px 1px 2px rgba(0, 0, 0, 0.3));\n",
              "      fill: #FFFFFF;\n",
              "    }\n",
              "  </style>\n",
              "\n",
              "      <script>\n",
              "        const buttonEl =\n",
              "          document.querySelector('#df-ab6d3fd0-808a-494f-87f7-09d1b0d92303 button.colab-df-convert');\n",
              "        buttonEl.style.display =\n",
              "          google.colab.kernel.accessAllowed ? 'block' : 'none';\n",
              "\n",
              "        async function convertToInteractive(key) {\n",
              "          const element = document.querySelector('#df-ab6d3fd0-808a-494f-87f7-09d1b0d92303');\n",
              "          const dataTable =\n",
              "            await google.colab.kernel.invokeFunction('convertToInteractive',\n",
              "                                                     [key], {});\n",
              "          if (!dataTable) return;\n",
              "\n",
              "          const docLinkHtml = 'Like what you see? Visit the ' +\n",
              "            '<a target=\"_blank\" href=https://colab.research.google.com/notebooks/data_table.ipynb>data table notebook</a>'\n",
              "            + ' to learn more about interactive tables.';\n",
              "          element.innerHTML = '';\n",
              "          dataTable['output_type'] = 'display_data';\n",
              "          await google.colab.output.renderOutput(dataTable, element);\n",
              "          const docLink = document.createElement('div');\n",
              "          docLink.innerHTML = docLinkHtml;\n",
              "          element.appendChild(docLink);\n",
              "        }\n",
              "      </script>\n",
              "    </div>\n",
              "  </div>\n",
              "  "
            ],
            "text/plain": [
              "                  index  flattenPhoto  photoclass  image_name\n",
              "photoclasskmeans                                             \n",
              "0                   434           434         434         434\n",
              "1                   341           341         341         341\n",
              "2                   393           393         393         393\n",
              "3                   244           244         244         244\n",
              "4                    87            87          87          87"
            ]
          },
          "metadata": {},
          "execution_count": 20
        }
      ]
    },
    {
      "cell_type": "code",
      "source": [
        "for i in range(5):\n",
        "  if i == 0:\n",
        "    data_0 = data.loc[data['photoclasskmeans'] == i].groupby('photoclass').count()\n",
        "    data_0 = data_0.reset_index()\n",
        "    data_0['photoclasskmeans'] = data_0['photoclasskmeans'].apply(lambda x : i)\n",
        "  elif i == 1:\n",
        "    data_1 = data.loc[data['photoclasskmeans'] == i].groupby('photoclass').count()\n",
        "    data_1 = data_1.reset_index()\n",
        "    data_1['photoclasskmeans'] = data_1['photoclasskmeans'].apply(lambda x : i)\n",
        "  elif i == 2:\n",
        "    data_2 = data.loc[data['photoclasskmeans'] == i].groupby('photoclass').count()\n",
        "    data_2 = data_2.reset_index()\n",
        "    data_2['photoclasskmeans'] = data_2['photoclasskmeans'].apply(lambda x : i)\n",
        "  elif i == 3:\n",
        "    data_3 = data.loc[data['photoclasskmeans'] == i].groupby('photoclass').count()\n",
        "    data_3 = data_3.reset_index()\n",
        "    data_3['photoclasskmeans'] = data_3['photoclasskmeans'].apply(lambda x : i)\n",
        "  elif i == 4:\n",
        "    data_4 = data.loc[data['photoclasskmeans'] == i].groupby('photoclass').count()\n",
        "    data_4 = data_4.reset_index()\n",
        "    data_4['photoclasskmeans'] = data_4['photoclasskmeans'].apply(lambda x : i)"
      ],
      "metadata": {
        "id": "_AjmnodnopF2"
      },
      "execution_count": null,
      "outputs": []
    },
    {
      "cell_type": "code",
      "source": [
        "photoclass_df\t= data.groupby('photoclass').count().reset_index()"
      ],
      "metadata": {
        "id": "T-5Gojjybewa"
      },
      "execution_count": null,
      "outputs": []
    },
    {
      "cell_type": "code",
      "source": [
        "classes_df = {\n",
        "    'classnumber' : [],\n",
        "    'clusternumber': []\n",
        "}"
      ],
      "metadata": {
        "id": "yjllf2KjHizt"
      },
      "execution_count": null,
      "outputs": []
    },
    {
      "cell_type": "code",
      "source": [
        "for c in list(photoclass_df['photoclass']):\n",
        "  if c in list(data_0['photoclass']):\n",
        "      classes_df['classnumber'].append(c)\n",
        "      classes_df['clusternumber'].append(0)\n",
        "  if c in list(data_1['photoclass']):\n",
        "      classes_df['classnumber'].append(c)\n",
        "      classes_df['clusternumber'].append(1)\n",
        "  if c in list(data_2['photoclass']):\n",
        "      classes_df['classnumber'].append(c)\n",
        "      classes_df['clusternumber'].append(2)\n",
        "  if c in list(data_3['photoclass']):\n",
        "      classes_df['classnumber'].append(c)\n",
        "      classes_df['clusternumber'].append(3)\n",
        "  if c in list(data_4['photoclass']):\n",
        "      classes_df['classnumber'].append(c)\n",
        "      classes_df['clusternumber'].append(4)\n",
        "\n"
      ],
      "metadata": {
        "id": "AlvXfU5zHHpP"
      },
      "execution_count": null,
      "outputs": []
    },
    {
      "cell_type": "code",
      "source": [
        "classes_df['classnumber']=np.array(classes_df['classnumber'])\n",
        "classes_df['clusternumber']=np.array(classes_df['clusternumber'])"
      ],
      "metadata": {
        "id": "Ba3OgqDIL0_l"
      },
      "execution_count": null,
      "outputs": []
    },
    {
      "cell_type": "code",
      "source": [
        "len(classes_df['clusternumber']) , len(classes_df['classnumber'])"
      ],
      "metadata": {
        "colab": {
          "base_uri": "https://localhost:8080/"
        },
        "id": "PilIi8-4SBy3",
        "outputId": "342881f8-6fbc-4eae-e169-36235476eda6"
      },
      "execution_count": null,
      "outputs": [
        {
          "output_type": "execute_result",
          "data": {
            "text/plain": [
              "(642, 642)"
            ]
          },
          "metadata": {},
          "execution_count": 32
        }
      ]
    },
    {
      "cell_type": "code",
      "source": [
        "classes_df = pd.DataFrame(classes_df)"
      ],
      "metadata": {
        "id": "70KkumziQUz9"
      },
      "execution_count": null,
      "outputs": []
    },
    {
      "cell_type": "code",
      "source": [
        "g_im = data.groupby('photoclasskmeans')\n",
        "g_im = pd.DataFrame(g_im)"
      ],
      "metadata": {
        "id": "RwScyE0WDP76"
      },
      "execution_count": null,
      "outputs": []
    },
    {
      "cell_type": "code",
      "source": [
        "for i in range(5):\n",
        "  if i == 0:\n",
        "    img_0 = list(g_im[1][i]['image_name'])\n",
        "  if i == 1:\n",
        "    img_1 = list(g_im[1][i]['image_name'])\n",
        "  if i == 2:\n",
        "    img_2 = list(g_im[1][i]['image_name'])\n",
        "  if i == 3:\n",
        "    img_3 = list(g_im[1][i]['image_name'])\n",
        "  if i == 4:\n",
        "    img_4 = list(g_im[1][i]['image_name'])\n",
        "  \n",
        "  \n"
      ],
      "metadata": {
        "id": "qeCtyQ8rB3tg"
      },
      "execution_count": null,
      "outputs": []
    },
    {
      "cell_type": "code",
      "source": [
        "len(img_0)+len(img_1)+len(img_2)+len(img_3)+len(img_4) == len(data) , len(data)"
      ],
      "metadata": {
        "colab": {
          "base_uri": "https://localhost:8080/"
        },
        "id": "EwJjPcqbFudI",
        "outputId": "2c6de6de-e516-43a2-c890-dcfa01a4fbeb"
      },
      "execution_count": null,
      "outputs": [
        {
          "output_type": "execute_result",
          "data": {
            "text/plain": [
              "(True, 1499)"
            ]
          },
          "metadata": {},
          "execution_count": 64
        }
      ]
    },
    {
      "cell_type": "code",
      "source": [
        "l = classes_df.groupby('classnumber')\n",
        "l =  pd.DataFrame(l)"
      ],
      "metadata": {
        "id": "uM01EmYXvead"
      },
      "execution_count": null,
      "outputs": []
    },
    {
      "cell_type": "code",
      "source": [
        "p = []\n",
        "g_c = []\n",
        "for a, b in l.itertuples(index=False):\n",
        "  p.append(b)\n",
        "for i in range(len(p)):\n",
        "  g_c.append(list(p[i]['clusternumber']))\n",
        "\n"
      ],
      "metadata": {
        "id": "ZXTVGVT2qfbX"
      },
      "execution_count": null,
      "outputs": []
    },
    {
      "cell_type": "code",
      "source": [
        "grouped_classes_df = {\n",
        "    'classnumber' : [],\n",
        "    'clusternumber': []\n",
        "}"
      ],
      "metadata": {
        "id": "y1HhdjbH0NRy"
      },
      "execution_count": null,
      "outputs": []
    },
    {
      "cell_type": "code",
      "source": [
        "grouped_classes_df['classnumber']=photoclass_df['photoclass']\n",
        "grouped_classes_df['clusternumber']=np.array(g_c)"
      ],
      "metadata": {
        "colab": {
          "base_uri": "https://localhost:8080/"
        },
        "id": "J9Lygw9K0WQl",
        "outputId": "521a5b00-0e07-46af-9c8b-ffdb4cc1b9e4"
      },
      "execution_count": null,
      "outputs": [
        {
          "output_type": "stream",
          "name": "stderr",
          "text": [
            "/usr/local/lib/python3.7/dist-packages/ipykernel_launcher.py:2: VisibleDeprecationWarning: Creating an ndarray from ragged nested sequences (which is a list-or-tuple of lists-or-tuples-or ndarrays with different lengths or shapes) is deprecated. If you meant to do this, you must specify 'dtype=object' when creating the ndarray.\n",
            "  \n"
          ]
        }
      ]
    },
    {
      "cell_type": "code",
      "source": [
        "grouped_classes_df = pd.DataFrame(grouped_classes_df)"
      ],
      "metadata": {
        "id": "07-Q09OT0urT"
      },
      "execution_count": null,
      "outputs": []
    },
    {
      "cell_type": "code",
      "source": [
        "grouped_classes_df"
      ],
      "metadata": {
        "colab": {
          "base_uri": "https://localhost:8080/",
          "height": 423
        },
        "id": "FW0egr-58d-6",
        "outputId": "a2223c5a-0bb1-452e-9fd6-1478a62721de"
      },
      "execution_count": null,
      "outputs": [
        {
          "output_type": "execute_result",
          "data": {
            "text/html": [
              "\n",
              "  <div id=\"df-080a8934-5e17-42fb-bf15-14f668336fa5\">\n",
              "    <div class=\"colab-df-container\">\n",
              "      <div>\n",
              "<style scoped>\n",
              "    .dataframe tbody tr th:only-of-type {\n",
              "        vertical-align: middle;\n",
              "    }\n",
              "\n",
              "    .dataframe tbody tr th {\n",
              "        vertical-align: top;\n",
              "    }\n",
              "\n",
              "    .dataframe thead th {\n",
              "        text-align: right;\n",
              "    }\n",
              "</style>\n",
              "<table border=\"1\" class=\"dataframe\">\n",
              "  <thead>\n",
              "    <tr style=\"text-align: right;\">\n",
              "      <th></th>\n",
              "      <th>classnumber</th>\n",
              "      <th>clusternumber</th>\n",
              "    </tr>\n",
              "  </thead>\n",
              "  <tbody>\n",
              "    <tr>\n",
              "      <th>0</th>\n",
              "      <td>3</td>\n",
              "      <td>[2]</td>\n",
              "    </tr>\n",
              "    <tr>\n",
              "      <th>1</th>\n",
              "      <td>5</td>\n",
              "      <td>[3]</td>\n",
              "    </tr>\n",
              "    <tr>\n",
              "      <th>2</th>\n",
              "      <td>7</td>\n",
              "      <td>[2]</td>\n",
              "    </tr>\n",
              "    <tr>\n",
              "      <th>3</th>\n",
              "      <td>8</td>\n",
              "      <td>[0, 1]</td>\n",
              "    </tr>\n",
              "    <tr>\n",
              "      <th>4</th>\n",
              "      <td>9</td>\n",
              "      <td>[0, 1]</td>\n",
              "    </tr>\n",
              "    <tr>\n",
              "      <th>...</th>\n",
              "      <td>...</td>\n",
              "      <td>...</td>\n",
              "    </tr>\n",
              "    <tr>\n",
              "      <th>428</th>\n",
              "      <td>1996</td>\n",
              "      <td>[1, 3]</td>\n",
              "    </tr>\n",
              "    <tr>\n",
              "      <th>429</th>\n",
              "      <td>2020</td>\n",
              "      <td>[1, 2]</td>\n",
              "    </tr>\n",
              "    <tr>\n",
              "      <th>430</th>\n",
              "      <td>2028</td>\n",
              "      <td>[2]</td>\n",
              "    </tr>\n",
              "    <tr>\n",
              "      <th>431</th>\n",
              "      <td>2030</td>\n",
              "      <td>[1]</td>\n",
              "    </tr>\n",
              "    <tr>\n",
              "      <th>432</th>\n",
              "      <td>2044</td>\n",
              "      <td>[1]</td>\n",
              "    </tr>\n",
              "  </tbody>\n",
              "</table>\n",
              "<p>433 rows × 2 columns</p>\n",
              "</div>\n",
              "      <button class=\"colab-df-convert\" onclick=\"convertToInteractive('df-080a8934-5e17-42fb-bf15-14f668336fa5')\"\n",
              "              title=\"Convert this dataframe to an interactive table.\"\n",
              "              style=\"display:none;\">\n",
              "        \n",
              "  <svg xmlns=\"http://www.w3.org/2000/svg\" height=\"24px\"viewBox=\"0 0 24 24\"\n",
              "       width=\"24px\">\n",
              "    <path d=\"M0 0h24v24H0V0z\" fill=\"none\"/>\n",
              "    <path d=\"M18.56 5.44l.94 2.06.94-2.06 2.06-.94-2.06-.94-.94-2.06-.94 2.06-2.06.94zm-11 1L8.5 8.5l.94-2.06 2.06-.94-2.06-.94L8.5 2.5l-.94 2.06-2.06.94zm10 10l.94 2.06.94-2.06 2.06-.94-2.06-.94-.94-2.06-.94 2.06-2.06.94z\"/><path d=\"M17.41 7.96l-1.37-1.37c-.4-.4-.92-.59-1.43-.59-.52 0-1.04.2-1.43.59L10.3 9.45l-7.72 7.72c-.78.78-.78 2.05 0 2.83L4 21.41c.39.39.9.59 1.41.59.51 0 1.02-.2 1.41-.59l7.78-7.78 2.81-2.81c.8-.78.8-2.07 0-2.86zM5.41 20L4 18.59l7.72-7.72 1.47 1.35L5.41 20z\"/>\n",
              "  </svg>\n",
              "      </button>\n",
              "      \n",
              "  <style>\n",
              "    .colab-df-container {\n",
              "      display:flex;\n",
              "      flex-wrap:wrap;\n",
              "      gap: 12px;\n",
              "    }\n",
              "\n",
              "    .colab-df-convert {\n",
              "      background-color: #E8F0FE;\n",
              "      border: none;\n",
              "      border-radius: 50%;\n",
              "      cursor: pointer;\n",
              "      display: none;\n",
              "      fill: #1967D2;\n",
              "      height: 32px;\n",
              "      padding: 0 0 0 0;\n",
              "      width: 32px;\n",
              "    }\n",
              "\n",
              "    .colab-df-convert:hover {\n",
              "      background-color: #E2EBFA;\n",
              "      box-shadow: 0px 1px 2px rgba(60, 64, 67, 0.3), 0px 1px 3px 1px rgba(60, 64, 67, 0.15);\n",
              "      fill: #174EA6;\n",
              "    }\n",
              "\n",
              "    [theme=dark] .colab-df-convert {\n",
              "      background-color: #3B4455;\n",
              "      fill: #D2E3FC;\n",
              "    }\n",
              "\n",
              "    [theme=dark] .colab-df-convert:hover {\n",
              "      background-color: #434B5C;\n",
              "      box-shadow: 0px 1px 3px 1px rgba(0, 0, 0, 0.15);\n",
              "      filter: drop-shadow(0px 1px 2px rgba(0, 0, 0, 0.3));\n",
              "      fill: #FFFFFF;\n",
              "    }\n",
              "  </style>\n",
              "\n",
              "      <script>\n",
              "        const buttonEl =\n",
              "          document.querySelector('#df-080a8934-5e17-42fb-bf15-14f668336fa5 button.colab-df-convert');\n",
              "        buttonEl.style.display =\n",
              "          google.colab.kernel.accessAllowed ? 'block' : 'none';\n",
              "\n",
              "        async function convertToInteractive(key) {\n",
              "          const element = document.querySelector('#df-080a8934-5e17-42fb-bf15-14f668336fa5');\n",
              "          const dataTable =\n",
              "            await google.colab.kernel.invokeFunction('convertToInteractive',\n",
              "                                                     [key], {});\n",
              "          if (!dataTable) return;\n",
              "\n",
              "          const docLinkHtml = 'Like what you see? Visit the ' +\n",
              "            '<a target=\"_blank\" href=https://colab.research.google.com/notebooks/data_table.ipynb>data table notebook</a>'\n",
              "            + ' to learn more about interactive tables.';\n",
              "          element.innerHTML = '';\n",
              "          dataTable['output_type'] = 'display_data';\n",
              "          await google.colab.output.renderOutput(dataTable, element);\n",
              "          const docLink = document.createElement('div');\n",
              "          docLink.innerHTML = docLinkHtml;\n",
              "          element.appendChild(docLink);\n",
              "        }\n",
              "      </script>\n",
              "    </div>\n",
              "  </div>\n",
              "  "
            ],
            "text/plain": [
              "     classnumber clusternumber\n",
              "0              3           [2]\n",
              "1              5           [3]\n",
              "2              7           [2]\n",
              "3              8        [0, 1]\n",
              "4              9        [0, 1]\n",
              "..           ...           ...\n",
              "428         1996        [1, 3]\n",
              "429         2020        [1, 2]\n",
              "430         2028           [2]\n",
              "431         2030           [1]\n",
              "432         2044           [1]\n",
              "\n",
              "[433 rows x 2 columns]"
            ]
          },
          "metadata": {},
          "execution_count": 40
        }
      ]
    },
    {
      "cell_type": "code",
      "source": [
        "n = []\n",
        "for i in range(len(grouped_classes_df)):\n",
        "  if len(grouped_classes_df['clusternumber'][i]) > 1:\n",
        "    n.append(1)\n",
        "len(n)"
      ],
      "metadata": {
        "colab": {
          "base_uri": "https://localhost:8080/"
        },
        "id": "Bb5a0ElH8lY2",
        "outputId": "2da7e01e-0799-4b9e-e934-c7de7300af29"
      },
      "execution_count": null,
      "outputs": [
        {
          "output_type": "execute_result",
          "data": {
            "text/plain": [
              "142"
            ]
          },
          "metadata": {},
          "execution_count": 42
        }
      ]
    }
  ]
}